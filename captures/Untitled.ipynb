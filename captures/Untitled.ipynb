{
 "cells": [
  {
   "cell_type": "code",
   "execution_count": 3,
   "id": "25db410a-b58d-43d3-8f9a-208f2c12e236",
   "metadata": {},
   "outputs": [],
   "source": [
    "import json, os\n",
    "from IPython.display import JSON"
   ]
  },
  {
   "cell_type": "code",
   "execution_count": 4,
   "id": "98c77646-f3c0-485e-b98d-b1b600ce700e",
   "metadata": {},
   "outputs": [],
   "source": [
    "f = open('raw_style.json')\n",
    "data = json.load(f)\n",
    "f.close()"
   ]
  },
  {
   "cell_type": "code",
   "execution_count": 5,
   "id": "a5615979-611d-4241-bb78-3c6cf77cf10d",
   "metadata": {},
   "outputs": [
    {
     "data": {
      "application/json": {
       "bearing": 0,
       "center": [
        2.8655946968546004,
        22.80535462569901
       ],
       "glyphs": "https://api.maptiler.com/fonts/{fontstack}/{range}.pbf?key=a8pvGnJGI7rkOKPR0zDE",
       "id": "openstreetmap",
       "layers": [
        {
         "id": "background",
         "layout": {
          "visibility": "visible"
         },
         "paint": {
          "background-color": "#f2efe9"
         },
         "type": "background"
        },
        {
         "filter": [
          "all",
          [
           "in",
           "class",
           "railway",
           "cemetery",
           "military",
           "residential",
           "commercial",
           "industrial",
           "garages",
           "retail",
           "bus_station",
           "school",
           "university",
           "kindergarten",
           "college",
           "hospital",
           "stadium",
           "pitch",
           "playground",
           "track",
           "dam"
          ],
          [
           "==",
           "$type",
           "Polygon"
          ]
         ],
         "id": "landuse_classes",
         "layout": {
          "visibility": "visible"
         },
         "metadata": {},
         "minzoom": 7,
         "paint": {
          "fill-color": [
           "match",
           [
            "get",
            "class"
           ],
           "railway",
           "#ebdbe8",
           "residential",
           "#e0dfdf",
           "cemetery",
           "#aacbaf",
           "military",
           "#fceaea",
           "commercial",
           "#f2dad9",
           "industrial",
           "#ebdbe8",
           "garages",
           "#dfddce",
           "retail",
           "#ffd6d1",
           "bus_station",
           "#e9e7e2",
           "school",
           "#ffffe5",
           "university",
           "#ffffe5",
           "kindergarten",
           "#ffffe5",
           "college",
           "#ffffe5",
           "hospital",
           "#ffffe5",
           "stadium",
           "#d5ffd9",
           "pitch",
           "#aae0cb",
           "playground",
           "#d5ffd9",
           "track",
           "#aae0cb",
           "dam",
           "#adadad",
           "#000"
          ],
          "fill-opacity": 1
         },
         "source": "openmaptiles",
         "source-layer": "landuse",
         "type": "fill"
        },
        {
         "filter": [
          "all",
          [
           "==",
           "class",
           "crop"
          ]
         ],
         "id": "landcover_cropland",
         "layout": {
          "visibility": "visible"
         },
         "maxzoom": 9,
         "minzoom": 4,
         "paint": {
          "fill-color": "#eef0d5",
          "fill-opacity": {
           "base": 1,
           "stops": [
            [
             4,
             0.05
            ],
            [
             5,
             0.15
            ],
            [
             9,
             0
            ]
           ]
          }
         },
         "source": "openmaptiles",
         "source-layer": "globallandcover",
         "type": "fill"
        },
        {
         "filter": [
          "all",
          [
           "==",
           "class",
           "grass"
          ]
         ],
         "id": "landcover_grassland",
         "layout": {
          "visibility": "visible"
         },
         "maxzoom": 9,
         "minzoom": 5,
         "paint": {
          "fill-color": "#cdebb0",
          "fill-opacity": {
           "base": 1,
           "stops": [
            [
             4,
             0.3
            ],
            [
             9,
             0
            ]
           ]
          }
         },
         "source": "openmaptiles",
         "source-layer": "globallandcover",
         "type": "fill"
        },
        {
         "filter": [
          "all",
          [
           "==",
           "class",
           "scrub"
          ]
         ],
         "id": "landcover_scrubland",
         "layout": {
          "visibility": "visible"
         },
         "maxzoom": 9,
         "minzoom": 5,
         "paint": {
          "fill-color": "#c8d7ab",
          "fill-opacity": {
           "base": 1,
           "stops": [
            [
             4,
             0.3
            ],
            [
             9,
             0
            ]
           ]
          }
         },
         "source": "openmaptiles",
         "source-layer": "globallandcover",
         "type": "fill"
        },
        {
         "filter": [
          "all",
          [
           "==",
           "class",
           "tree"
          ]
         ],
         "id": "landcover_treeland",
         "layout": {
          "visibility": "visible"
         },
         "maxzoom": 9,
         "minzoom": 5,
         "paint": {
          "fill-color": "#add19e",
          "fill-opacity": {
           "base": 1,
           "stops": [
            [
             4,
             0.3
            ],
            [
             9,
             0
            ]
           ]
          }
         },
         "source": "openmaptiles",
         "source-layer": "globallandcover",
         "type": "fill"
        },
        {
         "filter": [
          "all",
          [
           "==",
           "class",
           "forest"
          ]
         ],
         "id": "landcover_forestland",
         "layout": {
          "visibility": "visible"
         },
         "maxzoom": 9,
         "minzoom": 5,
         "paint": {
          "fill-color": "#add19e",
          "fill-opacity": {
           "base": 1,
           "stops": [
            [
             4,
             0.3
            ],
            [
             9,
             0
            ]
           ]
          }
         },
         "source": "openmaptiles",
         "source-layer": "globallandcover",
         "type": "fill"
        },
        {
         "filter": [
          "all",
          [
           "==",
           "class",
           "snow"
          ]
         ],
         "id": "landcover_snowland",
         "layout": {
          "visibility": "visible"
         },
         "maxzoom": 9,
         "minzoom": 5,
         "paint": {
          "fill-color": "hsl(0, 0%, 100%)",
          "fill-opacity": {
           "base": 1,
           "stops": [
            [
             4,
             0.8
            ],
            [
             9,
             0
            ]
           ]
          }
         },
         "source": "openmaptiles",
         "source-layer": "globallandcover",
         "type": "fill"
        },
        {
         "filter": [
          "all",
          [
           "in",
           "class",
           "residential",
           "suburbs",
           "neighbourhood"
          ]
         ],
         "id": "landuse_residential",
         "layout": {
          "visibility": "visible"
         },
         "maxzoom": 24,
         "metadata": {},
         "minzoom": 6,
         "paint": {
          "fill-color": {
           "stops": [
            [
             7,
             "#d0d0d0"
            ],
            [
             11,
             "#dddddd"
            ],
            [
             12,
             "#e0dfdf"
            ]
           ]
          }
         },
         "source": "openmaptiles",
         "source-layer": "landuse",
         "type": "fill"
        },
        {
         "filter": [
          "==",
          "$type",
          "Polygon"
         ],
         "id": "aeroway_fill",
         "layout": {
          "visibility": "visible"
         },
         "metadata": {},
         "minzoom": 11,
         "paint": {
          "fill-color": {
           "stops": [
            [
             6,
             "rgba(223, 223, 228, 1)"
            ],
            [
             12,
             "rgba(232, 231, 223, 1)"
            ]
           ]
          },
          "fill-opacity": 1
         },
         "source": "openmaptiles",
         "source-layer": "aeroway",
         "type": "fill"
        },
        {
         "filter": [
          "all",
          [
           "in",
           "class",
           "farmland",
           "wood",
           "rock",
           "grass",
           "wetland",
           "sand"
          ]
         ],
         "id": "landcover_classes",
         "layout": {
          "visibility": "visible"
         },
         "maxzoom": 13,
         "metadata": {},
         "paint": {
          "fill-antialias": false,
          "fill-color": [
           "match",
           [
            "get",
            "class"
           ],
           "farmland",
           "#eef0d5",
           "wood",
           "#add19e",
           "rock",
           "#eee5dc",
           "grass",
           "#cdebb0",
           "sand",
           "#f5e9c6",
           "wetland",
           "#add19e",
           "#000"
          ],
          "fill-opacity": {
           "stops": [
            [
             7,
             0.5
            ],
            [
             10,
             1
            ]
           ]
          }
         },
         "source": "openmaptiles",
         "source-layer": "landcover",
         "type": "fill"
        },
        {
         "filter": [
          "all",
          [
           "in",
           "class",
           "farmland"
          ]
         ],
         "id": "landcover_class_outline",
         "layout": {
          "visibility": "visible"
         },
         "paint": {
          "line-color": "#c7c9ae",
          "line-width": 0.5
         },
         "source": "openmaptiles",
         "source-layer": "landcover",
         "type": "line"
        },
        {
         "filter": [
          "all",
          [
           "==",
           "subclass",
           "park"
          ]
         ],
         "id": "landcover_park",
         "layout": {
          "visibility": "visible"
         },
         "minzoom": 13,
         "paint": {
          "fill-antialias": true,
          "fill-color": "#c8facc"
         },
         "source": "openmaptiles",
         "source-layer": "landcover",
         "type": "fill"
        },
        {
         "filter": [
          "all",
          [
           "in",
           "subclass",
           "allotments",
           "bare_rock",
           "beach",
           "dune",
           "scrub",
           "farm",
           "farmland",
           "forest",
           "garden",
           "grass",
           "grassland",
           "golf_course",
           "heath",
           "meadow",
           "orchard",
           "plant_nursery",
           "recreation_ground",
           "reedbed",
           "saltmarsh",
           "sand",
           "scree",
           "swamp",
           "tidalflat",
           "tundra",
           "village_green",
           "vineyard",
           "wet_meadow",
           "wetland",
           "wood"
          ]
         ],
         "id": "landcover_subclasses",
         "layout": {
          "visibility": "visible"
         },
         "minzoom": 13,
         "paint": {
          "fill-antialias": true,
          "fill-color": [
           "match",
           [
            "get",
            "subclass"
           ],
           "allotments",
           "#c9e1bf",
           "bare_rock",
           "#eee5dc",
           "beach",
           "#fff1ba",
           "bog",
           "#d6d99f",
           "dune",
           "#f5e9c6",
           "scrub",
           "#c8d7ab",
           "farm",
           "#f5dcba",
           "farmland",
           "#eef0d5",
           "forest",
           "#add19e",
           "grass",
           "#cdebb0",
           "grassland",
           "#cdebb0",
           "golf_course",
           "#def6c0",
           "heath",
           "#d6d99f",
           "mangrove",
           "#c8d7ab",
           "meadow",
           "#cdebb0",
           "orchard",
           "#aedfa3",
           "park",
           "#c8facc",
           "garden",
           "#cdebb0",
           "plant_nursery",
           "#aedfa3",
           "recreation_ground",
           "#d5ffd9",
           "reedbed",
           "#cdebb0",
           "saltmarsh",
           "#cdebb0",
           "sand",
           "#f5e9c6",
           "scree",
           "#eee5dc",
           "swamp",
           "#add19e",
           "tidalflat",
           "#DED6CF",
           "village_green",
           "#cdebb0",
           "vineyard",
           "#aedfa3",
           "wet_meadow",
           "#cdebb0",
           "wetland",
           "#add19e",
           "wood",
           "#add19e",
           "marsh",
           "#ff0",
           "#FFFFFF"
          ]
         },
         "source": "openmaptiles",
         "source-layer": "landcover",
         "type": "fill"
        },
        {
         "filter": [
          "all",
          [
           "in",
           "subclass",
           "allotments",
           "bare_rock",
           "beach",
           "bog",
           "dune",
           "scrub",
           "farm",
           "farmland",
           "forest",
           "garden",
           "grass",
           "grassland",
           "golf_course",
           "heath",
           "mangrove",
           "marsh",
           "meadow",
           "orchard",
           "park",
           "plant_nursery",
           "recreation_ground",
           "reedbed",
           "saltern",
           "saltmarsh",
           "sand",
           "scree",
           "swamp",
           "village_green",
           "vineyard",
           "wet_meadow",
           "wetland",
           "wood"
          ]
         ],
         "id": "landcover_subclass_patterns",
         "layout": {
          "visibility": "visible"
         },
         "metadata": {},
         "minzoom": 13,
         "paint": {
          "fill-opacity": [
           "match",
           [
            "get",
            "subclass"
           ],
           "beach",
           0.4,
           "forest",
           0.4,
           "bare_rock",
           0.3,
           "scrub",
           0.6,
           "garden",
           0.6,
           "scree",
           0.3,
           "wood",
           0.4,
           1
          ],
          "fill-pattern": [
           "match",
           [
            "get",
            "subclass"
           ],
           "allotments",
           "allotments",
           "bare_rock",
           "rock_overlay",
           "beach",
           "beach",
           "bog",
           "wetland_bog",
           "scrub",
           "scrub",
           "forest",
           "leaftype_unknown",
           "garden",
           "plant_nursery",
           "mangrove",
           "wetland_mangrove",
           "marsh",
           "wetland_marsh",
           "orchard",
           "orchard",
           "plant_nursery",
           "plant_nursery",
           "reedbed",
           "wetland_reed",
           "saltmarsh",
           "wetland_marsh",
           "scree",
           "scree_overlay",
           "swamp",
           "wetland_swamp",
           "vineyard",
           "vineyard",
           "wet_meadow",
           "wetland_marsh",
           "wetland",
           "wetland",
           "wood",
           "leaftype_unknown",
           ""
          ]
         },
         "source": "openmaptiles",
         "source-layer": "landcover",
         "type": "fill"
        },
        {
         "filter": [
          "all",
          [
           "in",
           "subclass",
           "allotments",
           "farm",
           "farmland",
           "recreation_ground"
          ]
         ],
         "id": "landcover_subclass_outline",
         "layout": {
          "visibility": "visible"
         },
         "minzoom": 15,
         "paint": {
          "line-color": [
           "match",
           [
            "get",
            "subclass"
           ],
           "allotments",
           "#B1C6A8",
           "farm",
           "#d1b48c",
           "farmland",
           "#c7c9ae",
           "recreation_ground",
           "#3c6640",
           "#000"
          ],
          "line-opacity": 1,
          "line-width": [
           "match",
           [
            "get",
            "subclass"
           ],
           "recreation_ground",
           0.3,
           0.5
          ]
         },
         "source": "openmaptiles",
         "source-layer": "landcover",
         "type": "line"
        },
        {
         "filter": [
          "all",
          [
           "in",
           "class",
           "ice"
          ]
         ],
         "id": "landcover_ice",
         "metadata": {},
         "minzoom": 5,
         "paint": {
          "fill-antialias": false,
          "fill-color": "#ddecec"
         },
         "source": "openmaptiles",
         "source-layer": "landcover",
         "type": "fill"
        },
        {
         "filter": [
          "all",
          [
           "in",
           "class",
           "ice"
          ]
         ],
         "id": "landcover_ice_outline",
         "layout": {
          "visibility": "visible"
         },
         "minzoom": 5,
         "paint": {
          "line-color": "#9cf",
          "line-dasharray": {
           "stops": [
            [
             5,
             [
              1,
              0
             ]
            ],
            [
             10,
             [
              4,
              2
             ]
            ]
           ]
          },
          "line-width": {
           "stops": [
            [
             5,
             1
            ],
            [
             10,
             1.5
            ]
           ]
          }
         },
         "source": "openmaptiles",
         "source-layer": "landcover",
         "type": "line"
        },
        {
         "filter": [
          "all",
          [
           "==",
           "brunnel",
           "tunnel"
          ]
         ],
         "id": "waterway_tunnel",
         "layout": {
          "line-cap": "round",
          "visibility": "visible"
         },
         "minzoom": 14,
         "paint": {
          "line-color": "#a0c8f0",
          "line-dasharray": [
           2,
           4
          ],
          "line-width": {
           "base": 1.3,
           "stops": [
            [
             13,
             0.5
            ],
            [
             20,
             6
            ]
           ]
          }
         },
         "source": "openmaptiles",
         "source-layer": "waterway",
         "type": "line"
        },
        {
         "filter": [
          "all",
          [
           "==",
           "class",
           "river"
          ],
          [
           "!=",
           "brunnel",
           "tunnel"
          ],
          [
           "!=",
           "intermittent",
           1
          ]
         ],
         "id": "waterway_river",
         "layout": {
          "line-cap": "round",
          "visibility": "visible"
         },
         "metadata": {},
         "paint": {
          "line-color": "#a0c8f0",
          "line-width": {
           "base": 1.2,
           "stops": [
            [
             11,
             0.5
            ],
            [
             20,
             6
            ]
           ]
          }
         },
         "source": "openmaptiles",
         "source-layer": "waterway",
         "type": "line"
        },
        {
         "filter": [
          "all",
          [
           "==",
           "class",
           "river"
          ],
          [
           "!=",
           "brunnel",
           "tunnel"
          ],
          [
           "==",
           "intermittent",
           1
          ]
         ],
         "id": "waterway_river_intermittent",
         "layout": {
          "line-cap": "round"
         },
         "metadata": {},
         "paint": {
          "line-color": "#a0c8f0",
          "line-dasharray": [
           3,
           2
          ],
          "line-width": {
           "base": 1.2,
           "stops": [
            [
             11,
             0.5
            ],
            [
             20,
             6
            ]
           ]
          }
         },
         "source": "openmaptiles",
         "source-layer": "waterway",
         "type": "line"
        },
        {
         "filter": [
          "all",
          [
           "!=",
           "class",
           "river"
          ],
          [
           "!=",
           "brunnel",
           "tunnel"
          ],
          [
           "!=",
           "intermittent",
           1
          ]
         ],
         "id": "waterway_other",
         "layout": {
          "line-cap": "round",
          "visibility": "visible"
         },
         "metadata": {},
         "paint": {
          "line-color": "#a0c8f0",
          "line-width": {
           "base": 1.3,
           "stops": [
            [
             13,
             0.5
            ],
            [
             20,
             6
            ]
           ]
          }
         },
         "source": "openmaptiles",
         "source-layer": "waterway",
         "type": "line"
        },
        {
         "filter": [
          "all",
          [
           "!=",
           "class",
           "river"
          ],
          [
           "!=",
           "brunnel",
           "tunnel"
          ],
          [
           "==",
           "intermittent",
           1
          ]
         ],
         "id": "waterway_other_intermittent",
         "layout": {
          "line-cap": "round",
          "visibility": "visible"
         },
         "metadata": {},
         "paint": {
          "line-color": "#a0c8f0",
          "line-dasharray": [
           4,
           3
          ],
          "line-width": {
           "base": 1.3,
           "stops": [
            [
             13,
             0.5
            ],
            [
             20,
             6
            ]
           ]
          }
         },
         "source": "openmaptiles",
         "source-layer": "waterway",
         "type": "line"
        },
        {
         "filter": [
          "all",
          [
           "==",
           "intermittent",
           1
          ]
         ],
         "id": "water_intermittent",
         "layout": {
          "visibility": "visible"
         },
         "metadata": {},
         "paint": {
          "fill-color": "rgba(172, 218, 251, 1)",
          "fill-opacity": 0.85
         },
         "source": "openmaptiles",
         "source-layer": "water",
         "type": "fill"
        },
        {
         "filter": [
          "all",
          [
           "!=",
           "intermittent",
           1
          ],
          [
           "!=",
           "brunnel",
           "tunnel"
          ]
         ],
         "id": "water",
         "layout": {
          "visibility": "visible"
         },
         "metadata": {},
         "paint": {
          "fill-color": "#aad3df"
         },
         "source": "openmaptiles",
         "source-layer": "water",
         "type": "fill"
        },
        {
         "id": "building",
         "layout": {
          "visibility": "visible"
         },
         "maxzoom": 24,
         "metadata": {},
         "minzoom": 12,
         "paint": {
          "fill-color": {
           "stops": [
            [
             13,
             "rgba(222, 213, 207, 1)"
            ],
            [
             16,
             "#d9d0c9"
            ]
           ]
          },
          "fill-outline-color": {
           "base": 1,
           "stops": [
            [
             13,
             "#9A918A"
            ],
            [
             16,
             "rgba(166, 157, 150, 1)"
            ]
           ]
          }
         },
         "source": "openmaptiles",
         "source-layer": "building",
         "type": "fill"
        },
        {
         "id": "national_parks",
         "layout": {
          "visibility": "visible"
         },
         "minzoom": 8,
         "paint": {
          "line-color": "rgba(154, 199, 136, 1)",
          "line-offset": 1,
          "line-opacity": 0.8,
          "line-width": {
           "base": 1,
           "stops": [
            [
             8,
             1.2
            ],
            [
             9,
             1.5
            ],
            [
             10,
             3.6
            ],
            [
             24,
             3.6
            ]
           ]
          }
         },
         "source": "openmaptiles",
         "source-layer": "park",
         "type": "line"
        },
        {
         "id": "national_parks_thin",
         "layout": {
          "visibility": "none"
         },
         "minzoom": 10,
         "paint": {
          "line-color": "rgba(93, 156, 76, 1)",
          "line-width": 1.5
         },
         "source": "openmaptiles",
         "source-layer": "park",
         "type": "line"
        },
        {
         "filter": [
          "all",
          [
           "==",
           "$type",
           "LineString"
          ],
          [
           "==",
           "class",
           "runway"
          ]
         ],
         "id": "aeroway_runway",
         "layout": {
          "visibility": "visible"
         },
         "metadata": {},
         "minzoom": 11,
         "paint": {
          "line-color": "rgba(178, 181, 209, 1)",
          "line-opacity": 1,
          "line-width": {
           "base": 1.2,
           "stops": [
            [
             11,
             3
            ],
            [
             20,
             48
            ]
           ]
          }
         },
         "source": "openmaptiles",
         "source-layer": "aeroway",
         "type": "line"
        },
        {
         "filter": [
          "all",
          [
           "==",
           "$type",
           "LineString"
          ],
          [
           "==",
           "class",
           "taxiway"
          ]
         ],
         "id": "aeroway_taxiway",
         "layout": {
          "visibility": "visible"
         },
         "metadata": {},
         "minzoom": 11,
         "paint": {
          "line-color": "rgba(178, 181, 209, 1)",
          "line-opacity": 1,
          "line-width": {
           "base": 1.2,
           "stops": [
            [
             11,
             1
            ],
            [
             20,
             24
            ]
           ]
          }
         },
         "source": "openmaptiles",
         "source-layer": "aeroway",
         "type": "line"
        },
        {
         "filter": [
          "all",
          [
           "in",
           "class",
           "ferry"
          ]
         ],
         "id": "ferry",
         "layout": {
          "line-join": "round",
          "visibility": "visible"
         },
         "minzoom": 10,
         "paint": {
          "line-color": "#7d7df8",
          "line-dasharray": [
           2,
           2
          ],
          "line-width": {
           "stops": [
            [
             10,
             0.5
            ],
            [
             14,
             1.1
            ]
           ]
          }
         },
         "source": "openmaptiles",
         "source-layer": "transportation",
         "type": "line"
        },
        {
         "filter": [
          "all",
          [
           "in",
           "class",
           "military",
           "cemetery"
          ]
         ],
         "id": "landuse_class_pattern",
         "layout": {
          "visibility": "visible"
         },
         "metadata": {},
         "paint": {
          "fill-color": "#000000",
          "fill-opacity": 1,
          "fill-pattern": [
           "match",
           [
            "get",
            "class"
           ],
           "military",
           "military_red_hatch",
           "cemetery",
           "grave_yard_generic",
           ""
          ]
         },
         "source": "openmaptiles",
         "source-layer": "landuse",
         "type": "fill"
        },
        {
         "filter": [
          "all",
          [
           "in",
           "class",
           "railway",
           "military",
           "residential",
           "commercial",
           "industrial",
           "retail",
           "school",
           "university",
           "kindergarten",
           "college",
           "hospital",
           "stadium",
           "pitch",
           "playground",
           "track",
           "theme_park",
           "zoo",
           "dam"
          ]
         ],
         "id": "landuse_class_outline",
         "layout": {
          "visibility": "visible"
         },
         "minzoom": 13,
         "paint": {
          "line-color": [
           "match",
           [
            "get",
            "class"
           ],
           "railway",
           "#c6b3c3",
           "military",
           "#ff5555",
           "residential",
           "#b9b9b9",
           "commercial",
           "#f2dad9",
           "industrial",
           "#c6b3c3",
           "retail",
           "#d99c95",
           "school",
           "#A6A68C",
           "university",
           "#A6A68C",
           "kindergarten",
           "#A6A68C",
           "college",
           "#A6A68C",
           "hospital",
           "#A6A68C",
           "stadium",
           "#7ca680",
           "pitch",
           "#7aaa97",
           "playground",
           "#3c6640",
           "track",
           "#7aaa96",
           "theme_park",
           "#660033",
           "zoo",
           "#660033",
           "dam",
           "#444444",
           "#000"
          ],
          "line-offset": [
           "match",
           [
            "get",
            "class"
           ],
           "military",
           1,
           0
          ],
          "line-opacity": [
           "match",
           [
            "get",
            "class"
           ],
           "military",
           0.24,
           1
          ],
          "line-width": [
           "match",
           [
            "get",
            "class"
           ],
           "railway",
           0.7,
           "military",
           2,
           "residential",
           0.5,
           "commercial",
           0.5,
           "industrial",
           0.5,
           "retail",
           0.5,
           "school",
           0.3,
           "university",
           0.3,
           "kindergarten",
           0.3,
           "college",
           0.3,
           "hospital",
           0.3,
           "stadium",
           0.3,
           "pitch",
           0.5,
           "playground",
           0.3,
           "track",
           0.5,
           "theme_park",
           1,
           "zoo",
           1,
           "dam",
           2,
           1
          ]
         },
         "source": "openmaptiles",
         "source-layer": "landuse",
         "type": "line"
        },
        {
         "filter": [
          "all",
          [
           "in",
           "class",
           "theme_park",
           "zoo"
          ]
         ],
         "id": "landuse_class_themepark",
         "layout": {
          "line-cap": "square",
          "line-join": "round",
          "visibility": "visible"
         },
         "minzoom": 13,
         "paint": {
          "line-color": "#660033",
          "line-offset": 2,
          "line-opacity": {
           "stops": [
            [
             9,
             0.1
            ],
            [
             12,
             0.3
            ]
           ]
          },
          "line-width": {
           "stops": [
            [
             9,
             3.5
            ],
            [
             14,
             5.5
            ]
           ]
          }
         },
         "source": "openmaptiles",
         "source-layer": "landuse",
         "type": "line"
        },
        {
         "filter": [
          "all",
          [
           "==",
           "class",
           "motorway_link"
          ],
          [
           "==",
           "ramp",
           1
          ],
          [
           "==",
           "brunnel",
           "tunnel"
          ]
         ],
         "id": "tunnel_motorway_link_casing",
         "layout": {
          "line-join": "round",
          "visibility": "visible"
         },
         "metadata": {},
         "minzoom": 11,
         "paint": {
          "line-color": {
           "stops": [
            [
             11,
             "#c24e6b"
            ],
            [
             12,
             "#dc2a67"
            ]
           ]
          },
          "line-width": {
           "base": 1.2,
           "stops": [
            [
             11,
             1.5
            ],
            [
             12,
             4
            ],
            [
             14,
             7.8
            ],
            [
             16,
             12
            ],
            [
             17,
             13
            ],
            [
             18,
             16
            ],
            [
             19,
             17
            ]
           ]
          }
         },
         "source": "openmaptiles",
         "source-layer": "transportation",
         "type": "line"
        },
        {
         "filter": [
          "all",
          [
           "==",
           "brunnel",
           "tunnel"
          ],
          [
           "in",
           "class",
           "service",
           "track"
          ]
         ],
         "id": "tunnel_service_track_casing",
         "layout": {
          "line-join": "round",
          "visibility": "visible"
         },
         "metadata": {},
         "paint": {
          "line-color": "#cfcdca",
          "line-dasharray": [
           0.5,
           0.25
          ],
          "line-width": {
           "base": 1.2,
           "stops": [
            [
             15,
             1
            ],
            [
             16,
             4
            ],
            [
             20,
             11
            ]
           ]
          }
         },
         "source": "openmaptiles",
         "source-layer": "transportation",
         "type": "line"
        },
        {
         "filter": [
          "all",
          [
           "==",
           "ramp",
           "1"
          ],
          [
           "==",
           "brunnel",
           "tunnel"
          ],
          [
           ">",
           "layer",
           0
          ]
         ],
         "id": "tunnel_link_casing",
         "layout": {
          "line-join": "round",
          "visibility": "visible"
         },
         "metadata": {},
         "paint": {
          "line-color": "#e9ac77",
          "line-opacity": 1,
          "line-width": {
           "base": 1.2,
           "stops": [
            [
             12,
             1
            ],
            [
             13,
             3
            ],
            [
             14,
             4
            ],
            [
             20,
             15
            ]
           ]
          }
         },
         "source": "openmaptiles",
         "source-layer": "transportation",
         "type": "line"
        },
        {
         "filter": [
          "all",
          [
           "==",
           "brunnel",
           "tunnel"
          ],
          [
           "in",
           "class",
           "street",
           "street_limited"
          ]
         ],
         "id": "tunnel_street_casing",
         "layout": {
          "line-join": "round",
          "visibility": "visible"
         },
         "metadata": {},
         "paint": {
          "line-color": "#cfcdca",
          "line-opacity": {
           "stops": [
            [
             12,
             0
            ],
            [
             12.5,
             1
            ]
           ]
          },
          "line-width": {
           "base": 1.2,
           "stops": [
            [
             12,
             0.5
            ],
            [
             13,
             1
            ],
            [
             14,
             4
            ],
            [
             20,
             15
            ]
           ]
          }
         },
         "source": "openmaptiles",
         "source-layer": "transportation",
         "type": "line"
        },
        {
         "filter": [
          "all",
          [
           "==",
           "brunnel",
           "tunnel"
          ],
          [
           "in",
           "class",
           "tertiary"
          ]
         ],
         "id": "tunnel_tertiary_casing",
         "layout": {
          "line-join": "round",
          "visibility": "visible"
         },
         "metadata": {},
         "minzoom": 11,
         "paint": {
          "line-color": "#8f8f8f",
          "line-dasharray": [
           0.5,
           0.25
          ],
          "line-opacity": 1,
          "line-width": {
           "base": 1.2,
           "stops": [
            [
             11,
             2.5
            ],
            [
             12,
             5
            ],
            [
             13,
             5
            ],
            [
             14,
             9
            ],
            [
             15,
             10
            ],
            [
             16,
             18
            ],
            [
             17,
             21
            ],
            [
             18,
             27
            ]
           ]
          }
         },
         "source": "openmaptiles",
         "source-layer": "transportation",
         "type": "line"
        },
        {
         "filter": [
          "all",
          [
           "==",
           "brunnel",
           "tunnel"
          ],
          [
           "in",
           "class",
           "secondary"
          ]
         ],
         "id": "tunnel_secondary_casing",
         "layout": {
          "line-join": "round",
          "visibility": "visible"
         },
         "metadata": {},
         "minzoom": 11,
         "paint": {
          "line-color": "#707d05",
          "line-dasharray": [
           0.5,
           0.25
          ],
          "line-opacity": 1,
          "line-width": {
           "base": 1.2,
           "stops": [
            [
             11,
             3.5
            ],
            [
             12,
             5
            ],
            [
             13,
             5
            ],
            [
             14,
             9
            ],
            [
             15,
             10
            ],
            [
             16,
             18
            ],
            [
             17,
             21
            ],
            [
             18,
             27
            ]
           ]
          }
         },
         "source": "openmaptiles",
         "source-layer": "transportation",
         "type": "line"
        },
        {
         "filter": [
          "all",
          [
           "==",
           "brunnel",
           "tunnel"
          ],
          [
           "in",
           "class",
           "trunk"
          ]
         ],
         "id": "tunnel_trunk_casing",
         "layout": {
          "line-join": "round",
          "visibility": "visible"
         },
         "metadata": {},
         "minzoom": 11,
         "paint": {
          "line-color": {
           "stops": [
            [
             11,
             "#cf6649"
            ],
            [
             12,
             "#c84e2f"
            ]
           ]
          },
          "line-dasharray": [
           0.5,
           0.25
          ],
          "line-width": {
           "base": 1.2,
           "stops": [
            [
             11,
             3.5
            ],
            [
             12,
             6
            ],
            [
             15,
             10
            ],
            [
             16,
             18
            ],
            [
             17,
             21
            ],
            [
             18,
             27
            ]
           ]
          }
         },
         "source": "openmaptiles",
         "source-layer": "transportation",
         "type": "line"
        },
        {
         "filter": [
          "all",
          [
           "==",
           "brunnel",
           "tunnel"
          ],
          [
           "in",
           "class",
           "trunk_construction"
          ]
         ],
         "id": "tunnel_trunk_construction_casing",
         "layout": {
          "line-join": "round",
          "visibility": "visible"
         },
         "metadata": {},
         "minzoom": 11,
         "paint": {
          "line-color": "rgba(255, 255, 255, 1)",
          "line-dasharray": [
           1,
           0
          ],
          "line-width": {
           "base": 1.2,
           "stops": [
            [
             11,
             3.5
            ],
            [
             12,
             6
            ],
            [
             15,
             10
            ],
            [
             16,
             18
            ],
            [
             17,
             21
            ],
            [
             18,
             25
            ]
           ]
          }
         },
         "source": "openmaptiles",
         "source-layer": "transportation",
         "type": "line"
        },
        {
         "filter": [
          "all",
          [
           "==",
           "brunnel",
           "tunnel"
          ],
          [
           "in",
           "class",
           "primary"
          ]
         ],
         "id": "tunnel_primary_casing",
         "layout": {
          "line-join": "round",
          "visibility": "visible"
         },
         "metadata": {},
         "minzoom": 11,
         "paint": {
          "line-color": {
           "stops": [
            [
             6,
             "#a06b00"
            ],
            [
             10,
             "rgba(160, 116, 0, 1)"
            ]
           ]
          },
          "line-dasharray": [
           0.5,
           0.25
          ],
          "line-width": {
           "base": 1.2,
           "stops": [
            [
             11,
             3.5
            ],
            [
             12,
             6
            ],
            [
             15,
             10
            ],
            [
             16,
             18
            ],
            [
             17,
             21
            ],
            [
             18,
             27
            ]
           ]
          }
         },
         "source": "openmaptiles",
         "source-layer": "transportation",
         "type": "line"
        },
        {
         "filter": [
          "all",
          [
           "==",
           "class",
           "motorway_construction"
          ],
          [
           "==",
           "brunnel",
           "tunnel"
          ]
         ],
         "id": "tunnel_motorway_construction_casing",
         "layout": {
          "line-join": "round",
          "visibility": "visible"
         },
         "metadata": {},
         "paint": {
          "line-color": {
           "stops": [
            [
             6,
             "#dc2a67"
            ],
            [
             10,
             "#c24e6b"
            ]
           ]
          },
          "line-dasharray": [
           0.5,
           0.25
          ],
          "line-width": {
           "base": 1.2,
           "stops": [
            [
             5,
             0
            ],
            [
             7,
             1.75
            ],
            [
             18,
             27
            ]
           ]
          }
         },
         "source": "openmaptiles",
         "source-layer": "transportation",
         "type": "line"
        },
        {
         "filter": [
          "all",
          [
           "==",
           "class",
           "motorway"
          ],
          [
           "==",
           "brunnel",
           "tunnel"
          ]
         ],
         "id": "tunnel_motorway_casing",
         "layout": {
          "line-join": "round",
          "visibility": "visible"
         },
         "metadata": {},
         "paint": {
          "line-color": {
           "stops": [
            [
             6,
             "#dc2a67"
            ],
            [
             10,
             "#c24e6b"
            ]
           ]
          },
          "line-dasharray": [
           0.5,
           0.25
          ],
          "line-width": {
           "base": 1.2,
           "stops": [
            [
             5,
             0
            ],
            [
             7,
             1.75
            ],
            [
             18,
             27
            ]
           ]
          }
         },
         "source": "openmaptiles",
         "source-layer": "transportation",
         "type": "line"
        },
        {
         "filter": [
          "all",
          [
           "==",
           "$type",
           "LineString"
          ],
          [
           "==",
           "brunnel",
           "tunnel"
          ],
          [
           "in",
           "class",
           "path",
           "pedestrian"
          ]
         ],
         "id": "tunnel_path_pedestrian",
         "layout": {
          "visibility": "visible"
         },
         "metadata": {},
         "paint": {
          "line-color": "rgba(204, 196, 176, 0.45)",
          "line-dasharray": [
           1,
           0.75
          ],
          "line-width": {
           "base": 1.2,
           "stops": [
            [
             14,
             0.5
            ],
            [
             20,
             6
            ]
           ]
          }
         },
         "source": "openmaptiles",
         "source-layer": "transportation",
         "type": "line"
        },
        {
         "filter": [
          "all",
          [
           "==",
           "class",
           "motorway"
          ],
          [
           "==",
           "ramp",
           1
          ],
          [
           "==",
           "brunnel",
           "tunnel"
          ]
         ],
         "id": "tunnel_motorway_link",
         "layout": {
          "line-join": "round",
          "visibility": "visible"
         },
         "metadata": {},
         "minzoom": 8,
         "paint": {
          "line-color": "#f1bcc6",
          "line-dasharray": [
           0.5,
           0.25
          ],
          "line-opacity": 1,
          "line-width": {
           "base": 1.2,
           "stops": [
            [
             8,
             0.7
            ],
            [
             11,
             0.9
            ],
            [
             12,
             3
            ],
            [
             14,
             6.6
            ],
            [
             16,
             10.4
            ],
            [
             17,
             11.4
            ],
            [
             18,
             14.4
            ],
            [
             19,
             15.4
            ]
           ]
          }
         },
         "source": "openmaptiles",
         "source-layer": "transportation",
         "type": "line"
        },
        {
         "filter": [
          "all",
          [
           "==",
           "brunnel",
           "tunnel"
          ],
          [
           "in",
           "class",
           "service",
           "track"
          ]
         ],
         "id": "tunnel_service_track",
         "layout": {
          "line-join": "round",
          "visibility": "visible"
         },
         "metadata": {},
         "minzoom": 15,
         "paint": {
          "line-color": "#f2f2f2",
          "line-width": {
           "base": 1.2,
           "stops": [
            [
             15,
             0.8
            ],
            [
             16,
             1.9
            ],
            [
             17,
             3.1
            ],
            [
             18,
             3.9
            ],
            [
             19,
             6.9
            ]
           ]
          }
         },
         "source": "openmaptiles",
         "source-layer": "transportation",
         "type": "line"
        },
        {
         "filter": [
          "all",
          [
           "==",
           "brunnel",
           "tunnel"
          ],
          [
           "in",
           "class",
           "service_construction",
           "track_construction"
          ]
         ],
         "id": "tunnel_service_track_construction",
         "layout": {
          "line-join": "round",
          "visibility": "visible"
         },
         "metadata": {},
         "minzoom": 15,
         "paint": {
          "line-color": "#fff",
          "line-dasharray": [
           2,
           2
          ],
          "line-width": {
           "base": 1.2,
           "stops": [
            [
             15,
             0.8
            ],
            [
             16,
             1.9
            ],
            [
             17,
             3.1
            ],
            [
             18,
             3.9
            ],
            [
             19,
             6.9
            ]
           ]
          }
         },
         "source": "openmaptiles",
         "source-layer": "transportation",
         "type": "line"
        },
        {
         "filter": [
          "all",
          [
           "==",
           "ramp",
           "1"
          ],
          [
           "==",
           "brunnel",
           "tunnel"
          ],
          [
           ">",
           "layer",
           0
          ]
         ],
         "id": "tunnel_link",
         "layout": {
          "line-join": "round",
          "visibility": "visible"
         },
         "metadata": {},
         "paint": {
          "line-color": "#fff4c6",
          "line-width": {
           "base": 1.2,
           "stops": [
            [
             12.5,
             0
            ],
            [
             13,
             1.5
            ],
            [
             14,
             2.5
            ],
            [
             20,
             11.5
            ]
           ]
          }
         },
         "source": "openmaptiles",
         "source-layer": "transportation",
         "type": "line"
        },
        {
         "filter": [
          "all",
          [
           "==",
           "brunnel",
           "tunnel"
          ],
          [
           "in",
           "class",
           "minor"
          ]
         ],
         "id": "tunnel_minor",
         "layout": {
          "line-join": "round",
          "visibility": "visible"
         },
         "metadata": {},
         "paint": {
          "line-color": "#fff",
          "line-opacity": 1,
          "line-width": {
           "base": 1.2,
           "stops": [
            [
             13.5,
             0
            ],
            [
             14,
             2.5
            ],
            [
             20,
             11.5
            ]
           ]
          }
         },
         "source": "openmaptiles",
         "source-layer": "transportation",
         "type": "line"
        },
        {
         "filter": [
          "all",
          [
           "==",
           "brunnel",
           "tunnel"
          ],
          [
           "in",
           "class",
           "minor_construction"
          ]
         ],
         "id": "tunnel_minor_construction",
         "layout": {
          "line-join": "round",
          "visibility": "visible"
         },
         "metadata": {},
         "paint": {
          "line-color": "#fff",
          "line-dasharray": [
           2,
           2
          ],
          "line-opacity": 1,
          "line-width": {
           "base": 1.2,
           "stops": [
            [
             13.5,
             0
            ],
            [
             14,
             2.5
            ],
            [
             20,
             11.5
            ]
           ]
          }
         },
         "source": "openmaptiles",
         "source-layer": "transportation",
         "type": "line"
        },
        {
         "filter": [
          "all",
          [
           "==",
           "brunnel",
           "tunnel"
          ],
          [
           "in",
           "class",
           "tertiary"
          ]
         ],
         "id": "tunnel_tertiary",
         "layout": {
          "line-join": "round",
          "visibility": "visible"
         },
         "metadata": {},
         "paint": {
          "line-color": "#ffffff",
          "line-width": {
           "base": 1.2,
           "stops": [
            [
             11,
             1.9
            ],
            [
             12,
             3
            ],
            [
             13,
             3.9
            ],
            [
             14,
             7.8
            ],
            [
             15,
             8.8
            ],
            [
             16,
             16.4
            ],
            [
             17,
             19.4
            ],
            [
             18,
             25.4
            ]
           ]
          }
         },
         "source": "openmaptiles",
         "source-layer": "transportation",
         "type": "line"
        },
        {
         "filter": [
          "all",
          [
           "==",
           "brunnel",
           "tunnel"
          ],
          [
           "in",
           "class",
           "tertiary_construction"
          ]
         ],
         "id": "tunnel_tertiary_construction",
         "layout": {
          "line-join": "round",
          "visibility": "visible"
         },
         "metadata": {},
         "paint": {
          "line-color": "#ffffff",
          "line-dasharray": [
           2,
           2
          ],
          "line-width": {
           "base": 1.2,
           "stops": [
            [
             11,
             1.9
            ],
            [
             12,
             3
            ],
            [
             13,
             3.9
            ],
            [
             14,
             7.8
            ],
            [
             15,
             8.8
            ],
            [
             16,
             16.4
            ],
            [
             17,
             19.4
            ],
            [
             18,
             25.4
            ]
           ]
          }
         },
         "source": "openmaptiles",
         "source-layer": "transportation",
         "type": "line"
        },
        {
         "filter": [
          "all",
          [
           "==",
           "brunnel",
           "tunnel"
          ],
          [
           "in",
           "class",
           "secondary"
          ]
         ],
         "id": "tunnel_secondary",
         "layout": {
          "line-join": "round",
          "visibility": "visible"
         },
         "metadata": {},
         "minzoom": 8,
         "paint": {
          "line-color": "#fafcd7",
          "line-width": {
           "base": 1.2,
           "stops": [
            [
             8,
             1
            ],
            [
             9,
             1.1
            ],
            [
             10,
             1.1
            ],
            [
             11,
             2.9
            ],
            [
             12,
             4.3
            ],
            [
             12,
             4.3
            ],
            [
             14,
             7.6
            ],
            [
             15,
             8.6
            ],
            [
             16,
             16
            ],
            [
             17,
             19
            ],
            [
             18,
             25
            ]
           ]
          }
         },
         "source": "openmaptiles",
         "source-layer": "transportation",
         "type": "line"
        },
        {
         "filter": [
          "all",
          [
           "==",
           "brunnel",
           "tunnel"
          ],
          [
           "in",
           "class",
           "secondary_construction"
          ]
         ],
         "id": "tunnel_secondary_construction",
         "layout": {
          "line-join": "round",
          "visibility": "visible"
         },
         "metadata": {},
         "minzoom": 8,
         "paint": {
          "line-color": "#fafcd7",
          "line-dasharray": [
           2,
           2
          ],
          "line-width": {
           "base": 1.2,
           "stops": [
            [
             8,
             1
            ],
            [
             9,
             1.1
            ],
            [
             10,
             1.1
            ],
            [
             11,
             2.9
            ],
            [
             12,
             4.3
            ],
            [
             12,
             4.3
            ],
            [
             14,
             7.6
            ],
            [
             15,
             8.6
            ],
            [
             16,
             16
            ],
            [
             17,
             19
            ],
            [
             18,
             25
            ]
           ]
          }
         },
         "source": "openmaptiles",
         "source-layer": "transportation",
         "type": "line"
        },
        {
         "filter": [
          "all",
          [
           "==",
           "brunnel",
           "tunnel"
          ],
          [
           "in",
           "class",
           "primary"
          ]
         ],
         "id": "tunnel_primary",
         "layout": {
          "line-join": "round",
          "visibility": "visible"
         },
         "metadata": {},
         "minzoom": 11,
         "paint": {
          "line-color": "#feecd5",
          "line-opacity": 1,
          "line-width": {
           "base": 1.2,
           "stops": [
            [
             5,
             0.4
            ],
            [
             6,
             0.6
            ],
            [
             7,
             1
            ],
            [
             8,
             1.4
            ],
            [
             9,
             1.9
            ],
            [
             10,
             1.9
            ],
            [
             11,
             4.5
            ],
            [
             12,
             5
            ],
            [
             15,
             8.6
            ],
            [
             16,
             16
            ],
            [
             17,
             19
            ],
            [
             18,
             25
            ]
           ]
          }
         },
         "source": "openmaptiles",
         "source-layer": "transportation",
         "type": "line"
        },
        {
         "filter": [
          "all",
          [
           "==",
           "brunnel",
           "tunnel"
          ],
          [
           "in",
           "class",
           "primary_construction"
          ]
         ],
         "id": "tunnel_primary_construction",
         "layout": {
          "line-join": "round",
          "visibility": "visible"
         },
         "metadata": {},
         "minzoom": 11,
         "paint": {
          "line-color": "#feecd5",
          "line-dasharray": [
           2,
           2
          ],
          "line-opacity": 1,
          "line-width": {
           "base": 1.2,
           "stops": [
            [
             5,
             0.4
            ],
            [
             6,
             0.6
            ],
            [
             7,
             1
            ],
            [
             8,
             1.4
            ],
            [
             9,
             1.9
            ],
            [
             10,
             1.9
            ],
            [
             11,
             4.5
            ],
            [
             12,
             5
            ],
            [
             15,
             8.6
            ],
            [
             16,
             16
            ],
            [
             17,
             19
            ],
            [
             18,
             25
            ]
           ]
          }
         },
         "source": "openmaptiles",
         "source-layer": "transportation",
         "type": "line"
        },
        {
         "filter": [
          "all",
          [
           "==",
           "brunnel",
           "tunnel"
          ],
          [
           "in",
           "class",
           "trunk"
          ]
         ],
         "id": "tunnel_trunk",
         "layout": {
          "line-join": "round",
          "visibility": "visible"
         },
         "metadata": {},
         "paint": {
          "line-color": {
           "stops": [
            [
             5,
             "#f5977a"
            ],
            [
             11,
             "#fcd7cc"
            ]
           ]
          },
          "line-opacity": 1,
          "line-width": {
           "base": 1.2,
           "stops": [
            [
             5,
             0.4
            ],
            [
             6,
             0.6
            ],
            [
             7,
             1
            ],
            [
             8,
             1.4
            ],
            [
             9,
             1.9
            ],
            [
             10,
             1.9
            ],
            [
             11,
             4.5
            ],
            [
             12,
             5
            ],
            [
             15,
             8.6
            ],
            [
             16,
             16
            ],
            [
             17,
             19
            ],
            [
             18,
             25
            ]
           ]
          }
         },
         "source": "openmaptiles",
         "source-layer": "transportation",
         "type": "line"
        },
        {
         "filter": [
          "all",
          [
           "==",
           "brunnel",
           "tunnel"
          ],
          [
           "in",
           "class",
           "trunk_construction"
          ]
         ],
         "id": "tunnel_trunk_construction",
         "layout": {
          "line-join": "round",
          "visibility": "visible"
         },
         "metadata": {},
         "paint": {
          "line-color": "#f9b29c",
          "line-dasharray": [
           2,
           2
          ],
          "line-opacity": 1,
          "line-width": {
           "base": 1.2,
           "stops": [
            [
             5,
             0.4
            ],
            [
             6,
             0.6
            ],
            [
             7,
             1
            ],
            [
             8,
             1.4
            ],
            [
             9,
             1.9
            ],
            [
             10,
             1.9
            ],
            [
             11,
             4.5
            ],
            [
             12,
             5
            ],
            [
             15,
             8.6
            ],
            [
             16,
             16
            ],
            [
             17,
             19
            ],
            [
             18,
             25
            ]
           ]
          }
         },
         "source": "openmaptiles",
         "source-layer": "transportation",
         "type": "line"
        },
        {
         "filter": [
          "all",
          [
           "==",
           "class",
           "motorway"
          ],
          [
           "==",
           "brunnel",
           "tunnel"
          ]
         ],
         "id": "tunnel_motorway",
         "layout": {
          "line-join": "round",
          "visibility": "visible"
         },
         "metadata": {},
         "paint": {
          "line-color": {
           "stops": [
            [
             5,
             "#e66e89"
            ],
            [
             11,
             "#f1bcc6"
            ]
           ]
          },
          "line-width": {
           "base": 1.2,
           "stops": [
            [
             5,
             0
            ],
            [
             7,
             1
            ],
            [
             18,
             25
            ]
           ]
          }
         },
         "source": "openmaptiles",
         "source-layer": "transportation",
         "type": "line"
        },
        {
         "filter": [
          "all",
          [
           "==",
           "class",
           "motorway_construction"
          ],
          [
           "==",
           "brunnel",
           "tunnel"
          ]
         ],
         "id": "tunnel_motorway_construction",
         "layout": {
          "line-join": "round",
          "visibility": "visible"
         },
         "metadata": {},
         "paint": {
          "line-color": {
           "stops": [
            [
             5,
             "#e66e89"
            ],
            [
             11,
             "#f1bcc6"
            ]
           ]
          },
          "line-dasharray": [
           2,
           2
          ],
          "line-width": {
           "base": 1.2,
           "stops": [
            [
             5,
             0
            ],
            [
             7,
             1
            ],
            [
             18,
             25
            ]
           ]
          }
         },
         "source": "openmaptiles",
         "source-layer": "transportation",
         "type": "line"
        },
        {
         "filter": [
          "all",
          [
           "==",
           "brunnel",
           "tunnel"
          ],
          [
           "in",
           "class",
           "rail"
          ]
         ],
         "id": "tunnel_major_rail",
         "layout": {
          "visibility": "visible"
         },
         "metadata": {},
         "paint": {
          "line-color": "rgba(166, 166, 166, 1)",
          "line-width": {
           "base": 1.4,
           "stops": [
            [
             8,
             0.8
            ],
            [
             15,
             3
            ],
            [
             20,
             5.4
            ]
           ]
          }
         },
         "source": "openmaptiles",
         "source-layer": "transportation",
         "type": "line"
        },
        {
         "filter": [
          "all",
          [
           "in",
           "brunnel",
           "bridge",
           "tunnel"
          ],
          [
           "==",
           "class",
           "rail"
          ]
         ],
         "id": "tunnel_major_rail_hatching",
         "layout": {
          "visibility": "visible"
         },
         "metadata": {},
         "minzoom": 9,
         "paint": {
          "line-color": {
           "stops": [
            [
             8,
             "rgba(114, 114, 114, 0.44)"
            ],
            [
             10,
             "rgba(199, 199, 199, 1)"
            ]
           ]
          },
          "line-dasharray": [
           2,
           2
          ],
          "line-width": {
           "base": 1.4,
           "stops": [
            [
             8,
             0
            ],
            [
             15,
             2
            ],
            [
             20,
             4
            ]
           ]
          }
         },
         "source": "openmaptiles",
         "source-layer": "transportation",
         "type": "line"
        },
        {
         "filter": [
          "all",
          [
           "==",
           "$type",
           "Polygon"
          ],
          [
           "==",
           "class",
           "pier"
          ]
         ],
         "id": "road_area_pier",
         "layout": {
          "visibility": "visible"
         },
         "metadata": {},
         "paint": {
          "fill-antialias": true,
          "fill-color": "rgba(246, 241, 229, 1)"
         },
         "source": "openmaptiles",
         "source-layer": "transportation",
         "type": "fill"
        },
        {
         "filter": [
          "all",
          [
           "==",
           "$type",
           "LineString"
          ],
          [
           "==",
           "class",
           "pier"
          ]
         ],
         "id": "road_pier",
         "layout": {
          "line-cap": "round",
          "line-join": "round"
         },
         "metadata": {},
         "paint": {
          "line-color": "rgba(246, 241, 229, 1)",
          "line-width": {
           "base": 1.2,
           "stops": [
            [
             15,
             1
            ],
            [
             17,
             4
            ]
           ]
          }
         },
         "source": "openmaptiles",
         "source-layer": "transportation",
         "type": "line"
        },
        {
         "filter": [
          "all",
          [
           "==",
           "$type",
           "Polygon"
          ],
          [
           "==",
           "class",
           "bridge"
          ]
         ],
         "id": "road_area_bridge",
         "layout": {
          "visibility": "visible"
         },
         "metadata": {},
         "minzoom": 11,
         "paint": {
          "fill-antialias": true,
          "fill-color": "#b8b8b8"
         },
         "source": "openmaptiles",
         "source-layer": "transportation",
         "type": "fill"
        },
        {
         "filter": [
          "all",
          [
           "==",
           "$type",
           "Polygon"
          ],
          [
           "!has",
           "brunnel"
          ],
          [
           "==",
           "class",
           "path"
          ],
          [
           "==",
           "subclass",
           "platform"
          ]
         ],
         "id": "road_area_platform",
         "layout": {
          "visibility": "visible"
         },
         "metadata": {},
         "paint": {
          "fill-color": "#bababa"
         },
         "source": "openmaptiles",
         "source-layer": "transportation",
         "type": "fill"
        },
        {
         "filter": [
          "all",
          [
           "==",
           "$type",
           "Polygon"
          ],
          [
           "!has",
           "brunnel"
          ],
          [
           "!in",
           "class",
           "bridge",
           "pier"
          ]
         ],
         "id": "road_area_pedestrian",
         "layout": {
          "visibility": "visible"
         },
         "metadata": {},
         "paint": {
          "fill-color": "#dddde8"
         },
         "source": "openmaptiles",
         "source-layer": "transportation",
         "type": "fill"
        },
        {
         "filter": [
          "all",
          [
           "!in",
           "brunnel",
           "bridge",
           "tunnel"
          ],
          [
           "in",
           "class",
           "service",
           "track"
          ]
         ],
         "id": "road_service_track_casing",
         "layout": {
          "line-cap": "round",
          "line-join": "round"
         },
         "metadata": {},
         "minzoom": 13,
         "paint": {
          "line-color": "#bbbbbb",
          "line-width": {
           "base": 1.2,
           "stops": [
            [
             13,
             2
            ],
            [
             15,
             3.5
            ],
            [
             16,
             7
            ],
            [
             17,
             8.5
            ],
            [
             18,
             11
            ],
            [
             19,
             12
            ]
           ]
          }
         },
         "source": "openmaptiles",
         "source-layer": "transportation",
         "type": "line"
        },
        {
         "filter": [
          "all",
          [
           "!in",
           "brunnel",
           "bridge",
           "tunnel"
          ],
          [
           "==",
           "ramp",
           1
          ],
          [
           "in",
           "class",
           "primary"
          ]
         ],
         "id": "road_primary_link_casing",
         "layout": {
          "line-cap": "butt",
          "line-join": "round",
          "visibility": "visible"
         },
         "metadata": {},
         "minzoom": 11,
         "paint": {
          "line-color": {
           "stops": [
            [
             11,
             "#c38a27"
            ],
            [
             12,
             "#a06b00"
            ]
           ]
          },
          "line-width": {
           "base": 1.2,
           "stops": [
            [
             11,
             1.5
            ],
            [
             12,
             4
            ],
            [
             13,
             4
            ],
            [
             14,
             7.8
            ],
            [
             16,
             12
            ],
            [
             17,
             13
            ],
            [
             18,
             16
            ]
           ]
          }
         },
         "source": "openmaptiles",
         "source-layer": "transportation",
         "type": "line"
        },
        {
         "filter": [
          "all",
          [
           "!in",
           "brunnel",
           "bridge",
           "tunnel"
          ],
          [
           "==",
           "ramp",
           1
          ],
          [
           "in",
           "class",
           "trunk"
          ]
         ],
         "id": "road_trunk_link_casing",
         "layout": {
          "line-cap": "butt",
          "line-join": "round",
          "visibility": "visible"
         },
         "metadata": {},
         "minzoom": 11,
         "paint": {
          "line-color": {
           "stops": [
            [
             11,
             "#cf6649"
            ],
            [
             12,
             "#c84e2f"
            ]
           ]
          },
          "line-width": {
           "base": 1.2,
           "stops": [
            [
             11,
             1.5
            ],
            [
             12,
             4
            ],
            [
             14,
             7.8
            ],
            [
             16,
             12
            ],
            [
             17,
             13
            ],
            [
             18,
             16
            ]
           ]
          }
         },
         "source": "openmaptiles",
         "source-layer": "transportation",
         "type": "line"
        },
        {
         "filter": [
          "all",
          [
           "!in",
           "brunnel",
           "bridge",
           "tunnel"
          ],
          [
           "==",
           "class",
           "motorway"
          ],
          [
           "==",
           "ramp",
           1
          ]
         ],
         "id": "road_motorway_link_casing",
         "layout": {
          "line-cap": "butt",
          "line-join": "round",
          "visibility": "visible"
         },
         "metadata": {},
         "minzoom": 11,
         "paint": {
          "line-color": {
           "stops": [
            [
             11,
             "#c24e6b"
            ],
            [
             12,
             "#dc2a67"
            ]
           ]
          },
          "line-opacity": 1,
          "line-width": {
           "base": 1.2,
           "stops": [
            [
             11,
             1.5
            ],
            [
             12,
             4
            ],
            [
             14,
             7.8
            ],
            [
             16,
             12
            ],
            [
             17,
             13
            ],
            [
             18,
             16
            ],
            [
             19,
             17
            ]
           ]
          }
         },
         "source": "openmaptiles",
         "source-layer": "transportation",
         "type": "line"
        },
        {
         "filter": [
          "all",
          [
           "==",
           "$type",
           "LineString"
          ],
          [
           "!in",
           "brunnel",
           "bridge",
           "tunnel"
          ],
          [
           "in",
           "class",
           "minor"
          ],
          [
           "!=",
           "ramp",
           "1"
          ]
         ],
         "id": "road_minor_casing",
         "layout": {
          "line-cap": "round",
          "line-join": "round",
          "visibility": "visible"
         },
         "metadata": {},
         "minzoom": 13,
         "paint": {
          "line-color": "#bbbbbb",
          "line-opacity": {
           "stops": [
            [
             10,
             0
            ],
            [
             12.5,
             1
            ]
           ]
          },
          "line-width": {
           "base": 1.2,
           "stops": [
            [
             13,
             3
            ],
            [
             14,
             5
            ],
            [
             15,
             6
            ],
            [
             16,
             12
            ],
            [
             17,
             13
            ],
            [
             18,
             17
            ]
           ]
          }
         },
         "source": "openmaptiles",
         "source-layer": "transportation",
         "type": "line"
        },
        {
         "filter": [
          "all",
          [
           "!in",
           "brunnel",
           "bridge",
           "tunnel"
          ],
          [
           "in",
           "class",
           "tertiary"
          ],
          [
           "!=",
           "ramp",
           1
          ]
         ],
         "id": "road_tertiary_casing",
         "layout": {
          "line-cap": "round",
          "line-join": "round",
          "visibility": "visible"
         },
         "metadata": {},
         "minzoom": 11,
         "paint": {
          "line-color": "#8f8f8f",
          "line-opacity": 1,
          "line-width": {
           "base": 1.2,
           "stops": [
            [
             11,
             2.5
            ],
            [
             12,
             4
            ],
            [
             13,
             5
            ],
            [
             14,
             9
            ],
            [
             15,
             10
            ],
            [
             16,
             18
            ],
            [
             17,
             21
            ],
            [
             18,
             27
            ]
           ]
          }
         },
         "source": "openmaptiles",
         "source-layer": "transportation",
         "type": "line"
        },
        {
         "filter": [
          "all",
          [
           "!in",
           "brunnel",
           "bridge",
           "tunnel"
          ],
          [
           "in",
           "class",
           "secondary"
          ],
          [
           "==",
           "ramp",
           1
          ]
         ],
         "id": "road_secondary_link_casing",
         "layout": {
          "line-cap": "round",
          "line-join": "round",
          "visibility": "visible"
         },
         "metadata": {},
         "minzoom": 11,
         "paint": {
          "line-color": {
           "stops": [
            [
             11,
             "#9eae23"
            ],
            [
             12,
             "#707d05"
            ]
           ]
          },
          "line-opacity": 1,
          "line-width": {
           "base": 1.2,
           "stops": [
            [
             11,
             3.5
            ],
            [
             12,
             5
            ],
            [
             13,
             5
            ],
            [
             14,
             9
            ],
            [
             15,
             10
            ],
            [
             16,
             18
            ],
            [
             17,
             21
            ],
            [
             18,
             27
            ]
           ]
          }
         },
         "source": "openmaptiles",
         "source-layer": "transportation",
         "type": "line"
        },
        {
         "filter": [
          "all",
          [
           "!in",
           "brunnel",
           "bridge",
           "tunnel"
          ],
          [
           "in",
           "class",
           "secondary"
          ],
          [
           "!=",
           "ramp",
           1
          ]
         ],
         "id": "road_secondary_casing",
         "layout": {
          "line-cap": "round",
          "line-join": "round",
          "visibility": "visible"
         },
         "metadata": {},
         "minzoom": 11,
         "paint": {
          "line-color": {
           "stops": [
            [
             11,
             "#9eae23"
            ],
            [
             12,
             "#707d05"
            ]
           ]
          },
          "line-opacity": 1,
          "line-width": {
           "base": 1.2,
           "stops": [
            [
             11,
             3.5
            ],
            [
             12,
             5
            ],
            [
             13,
             5
            ],
            [
             14,
             9
            ],
            [
             15,
             10
            ],
            [
             16,
             18
            ],
            [
             17,
             21
            ],
            [
             18,
             27
            ]
           ]
          }
         },
         "source": "openmaptiles",
         "source-layer": "transportation",
         "type": "line"
        },
        {
         "filter": [
          "all",
          [
           "!in",
           "brunnel",
           "bridge",
           "tunnel"
          ],
          [
           "!=",
           "ramp",
           1
          ],
          [
           "in",
           "class",
           "trunk"
          ],
          [
           "!=",
           "ramp",
           1
          ]
         ],
         "id": "road_trunk_casing",
         "layout": {
          "line-cap": "butt",
          "line-join": "round",
          "visibility": "visible"
         },
         "metadata": {},
         "minzoom": 11,
         "paint": {
          "line-color": {
           "stops": [
            [
             11,
             "rgba(160, 116, 0, 1)"
            ],
            [
             12,
             "#c84e2f"
            ]
           ]
          },
          "line-opacity": 1,
          "line-width": {
           "base": 1.2,
           "stops": [
            [
             9,
             6
            ],
            [
             11,
             3.5
            ],
            [
             12,
             5
            ],
            [
             13,
             5
            ],
            [
             15,
             10
            ],
            [
             16,
             18
            ],
            [
             17,
             21
            ],
            [
             18,
             27
            ]
           ]
          }
         },
         "source": "openmaptiles",
         "source-layer": "transportation",
         "type": "line"
        },
        {
         "filter": [
          "all",
          [
           "!in",
           "brunnel",
           "bridge",
           "tunnel"
          ],
          [
           "!=",
           "ramp",
           1
          ],
          [
           "in",
           "class",
           "primary"
          ],
          [
           "!=",
           "ramp",
           1
          ]
         ],
         "id": "road_primary_casing",
         "layout": {
          "line-cap": "butt",
          "line-join": "round",
          "visibility": "visible"
         },
         "metadata": {},
         "minzoom": 9,
         "paint": {
          "line-color": {
           "stops": [
            [
             10.9,
             "rgba(255, 250, 234, 0.47)"
            ],
            [
             11,
             "rgba(160, 116, 0, 1)"
            ]
           ]
          },
          "line-opacity": 1,
          "line-width": {
           "base": 1.2,
           "stops": [
            [
             9,
             6
            ],
            [
             11,
             3.5
            ],
            [
             12,
             5
            ],
            [
             13,
             5
            ],
            [
             15,
             10
            ],
            [
             16,
             18
            ],
            [
             17,
             21
            ],
            [
             18,
             27
            ]
           ]
          }
         },
         "source": "openmaptiles",
         "source-layer": "transportation",
         "type": "line"
        },
        {
         "filter": [
          "all",
          [
           "!in",
           "brunnel",
           "bridge",
           "tunnel"
          ],
          [
           "==",
           "class",
           "motorway"
          ],
          [
           "!=",
           "ramp",
           1
          ]
         ],
         "id": "road_motorway_casing",
         "layout": {
          "line-cap": "butt",
          "line-join": "round",
          "visibility": "visible"
         },
         "metadata": {},
         "minzoom": 5,
         "paint": {
          "line-color": {
           "stops": [
            [
             11,
             "#c24e6b"
            ],
            [
             12,
             "#dc2a67"
            ]
           ]
          },
          "line-width": {
           "base": 1.2,
           "stops": [
            [
             5,
             0
            ],
            [
             7,
             1.75
            ],
            [
             18,
             27
            ]
           ]
          }
         },
         "source": "openmaptiles",
         "source-layer": "transportation",
         "type": "line"
        },
        {
         "filter": [
          "all",
          [
           "==",
           "$type",
           "LineString"
          ],
          [
           "==",
           "class",
           "path"
          ],
          [
           "==",
           "subclass",
           "pedestrian"
          ],
          [
           "!=",
           "brunel",
           "tunnel"
          ]
         ],
         "id": "road_pedestrian_casing",
         "layout": {
          "visibility": "visible"
         },
         "paint": {
          "line-color": "#999999",
          "line-width": {
           "stops": [
            [
             13,
             3
            ],
            [
             14,
             5
            ],
            [
             15,
             6
            ],
            [
             16,
             12
            ],
            [
             17,
             13
            ],
            [
             18,
             17
            ]
           ]
          }
         },
         "source": "openmaptiles",
         "source-layer": "transportation",
         "type": "line"
        },
        {
         "filter": [
          "all",
          [
           "==",
           "$type",
           "LineString"
          ],
          [
           "==",
           "class",
           "path"
          ],
          [
           "==",
           "subclass",
           "pedestrian"
          ],
          [
           "!=",
           "brunel",
           "tunnel"
          ]
         ],
         "id": "road_pedestrian",
         "layout": {
          "visibility": "visible"
         },
         "paint": {
          "line-color": "#dddde8",
          "line-width": {
           "stops": [
            [
             13,
             1.9
            ],
            [
             14,
             3.8
            ],
            [
             15,
             4.8
            ],
            [
             16,
             10.4
            ],
            [
             17,
             11.4
            ],
            [
             18,
             15.4
            ]
           ]
          }
         },
         "source": "openmaptiles",
         "source-layer": "transportation",
         "type": "line"
        },
        {
         "filter": [
          "all",
          [
           "==",
           "$type",
           "LineString"
          ],
          [
           "!in",
           "brunnel",
           "bridge",
           "tunnel"
          ],
          [
           "in",
           "class",
           "path"
          ],
          [
           "==",
           "subclass",
           "cycleway"
          ]
         ],
         "id": "road_path_cycleway_casing",
         "layout": {
          "line-join": "round",
          "visibility": "visible"
         },
         "metadata": {},
         "minzoom": 14,
         "paint": {
          "line-color": "rgba(236, 236, 236, 1)",
          "line-opacity": 0.6,
          "line-width": {
           "base": 1.2,
           "stops": [
            [
             14,
             3
            ],
            [
             15,
             3.3
            ],
            [
             17,
             3.3
            ],
            [
             18,
             3.6
            ]
           ]
          }
         },
         "source": "openmaptiles",
         "source-layer": "transportation",
         "type": "line"
        },
        {
         "filter": [
          "all",
          [
           "==",
           "$type",
           "LineString"
          ],
          [
           "!in",
           "brunnel",
           "bridge",
           "tunnel"
          ],
          [
           "in",
           "class",
           "path"
          ],
          [
           "in",
           "subclass",
           "footway",
           "path"
          ]
         ],
         "id": "road_path_footway_casing",
         "layout": {
          "line-join": "round",
          "visibility": "visible"
         },
         "metadata": {},
         "minzoom": 15,
         "paint": {
          "line-color": "rgba(255, 255, 255, 0.8)",
          "line-width": {
           "base": 1.2,
           "stops": [
            [
             14,
             2.7
            ],
            [
             15,
             3
            ],
            [
             17,
             3.3
            ],
            [
             18,
             3.6
            ]
           ]
          }
         },
         "source": "openmaptiles",
         "source-layer": "transportation",
         "type": "line"
        },
        {
         "filter": [
          "all",
          [
           "==",
           "$type",
           "LineString"
          ],
          [
           "!in",
           "brunnel",
           "bridge",
           "tunnel"
          ],
          [
           "in",
           "class",
           "path"
          ],
          [
           "==",
           "subclass",
           "cycleway"
          ]
         ],
         "id": "road_path_cycleway",
         "layout": {
          "line-join": "round",
          "visibility": "visible"
         },
         "metadata": {},
         "minzoom": 12,
         "paint": {
          "line-color": "#0000ff",
          "line-dasharray": [
           2,
           2
          ],
          "line-width": {
           "base": 1.2,
           "stops": [
            [
             12,
             0.7
            ],
            [
             14,
             0.9
            ],
            [
             17,
             1
            ],
            [
             18,
             1.3
            ]
           ]
          }
         },
         "source": "openmaptiles",
         "source-layer": "transportation",
         "type": "line"
        },
        {
         "filter": [
          "all",
          [
           "==",
           "$type",
           "LineString"
          ],
          [
           "!in",
           "brunnel",
           "bridge",
           "tunnel"
          ],
          [
           "in",
           "class",
           "path"
          ],
          [
           "in",
           "subclass",
           "footway",
           "path"
          ]
         ],
         "id": "road_path_footway",
         "layout": {
          "line-join": "round",
          "visibility": "visible"
         },
         "metadata": {},
         "minzoom": 13,
         "paint": {
          "line-color": "#fa8072",
          "line-dasharray": [
           2,
           1
          ],
          "line-width": {
           "base": 1.2,
           "stops": [
            [
             13,
             0.6
            ],
            [
             14,
             1
            ],
            [
             15,
             1.3
            ],
            [
             17,
             1.3
            ],
            [
             18,
             1.6
            ]
           ]
          }
         },
         "source": "openmaptiles",
         "source-layer": "transportation",
         "type": "line"
        },
        {
         "filter": [
          "all",
          [
           "!in",
           "brunnel",
           "bridge",
           "tunnel"
          ],
          [
           "==",
           "ramp",
           1
          ],
          [
           "in",
           "class",
           "primary"
          ]
         ],
         "id": "road_primary_link",
         "layout": {
          "line-cap": "round",
          "line-join": "round",
          "visibility": "visible"
         },
         "metadata": {},
         "paint": {
          "line-color": "#fcd6a4",
          "line-width": {
           "base": 1.2,
           "stops": [
            [
             11,
             1.5
            ],
            [
             12,
             3
            ],
            [
             13,
             3
            ],
            [
             14,
             6.6
            ],
            [
             16,
             10.4
            ],
            [
             17,
             11.4
            ],
            [
             18,
             14.4
            ]
           ]
          }
         },
         "source": "openmaptiles",
         "source-layer": "transportation",
         "type": "line"
        },
        {
         "filter": [
          "all",
          [
           "!in",
           "brunnel",
           "bridge",
           "tunnel"
          ],
          [
           "==",
           "ramp",
           1
          ],
          [
           "in",
           "class",
           "trunk"
          ]
         ],
         "id": "road_trunk_link",
         "layout": {
          "line-cap": "round",
          "line-join": "round",
          "visibility": "visible"
         },
         "metadata": {},
         "minzoom": 11,
         "paint": {
          "line-color": {
           "stops": [
            [
             6,
             "#fdb59e"
            ],
            [
             11,
             "#f9b29c"
            ]
           ]
          },
          "line-width": {
           "base": 1.2,
           "stops": [
            [
             11,
             0.9
            ],
            [
             12,
             3
            ],
            [
             14,
             6.6
            ],
            [
             16,
             10.4
            ],
            [
             17,
             11.4
            ],
            [
             18,
             14.4
            ]
           ]
          }
         },
         "source": "openmaptiles",
         "source-layer": "transportation",
         "type": "line"
        },
        {
         "filter": [
          "all",
          [
           "!in",
           "brunnel",
           "bridge",
           "tunnel"
          ],
          [
           "==",
           "class",
           "motorway"
          ],
          [
           "==",
           "ramp",
           1
          ]
         ],
         "id": "road_motorway_link",
         "layout": {
          "line-cap": "round",
          "line-join": "round",
          "visibility": "visible"
         },
         "metadata": {},
         "minzoom": 8,
         "paint": {
          "line-color": {
           "stops": [
            [
             6,
             "#e66e89"
            ],
            [
             10,
             "#e892a2"
            ]
           ]
          },
          "line-width": {
           "base": 1.2,
           "stops": [
            [
             8,
             0.7
            ],
            [
             11,
             0.9
            ],
            [
             12,
             3
            ],
            [
             14,
             6.6
            ],
            [
             16,
             10.4
            ],
            [
             17,
             11.4
            ],
            [
             18,
             14.4
            ],
            [
             19,
             15.4
            ]
           ]
          }
         },
         "source": "openmaptiles",
         "source-layer": "transportation",
         "type": "line"
        },
        {
         "filter": [
          "all",
          [
           "!in",
           "brunnel",
           "bridge",
           "tunnel"
          ],
          [
           "in",
           "class",
           "service",
           "track"
          ]
         ],
         "id": "road_service_track",
         "layout": {
          "line-cap": "round",
          "line-join": "round",
          "visibility": "visible"
         },
         "metadata": {},
         "minzoom": 12,
         "paint": {
          "line-color": "#fff",
          "line-width": {
           "base": 1.2,
           "stops": [
            [
             13,
             0.9
            ],
            [
             15,
             2.3
            ],
            [
             15,
             0.5
            ],
            [
             16,
             5.4
            ],
            [
             17,
             6.9
            ],
            [
             18,
             9.4
            ],
            [
             19,
             10.4
            ]
           ]
          }
         },
         "source": "openmaptiles",
         "source-layer": "transportation",
         "type": "line"
        },
        {
         "filter": [
          "all",
          [
           "!in",
           "brunnel",
           "bridge",
           "tunnel"
          ],
          [
           "in",
           "class",
           "service_construction",
           "track_construction"
          ]
         ],
         "id": "road_service_track_construction",
         "layout": {
          "line-cap": "round",
          "line-join": "round",
          "visibility": "visible"
         },
         "metadata": {},
         "minzoom": 12,
         "paint": {
          "line-color": "#fff",
          "line-dasharray": [
           2,
           2
          ],
          "line-width": {
           "base": 1.2,
           "stops": [
            [
             13,
             0.9
            ],
            [
             15,
             2.3
            ],
            [
             15,
             0.5
            ],
            [
             16,
             5.4
            ],
            [
             17,
             6.9
            ],
            [
             18,
             9.4
            ],
            [
             19,
             10.4
            ]
           ]
          }
         },
         "source": "openmaptiles",
         "source-layer": "transportation",
         "type": "line"
        },
        {
         "filter": [
          "all",
          [
           "==",
           [
            "geometry-type"
           ],
           "LineString"
          ],
          [
           "all",
           [
            "match",
            [
             "get",
             "brunnel"
            ],
            [
             "bridge",
             "tunnel"
            ],
            false,
            true
           ],
           [
            "match",
            [
             "get",
             "class"
            ],
            [
             "minor"
            ],
            true,
            false
           ]
          ]
         ],
         "id": "road_minor",
         "layout": {
          "line-cap": "round",
          "line-join": "round",
          "visibility": "visible"
         },
         "metadata": {},
         "minzoom": 12,
         "paint": {
          "line-color": {
           "stops": [
            [
             12,
             "#d3d3d3"
            ],
            [
             13,
             "rgba(255, 255, 255, 1)"
            ]
           ]
          },
          "line-opacity": 1,
          "line-width": {
           "base": 1.2,
           "stops": [
            [
             12,
             1
            ],
            [
             13,
             1.9
            ],
            [
             14,
             3.8
            ],
            [
             15,
             4.8
            ],
            [
             16,
             10.4
            ],
            [
             17,
             11.4
            ],
            [
             18,
             15.4
            ]
           ]
          }
         },
         "source": "openmaptiles",
         "source-layer": "transportation",
         "type": "line"
        },
        {
         "filter": [
          "all",
          [
           "==",
           [
            "geometry-type"
           ],
           "LineString"
          ],
          [
           "all",
           [
            "match",
            [
             "get",
             "brunnel"
            ],
            [
             "bridge",
             "tunnel"
            ],
            false,
            true
           ],
           [
            "match",
            [
             "get",
             "class"
            ],
            [
             "minor_construction"
            ],
            true,
            false
           ]
          ]
         ],
         "id": "road_minor_construction",
         "layout": {
          "line-cap": "round",
          "line-join": "round",
          "visibility": "visible"
         },
         "metadata": {},
         "minzoom": 12,
         "paint": {
          "line-color": {
           "stops": [
            [
             12,
             "#d3d3d3"
            ],
            [
             13,
             "rgba(255, 255, 255, 1)"
            ]
           ]
          },
          "line-dasharray": [
           2,
           2
          ],
          "line-opacity": 1,
          "line-width": {
           "base": 1.2,
           "stops": [
            [
             12,
             1
            ],
            [
             13,
             1.9
            ],
            [
             14,
             3.8
            ],
            [
             15,
             4.8
            ],
            [
             16,
             10.4
            ],
            [
             17,
             11.4
            ],
            [
             18,
             15.4
            ]
           ]
          }
         },
         "source": "openmaptiles",
         "source-layer": "transportation",
         "type": "line"
        },
        {
         "filter": [
          "all",
          [
           "!in",
           "brunnel",
           "bridge",
           "tunnel"
          ],
          [
           "in",
           "class",
           "secondary"
          ]
         ],
         "id": "road_secondary",
         "layout": {
          "line-cap": "round",
          "line-join": "round",
          "visibility": "visible"
         },
         "metadata": {},
         "minzoom": 8,
         "paint": {
          "line-color": {
           "stops": [
            [
             10.5,
             "#bbbbbb"
            ],
            [
             10.6,
             "#f7fabf"
            ]
           ]
          },
          "line-width": {
           "base": 1.2,
           "stops": [
            [
             8,
             1
            ],
            [
             9,
             1.1
            ],
            [
             10,
             1.1
            ],
            [
             11,
             2.9
            ],
            [
             12,
             4.3
            ],
            [
             13,
             4.3
            ],
            [
             14,
             7.6
            ],
            [
             15,
             8.6
            ],
            [
             16,
             16
            ],
            [
             17,
             19
            ],
            [
             18,
             25
            ]
           ]
          }
         },
         "source": "openmaptiles",
         "source-layer": "transportation",
         "type": "line"
        },
        {
         "filter": [
          "all",
          [
           "!in",
           "brunnel",
           "bridge",
           "tunnel"
          ],
          [
           "in",
           "class",
           "tertiary"
          ]
         ],
         "id": "road_tertiary",
         "layout": {
          "line-cap": "round",
          "line-join": "round",
          "visibility": "visible"
         },
         "metadata": {},
         "minzoom": 9,
         "paint": {
          "line-color": {
           "stops": [
            [
             10.5,
             "#bbbbbb"
            ],
            [
             10.6,
             "#FFFFFF"
            ]
           ]
          },
          "line-width": {
           "base": 1.2,
           "stops": [
            [
             9,
             0.7
            ],
            [
             10,
             0.7
            ],
            [
             11,
             1.9
            ],
            [
             12,
             3
            ],
            [
             13,
             3.9
            ],
            [
             14,
             7.8
            ],
            [
             15,
             8.8
            ],
            [
             16,
             16.4
            ],
            [
             17,
             19.4
            ],
            [
             18,
             25.4
            ]
           ]
          }
         },
         "source": "openmaptiles",
         "source-layer": "transportation",
         "type": "line"
        },
        {
         "filter": [
          "all",
          [
           "!in",
           "brunnel",
           "bridge",
           "tunnel"
          ],
          [
           "in",
           "class",
           "tertiary_construction"
          ]
         ],
         "id": "road_tertiary_construction",
         "layout": {
          "line-cap": "round",
          "line-join": "round",
          "visibility": "visible"
         },
         "metadata": {},
         "minzoom": 9,
         "paint": {
          "line-color": {
           "stops": [
            [
             10.5,
             "#bbbbbb"
            ],
            [
             10.6,
             "#fff"
            ]
           ]
          },
          "line-dasharray": [
           2,
           2
          ],
          "line-width": {
           "base": 1.2,
           "stops": [
            [
             9,
             0.7
            ],
            [
             11,
             1.9
            ],
            [
             12,
             3
            ],
            [
             13,
             3.9
            ],
            [
             14,
             7.8
            ],
            [
             15,
             8.8
            ],
            [
             16,
             16.4
            ],
            [
             17,
             19.4
            ],
            [
             18,
             25.4
            ]
           ]
          }
         },
         "source": "openmaptiles",
         "source-layer": "transportation",
         "type": "line"
        },
        {
         "filter": [
          "all",
          [
           "!in",
           "brunnel",
           "bridge",
           "tunnel"
          ],
          [
           "in",
           "class",
           "secondary_construction"
          ]
         ],
         "id": "road_secondary_construction",
         "layout": {
          "line-cap": "round",
          "line-join": "round",
          "visibility": "visible"
         },
         "metadata": {},
         "minzoom": 8,
         "paint": {
          "line-color": {
           "stops": [
            [
             10.5,
             "#bbbbbb"
            ],
            [
             10.6,
             "#f7fabf"
            ]
           ]
          },
          "line-dasharray": [
           2,
           2
          ],
          "line-width": {
           "base": 1.2,
           "stops": [
            [
             8,
             1
            ],
            [
             9,
             1.1
            ],
            [
             10,
             1.1
            ],
            [
             11,
             2.9
            ],
            [
             12,
             4.3
            ],
            [
             13,
             4.3
            ],
            [
             14,
             7.6
            ],
            [
             15,
             8.6
            ],
            [
             16,
             16
            ],
            [
             17,
             19
            ],
            [
             18,
             25
            ]
           ]
          }
         },
         "source": "openmaptiles",
         "source-layer": "transportation",
         "type": "line"
        },
        {
         "filter": [
          "all",
          [
           "!in",
           "brunnel",
           "bridge",
           "tunnel"
          ],
          [
           "!=",
           "ramp",
           1
          ],
          [
           "in",
           "class",
           "primary_construction"
          ]
         ],
         "id": "road_primary_construction",
         "layout": {
          "line-cap": "round",
          "line-join": "round",
          "visibility": "visible"
         },
         "metadata": {},
         "minzoom": 7,
         "paint": {
          "line-color": {
           "stops": [
            [
             7,
             "#f3c380"
            ],
            [
             11,
             "#fcd6a4"
            ]
           ]
          },
          "line-width": {
           "base": 1.2,
           "stops": [
            [
             7,
             1
            ],
            [
             8,
             1.4
            ],
            [
             9,
             1.8
            ],
            [
             10,
             1.8
            ],
            [
             11,
             2.5
            ],
            [
             12,
             4
            ],
            [
             13,
             4
            ],
            [
             15,
             8.6
            ],
            [
             16,
             16
            ],
            [
             17,
             19
            ],
            [
             18,
             25
            ]
           ]
          }
         },
         "source": "openmaptiles",
         "source-layer": "transportation",
         "type": "line"
        },
        {
         "filter": [
          "all",
          [
           "!in",
           "brunnel",
           "bridge",
           "tunnel"
          ],
          [
           "!=",
           "ramp",
           1
          ],
          [
           "in",
           "class",
           "primary"
          ]
         ],
         "id": "road_primary",
         "layout": {
          "line-cap": "round",
          "line-join": "round",
          "visibility": "visible"
         },
         "metadata": {},
         "minzoom": 7,
         "paint": {
          "line-color": {
           "stops": [
            [
             7,
             "#f3c380"
            ],
            [
             11,
             "#fcd6a4"
            ]
           ]
          },
          "line-width": {
           "base": 1.2,
           "stops": [
            [
             7,
             1
            ],
            [
             8,
             1.4
            ],
            [
             9,
             1.8
            ],
            [
             10,
             1.8
            ],
            [
             11,
             2.5
            ],
            [
             12,
             4
            ],
            [
             13,
             4
            ],
            [
             15,
             8.6
            ],
            [
             16,
             16
            ],
            [
             17,
             19
            ],
            [
             18,
             25
            ]
           ]
          }
         },
         "source": "openmaptiles",
         "source-layer": "transportation",
         "type": "line"
        },
        {
         "filter": [
          "all",
          [
           "!in",
           "brunnel",
           "bridge",
           "tunnel"
          ],
          [
           "!=",
           "ramp",
           1
          ],
          [
           "in",
           "class",
           "trunk"
          ]
         ],
         "id": "road_trunk",
         "layout": {
          "line-cap": "round",
          "line-join": "round",
          "visibility": "visible"
         },
         "metadata": {},
         "minzoom": 7,
         "paint": {
          "line-color": {
           "stops": [
            [
             5,
             "#fdb59e"
            ],
            [
             11,
             "#f9b29c"
            ]
           ]
          },
          "line-width": {
           "base": 1.2,
           "stops": [
            [
             7,
             1
            ],
            [
             8,
             1.4
            ],
            [
             9,
             1.8
            ],
            [
             10,
             1.8
            ],
            [
             11,
             2.5
            ],
            [
             12,
             4
            ],
            [
             13,
             4
            ],
            [
             15,
             8.6
            ],
            [
             16,
             16
            ],
            [
             17,
             19
            ],
            [
             18,
             25
            ]
           ]
          }
         },
         "source": "openmaptiles",
         "source-layer": "transportation",
         "type": "line"
        },
        {
         "filter": [
          "all",
          [
           "!in",
           "brunnel",
           "bridge",
           "tunnel"
          ],
          [
           "!=",
           "ramp",
           1
          ],
          [
           "in",
           "class",
           "trunk_construction"
          ]
         ],
         "id": "road_trunk_construction",
         "layout": {
          "line-cap": "round",
          "line-join": "round",
          "visibility": "visible"
         },
         "metadata": {},
         "minzoom": 7,
         "paint": {
          "line-color": {
           "stops": [
            [
             6,
             "#fdb59e"
            ],
            [
             11,
             "#f9b29c"
            ]
           ]
          },
          "line-dasharray": [
           2,
           2
          ],
          "line-width": {
           "base": 1.2,
           "stops": [
            [
             7,
             1
            ],
            [
             8,
             1.4
            ],
            [
             9,
             1.8
            ],
            [
             10,
             1.8
            ],
            [
             11,
             2.5
            ],
            [
             12,
             4
            ],
            [
             13,
             4
            ],
            [
             15,
             8.6
            ],
            [
             16,
             16
            ],
            [
             17,
             19
            ],
            [
             18,
             25
            ]
           ]
          }
         },
         "source": "openmaptiles",
         "source-layer": "transportation",
         "type": "line"
        },
        {
         "filter": [
          "all",
          [
           "!in",
           "brunnel",
           "bridge",
           "tunnel"
          ],
          [
           "==",
           "class",
           "motorway"
          ],
          [
           "!=",
           "ramp",
           1
          ]
         ],
         "id": "road_motorway",
         "layout": {
          "line-cap": "round",
          "line-join": "round",
          "visibility": "visible"
         },
         "metadata": {},
         "minzoom": 5,
         "paint": {
          "line-color": {
           "stops": [
            [
             6,
             "#e66e89"
            ],
            [
             10,
             "#e892a2"
            ]
           ]
          },
          "line-width": {
           "base": 1.2,
           "stops": [
            [
             5,
             0
            ],
            [
             7,
             1
            ],
            [
             18,
             25
            ]
           ]
          }
         },
         "source": "openmaptiles",
         "source-layer": "transportation",
         "type": "line"
        },
        {
         "filter": [
          "all",
          [
           "!in",
           "brunnel",
           "bridge",
           "tunnel"
          ],
          [
           "==",
           "class",
           "motorway_construction"
          ],
          [
           "!=",
           "ramp",
           1
          ]
         ],
         "id": "road_motorway_construction",
         "layout": {
          "line-cap": "round",
          "line-join": "round",
          "visibility": "visible"
         },
         "metadata": {},
         "minzoom": 5,
         "paint": {
          "line-color": {
           "base": 1,
           "stops": [
            [
             6,
             "#e892a2"
            ],
            [
             10,
             "#e66e89"
            ]
           ]
          },
          "line-dasharray": [
           2,
           2
          ],
          "line-width": {
           "base": 1.2,
           "stops": [
            [
             5,
             0
            ],
            [
             7,
             1
            ],
            [
             20,
             18
            ]
           ]
          }
         },
         "source": "openmaptiles",
         "source-layer": "transportation",
         "type": "line"
        },
        {
         "filter": [
          "all",
          [
           "==",
           "class",
           "transit"
          ],
          [
           "==",
           "subclass",
           "subway"
          ]
         ],
         "id": "rail_subway",
         "layout": {
          "visibility": "visible"
         },
         "metadata": {},
         "paint": {
          "line-color": "#81817f",
          "line-dasharray": [
           1,
           1.2
          ],
          "line-opacity": 1,
          "line-width": {
           "stops": [
            [
             14,
             1
            ],
            [
             18,
             3
            ]
           ]
          }
         },
         "source": "openmaptiles",
         "source-layer": "transportation",
         "type": "line"
        },
        {
         "filter": [
          "all",
          [
           "!in",
           "brunnel",
           "bridge",
           "tunnel"
          ],
          [
           "in",
           "class",
           "rail"
          ]
         ],
         "id": "rail_major",
         "layout": {
          "visibility": "visible"
         },
         "metadata": {},
         "paint": {
          "line-color": {
           "stops": [
            [
             8,
             " #787878"
            ],
            [
             14,
             "rgba(129, 129, 129, 1)"
            ]
           ]
          },
          "line-width": {
           "base": 1.4,
           "stops": [
            [
             8,
             0.8
            ],
            [
             11,
             1.5
            ],
            [
             15,
             3
            ],
            [
             20,
             5.4
            ]
           ]
          }
         },
         "source": "openmaptiles",
         "source-layer": "transportation",
         "type": "line"
        },
        {
         "filter": [
          "all",
          [
           "!in",
           "brunnel",
           "bridge",
           "tunnel"
          ],
          [
           "in",
           "subclass",
           "tram",
           "light_rail"
          ]
         ],
         "id": "rail_minor",
         "layout": {
          "visibility": "visible"
         },
         "metadata": {},
         "paint": {
          "line-color": "rgba(129, 129, 129, 1)",
          "line-width": {
           "base": 1.4,
           "stops": [
            [
             12,
             0.8
            ],
            [
             15,
             1.2
            ],
            [
             20,
             4
            ]
           ]
          }
         },
         "source": "openmaptiles",
         "source-layer": "transportation",
         "type": "line"
        },
        {
         "filter": [
          "all",
          [
           "!in",
           "brunnel",
           "bridge",
           "tunnel"
          ],
          [
           "==",
           "class",
           "rail"
          ]
         ],
         "id": "rail_major_hatching",
         "layout": {
          "visibility": "visible"
         },
         "metadata": {},
         "minzoom": 8,
         "paint": {
          "line-color": {
           "stops": [
            [
             8,
             "rgba(255, 255, 255, 0.44)"
            ],
            [
             10,
             "rgba(242, 242, 242, 0.44)"
            ]
           ]
          },
          "line-dasharray": [
           2,
           2
          ],
          "line-width": {
           "base": 1.4,
           "stops": [
            [
             9,
             0
            ],
            [
             15,
             2
            ],
            [
             20,
             4
            ]
           ]
          }
         },
         "source": "openmaptiles",
         "source-layer": "transportation",
         "type": "line"
        },
        {
         "filter": [
          "all",
          [
           "!in",
           "brunnel",
           "bridge",
           "tunnel"
          ],
          [
           "in",
           "subclass",
           "tram",
           "light_rail"
          ]
         ],
         "id": "rail_minor_hatching",
         "layout": {
          "visibility": "visible"
         },
         "metadata": {},
         "paint": {
          "line-color": "#bbb",
          "line-dasharray": [
           0.2,
           4
          ],
          "line-width": {
           "base": 1.4,
           "stops": [
            [
             14.5,
             0
            ],
            [
             15,
             2
            ],
            [
             20,
             6
            ]
           ]
          }
         },
         "source": "openmaptiles",
         "source-layer": "transportation",
         "type": "line"
        },
        {
         "filter": [
          "all",
          [
           "==",
           "$type",
           "LineString"
          ],
          [
           "==",
           "brunnel",
           "bridge"
          ]
         ],
         "id": "waterway-bridge-case",
         "layout": {
          "line-cap": "butt",
          "line-join": "miter"
         },
         "paint": {
          "line-color": "#bbbbbb",
          "line-gap-width": {
           "base": 1.3,
           "stops": [
            [
             13,
             0.5
            ],
            [
             20,
             6
            ]
           ]
          },
          "line-width": {
           "base": 1.6,
           "stops": [
            [
             12,
             0.5
            ],
            [
             20,
             5
            ]
           ]
          }
         },
         "source": "openmaptiles",
         "source-layer": "waterway",
         "type": "line"
        },
        {
         "filter": [
          "all",
          [
           "==",
           "$type",
           "LineString"
          ],
          [
           "==",
           "brunnel",
           "bridge"
          ]
         ],
         "id": "waterway-bridge",
         "layout": {
          "line-cap": "round",
          "line-join": "round"
         },
         "paint": {
          "line-color": "rgba(134, 204, 250, 1)",
          "line-width": {
           "base": 1.3,
           "stops": [
            [
             13,
             0.5
            ],
            [
             20,
             6
            ]
           ]
          }
         },
         "source": "openmaptiles",
         "source-layer": "waterway",
         "type": "line"
        },
        {
         "filter": [
          "all",
          [
           "==",
           "class",
           "motorway"
          ],
          [
           "==",
           "ramp",
           1
          ],
          [
           "==",
           "brunnel",
           "bridge"
          ]
         ],
         "id": "bridge_motorway_link_casing",
         "layout": {
          "line-join": "round",
          "visibility": "visible"
         },
         "metadata": {},
         "paint": {
          "line-color": {
           "stops": [
            [
             11,
             "#c24e6b"
            ],
            [
             12,
             "#dc2a67"
            ]
           ]
          },
          "line-opacity": 1,
          "line-width": {
           "base": 1.2,
           "stops": [
            [
             12,
             4
            ],
            [
             14,
             7
            ],
            [
             18,
             16
            ],
            [
             19,
             17
            ]
           ]
          }
         },
         "source": "openmaptiles",
         "source-layer": "transportation",
         "type": "line"
        },
        {
         "filter": [
          "all",
          [
           "==",
           "brunnel",
           "bridge"
          ],
          [
           "in",
           "class",
           "service",
           "track"
          ]
         ],
         "id": "bridge_service_track_casing",
         "layout": {
          "line-join": "round"
         },
         "metadata": {},
         "paint": {
          "line-color": "#cfcdca",
          "line-width": {
           "base": 1.2,
           "stops": [
            [
             15,
             1
            ],
            [
             16,
             4
            ],
            [
             20,
             11
            ]
           ]
          }
         },
         "source": "openmaptiles",
         "source-layer": "transportation",
         "type": "line"
        },
        {
         "filter": [
          "all",
          [
           "==",
           "class",
           "link"
          ],
          [
           "==",
           "brunnel",
           "bridge"
          ]
         ],
         "id": "bridge_link_casing",
         "layout": {
          "line-join": "round"
         },
         "metadata": {},
         "paint": {
          "line-color": "#e9ac77",
          "line-opacity": 1,
          "line-width": {
           "base": 1.2,
           "stops": [
            [
             12,
             1
            ],
            [
             13,
             3
            ],
            [
             14,
             4
            ],
            [
             20,
             15
            ]
           ]
          }
         },
         "source": "openmaptiles",
         "source-layer": "transportation",
         "type": "line"
        },
        {
         "filter": [
          "all",
          [
           "==",
           "brunnel",
           "bridge"
          ],
          [
           "in",
           "class",
           "street",
           "street_limited"
          ]
         ],
         "id": "bridge_street_casing",
         "layout": {
          "line-join": "round"
         },
         "metadata": {},
         "paint": {
          "line-color": "hsl(36, 6%, 74%)",
          "line-opacity": {
           "stops": [
            [
             12,
             0
            ],
            [
             12.5,
             1
            ]
           ]
          },
          "line-width": {
           "base": 1.2,
           "stops": [
            [
             12,
             0.5
            ],
            [
             13,
             1
            ],
            [
             14,
             4
            ],
            [
             20,
             25
            ]
           ]
          }
         },
         "source": "openmaptiles",
         "source-layer": "transportation",
         "type": "line"
        },
        {
         "filter": [
          "all",
          [
           "==",
           "$type",
           "LineString"
          ],
          [
           "==",
           "brunnel",
           "bridge"
          ],
          [
           "in",
           "class",
           "path"
          ],
          [
           "==",
           "subclass",
           "cycleway"
          ]
         ],
         "id": "bridge_path_cycleway_casing",
         "layout": {
          "line-join": "miter",
          "visibility": "visible"
         },
         "metadata": {},
         "minzoom": 13,
         "paint": {
          "line-color": "rgba(255, 255, 255, 1)",
          "line-dasharray": [
           1,
           0
          ],
          "line-width": {
           "base": 1.2,
           "stops": [
            [
             13,
             2.7
            ],
            [
             14,
             3
            ],
            [
             15,
             3.3
            ],
            [
             17,
             3.3
            ],
            [
             18,
             3.6
            ]
           ]
          }
         },
         "source": "openmaptiles",
         "source-layer": "transportation",
         "type": "line"
        },
        {
         "filter": [
          "all",
          [
           "==",
           "$type",
           "LineString"
          ],
          [
           "==",
           "brunnel",
           "bridge"
          ],
          [
           "in",
           "class",
           "path"
          ],
          [
           "==",
           "subclass",
           "footway"
          ]
         ],
         "id": "bridge_path_footway_casing",
         "layout": {
          "line-join": "miter",
          "visibility": "visible"
         },
         "metadata": {},
         "minzoom": 13,
         "paint": {
          "line-color": "rgba(255, 255, 255, 1)",
          "line-dasharray": [
           1,
           0
          ],
          "line-width": {
           "base": 1.2,
           "stops": [
            [
             13,
             2.7
            ],
            [
             14,
             3
            ],
            [
             15,
             3.3
            ],
            [
             17,
             3.3
            ],
            [
             18,
             3.6
            ]
           ]
          }
         },
         "source": "openmaptiles",
         "source-layer": "transportation",
         "type": "line"
        },
        {
         "filter": [
          "all",
          [
           "==",
           "brunnel",
           "bridge"
          ],
          [
           "in",
           "class",
           "secondary",
           "tertiary"
          ]
         ],
         "id": "bridge_secondary_casing",
         "layout": {
          "line-join": "round"
         },
         "metadata": {},
         "minzoom": 12,
         "paint": {
          "line-color": "#000000",
          "line-opacity": 1,
          "line-width": {
           "base": 1.2,
           "stops": [
            [
             12,
             5
            ],
            [
             13,
             5
            ],
            [
             14,
             9
            ],
            [
             15,
             10
            ],
            [
             16,
             18
            ],
            [
             17,
             21
            ],
            [
             18,
             27
            ]
           ]
          }
         },
         "source": "openmaptiles",
         "source-layer": "transportation",
         "type": "line"
        },
        {
         "filter": [
          "all",
          [
           "==",
           "brunnel",
           "bridge"
          ],
          [
           "in",
           "class",
           "secondary",
           "tertiary"
          ]
         ],
         "id": "bridge_tertiary_casing",
         "layout": {
          "line-join": "round"
         },
         "metadata": {},
         "paint": {
          "line-color": "rgba(195, 189, 187, 1)",
          "line-opacity": 1,
          "line-width": {
           "base": 1.2,
           "stops": [
            [
             8,
             1.5
            ],
            [
             20,
             17
            ]
           ]
          }
         },
         "source": "openmaptiles",
         "source-layer": "transportation",
         "type": "line"
        },
        {
         "filter": [
          "all",
          [
           "==",
           "brunnel",
           "bridge"
          ],
          [
           "in",
           "class",
           "trunk"
          ]
         ],
         "id": "bridge_trunk_casing",
         "layout": {
          "line-join": "round"
         },
         "metadata": {},
         "minzoom": 11,
         "paint": {
          "line-color": {
           "stops": [
            [
             11,
             "#cf6649"
            ],
            [
             12,
             "#c84e2f"
            ]
           ]
          },
          "line-width": {
           "base": 1.2,
           "stops": [
            [
             11,
             3.5
            ],
            [
             12,
             6
            ],
            [
             15,
             10
            ],
            [
             16,
             18
            ],
            [
             17,
             21
            ],
            [
             18,
             27
            ]
           ]
          }
         },
         "source": "openmaptiles",
         "source-layer": "transportation",
         "type": "line"
        },
        {
         "filter": [
          "all",
          [
           "==",
           "brunnel",
           "bridge"
          ],
          [
           "in",
           "class",
           "primary"
          ]
         ],
         "id": "bridge_primary_casing",
         "layout": {
          "line-join": "round"
         },
         "metadata": {},
         "minzoom": 12,
         "paint": {
          "line-color": "#000000",
          "line-width": {
           "base": 1.2,
           "stops": [
            [
             12,
             5
            ],
            [
             13,
             5
            ],
            [
             15,
             10
            ],
            [
             16,
             18
            ],
            [
             17,
             21
            ],
            [
             18,
             27
            ]
           ]
          }
         },
         "source": "openmaptiles",
         "source-layer": "transportation",
         "type": "line"
        },
        {
         "filter": [
          "all",
          [
           "==",
           "class",
           "motorway"
          ],
          [
           "==",
           "brunnel",
           "bridge"
          ],
          [
           "!=",
           "ramp",
           1
          ]
         ],
         "id": "bridge_motorway_casing",
         "layout": {
          "line-join": "round",
          "visibility": "visible"
         },
         "metadata": {},
         "paint": {
          "line-color": "#000000",
          "line-width": {
           "base": 1.2,
           "stops": [
            [
             5,
             0
            ],
            [
             7,
             1.75
            ],
            [
             18,
             27
            ]
           ]
          }
         },
         "source": "openmaptiles",
         "source-layer": "transportation",
         "type": "line"
        },
        {
         "filter": [
          "all",
          [
           "==",
           "$type",
           "LineString"
          ],
          [
           "==",
           "brunnel",
           "bridge"
          ],
          [
           "in",
           "class",
           "path"
          ],
          [
           "==",
           "subclass",
           "cycleway"
          ]
         ],
         "id": "bridge_path_cycleway",
         "metadata": {},
         "minzoom": 13,
         "paint": {
          "line-color": "#0000ff",
          "line-dasharray": [
           2,
           2
          ],
          "line-width": {
           "base": 1.2,
           "stops": [
            [
             13,
             0.8
            ],
            [
             14,
             1
            ],
            [
             15,
             1.3
            ],
            [
             17,
             1.3
            ],
            [
             18,
             1.6
            ]
           ]
          }
         },
         "source": "openmaptiles",
         "source-layer": "transportation",
         "type": "line"
        },
        {
         "filter": [
          "all",
          [
           "==",
           "$type",
           "LineString"
          ],
          [
           "==",
           "brunnel",
           "bridge"
          ],
          [
           "in",
           "class",
           "path"
          ],
          [
           "==",
           "subclass",
           "footway"
          ]
         ],
         "id": "bridge_path_footway",
         "metadata": {},
         "minzoom": 13,
         "paint": {
          "line-color": "#fa8072",
          "line-dasharray": [
           2,
           2
          ],
          "line-width": {
           "base": 1.2,
           "stops": [
            [
             13,
             0.8
            ],
            [
             14,
             1
            ],
            [
             15,
             1.3
            ],
            [
             17,
             1.3
            ],
            [
             18,
             1.6
            ]
           ]
          }
         },
         "source": "openmaptiles",
         "source-layer": "transportation",
         "type": "line"
        },
        {
         "filter": [
          "all",
          [
           "==",
           "class",
           "motorway"
          ],
          [
           "==",
           "ramp",
           1
          ],
          [
           "==",
           "brunnel",
           "bridge"
          ]
         ],
         "id": "bridge_motorway_link",
         "layout": {
          "line-join": "round",
          "visibility": "visible"
         },
         "metadata": {},
         "paint": {
          "line-color": {
           "stops": [
            [
             6,
             "#e66e89"
            ],
            [
             10,
             "#e892a2"
            ]
           ]
          },
          "line-width": {
           "base": 1.2,
           "stops": [
            [
             12,
             3
            ],
            [
             14,
             6
            ],
            [
             18,
             15
            ],
            [
             19,
             16
            ]
           ]
          }
         },
         "source": "openmaptiles",
         "source-layer": "transportation",
         "type": "line"
        },
        {
         "filter": [
          "all",
          [
           "==",
           "brunnel",
           "bridge"
          ],
          [
           "in",
           "class",
           "service",
           "track"
          ]
         ],
         "id": "bridge_service_track",
         "layout": {
          "line-join": "round",
          "visibility": "visible"
         },
         "metadata": {},
         "paint": {
          "line-color": "#fff",
          "line-width": {
           "base": 1.2,
           "stops": [
            [
             15.5,
             0
            ],
            [
             16,
             2
            ],
            [
             20,
             7.5
            ]
           ]
          }
         },
         "source": "openmaptiles",
         "source-layer": "transportation",
         "type": "line"
        },
        {
         "filter": [
          "all",
          [
           "==",
           "brunnel",
           "bridge"
          ],
          [
           "in",
           "class",
           "service_construction",
           "track_construction"
          ]
         ],
         "id": "bridge_service_track_construction",
         "layout": {
          "line-join": "round",
          "visibility": "visible"
         },
         "metadata": {},
         "paint": {
          "line-color": "#fff",
          "line-dasharray": [
           2,
           2
          ],
          "line-width": {
           "base": 1.2,
           "stops": [
            [
             15.5,
             0
            ],
            [
             16,
             2
            ],
            [
             20,
             7.5
            ]
           ]
          }
         },
         "source": "openmaptiles",
         "source-layer": "transportation",
         "type": "line"
        },
        {
         "filter": [
          "all",
          [
           "==",
           "class",
           "link"
          ],
          [
           "==",
           "brunnel",
           "bridge"
          ]
         ],
         "id": "bridge_link",
         "layout": {
          "line-join": "round",
          "visibility": "visible"
         },
         "metadata": {},
         "paint": {
          "line-color": "#fea",
          "line-width": {
           "base": 1.2,
           "stops": [
            [
             12.5,
             0
            ],
            [
             13,
             1.5
            ],
            [
             14,
             2.5
            ],
            [
             20,
             11.5
            ]
           ]
          }
         },
         "source": "openmaptiles",
         "source-layer": "transportation",
         "type": "line"
        },
        {
         "filter": [
          "all",
          [
           "==",
           "brunnel",
           "bridge"
          ],
          [
           "in",
           "class",
           "minor"
          ]
         ],
         "id": "bridge_minor",
         "layout": {
          "line-join": "round"
         },
         "metadata": {},
         "paint": {
          "line-color": "#fff",
          "line-opacity": 1,
          "line-width": {
           "base": 1.2,
           "stops": [
            [
             13.5,
             0
            ],
            [
             14,
             2.5
            ],
            [
             20,
             18
            ]
           ]
          }
         },
         "source": "openmaptiles",
         "source-layer": "transportation",
         "type": "line"
        },
        {
         "filter": [
          "all",
          [
           "==",
           "brunnel",
           "bridge"
          ],
          [
           "in",
           "class",
           "minor_construction"
          ]
         ],
         "id": "bridge_minor_construction",
         "layout": {
          "line-join": "round",
          "visibility": "visible"
         },
         "metadata": {},
         "paint": {
          "line-color": "#fff",
          "line-dasharray": [
           2,
           2
          ],
          "line-opacity": 1,
          "line-width": {
           "base": 1.2,
           "stops": [
            [
             13.5,
             0
            ],
            [
             14,
             2.5
            ],
            [
             20,
             18
            ]
           ]
          }
         },
         "source": "openmaptiles",
         "source-layer": "transportation",
         "type": "line"
        },
        {
         "filter": [
          "all",
          [
           "==",
           "brunnel",
           "bridge"
          ],
          [
           "in",
           "class",
           "tertiary"
          ]
         ],
         "id": "bridge_tertiary",
         "layout": {
          "line-join": "round",
          "visibility": "visible"
         },
         "metadata": {},
         "minzoom": 11,
         "paint": {
          "line-color": "#ffffff",
          "line-width": {
           "base": 1.2,
           "stops": [
            [
             11,
             2.3
            ],
            [
             12,
             3
            ],
            [
             13,
             4
            ],
            [
             14,
             7.5
            ],
            [
             15,
             8.5
            ],
            [
             16,
             16.4
            ],
            [
             17,
             19.4
            ],
            [
             18,
             25.4
            ]
           ]
          }
         },
         "source": "openmaptiles",
         "source-layer": "transportation",
         "type": "line"
        },
        {
         "filter": [
          "all",
          [
           "==",
           "brunnel",
           "bridge"
          ],
          [
           "in",
           "class",
           "secondary"
          ]
         ],
         "id": "bridge_secondary",
         "layout": {
          "line-join": "round",
          "visibility": "visible"
         },
         "metadata": {},
         "minzoom": 7,
         "paint": {
          "line-color": "#f7fabf",
          "line-width": {
           "base": 1.2,
           "stops": [
            [
             7,
             1.5
            ],
            [
             11,
             3.3
            ],
            [
             12,
             4
            ],
            [
             13,
             3.8
            ],
            [
             14,
             7.5
            ],
            [
             15,
             8.5
            ],
            [
             16,
             16
            ],
            [
             17,
             19
            ],
            [
             18,
             25
            ]
           ]
          }
         },
         "source": "openmaptiles",
         "source-layer": "transportation",
         "type": "line"
        },
        {
         "filter": [
          "all",
          [
           "==",
           "brunnel",
           "bridge"
          ],
          [
           "in",
           "class",
           "secondary_construction"
          ]
         ],
         "id": "bridge_secondary_construction-copy",
         "layout": {
          "line-join": "round"
         },
         "metadata": {},
         "paint": {
          "line-color": "#fff",
          "line-dasharray": [
           2,
           2
          ],
          "line-width": {
           "base": 1.2,
           "stops": [
            [
             6.5,
             0
            ],
            [
             8,
             0.5
            ],
            [
             20,
             13
            ]
           ]
          }
         },
         "source": "openmaptiles",
         "source-layer": "transportation",
         "type": "line"
        },
        {
         "filter": [
          "all",
          [
           "==",
           "brunnel",
           "bridge"
          ],
          [
           "in",
           "class",
           "tertiary_construction"
          ]
         ],
         "id": "bridge_tertiary_construction",
         "layout": {
          "line-join": "round"
         },
         "metadata": {},
         "paint": {
          "line-color": "#fff",
          "line-dasharray": [
           2,
           2
          ],
          "line-width": {
           "base": 1.2,
           "stops": [
            [
             6.5,
             0
            ],
            [
             8,
             0.5
            ],
            [
             20,
             13
            ]
           ]
          }
         },
         "source": "openmaptiles",
         "source-layer": "transportation",
         "type": "line"
        },
        {
         "filter": [
          "all",
          [
           "==",
           "brunnel",
           "bridge"
          ],
          [
           "in",
           "class",
           "primary"
          ]
         ],
         "id": "bridge_primary",
         "layout": {
          "line-join": "round",
          "visibility": "visible"
         },
         "metadata": {},
         "paint": {
          "line-color": "#fcd6a4",
          "line-width": {
           "base": 1.2,
           "stops": [
            [
             7,
             1.5
            ],
            [
             11,
             3.3
            ],
            [
             12,
             4
            ],
            [
             13,
             4
            ],
            [
             15,
             8.5
            ],
            [
             16,
             16
            ],
            [
             17,
             19
            ],
            [
             18,
             25
            ]
           ]
          }
         },
         "source": "openmaptiles",
         "source-layer": "transportation",
         "type": "line"
        },
        {
         "filter": [
          "all",
          [
           "==",
           "brunnel",
           "bridge"
          ],
          [
           "in",
           "class",
           "trunk"
          ]
         ],
         "id": "bridge_trunk",
         "layout": {
          "line-join": "round",
          "visibility": "visible"
         },
         "metadata": {},
         "paint": {
          "line-color": "#f9b29c",
          "line-width": {
           "base": 1.2,
           "stops": [
            [
             7,
             1.5
            ],
            [
             11,
             4.5
            ],
            [
             12,
             5
            ],
            [
             15,
             8.5
            ],
            [
             16,
             16
            ],
            [
             17,
             19
            ],
            [
             18,
             25
            ]
           ]
          }
         },
         "source": "openmaptiles",
         "source-layer": "transportation",
         "type": "line"
        },
        {
         "filter": [
          "all",
          [
           "==",
           "brunnel",
           "bridge"
          ],
          [
           "in",
           "class",
           "primary_construction",
           "trunk_construction"
          ]
         ],
         "id": "bridge_trunk_primary_construction",
         "layout": {
          "line-join": "round",
          "visibility": "visible"
         },
         "metadata": {},
         "paint": {
          "line-color": "#fea",
          "line-dasharray": [
           2,
           2
          ],
          "line-width": {
           "base": 1.2,
           "stops": [
            [
             5,
             0
            ],
            [
             7,
             1
            ],
            [
             20,
             18
            ]
           ]
          }
         },
         "source": "openmaptiles",
         "source-layer": "transportation",
         "type": "line"
        },
        {
         "filter": [
          "all",
          [
           "==",
           "class",
           "motorway"
          ],
          [
           "==",
           "brunnel",
           "bridge"
          ],
          [
           "!=",
           "ramp",
           1
          ]
         ],
         "id": "bridge_motorway",
         "layout": {
          "line-join": "round"
         },
         "metadata": {},
         "paint": {
          "line-color": {
           "stops": [
            [
             6,
             "#e66e89"
            ],
            [
             10,
             "#e892a2"
            ]
           ]
          },
          "line-width": {
           "base": 1.2,
           "stops": [
            [
             5,
             0
            ],
            [
             7,
             1
            ],
            [
             18,
             25
            ]
           ]
          }
         },
         "source": "openmaptiles",
         "source-layer": "transportation",
         "type": "line"
        },
        {
         "filter": [
          "all",
          [
           "==",
           "class",
           "motorway_construction"
          ],
          [
           "==",
           "brunnel",
           "bridge"
          ],
          [
           "!=",
           "ramp",
           1
          ]
         ],
         "id": "bridge_motorway_construction",
         "layout": {
          "line-join": "round"
         },
         "metadata": {},
         "paint": {
          "line-color": {
           "stops": [
            [
             6,
             "#e892a2"
            ],
            [
             10,
             "#e66e89"
            ]
           ]
          },
          "line-dasharray": [
           2,
           2
          ],
          "line-width": {
           "base": 1.2,
           "stops": [
            [
             5,
             0
            ],
            [
             7,
             1
            ],
            [
             18,
             25
            ]
           ]
          }
         },
         "source": "openmaptiles",
         "source-layer": "transportation",
         "type": "line"
        },
        {
         "filter": [
          "all",
          [
           "==",
           "brunnel",
           "bridge"
          ],
          [
           "in",
           "class",
           "rail"
          ]
         ],
         "id": "bridge_major_rail",
         "layout": {
          "visibility": "visible"
         },
         "metadata": {},
         "paint": {
          "line-color": {
           "stops": [
            [
             6,
             "rgba(147, 147, 147, 1)"
            ],
            [
             12,
             "rgba(139, 139, 139, 1)"
            ],
            [
             14,
             "rgba(129, 129, 129, 1)"
            ]
           ]
          },
          "line-width": {
           "base": 1.4,
           "stops": [
            [
             8,
             0.5
            ],
            [
             15,
             3
            ],
            [
             20,
             5.4
            ]
           ]
          }
         },
         "source": "openmaptiles",
         "source-layer": "transportation",
         "type": "line"
        },
        {
         "filter": [
          "all",
          [
           "==",
           "brunnel",
           "bridge"
          ],
          [
           "==",
           "class",
           "rail"
          ]
         ],
         "id": "bridge_major_rail_hatching",
         "layout": {
          "visibility": "visible"
         },
         "metadata": {},
         "minzoom": 8,
         "paint": {
          "line-color": {
           "stops": [
            [
             8,
             "rgba(255, 255, 255, 0.44)"
            ],
            [
             10,
             "rgba(201, 201, 201, 1)"
            ]
           ]
          },
          "line-dasharray": [
           2,
           2
          ],
          "line-width": {
           "base": 1.4,
           "stops": [
            [
             9,
             0
            ],
            [
             15,
             2
            ],
            [
             20,
             4
            ]
           ]
          }
         },
         "source": "openmaptiles",
         "source-layer": "transportation",
         "type": "line"
        },
        {
         "filter": [
          "==",
          "class",
          "aerialway"
         ],
         "id": "cablecar",
         "layout": {
          "line-cap": "round",
          "visibility": "visible"
         },
         "minzoom": 13,
         "paint": {
          "line-color": "#808080",
          "line-width": {
           "base": 1,
           "stops": [
            [
             11,
             1
            ],
            [
             19,
             2.5
            ]
           ]
          }
         },
         "source": "openmaptiles",
         "source-layer": "transportation",
         "type": "line"
        },
        {
         "filter": [
          "==",
          "class",
          "aerialway"
         ],
         "id": "cablecar-dash",
         "layout": {
          "line-cap": "round",
          "visibility": "visible"
         },
         "minzoom": 13,
         "paint": {
          "line-color": "rgba(67, 67, 67, 1)",
          "line-dasharray": [
           0.5,
           10
          ],
          "line-width": {
           "base": 1,
           "stops": [
            [
             11,
             1
            ],
            [
             19,
             3
            ]
           ]
          }
         },
         "source": "openmaptiles",
         "source-layer": "transportation",
         "type": "line"
        },
        {
         "filter": [
          "all",
          [
           "in",
           "admin_level",
           3,
           4
          ],
          [
           "==",
           "maritime",
           0
          ]
         ],
         "id": "boundary_3",
         "layout": {
          "line-join": "round",
          "visibility": "visible"
         },
         "metadata": {},
         "minzoom": 3,
         "paint": {
          "line-color": "#845283",
          "line-dasharray": [
           5,
           3
          ],
          "line-opacity": {
           "stops": [
            [
             3,
             0.5
            ],
            [
             10,
             1
            ]
           ]
          },
          "line-width": {
           "base": 1,
           "stops": [
            [
             4,
             0.4
            ],
            [
             5,
             0.7
            ],
            [
             12,
             1.6
            ]
           ]
          }
         },
         "source": "openmaptiles",
         "source-layer": "boundary",
         "type": "line"
        },
        {
         "filter": [
          "all",
          [
           "==",
           "admin_level",
           2
          ],
          [
           "==",
           "maritime",
           0
          ],
          [
           "!has",
           "claimed_by"
          ]
         ],
         "id": "boundary_2_z0-4",
         "layout": {
          "line-cap": "round",
          "line-join": "round",
          "visibility": "visible"
         },
         "maxzoom": 5,
         "metadata": {},
         "minzoom": 0,
         "paint": {
          "line-blur": {
           "stops": [
            [
             1,
             0.1
            ],
            [
             4,
             0
            ]
           ]
          },
          "line-color": "#a37da1",
          "line-opacity": {
           "stops": [
            [
             3,
             0.5
            ],
            [
             6,
             1
            ]
           ]
          },
          "line-width": {
           "base": 1,
           "stops": [
            [
             1,
             0.7
            ],
            [
             3,
             1
            ],
            [
             5,
             1.2
            ]
           ]
          }
         },
         "source": "openmaptiles",
         "source-layer": "boundary",
         "type": "line"
        },
        {
         "filter": [
          "all",
          [
           "==",
           "admin_level",
           2
          ],
          [
           "==",
           "disputed",
           0
          ],
          [
           "==",
           "maritime",
           0
          ]
         ],
         "id": "boundary_2_z5",
         "layout": {
          "line-cap": "round",
          "line-join": "round",
          "visibility": "visible"
         },
         "metadata": {},
         "minzoom": 5,
         "paint": {
          "line-color": "#a37da1",
          "line-opacity": 1,
          "line-width": {
           "base": 1,
           "stops": [
            [
             5,
             1.2
            ],
            [
             12,
             3
            ]
           ]
          }
         },
         "source": "openmaptiles",
         "source-layer": "boundary",
         "type": "line"
        },
        {
         "filter": [
          "all",
          [
           "==",
           "admin_level",
           2
          ],
          [
           "==",
           "disputed",
           1
          ],
          [
           "==",
           "maritime",
           0
          ]
         ],
         "id": "boundary_2_z5_disputed",
         "layout": {
          "line-cap": "round",
          "line-join": "round",
          "visibility": "visible"
         },
         "metadata": {},
         "minzoom": 5,
         "paint": {
          "line-color": "#a37da1",
          "line-dasharray": [
           4,
           3
          ],
          "line-opacity": 1,
          "line-width": {
           "base": 1,
           "stops": [
            [
             5,
             1.2
            ],
            [
             12,
             3
            ]
           ]
          }
         },
         "source": "openmaptiles",
         "source-layer": "boundary",
         "type": "line"
        },
        {
         "filter": [
          "all",
          [
           "==",
           "admin_level",
           2
          ],
          [
           "==",
           "disputed",
           1
          ],
          [
           "==",
           "maritime",
           1
          ]
         ],
         "id": "boundary_2_z5_disputed_maritime",
         "layout": {
          "line-cap": "round",
          "line-join": "round",
          "visibility": "visible"
         },
         "metadata": {},
         "minzoom": 5,
         "paint": {
          "line-color": "rgba(129, 125, 163, 1)",
          "line-dasharray": [
           4,
           3
          ],
          "line-opacity": 1,
          "line-width": {
           "base": 1,
           "stops": [
            [
             5,
             1.2
            ],
            [
             12,
             3
            ]
           ]
          }
         },
         "source": "openmaptiles",
         "source-layer": "boundary",
         "type": "line"
        },
        {
         "filter": [
          "all",
          [
           "==",
           "admin_level",
           2
          ],
          [
           "==",
           "disputed",
           0
          ],
          [
           "==",
           "maritime",
           1
          ]
         ],
         "id": "boundary_2_z5_maritime",
         "layout": {
          "line-cap": "round",
          "line-join": "round",
          "visibility": "visible"
         },
         "metadata": {},
         "minzoom": 4,
         "paint": {
          "line-color": "#a37da1",
          "line-opacity": 1,
          "line-width": {
           "base": 1,
           "stops": [
            [
             3,
             1.2
            ],
            [
             4,
             1.5
            ],
            [
             5,
             1.8
            ],
            [
             6,
             2
            ],
            [
             7,
             3
            ]
           ]
          }
         },
         "source": "openmaptiles",
         "source-layer": "boundary",
         "type": "line"
        },
        {
         "filter": [
          "all",
          [
           "==",
           "$type",
           "LineString"
          ]
         ],
         "id": "water_way_name",
         "layout": {
          "symbol-placement": "line",
          "symbol-spacing": 400,
          "text-field": "{name:latin}\n{name:nonlatin}",
          "text-font": [
           "Open Sans Regular",
           "Open Sans Bold"
          ],
          "text-max-width": 5,
          "text-size": {
           "stops": [
            [
             11,
             10
            ],
            [
             13,
             12
            ]
           ]
          },
          "visibility": "visible"
         },
         "metadata": {},
         "minzoom": 0,
         "paint": {
          "text-color": "#4d80b3",
          "text-halo-color": "rgba(255, 255, 255, 0.8)",
          "text-halo-width": 1
         },
         "source": "openmaptiles",
         "source-layer": "waterway",
         "type": "symbol"
        },
        {
         "filter": [
          "all",
          [
           "==",
           "$type",
           "LineString"
          ]
         ],
         "id": "water_name_line",
         "layout": {
          "symbol-placement": "line",
          "text-field": "{name:latin}\n{name:nonlatin}",
          "text-font": [
           "Open Sans Regular",
           "Open Sans Bold"
          ],
          "text-max-width": 5,
          "text-size": 12,
          "visibility": "visible"
         },
         "metadata": {},
         "minzoom": 0,
         "paint": {
          "text-color": "#5d60be",
          "text-halo-color": "rgba(255,255,255,0.7)",
          "text-halo-width": 1
         },
         "source": "openmaptiles",
         "source-layer": "water_name",
         "type": "symbol"
        },
        {
         "filter": [
          "all",
          [
           "==",
           "$type",
           "Point"
          ],
          [
           "!=",
           "class",
           "ocean"
          ]
         ],
         "id": "water_name_point",
         "layout": {
          "text-field": "{name:latin}\n{name:nonlatin}",
          "text-font": [
           "Open Sans Regular",
           "Open Sans Light"
          ],
          "text-max-width": 5,
          "text-size": 11,
          "visibility": "visible"
         },
         "maxzoom": 24,
         "metadata": {},
         "minzoom": 16,
         "paint": {
          "text-color": "rgba(76, 125, 173, 1)",
          "text-halo-color": "rgba(255,255,255,0)",
          "text-halo-width": 1
         },
         "source": "openmaptiles",
         "source-layer": "water_name",
         "type": "symbol"
        },
        {
         "id": "housenumber",
         "layout": {
          "symbol-avoid-edges": false,
          "text-allow-overlap": false,
          "text-field": "{housenumber}",
          "text-font": [
           "Noto Sans Regular"
          ],
          "text-ignore-placement": false,
          "text-line-height": -0.15,
          "text-padding": 3,
          "text-size": {
           "stops": [
            [
             17,
             9
            ],
            [
             22,
             11
            ]
           ]
          }
         },
         "minzoom": 17,
         "paint": {
          "text-color": "rgba(102, 102, 102, 1)",
          "text-halo-color": "rgba(255,255,255,0.8)",
          "text-halo-width": 1
         },
         "source": "openmaptiles",
         "source-layer": "housenumber",
         "type": "symbol"
        },
        {
         "filter": [
          "all",
          [
           "in",
           "class",
           "shop",
           "clothing_store",
           "library",
           "art_gallery",
           "music",
           "alcohol_shop",
           "bakery"
          ],
          [
           "!in",
           "subclass",
           "mall",
           "library",
           "artwork"
          ]
         ],
         "id": "poi_shop-z17",
         "layout": {
          "icon-allow-overlap": true,
          "icon-image": "{subclass}",
          "text-anchor": "top",
          "text-field": "{name:latin}\n{name:nonlatin}",
          "text-font": [
           "Open Sans Semibold",
           "Open Sans Bold"
          ],
          "text-max-width": 9,
          "text-offset": [
           0,
           1.1
          ],
          "text-padding": 2,
          "text-size": {
           "stops": [
            [
             15,
             10
            ],
            [
             20,
             11
            ]
           ]
          },
          "visibility": "visible"
         },
         "metadata": {},
         "minzoom": 17,
         "paint": {
          "icon-halo-blur": 1,
          "icon-halo-color": "rgba(255, 255, 255, 1)",
          "icon-halo-width": 0.5,
          "icon-opacity": 1,
          "text-color": [
           "match",
           [
            "get",
            "class"
           ],
           "ice_cream",
           "#C77400",
           "#939"
          ],
          "text-halo-blur": 0.5,
          "text-halo-color": "#ffffff",
          "text-halo-width": 1
         },
         "source": "openmaptiles",
         "source-layer": "poi",
         "type": "symbol"
        },
        {
         "filter": [
          "all",
          [
           "==",
           "subclass",
           "supermarket"
          ]
         ],
         "id": "poi_shop-z15",
         "layout": {
          "icon-allow-overlap": true,
          "icon-image": "{subclass}",
          "text-anchor": "top",
          "text-field": "{name:latin}\n{name:nonlatin}",
          "text-font": [
           "Open Sans Semibold",
           "Open Sans Bold"
          ],
          "text-max-width": 9,
          "text-offset": [
           0,
           1.1
          ],
          "text-padding": 2,
          "text-size": {
           "stops": [
            [
             15,
             10
            ],
            [
             20,
             11
            ]
           ]
          },
          "visibility": "visible"
         },
         "metadata": {},
         "minzoom": 15,
         "paint": {
          "icon-halo-blur": 1,
          "icon-halo-color": "rgba(255, 255, 255, 1)",
          "icon-halo-width": 0.5,
          "icon-opacity": 1,
          "text-color": [
           "match",
           [
            "get",
            "class"
           ],
           "ice_cream",
           "#C77400",
           "#939"
          ],
          "text-halo-blur": 0.5,
          "text-halo-color": "#ffffff",
          "text-halo-width": 1
         },
         "source": "openmaptiles",
         "source-layer": "poi",
         "type": "symbol"
        },
        {
         "filter": [
          "all",
          [
           "in",
           "class",
           "recycling",
           "waste_basket",
           "drinking_water",
           "toilets"
          ]
         ],
         "id": "poi_waste",
         "layout": {
          "icon-allow-overlap": false,
          "icon-image": "{subclass}",
          "text-anchor": "top",
          "text-field": "{name:latin}\n{name:nonlatin}",
          "text-font": [
           "Open Sans Semibold",
           "Open Sans Bold"
          ],
          "text-max-width": 9,
          "text-offset": [
           0,
           0.8
          ],
          "text-padding": 2,
          "text-size": {
           "stops": [
            [
             15,
             10
            ],
            [
             20,
             11
            ]
           ]
          },
          "visibility": "visible"
         },
         "metadata": {},
         "minzoom": 18,
         "paint": {
          "icon-halo-blur": 1,
          "icon-halo-color": "rgba(255, 255, 255, 1)",
          "icon-halo-width": 0.5,
          "icon-opacity": 1,
          "text-color": "#734a08",
          "text-halo-blur": 0.5,
          "text-halo-color": "#ffffff",
          "text-halo-width": 1
         },
         "source": "openmaptiles",
         "source-layer": "poi",
         "type": "symbol"
        },
        {
         "filter": [
          "all",
          [
           "in",
           "class",
           "cemetery"
          ]
         ],
         "id": "poi_cemetery",
         "layout": {
          "icon-allow-overlap": false,
          "icon-anchor": "bottom",
          "icon-offset": [
           0,
           0
          ],
          "icon-pitch-alignment": "viewport",
          "icon-size": 1,
          "icon-text-fit": "none",
          "text-anchor": "center",
          "text-field": "{name:latin}\n{name:nonlatin}",
          "text-font": [
           "Open Sans Bold Italic",
           "Open Sans Regular"
          ],
          "text-max-width": 14,
          "text-offset": [
           0,
           0
          ],
          "text-padding": 2,
          "text-size": 11,
          "visibility": "visible"
         },
         "metadata": {},
         "minzoom": 14,
         "paint": {
          "icon-translate": [
           0,
           0
          ],
          "icon-translate-anchor": "map",
          "text-color": "#2d4931",
          "text-halo-color": "rgba(255, 255, 255, 1)",
          "text-halo-width": 0.8,
          "text-translate": [
           0,
           5
          ],
          "text-translate-anchor": "viewport"
         },
         "source": "openmaptiles",
         "source-layer": "poi",
         "type": "symbol"
        },
        {
         "filter": [
          "all",
          [
           "in",
           "class",
           "college",
           "school"
          ]
         ],
         "id": "poi_school",
         "layout": {
          "icon-allow-overlap": false,
          "icon-anchor": "bottom",
          "icon-image": "{subclass}",
          "icon-offset": [
           0,
           0
          ],
          "icon-pitch-alignment": "viewport",
          "icon-size": 1,
          "icon-text-fit": "none",
          "text-anchor": "center",
          "text-field": "{name:latin}\n{name:nonlatin}",
          "text-font": [
           "Open Sans Semibold Italic",
           "Open Sans Regular"
          ],
          "text-max-width": 9,
          "text-offset": [
           0,
           0
          ],
          "text-padding": 2,
          "text-size": 11,
          "visibility": "visible"
         },
         "metadata": {},
         "minzoom": 16,
         "paint": {
          "icon-translate": [
           0,
           0
          ],
          "icon-translate-anchor": "map",
          "text-color": "#4d4d00",
          "text-halo-color": "rgba(255, 255, 255, 1)",
          "text-halo-width": 0.8,
          "text-translate": [
           0,
           5
          ],
          "text-translate-anchor": "viewport"
         },
         "source": "openmaptiles",
         "source-layer": "poi",
         "type": "symbol"
        },
        {
         "filter": [
          "all",
          [
           "in",
           "class",
           "playground",
           "stile",
           "garden",
           "gate"
          ]
         ],
         "id": "poi_outdoor",
         "layout": {
          "icon-allow-overlap": false,
          "icon-image": "{subclass}",
          "text-anchor": "top",
          "text-field": "{name:latin}\n{name:nonlatin}",
          "text-font": [
           "Open Sans Semibold",
           "Open Sans Bold"
          ],
          "text-max-width": 9,
          "text-offset": [
           0,
           1.2
          ],
          "text-padding": 2,
          "text-size": {
           "stops": [
            [
             15,
             10
            ],
            [
             20,
             11
            ]
           ]
          },
          "visibility": "visible"
         },
         "metadata": {},
         "minzoom": 16,
         "paint": {
          "icon-opacity": 1,
          "text-color": "#008c0d",
          "text-halo-blur": 0,
          "text-halo-color": "#ffffff",
          "text-halo-width": 1
         },
         "source": "openmaptiles",
         "source-layer": "poi",
         "type": "symbol"
        },
        {
         "filter": [
          "all",
          [
           "in",
           "class",
           "parking"
          ]
         ],
         "id": "poi_parking",
         "layout": {
          "icon-allow-overlap": false,
          "icon-image": "{subclass}",
          "text-anchor": "top",
          "text-field": {
           "stops": [
            [
             15,
             ""
            ],
            [
             16,
             "{name:latin}\n{name:nonlatin}"
            ]
           ]
          },
          "text-font": [
           "Open Sans Semibold",
           "Open Sans Bold"
          ],
          "text-max-width": 6,
          "text-offset": [
           0,
           0.9
          ],
          "text-padding": 2,
          "text-size": {
           "stops": [
            [
             15,
             10
            ],
            [
             20,
             11
            ]
           ]
          },
          "visibility": "visible"
         },
         "metadata": {},
         "minzoom": 15,
         "paint": {
          "icon-halo-blur": 1,
          "icon-halo-color": "rgba(255, 255, 255, 1)",
          "icon-halo-width": 0.5,
          "icon-opacity": 1,
          "text-color": "#0066ff",
          "text-halo-blur": 0.5,
          "text-halo-color": "#ffffff",
          "text-halo-width": 1
         },
         "source": "openmaptiles",
         "source-layer": "poi",
         "type": "symbol"
        },
        {
         "filter": [
          "all",
          [
           "in",
           "class",
           "golf"
          ]
         ],
         "id": "poi_golf",
         "layout": {
          "icon-allow-overlap": false,
          "icon-image": "golf",
          "text-anchor": "top",
          "text-field": "{name:latin}\n{name:nonlatin}",
          "text-font": [
           "Open Sans Semibold",
           "Open Sans Bold"
          ],
          "text-max-width": 9,
          "text-offset": [
           0,
           1.2
          ],
          "text-padding": 2,
          "text-size": {
           "stops": [
            [
             15,
             10
            ],
            [
             20,
             11
            ]
           ]
          },
          "visibility": "visible"
         },
         "metadata": {},
         "minzoom": 16,
         "paint": {
          "icon-halo-blur": 1,
          "icon-halo-color": "rgba(255, 255, 255, 1)",
          "icon-halo-width": 0.5,
          "icon-opacity": 1,
          "text-color": "#008c0d",
          "text-halo-blur": 0.5,
          "text-halo-color": "#ffffff",
          "text-halo-width": 1
         },
         "source": "openmaptiles",
         "source-layer": "poi",
         "type": "symbol"
        },
        {
         "filter": [
          "all",
          [
           "in",
           "class",
           "stadium",
           "swimming_pool",
           "sports_centre",
           "water_park"
          ]
         ],
         "id": "poi_sport",
         "layout": {
          "icon-allow-overlap": false,
          "icon-image": "{subclass}",
          "text-anchor": "top",
          "text-field": "{name:latin}\n{name:nonlatin}",
          "text-font": [
           "Open Sans Semibold Italic",
           "Open Sans Semibold"
          ],
          "text-max-width": 9,
          "text-offset": [
           0,
           1.2
          ],
          "text-padding": 2,
          "text-size": {
           "stops": [
            [
             15,
             10
            ],
            [
             20,
             11
            ]
           ]
          },
          "visibility": "visible"
         },
         "metadata": {},
         "minzoom": 16,
         "paint": {
          "icon-halo-blur": 0,
          "icon-opacity": 1,
          "text-color": "#008c0d",
          "text-halo-blur": 1,
          "text-halo-color": "#ffffff",
          "text-halo-width": 0.2
         },
         "source": "openmaptiles",
         "source-layer": "poi",
         "type": "symbol"
        },
        {
         "filter": [
          "all",
          [
           "==",
           "subclass",
           "ferry_terminal"
          ],
          [
           "==",
           "class",
           "ferry_terminal"
          ]
         ],
         "id": "poi_ferry",
         "layout": {
          "icon-allow-overlap": false,
          "icon-image": "ferry",
          "text-anchor": "top",
          "text-field": "{name:latin}\n{name:nonlatin}",
          "text-font": [
           "Open Sans Regular",
           "Open Sans Semibold"
          ],
          "text-max-width": 9,
          "text-offset": [
           0,
           0.7
          ],
          "text-padding": 2,
          "text-size": {
           "stops": [
            [
             15,
             10
            ],
            [
             20,
             11
            ]
           ]
          },
          "visibility": "visible"
         },
         "metadata": {},
         "minzoom": 15,
         "paint": {
          "icon-halo-blur": 1,
          "icon-halo-color": "rgba(255, 255, 255, 1)",
          "icon-halo-width": 0.5,
          "icon-opacity": 1,
          "text-color": "#5e3b9e",
          "text-halo-blur": 0.5,
          "text-halo-color": "#ffffff",
          "text-halo-width": 1
         },
         "source": "openmaptiles",
         "source-layer": "poi",
         "type": "symbol"
        },
        {
         "filter": [
          "all",
          [
           "in",
           "class",
           "ice_cream",
           "cafe",
           "beer",
           "bar",
           "fast_food",
           "restaurant"
          ]
         ],
         "id": "poi_food",
         "layout": {
          "icon-allow-overlap": false,
          "icon-image": "{subclass}",
          "text-anchor": "top",
          "text-field": "{name:latin}\n{name:nonlatin}",
          "text-font": [
           "Open Sans Semibold",
           "Open Sans Bold"
          ],
          "text-max-width": 9,
          "text-offset": [
           0,
           1
          ],
          "text-padding": 2,
          "text-size": {
           "stops": [
            [
             15,
             10
            ],
            [
             20,
             11
            ]
           ]
          },
          "visibility": "visible"
         },
         "metadata": {},
         "minzoom": 16,
         "paint": {
          "icon-halo-blur": 1,
          "icon-halo-color": "rgba(255, 255, 255, 1)",
          "icon-halo-width": 0.5,
          "icon-opacity": 1,
          "text-color": "#C77400",
          "text-halo-blur": 0.5,
          "text-halo-color": "#ffffff",
          "text-halo-width": 1
         },
         "source": "openmaptiles",
         "source-layer": "poi",
         "type": "symbol"
        },
        {
         "filter": [
          "all",
          [
           "in",
           "class",
           "ice_rink"
          ]
         ],
         "id": "poi_water",
         "layout": {
          "icon-allow-overlap": false,
          "icon-image": "{subclass}",
          "text-anchor": "top",
          "text-field": "{name:latin}\n{name:nonlatin}",
          "text-font": [
           "Open Sans Semibold",
           "Open Sans Bold"
          ],
          "text-max-width": 9,
          "text-offset": [
           0,
           1.2
          ],
          "text-padding": 2,
          "text-size": {
           "stops": [
            [
             15,
             10
            ],
            [
             20,
             11
            ]
           ]
          },
          "visibility": "visible"
         },
         "metadata": {},
         "minzoom": 16,
         "paint": {
          "icon-halo-blur": 1,
          "icon-halo-color": "rgba(255, 255, 255, 1)",
          "icon-halo-width": 0.5,
          "icon-opacity": 1,
          "text-color": "#4d80b3",
          "text-halo-blur": 0.5,
          "text-halo-color": "#ffffff",
          "text-halo-width": 1
         },
         "source": "openmaptiles",
         "source-layer": "poi",
         "type": "symbol"
        },
        {
         "filter": [
          "all",
          [
           "in",
           "class",
           "town_hall",
           "post",
           "library",
           "police",
           "information",
           "cinema",
           "theatre",
           "fire_station"
          ],
          [
           "!=",
           "subclass",
           "books"
          ]
         ],
         "id": "poi_public",
         "layout": {
          "icon-allow-overlap": false,
          "icon-image": "{subclass}",
          "text-anchor": "top",
          "text-field": "{name:latin}\n{name:nonlatin}",
          "text-font": [
           "Open Sans Semibold",
           "Open Sans Bold"
          ],
          "text-max-width": 9,
          "text-offset": [
           0,
           0.8
          ],
          "text-padding": 2,
          "text-size": {
           "stops": [
            [
             15,
             10
            ],
            [
             20,
             11
            ]
           ]
          },
          "visibility": "visible"
         },
         "metadata": {},
         "minzoom": 16,
         "paint": {
          "icon-halo-blur": 1,
          "icon-halo-color": "rgba(255, 255, 255, 1)",
          "icon-halo-width": 0.5,
          "icon-opacity": 1,
          "text-color": "#734a08",
          "text-halo-blur": 0.5,
          "text-halo-color": "#ffffff",
          "text-halo-width": 1
         },
         "source": "openmaptiles",
         "source-layer": "poi",
         "type": "symbol"
        },
        {
         "filter": [
          "all",
          [
           "in",
           "class",
           "cinema",
           "library",
           "music",
           "museum",
           "castle",
           "monument",
           "art_gallery"
          ],
          [
           "!in",
           "subclass",
           "books",
           "musical_instrument",
           "art",
           "gallery"
          ]
         ],
         "id": "poi_cultural",
         "layout": {
          "icon-allow-overlap": false,
          "icon-image": "{subclass}",
          "text-anchor": "top",
          "text-field": "{name:latin}\n{name:nonlatin}",
          "text-font": [
           "Open Sans Semibold",
           "Open Sans Bold"
          ],
          "text-max-width": 9,
          "text-offset": [
           0,
           0.8
          ],
          "text-padding": 2,
          "text-size": {
           "stops": [
            [
             15,
             10
            ],
            [
             20,
             11
            ]
           ]
          },
          "visibility": "visible"
         },
         "metadata": {},
         "minzoom": 15,
         "paint": {
          "icon-halo-blur": 1,
          "icon-halo-color": "rgba(255, 255, 255, 1)",
          "icon-halo-width": 0.5,
          "icon-opacity": 1,
          "text-color": "#734a08",
          "text-halo-blur": 0.5,
          "text-halo-color": "#ffffff",
          "text-halo-width": 1
         },
         "source": "openmaptiles",
         "source-layer": "poi",
         "type": "symbol"
        },
        {
         "filter": [
          "all",
          [
           "==",
           "class",
           "attraction"
          ]
         ],
         "id": "poi_attraction",
         "layout": {
          "icon-allow-overlap": false,
          "icon-image": "{subclass}",
          "text-anchor": "top",
          "text-field": "{name:latin}\n{name:nonlatin}",
          "text-font": [
           "Open Sans Semibold",
           "Open Sans Bold"
          ],
          "text-max-width": 9,
          "text-offset": [
           0,
           1.2
          ],
          "text-padding": 2,
          "text-size": {
           "stops": [
            [
             15,
             10
            ],
            [
             20,
             11
            ]
           ]
          },
          "visibility": "visible"
         },
         "metadata": {},
         "minzoom": 15,
         "paint": {
          "icon-halo-blur": 1,
          "icon-halo-color": "rgba(255, 255, 255, 1)",
          "icon-halo-width": 0.5,
          "icon-opacity": 1,
          "text-color": "#660033",
          "text-halo-blur": 0.5,
          "text-halo-color": "#ffffff",
          "text-halo-width": 1
         },
         "source": "openmaptiles",
         "source-layer": "poi",
         "type": "symbol"
        },
        {
         "filter": [
          "all",
          [
           "in",
           "class",
           "car",
           "bicycle_parking",
           "fuel"
          ]
         ],
         "id": "poi_car",
         "layout": {
          "icon-allow-overlap": false,
          "icon-ignore-placement": false,
          "icon-image": "{subclass}",
          "text-anchor": "top",
          "text-field": {
           "stops": [
            [
             15,
             ""
            ],
            [
             16,
             "{name:latin}\n{name:nonlatin}"
            ]
           ]
          },
          "text-font": [
           "Open Sans Semibold",
           "Open Sans Bold"
          ],
          "text-max-width": 9,
          "text-offset": [
           0,
           1.2
          ],
          "text-padding": 2,
          "text-size": {
           "stops": [
            [
             15,
             10
            ],
            [
             20,
             11
            ]
           ]
          },
          "visibility": "visible"
         },
         "metadata": {},
         "minzoom": 17,
         "paint": {
          "icon-halo-blur": 1,
          "icon-halo-color": "rgba(255, 255, 255, 1)",
          "icon-halo-width": 0.5,
          "icon-opacity": 1,
          "text-color": "#0066ff",
          "text-halo-blur": 0.5,
          "text-halo-color": "#ffffff",
          "text-halo-width": 1
         },
         "source": "openmaptiles",
         "source-layer": "poi",
         "type": "symbol"
        },
        {
         "filter": [
          "all",
          [
           "in",
           "class",
           "pharmacy",
           "dentist",
           "veterinary"
          ]
         ],
         "id": "poi_health",
         "layout": {
          "icon-allow-overlap": false,
          "icon-image": "{subclass}",
          "text-anchor": "top",
          "text-field": "{name:latin}\n{name:nonlatin}",
          "text-font": [
           "Open Sans Regular",
           "Open Sans Bold"
          ],
          "text-max-width": 9,
          "text-offset": [
           0,
           1.2
          ],
          "text-padding": 2,
          "text-size": {
           "stops": [
            [
             14,
             10
            ],
            [
             20,
             11
            ]
           ]
          },
          "visibility": "visible"
         },
         "metadata": {},
         "minzoom": 16,
         "paint": {
          "icon-halo-blur": 1,
          "icon-halo-color": "rgba(255, 255, 255, 1)",
          "icon-halo-width": 0.5,
          "icon-opacity": 1,
          "text-color": "#BF0000",
          "text-halo-blur": 0.5,
          "text-halo-color": "#ffffff",
          "text-halo-width": 1
         },
         "source": "openmaptiles",
         "source-layer": "poi",
         "type": "symbol"
        },
        {
         "filter": [
          "all",
          [
           "in",
           "class",
           "hospital"
          ]
         ],
         "id": "poi_hospital",
         "layout": {
          "icon-allow-overlap": false,
          "icon-image": "{subclass}",
          "text-anchor": "top",
          "text-field": {
           "stops": [
            [
             14,
             ""
            ],
            [
             16,
             "{name:latin}\n{name:nonlatin}"
            ]
           ]
          },
          "text-font": [
           "Open Sans Semibold",
           "Open Sans Bold"
          ],
          "text-max-width": 9,
          "text-offset": [
           0,
           1.2
          ],
          "text-padding": 2,
          "text-size": {
           "stops": [
            [
             14,
             10
            ],
            [
             20,
             11
            ]
           ]
          },
          "visibility": "visible"
         },
         "metadata": {},
         "minzoom": 14,
         "paint": {
          "icon-halo-blur": 1,
          "icon-halo-color": "rgba(255, 255, 255, 1)",
          "icon-halo-width": 0.5,
          "icon-opacity": 1,
          "text-color": "#BF0000",
          "text-halo-blur": 0.5,
          "text-halo-color": "#ffffff",
          "text-halo-width": 1
         },
         "source": "openmaptiles",
         "source-layer": "poi",
         "type": "symbol"
        },
        {
         "filter": [
          "all",
          [
           "in",
           "class",
           "campsite"
          ]
         ],
         "id": "poi_campsite",
         "layout": {
          "icon-allow-overlap": false,
          "icon-image": "camping",
          "text-anchor": "top",
          "text-field": "{name:latin}\n{name:nonlatin}",
          "text-font": [
           "Open Sans Semibold",
           "Open Sans Bold"
          ],
          "text-max-width": 9,
          "text-offset": [
           0,
           1.2
          ],
          "text-padding": 2,
          "text-size": {
           "stops": [
            [
             15,
             10
            ],
            [
             20,
             11
            ]
           ]
          },
          "visibility": "visible"
         },
         "metadata": {},
         "minzoom": 16,
         "paint": {
          "icon-halo-blur": 1,
          "icon-halo-color": "rgba(255, 255, 255, 1)",
          "icon-halo-width": 0.5,
          "icon-opacity": 1,
          "text-color": "#0066ff",
          "text-halo-blur": 0.5,
          "text-halo-color": "#ffffff",
          "text-halo-width": 1
         },
         "source": "openmaptiles",
         "source-layer": "poi",
         "type": "symbol"
        },
        {
         "filter": [
          "all",
          [
           "in",
           "class",
           "lodging",
           "campsite"
          ]
         ],
         "id": "poi_accommodation",
         "layout": {
          "icon-allow-overlap": false,
          "icon-image": "{subclass}",
          "text-anchor": "top",
          "text-field": {
           "stops": [
            [
             17,
             ""
            ],
            [
             18,
             "{name:latin}\n{name:nonlatin}"
            ]
           ]
          },
          "text-font": [
           "Open Sans Semibold",
           "Open Sans Bold"
          ],
          "text-max-width": 9,
          "text-offset": [
           0,
           0.6
          ],
          "text-padding": 2,
          "text-size": {
           "stops": [
            [
             15,
             10
            ],
            [
             20,
             11
            ]
           ]
          },
          "visibility": "visible"
         },
         "metadata": {},
         "minzoom": 17,
         "paint": {
          "icon-halo-blur": 1,
          "icon-halo-color": "rgba(255, 255, 255, 1)",
          "icon-halo-width": 0.5,
          "icon-opacity": 1,
          "text-color": "#0066ff",
          "text-halo-blur": 0.5,
          "text-halo-color": "#ffffff",
          "text-halo-width": 1
         },
         "source": "openmaptiles",
         "source-layer": "poi",
         "type": "symbol"
        },
        {
         "filter": [
          "all",
          [
           "==",
           "class",
           "place_of_worship"
          ]
         ],
         "id": "poi_place_of_worship",
         "layout": {
          "icon-allow-overlap": false,
          "icon-image": "{subclass}",
          "icon-size": 1,
          "text-allow-overlap": false,
          "text-anchor": "top",
          "text-field": {
           "stops": [
            [
             15,
             ""
            ],
            [
             16,
             "{name:latin}\n{name:nonlatin}"
            ]
           ]
          },
          "text-font": [
           "Open Sans Semibold",
           "Open Sans Bold"
          ],
          "text-max-width": 9,
          "text-offset": [
           0,
           1.2
          ],
          "text-padding": 2,
          "text-size": {
           "stops": [
            [
             15,
             10
            ],
            [
             20,
             12
            ]
           ]
          },
          "visibility": "visible"
         },
         "metadata": {},
         "minzoom": 16,
         "paint": {
          "text-color": "rgba(56, 56, 71, 1)",
          "text-halo-blur": 0.5,
          "text-halo-color": "#ffffff",
          "text-halo-width": 1
         },
         "source": "openmaptiles",
         "source-layer": "poi",
         "type": "symbol"
        },
        {
         "filter": [
          "all",
          [
           "in",
           "class",
           "bus"
          ]
         ],
         "id": "poi_busstop",
         "layout": {
          "icon-allow-overlap": false,
          "icon-anchor": "bottom",
          "icon-image": "bus_stop.12",
          "icon-keep-upright": true,
          "icon-pitch-alignment": "viewport",
          "icon-size": 1,
          "icon-text-fit": "none",
          "text-anchor": "top",
          "text-field": "{name:latin}\n{name:nonlatin}",
          "text-font": [
           "Open Sans Regular",
           "Open Sans Regular"
          ],
          "text-max-width": 14,
          "text-padding": 2,
          "text-size": {
           "stops": [
            [
             15,
             10
            ],
            [
             20,
             11
            ]
           ]
          },
          "visibility": "visible"
         },
         "metadata": {},
         "minzoom": 17,
         "paint": {
          "icon-translate": [
           0,
           0
          ],
          "icon-translate-anchor": "map",
          "text-color": "#0066ff",
          "text-halo-color": "rgba(255, 255, 255, 1)",
          "text-halo-width": 0.8,
          "text-translate": [
           0,
           4
          ],
          "text-translate-anchor": "viewport"
         },
         "source": "openmaptiles",
         "source-layer": "poi",
         "type": "symbol"
        },
        {
         "filter": [
          "all",
          [
           "in",
           "class",
           "bus"
          ],
          [
           "!in",
           "subclass",
           "bus_stop"
          ]
         ],
         "id": "poi_bus",
         "layout": {
          "icon-allow-overlap": false,
          "icon-anchor": "bottom",
          "icon-image": "{subclass}",
          "icon-keep-upright": true,
          "icon-offset": [
           0,
           0
          ],
          "icon-pitch-alignment": "viewport",
          "icon-size": 1,
          "icon-text-fit": "none",
          "text-anchor": "center",
          "text-field": "{name:latin}\n{name:nonlatin}",
          "text-font": [
           "Open Sans Bold",
           "Open Sans Regular"
          ],
          "text-max-width": 14,
          "text-padding": 2,
          "text-size": 11,
          "visibility": "visible"
         },
         "metadata": {},
         "minzoom": 17,
         "paint": {
          "icon-translate": [
           0,
           0
          ],
          "icon-translate-anchor": "map",
          "text-color": "#0066ff",
          "text-halo-color": "rgba(255, 255, 255, 1)",
          "text-halo-width": 0.8,
          "text-translate": [
           0,
           5
          ],
          "text-translate-anchor": "viewport"
         },
         "source": "openmaptiles",
         "source-layer": "poi",
         "type": "symbol"
        },
        {
         "filter": [
          "all",
          [
           "==",
           "class",
           "harbor"
          ]
         ],
         "id": "poi_harbor",
         "layout": {
          "icon-allow-overlap": false,
          "text-anchor": "top",
          "text-field": "{name:latin}\n{name:nonlatin}",
          "text-font": [
           "Open Sans Semibold Italic",
           "Open Sans Bold"
          ],
          "text-max-width": 6,
          "text-padding": 2,
          "text-size": {
           "stops": [
            [
             14,
             13
            ],
            [
             20,
             16
            ]
           ]
          },
          "visibility": "visible"
         },
         "metadata": {},
         "minzoom": 16,
         "paint": {
          "icon-halo-blur": 1,
          "icon-halo-color": "rgba(255, 255, 255, 1)",
          "icon-halo-width": 0.2,
          "icon-opacity": 1,
          "text-color": "#576ddf",
          "text-halo-blur": 0.1,
          "text-halo-color": "#ffffff",
          "text-halo-width": 0.3
         },
         "source": "openmaptiles",
         "source-layer": "poi",
         "type": "symbol"
        },
        {
         "filter": [
          "all",
          [
           "==",
           "class",
           "shop"
          ],
          [
           "==",
           "subclass",
           "mall"
          ]
         ],
         "id": "poi_mall",
         "layout": {
          "icon-allow-overlap": false,
          "text-anchor": "top",
          "text-field": "{name:latin}\n{name:nonlatin}",
          "text-font": [
           "Open Sans Semibold Italic",
           "Open Sans Semibold"
          ],
          "text-max-width": 9,
          "text-offset": [
           0,
           1.1
          ],
          "text-padding": 2,
          "text-size": {
           "stops": [
            [
             15,
             12
            ],
            [
             20,
             16
            ]
           ]
          },
          "visibility": "visible"
         },
         "metadata": {},
         "minzoom": 15,
         "paint": {
          "icon-halo-blur": 1,
          "icon-halo-color": "rgba(255, 255, 255, 1)",
          "icon-halo-width": 0.5,
          "icon-opacity": 1,
          "text-color": "#d11700",
          "text-halo-blur": 0.5,
          "text-halo-color": "#ffffff",
          "text-halo-width": 1
         },
         "source": "openmaptiles",
         "source-layer": "poi",
         "type": "symbol"
        },
        {
         "filter": [
          "all",
          [
           "in",
           "class",
           "railway"
          ]
         ],
         "id": "poi_train",
         "layout": {
          "icon-allow-overlap": false,
          "icon-anchor": "bottom",
          "icon-image": "square_train",
          "icon-offset": [
           0,
           0
          ],
          "icon-pitch-alignment": "viewport",
          "icon-size": 1,
          "icon-text-fit": "none",
          "text-allow-overlap": false,
          "text-anchor": "center",
          "text-field": "{name:latin}\n{name:nonlatin}",
          "text-font": [
           "Open Sans Bold",
           "Open Sans Regular"
          ],
          "text-max-width": 12,
          "text-offset": [
           0,
           0.5
          ],
          "text-padding": 2,
          "text-size": 11,
          "visibility": "visible"
         },
         "metadata": {},
         "minzoom": 10,
         "paint": {
          "icon-translate": [
           0,
           0
          ],
          "icon-translate-anchor": "map",
          "text-color": "#4957ad",
          "text-halo-color": "rgba(255, 255, 255, 1)",
          "text-halo-width": 0.8,
          "text-translate": [
           0,
           1
          ],
          "text-translate-anchor": "viewport"
         },
         "source": "openmaptiles",
         "source-layer": "poi",
         "type": "symbol"
        },
        {
         "filter": [
          "all",
          [
           "==",
           "oneway",
           1
          ],
          [
           "==",
           "class",
           "path"
          ],
          [
           "==",
           "subclass",
           "cycleway"
          ]
         ],
         "id": "road_path-cycleway_oneway",
         "layout": {
          "icon-image": "oneway-cycleway",
          "icon-padding": 2,
          "icon-rotation-alignment": "map",
          "icon-size": {
           "stops": [
            [
             15,
             0.7
            ],
            [
             20,
             1
            ]
           ]
          },
          "symbol-placement": "line",
          "symbol-spacing": 125,
          "visibility": "visible"
         },
         "minzoom": 15,
         "paint": {
          "icon-opacity": 1
         },
         "source": "openmaptiles",
         "source-layer": "transportation",
         "type": "symbol"
        },
        {
         "filter": [
          "all",
          [
           "==",
           "oneway",
           1
          ],
          [
           "in",
           "class",
           "motorway",
           "trunk",
           "primary",
           "secondary",
           "tertiary",
           "minor",
           "service"
          ]
         ],
         "id": "road_oneway",
         "layout": {
          "icon-image": "oneway",
          "icon-padding": 2,
          "icon-rotation-alignment": "map",
          "icon-size": {
           "stops": [
            [
             15,
             0.8
            ],
            [
             20,
             1
            ]
           ]
          },
          "symbol-placement": "line",
          "symbol-spacing": 95,
          "visibility": "visible"
         },
         "minzoom": 15,
         "paint": {
          "icon-opacity": 1
         },
         "source": "openmaptiles",
         "source-layer": "transportation",
         "type": "symbol"
        },
        {
         "filter": [
          "all",
          [
           "==",
           "oneway",
           -1
          ],
          [
           "in",
           "class",
           "motorway",
           "trunk",
           "primary",
           "secondary",
           "tertiary",
           "minor",
           "service"
          ]
         ],
         "id": "road_oneway_opposite",
         "layout": {
          "icon-image": "oneway",
          "icon-padding": 2,
          "icon-rotate": -90,
          "icon-rotation-alignment": "map",
          "icon-size": {
           "stops": [
            [
             15,
             0.5
            ],
            [
             19,
             1
            ]
           ]
          },
          "symbol-placement": "line",
          "symbol-spacing": 75,
          "visibility": "visible"
         },
         "minzoom": 15,
         "paint": {
          "icon-opacity": 0.5
         },
         "source": "openmaptiles",
         "source-layer": "transportation",
         "type": "symbol"
        },
        {
         "filter": [
          "all",
          [
           "==",
           "subclass",
           "ferry"
          ]
         ],
         "id": "ferry_label",
         "layout": {
          "symbol-placement": "line",
          "text-anchor": "center",
          "text-field": "{name}",
          "text-font": [
           "Open Sans Regular",
           "Open Sans Regular"
          ],
          "text-offset": [
           0,
           0
          ],
          "text-size": 10
         },
         "metadata": {},
         "minzoom": 14,
         "paint": {
          "text-color": "#6666ff",
          "text-halo-blur": 1,
          "text-halo-color": "rgba(255, 255, 255, 0.34)",
          "text-halo-width": 1
         },
         "source": "openmaptiles",
         "source-layer": "transportation_name",
         "type": "symbol"
        },
        {
         "filter": [
          "all",
          [
           "!=",
           "subclass",
           "ferry"
          ]
         ],
         "id": "road_label",
         "layout": {
          "symbol-placement": "line",
          "text-anchor": "center",
          "text-field": "{name}",
          "text-font": [
           "Open Sans Regular",
           "Open Sans Regular"
          ],
          "text-offset": [
           0,
           0
          ],
          "text-size": {
           "base": 1,
           "stops": [
            [
             14,
             9
            ],
            [
             18,
             13
            ]
           ]
          }
         },
         "metadata": {},
         "minzoom": 14,
         "paint": {
          "text-color": "#000000",
          "text-halo-color": "rgba(255, 255, 255, 0.97)",
          "text-halo-width": 1
         },
         "source": "openmaptiles",
         "source-layer": "transportation_name",
         "type": "symbol"
        },
        {
         "filter": [
          "all",
          [
           "==",
           "$type",
           "LineString"
          ],
          [
           "==",
           "class",
           "tertiary"
          ],
          [
           "has",
           "ref"
          ]
         ],
         "id": "highway-shield-tertiary",
         "layout": {
          "icon-anchor": "center",
          "icon-image": "road_tertiary",
          "icon-padding": 2,
          "icon-rotation-alignment": "viewport",
          "icon-size": 1,
          "icon-text-fit": "both",
          "icon-text-fit-padding": [
           3,
           4,
           3,
           4
          ],
          "symbol-avoid-edges": true,
          "symbol-placement": {
           "base": 1,
           "stops": [
            [
             10,
             "point"
            ],
            [
             11,
             "line"
            ]
           ]
          },
          "symbol-spacing": 560,
          "text-field": "{ref}",
          "text-font": [
           "Noto Sans Regular"
          ],
          "text-rotation-alignment": "viewport",
          "text-size": {
           "stops": [
            [
             9,
             10
            ],
            [
             15,
             11
            ],
            [
             17,
             12
            ]
           ]
          },
          "visibility": "visible"
         },
         "minzoom": 9,
         "paint": {
          "text-color": "#3b3b3b"
         },
         "source": "openmaptiles",
         "source-layer": "transportation_name",
         "type": "symbol"
        },
        {
         "filter": [
          "all",
          [
           "==",
           "$type",
           "LineString"
          ],
          [
           "==",
           "class",
           "secondary"
          ],
          [
           "has",
           "ref"
          ]
         ],
         "id": "highway-shield-secondary",
         "layout": {
          "icon-anchor": "center",
          "icon-image": "road_secondary",
          "icon-padding": 2,
          "icon-rotation-alignment": "viewport",
          "icon-size": 1,
          "icon-text-fit": "both",
          "icon-text-fit-padding": [
           3,
           4,
           3,
           4
          ],
          "symbol-avoid-edges": true,
          "symbol-placement": {
           "base": 1,
           "stops": [
            [
             10,
             "point"
            ],
            [
             11,
             "line"
            ]
           ]
          },
          "symbol-spacing": 560,
          "text-field": "{ref}",
          "text-font": [
           "Noto Sans Regular"
          ],
          "text-rotation-alignment": "viewport",
          "text-size": {
           "stops": [
            [
             9,
             10
            ],
            [
             15,
             11
            ],
            [
             17,
             12
            ]
           ]
          },
          "visibility": "visible"
         },
         "minzoom": 9,
         "paint": {
          "text-color": "#323b00"
         },
         "source": "openmaptiles",
         "source-layer": "transportation_name",
         "type": "symbol"
        },
        {
         "filter": [
          "all",
          [
           "==",
           "$type",
           "LineString"
          ],
          [
           "==",
           "class",
           "primary"
          ],
          [
           "has",
           "ref"
          ]
         ],
         "id": "highway-shield-primary",
         "layout": {
          "icon-anchor": "center",
          "icon-image": "road_primary",
          "icon-padding": 2,
          "icon-rotation-alignment": "viewport",
          "icon-size": 1,
          "icon-text-fit": "both",
          "icon-text-fit-padding": [
           3,
           4,
           3,
           4
          ],
          "symbol-avoid-edges": true,
          "symbol-placement": {
           "base": 1,
           "stops": [
            [
             10,
             "point"
            ],
            [
             11,
             "line"
            ]
           ]
          },
          "symbol-spacing": 560,
          "text-field": "{ref}",
          "text-font": [
           "Noto Sans Regular"
          ],
          "text-rotation-alignment": "viewport",
          "text-size": {
           "stops": [
            [
             9,
             10
            ],
            [
             15,
             11
            ],
            [
             17,
             12
            ]
           ]
          },
          "visibility": "visible"
         },
         "minzoom": 9,
         "paint": {
          "text-color": "#4c2e00"
         },
         "source": "openmaptiles",
         "source-layer": "transportation_name",
         "type": "symbol"
        },
        {
         "filter": [
          "all",
          [
           "==",
           "$type",
           "LineString"
          ],
          [
           "==",
           "class",
           "motorway"
          ],
          [
           "has",
           "ref"
          ]
         ],
         "id": "highway-shield-motorway",
         "layout": {
          "icon-anchor": "center",
          "icon-image": "road_motorway",
          "icon-padding": 2,
          "icon-rotation-alignment": "viewport",
          "icon-size": 1,
          "icon-text-fit": "both",
          "icon-text-fit-padding": [
           3,
           4,
           3,
           4
          ],
          "symbol-avoid-edges": true,
          "symbol-placement": {
           "base": 1,
           "stops": [
            [
             10,
             "point"
            ],
            [
             11,
             "line"
            ]
           ]
          },
          "symbol-spacing": 760,
          "text-field": "{ref}",
          "text-font": [
           "Noto Sans Regular"
          ],
          "text-keep-upright": true,
          "text-max-width": 10,
          "text-optional": false,
          "text-rotation-alignment": "viewport",
          "text-size": {
           "stops": [
            [
             9,
             10
            ],
            [
             15,
             11
            ],
            [
             17,
             12
            ]
           ]
          },
          "visibility": "visible"
         },
         "minzoom": 9,
         "paint": {
          "text-color": "#620728"
         },
         "source": "openmaptiles",
         "source-layer": "transportation_name",
         "type": "symbol"
        },
        {
         "filter": [
          "all",
          [
           "has",
           "iata"
          ]
         ],
         "id": "airport-label-major",
         "layout": {
          "icon-allow-overlap": false,
          "icon-image": "aerodrome.12",
          "icon-size": 1,
          "symbol-z-order": "auto",
          "text-allow-overlap": false,
          "text-anchor": "top",
          "text-field": {
           "stops": [
            [
             8,
             " "
            ],
            [
             11,
             "{name:latin}\n{name:nonlatin}"
            ]
           ]
          },
          "text-font": [
           "Open Sans Italic"
          ],
          "text-max-width": 9,
          "text-offset": [
           0,
           0.6
          ],
          "text-optional": true,
          "text-padding": 2,
          "text-size": {
           "stops": [
            [
             8,
             10
            ],
            [
             14,
             12
            ]
           ]
          },
          "visibility": "visible"
         },
         "maxzoom": 17,
         "minzoom": 8,
         "paint": {
          "text-color": "#5e3b9e",
          "text-halo-blur": 0.5,
          "text-halo-color": "rgba(255, 255, 255, 0.8)",
          "text-halo-width": 1
         },
         "source": "openmaptiles",
         "source-layer": "aerodrome_label",
         "type": "symbol"
        },
        {
         "filter": [
          "all",
          [
           "in",
           "class",
           "runway",
           "taxiway"
          ]
         ],
         "id": "airport_label",
         "layout": {
          "symbol-placement": "line",
          "text-field": "{ref}",
          "text-font": [
           "Open Sans Italic",
           "Open Sans Regular"
          ],
          "text-size": {
           "stops": [
            [
             15,
             9
            ],
            [
             19,
             15
            ]
           ]
          },
          "visibility": "visible"
         },
         "minzoom": 14,
         "paint": {
          "text-color": "#333333",
          "text-halo-color": "rgba(255, 255, 255, 0.8)",
          "text-halo-width": 1
         },
         "source": "openmaptiles",
         "source-layer": "aeroway",
         "type": "symbol"
        },
        {
         "filter": [
          "all",
          [
           "==",
           "class",
           "gate"
          ]
         ],
         "id": "airport_gate",
         "layout": {
          "text-field": "{ref}",
          "text-font": [
           "Open Sans Semibold",
           "Noto Sans Regular"
          ],
          "text-size": {
           "stops": [
            [
             17,
             9
            ],
            [
             19,
             15
            ]
           ]
          },
          "visibility": "visible"
         },
         "minzoom": 16.5,
         "paint": {
          "text-color": "rgba(135, 135, 135, 1)",
          "text-halo-color": "rgba(255, 255, 255, 1)",
          "text-halo-width": 1
         },
         "source": "openmaptiles",
         "source-layer": "aeroway",
         "type": "symbol"
        },
        {
         "filter": [
          "all",
          [
           "in",
           "class",
           "hamlet",
           "island",
           "islet",
           "neighbourhood",
           "suburb"
          ]
         ],
         "id": "place_other",
         "layout": {
          "symbol-spacing": 150,
          "text-field": "{name:latin}\n{name:nonlatin}",
          "text-font": [
           "Open Sans Semibold",
           "Open Sans Regular"
          ],
          "text-max-width": 10,
          "text-size": {
           "base": 1.2,
           "stops": [
            [
             11,
             10
            ],
            [
             14,
             14
            ],
            [
             18,
             16
            ]
           ]
          },
          "text-transform": "none",
          "visibility": "visible"
         },
         "metadata": {},
         "minzoom": 8,
         "paint": {
          "text-color": {
           "stops": [
            [
             12.5,
             "#222222"
            ],
            [
             12.6,
             "#777777"
            ]
           ]
          },
          "text-halo-blur": 0,
          "text-halo-color": {
           "stops": [
            [
             11,
             "rgba(255,255,255,0.6)"
            ],
            [
             13,
             "#ffffff"
            ]
           ]
          },
          "text-halo-width": {
           "stops": [
            [
             8,
             0.8
            ],
            [
             13,
             1.5
            ]
           ]
          }
         },
         "source": "openmaptiles",
         "source-layer": "place",
         "type": "symbol"
        },
        {
         "filter": [
          "all",
          [
           "==",
           "class",
           "park"
          ],
          [
           "==",
           "subclass",
           "park"
          ]
         ],
         "id": "park-local",
         "layout": {
          "symbol-spacing": 150,
          "text-allow-overlap": false,
          "text-field": "{name:latin}{name:nonlatin}",
          "text-font": [
           "Open Sans Semibold Italic",
           "Open Sans Italic"
          ],
          "text-max-width": {
           "stops": [
            [
             12,
             5
            ],
            [
             18,
             8
            ]
           ]
          },
          "text-size": {
           "stops": [
            [
             15,
             10
            ],
            [
             20,
             13
            ]
           ]
          },
          "visibility": "visible"
         },
         "minzoom": 15,
         "paint": {
          "text-color": "#0c8416",
          "text-halo-blur": 0.5,
          "text-halo-color": "rgba(255, 255, 255, 1)",
          "text-halo-width": 1
         },
         "source": "openmaptiles",
         "source-layer": "poi",
         "type": "symbol"
        },
        {
         "filter": [
          "all",
          [
           "<=",
           "rank",
           2
          ]
         ],
         "id": "park-national",
         "layout": {
          "symbol-spacing": 150,
          "text-allow-overlap": false,
          "text-field": "{name:latin}{name:nonlatin}",
          "text-font": [
           "Open Sans Semibold Italic",
           "Open Sans Italic"
          ],
          "text-size": 12,
          "visibility": "visible"
         },
         "maxzoom": 12,
         "minzoom": 7,
         "paint": {
          "text-color": {
           "stops": [
            [
             7,
             "rgba(70, 164, 70, 1)"
            ],
            [
             10,
             "#008000"
            ]
           ]
          },
          "text-halo-blur": 0.1,
          "text-halo-color": {
           "stops": [
            [
             7,
             "rgba(241, 255, 234, 1)"
            ],
            [
             10,
             "rgba(208, 250, 200, 1)"
            ]
           ]
          },
          "text-halo-width": 0.3
         },
         "source": "openmaptiles",
         "source-layer": "park",
         "type": "symbol"
        },
        {
         "filter": [
          "all",
          [
           "==",
           "class",
           "zoo"
          ],
          [
           "==",
           "subclass",
           "zoo"
          ]
         ],
         "id": "poi_zoo",
         "layout": {
          "icon-allow-overlap": true,
          "icon-image": "{subclass}",
          "text-anchor": "top",
          "text-field": "{name}",
          "text-font": [
           "Open Sans Bold",
           "Open Sans Bold"
          ],
          "text-max-width": 6,
          "text-offset": [
           0,
           1.2
          ],
          "text-padding": 2,
          "text-size": {
           "stops": [
            [
             15,
             12
            ],
            [
             20,
             16
            ]
           ]
          },
          "visibility": "visible"
         },
         "metadata": {},
         "minzoom": 11,
         "paint": {
          "icon-halo-blur": 1,
          "icon-halo-color": "rgba(255, 255, 255, 1)",
          "icon-halo-width": 0.5,
          "icon-opacity": 1,
          "text-color": "#660033",
          "text-halo-blur": 0.5,
          "text-halo-color": "#ffffff",
          "text-halo-width": 1
         },
         "source": "openmaptiles",
         "source-layer": "poi",
         "type": "symbol"
        },
        {
         "id": "mountain_peak",
         "layout": {
          "icon-image": "peak",
          "text-anchor": "top",
          "text-field": {
           "stops": [
            [
             6,
             " "
            ],
            [
             12,
             "{name} {ele}m"
            ]
           ]
          },
          "text-font": [
           "Open Sans Regular",
           "Open Sans Italic"
          ],
          "text-line-height": 1.1,
          "text-max-width": 6,
          "text-offset": [
           0,
           0.5
          ],
          "text-size": 10
         },
         "maxzoom": 16,
         "paint": {
          "text-color": "#6e441e",
          "text-halo-color": "rgba(255, 255, 255, .8)",
          "text-halo-width": 1
         },
         "source": "openmaptiles",
         "source-layer": "mountain_peak",
         "type": "symbol"
        },
        {
         "filter": [
          "all",
          [
           "==",
           "class",
           "village"
          ]
         ],
         "id": "place_village",
         "layout": {
          "text-field": "{name:latin}\n{name:nonlatin}",
          "text-font": [
           "Open Sans Semibold",
           "Open Sans Regular"
          ],
          "text-max-width": 8,
          "text-size": {
           "base": 1.2,
           "stops": [
            [
             10,
             10
            ],
            [
             15,
             16
            ]
           ]
          },
          "visibility": "visible"
         },
         "metadata": {},
         "minzoom": 8,
         "paint": {
          "text-color": "#333",
          "text-halo-color": "rgba(255,255,255,0.8)",
          "text-halo-width": 1.2
         },
         "source": "openmaptiles",
         "source-layer": "place",
         "type": "symbol"
        },
        {
         "filter": [
          "all",
          [
           "==",
           "class",
           "town"
          ]
         ],
         "id": "place_town",
         "layout": {
          "text-anchor": "bottom",
          "text-field": "{name:latin}\n{name:nonlatin}",
          "text-font": [
           "Open Sans Semibold",
           "Open Sans Regular"
          ],
          "text-max-width": 8,
          "text-offset": [
           0,
           0
          ],
          "text-size": {
           "base": 1.2,
           "stops": [
            [
             7,
             10
            ],
            [
             11,
             13
            ]
           ]
          },
          "visibility": "visible"
         },
         "metadata": {},
         "minzoom": 6,
         "paint": {
          "text-color": "#333",
          "text-halo-color": "rgba(255,255,255,0.8)",
          "text-halo-width": 1.2
         },
         "source": "openmaptiles",
         "source-layer": "place",
         "type": "symbol"
        },
        {
         "filter": [
          "all",
          [
           "==",
           "class",
           "state"
          ],
          [
           "<",
           "rank",
           3
          ]
         ],
         "id": "place_state",
         "layout": {
          "text-field": "{name:latin}",
          "text-font": [
           "Open Sans Regular",
           "Open Sans Bold"
          ],
          "text-letter-spacing": 0,
          "text-padding": 2,
          "text-size": {
           "stops": [
            [
             3,
             10
            ],
            [
             6,
             14
            ]
           ]
          },
          "text-transform": "none",
          "visibility": "visible"
         },
         "maxzoom": 12,
         "metadata": {},
         "minzoom": 4,
         "paint": {
          "text-color": "#7e587d",
          "text-halo-color": "rgba(255,255,255,0.7)",
          "text-halo-width": 0.8
         },
         "source": "openmaptiles",
         "source-layer": "place",
         "type": "symbol"
        },
        {
         "filter": [
          "all",
          [
           "==",
           "class",
           "city"
          ],
          [
           "!=",
           "rank",
           1
          ]
         ],
         "id": "place_city",
         "layout": {
          "icon-allow-overlap": true,
          "icon-image": {
           "stops": [
            [
             4,
             "place-6"
            ],
            [
             7,
             " "
            ]
           ]
          },
          "icon-offset": [
           0,
           3
          ],
          "icon-optional": false,
          "text-anchor": "bottom",
          "text-field": "{name:latin}\n{name:nonlatin}",
          "text-font": [
           "Open Sans Semibold",
           "Open Sans Regular"
          ],
          "text-max-width": 8,
          "text-offset": [
           0,
           0
          ],
          "text-size": {
           "base": 1.2,
           "stops": [
            [
             4,
             12
            ],
            [
             15,
             18
            ]
           ]
          },
          "visibility": "visible"
         },
         "maxzoom": 14,
         "metadata": {},
         "minzoom": 4,
         "paint": {
          "text-color": {
           "stops": [
            [
             6,
             "rgba(88, 88, 88, 1)"
            ],
            [
             14,
             "rgba(32, 32, 32, 1)"
            ]
           ]
          },
          "text-halo-color": "rgba(255,255,255,0.8)",
          "text-halo-width": 1
         },
         "source": "openmaptiles",
         "source-layer": "place",
         "type": "symbol"
        },
        {
         "filter": [
          "all",
          [
           "==",
           "class",
           "city"
          ],
          [
           "in",
           "capital",
           1,
           2
          ]
         ],
         "id": "place_capital",
         "layout": {
          "icon-allow-overlap": true,
          "icon-image": {
           "stops": [
            [
             6,
             "place-capital-8"
            ],
            [
             8,
             ""
            ]
           ]
          },
          "icon-offset": [
           0,
           3
          ],
          "icon-optional": false,
          "icon-size": 1,
          "text-anchor": "bottom",
          "text-field": "{name:latin}\n{name:nonlatin}",
          "text-font": [
           "Open Sans Semibold",
           "Open Sans Regular"
          ],
          "text-max-width": 8,
          "text-offset": [
           0,
           0
          ],
          "text-size": {
           "base": 1.2,
           "stops": [
            [
             4,
             11
            ],
            [
             12,
             16
            ]
           ]
          },
          "visibility": "visible"
         },
         "maxzoom": 15,
         "metadata": {},
         "minzoom": 3,
         "paint": {
          "text-color": {
           "stops": [
            [
             6,
             "rgba(73, 73, 73, 1)"
            ],
            [
             14,
             "rgba(32, 32, 32, 1)"
            ]
           ]
          },
          "text-halo-color": "rgba(255,255,255,0.8)",
          "text-halo-width": 1.2
         },
         "source": "openmaptiles",
         "source-layer": "place",
         "type": "symbol"
        },
        {
         "filter": [
          "all",
          [
           "==",
           "class",
           "country"
          ],
          [
           "!has",
           "iso_a2"
          ]
         ],
         "id": "country_other",
         "layout": {
          "text-field": "{name:latin}",
          "text-font": [
           "Noto Sans Regular",
           "Open Sans Regular"
          ],
          "text-max-width": 6.25,
          "text-size": {
           "stops": [
            [
             3,
             11
            ],
            [
             5,
             13
            ],
            [
             7,
             20
            ]
           ]
          },
          "text-transform": "none",
          "visibility": "visible"
         },
         "maxzoom": 15,
         "metadata": {},
         "minzoom": 4,
         "paint": {
          "text-color": "rgba(131, 81, 130, 1)",
          "text-halo-blur": 1,
          "text-halo-color": "rgba(255,255,255,0.8)",
          "text-halo-width": 0.8
         },
         "source": "openmaptiles",
         "source-layer": "place",
         "type": "symbol"
        },
        {
         "filter": [
          "all",
          [
           ">=",
           "rank",
           3
          ],
          [
           "==",
           "class",
           "country"
          ],
          [
           "has",
           "iso_a2"
          ]
         ],
         "id": "country_3",
         "layout": {
          "text-field": "{name:latin}",
          "text-font": [
           "Open Sans Semibold",
           "Open Sans Bold"
          ],
          "text-max-width": 6.25,
          "text-size": {
           "stops": [
            [
             3,
             11
            ],
            [
             5,
             13
            ],
            [
             7,
             17
            ]
           ]
          },
          "text-transform": "none",
          "visibility": "visible"
         },
         "maxzoom": 12,
         "metadata": {},
         "minzoom": 5,
         "paint": {
          "text-color": {
           "stops": [
            [
             3,
             "rgba(108, 78, 107, 1)"
            ],
            [
             10,
             "rgba(57, 37, 73, 1)"
            ]
           ]
          },
          "text-halo-blur": 1,
          "text-halo-color": "rgba(255,255,255,0.8)",
          "text-halo-width": 0.8
         },
         "source": "openmaptiles",
         "source-layer": "place",
         "type": "symbol"
        },
        {
         "filter": [
          "all",
          [
           "==",
           "rank",
           2
          ],
          [
           "==",
           "class",
           "country"
          ],
          [
           "has",
           "iso_a2"
          ]
         ],
         "id": "country_2",
         "layout": {
          "text-field": "{name:latin}",
          "text-font": [
           "Open Sans Semibold",
           "Open Sans Bold"
          ],
          "text-max-width": 6.25,
          "text-size": {
           "stops": [
            [
             3,
             11
            ],
            [
             5,
             14
            ],
            [
             7,
             19
            ]
           ]
          },
          "text-transform": "none",
          "visibility": "visible"
         },
         "maxzoom": 12,
         "metadata": {},
         "minzoom": 2,
         "paint": {
          "text-color": {
           "stops": [
            [
             3,
             "rgba(108, 78, 107, 1)"
            ],
            [
             10,
             "rgba(57, 37, 73, 1)"
            ]
           ]
          },
          "text-halo-blur": 1,
          "text-halo-color": "rgba(255,255,255,0.8)",
          "text-halo-width": 0.8
         },
         "source": "openmaptiles",
         "source-layer": "place",
         "type": "symbol"
        },
        {
         "filter": [
          "all",
          [
           "==",
           "rank",
           1
          ],
          [
           "==",
           "class",
           "country"
          ],
          [
           "has",
           "iso_a2"
          ]
         ],
         "id": "country_1",
         "layout": {
          "text-field": "{name:latin}",
          "text-font": [
           "Open Sans Semibold",
           "Open Sans Bold"
          ],
          "text-max-width": 6.25,
          "text-size": {
           "stops": [
            [
             3,
             11
            ],
            [
             5,
             14
            ],
            [
             7,
             19
            ]
           ]
          },
          "text-transform": "none",
          "visibility": "visible"
         },
         "maxzoom": 12,
         "metadata": {},
         "minzoom": 2,
         "paint": {
          "text-color": {
           "stops": [
            [
             2,
             "rgba(108, 78, 107, 1)"
            ],
            [
             10,
             "rgba(57, 37, 73, 1)"
            ]
           ]
          },
          "text-halo-blur": 1,
          "text-halo-color": "rgba(255,255,255,0.8)",
          "text-halo-width": 0.8
         },
         "source": "openmaptiles",
         "source-layer": "place",
         "type": "symbol"
        }
       ],
       "metadata": {
        "maptiler:copyright": "This style was generated on MapTiler Cloud. Usage outside of MapTiler Cloud requires valid MapTiler Data Package: https://www.maptiler.com/data/package/ -- please contact us."
       },
       "name": "OpenStreetMap",
       "pitch": 0,
       "sources": {
        "openmaptiles": {
         "type": "vector",
         "url": "https://api.maptiler.com/tiles/v3-openmaptiles/tiles.json?key=a8pvGnJGI7rkOKPR0zDE"
        }
       },
       "sprite": "https://api.maptiler.com/maps/openstreetmap/sprite",
       "version": 8,
       "zoom": 0.7418741168636303
      },
      "text/plain": [
       "<IPython.core.display.JSON object>"
      ]
     },
     "execution_count": 5,
     "metadata": {
      "application/json": {
       "expanded": false,
       "root": "root"
      }
     },
     "output_type": "execute_result"
    }
   ],
   "source": [
    "JSON(data)"
   ]
  },
  {
   "cell_type": "code",
   "execution_count": 11,
   "id": "42f4dcd2-2812-4d47-afc2-8124b1882248",
   "metadata": {},
   "outputs": [
    {
     "data": {
      "text/plain": [
       "['aeroway_fill',\n",
       " 'aeroway_runway',\n",
       " 'aeroway_taxiway',\n",
       " 'airport-label-major',\n",
       " 'airport_gate',\n",
       " 'airport_label',\n",
       " 'background',\n",
       " 'boundary_2_z0-4',\n",
       " 'boundary_2_z5',\n",
       " 'boundary_2_z5_disputed',\n",
       " 'boundary_2_z5_disputed_maritime',\n",
       " 'boundary_2_z5_maritime',\n",
       " 'boundary_3',\n",
       " 'bridge_link',\n",
       " 'bridge_link_casing',\n",
       " 'bridge_major_rail',\n",
       " 'bridge_major_rail_hatching',\n",
       " 'bridge_minor',\n",
       " 'bridge_minor_construction',\n",
       " 'bridge_motorway',\n",
       " 'bridge_motorway_casing',\n",
       " 'bridge_motorway_construction',\n",
       " 'bridge_motorway_link',\n",
       " 'bridge_motorway_link_casing',\n",
       " 'bridge_path_cycleway',\n",
       " 'bridge_path_cycleway_casing',\n",
       " 'bridge_path_footway',\n",
       " 'bridge_path_footway_casing',\n",
       " 'bridge_primary',\n",
       " 'bridge_primary_casing',\n",
       " 'bridge_secondary',\n",
       " 'bridge_secondary_casing',\n",
       " 'bridge_secondary_construction-copy',\n",
       " 'bridge_service_track',\n",
       " 'bridge_service_track_casing',\n",
       " 'bridge_service_track_construction',\n",
       " 'bridge_street_casing',\n",
       " 'bridge_tertiary',\n",
       " 'bridge_tertiary_casing',\n",
       " 'bridge_tertiary_construction',\n",
       " 'bridge_trunk',\n",
       " 'bridge_trunk_casing',\n",
       " 'bridge_trunk_primary_construction',\n",
       " 'building',\n",
       " 'cablecar',\n",
       " 'cablecar-dash',\n",
       " 'country_1',\n",
       " 'country_2',\n",
       " 'country_3',\n",
       " 'country_other',\n",
       " 'ferry',\n",
       " 'ferry_label',\n",
       " 'highway-shield-motorway',\n",
       " 'highway-shield-primary',\n",
       " 'highway-shield-secondary',\n",
       " 'highway-shield-tertiary',\n",
       " 'housenumber',\n",
       " 'landcover_class_outline',\n",
       " 'landcover_classes',\n",
       " 'landcover_cropland',\n",
       " 'landcover_forestland',\n",
       " 'landcover_grassland',\n",
       " 'landcover_ice',\n",
       " 'landcover_ice_outline',\n",
       " 'landcover_park',\n",
       " 'landcover_scrubland',\n",
       " 'landcover_snowland',\n",
       " 'landcover_subclass_outline',\n",
       " 'landcover_subclass_patterns',\n",
       " 'landcover_subclasses',\n",
       " 'landcover_treeland',\n",
       " 'landuse_class_outline',\n",
       " 'landuse_class_pattern',\n",
       " 'landuse_class_themepark',\n",
       " 'landuse_classes',\n",
       " 'landuse_residential',\n",
       " 'mountain_peak',\n",
       " 'national_parks',\n",
       " 'national_parks_thin',\n",
       " 'park-local',\n",
       " 'park-national',\n",
       " 'place_capital',\n",
       " 'place_city',\n",
       " 'place_other',\n",
       " 'place_state',\n",
       " 'place_town',\n",
       " 'place_village',\n",
       " 'poi_accommodation',\n",
       " 'poi_attraction',\n",
       " 'poi_bus',\n",
       " 'poi_busstop',\n",
       " 'poi_campsite',\n",
       " 'poi_car',\n",
       " 'poi_cemetery',\n",
       " 'poi_cultural',\n",
       " 'poi_ferry',\n",
       " 'poi_food',\n",
       " 'poi_golf',\n",
       " 'poi_harbor',\n",
       " 'poi_health',\n",
       " 'poi_hospital',\n",
       " 'poi_mall',\n",
       " 'poi_outdoor',\n",
       " 'poi_parking',\n",
       " 'poi_place_of_worship',\n",
       " 'poi_public',\n",
       " 'poi_school',\n",
       " 'poi_shop-z15',\n",
       " 'poi_shop-z17',\n",
       " 'poi_sport',\n",
       " 'poi_train',\n",
       " 'poi_waste',\n",
       " 'poi_water',\n",
       " 'poi_zoo',\n",
       " 'rail_major',\n",
       " 'rail_major_hatching',\n",
       " 'rail_minor',\n",
       " 'rail_minor_hatching',\n",
       " 'rail_subway',\n",
       " 'road_area_bridge',\n",
       " 'road_area_pedestrian',\n",
       " 'road_area_pier',\n",
       " 'road_area_platform',\n",
       " 'road_label',\n",
       " 'road_minor',\n",
       " 'road_minor_casing',\n",
       " 'road_minor_construction',\n",
       " 'road_motorway',\n",
       " 'road_motorway_casing',\n",
       " 'road_motorway_construction',\n",
       " 'road_motorway_link',\n",
       " 'road_motorway_link_casing',\n",
       " 'road_oneway',\n",
       " 'road_oneway_opposite',\n",
       " 'road_path-cycleway_oneway',\n",
       " 'road_path_cycleway',\n",
       " 'road_path_cycleway_casing',\n",
       " 'road_path_footway',\n",
       " 'road_path_footway_casing',\n",
       " 'road_pedestrian',\n",
       " 'road_pedestrian_casing',\n",
       " 'road_pier',\n",
       " 'road_primary',\n",
       " 'road_primary_casing',\n",
       " 'road_primary_construction',\n",
       " 'road_primary_link',\n",
       " 'road_primary_link_casing',\n",
       " 'road_secondary',\n",
       " 'road_secondary_casing',\n",
       " 'road_secondary_construction',\n",
       " 'road_secondary_link_casing',\n",
       " 'road_service_track',\n",
       " 'road_service_track_casing',\n",
       " 'road_service_track_construction',\n",
       " 'road_tertiary',\n",
       " 'road_tertiary_casing',\n",
       " 'road_tertiary_construction',\n",
       " 'road_trunk',\n",
       " 'road_trunk_casing',\n",
       " 'road_trunk_construction',\n",
       " 'road_trunk_link',\n",
       " 'road_trunk_link_casing',\n",
       " 'tunnel_link',\n",
       " 'tunnel_link_casing',\n",
       " 'tunnel_major_rail',\n",
       " 'tunnel_major_rail_hatching',\n",
       " 'tunnel_minor',\n",
       " 'tunnel_minor_construction',\n",
       " 'tunnel_motorway',\n",
       " 'tunnel_motorway_casing',\n",
       " 'tunnel_motorway_construction',\n",
       " 'tunnel_motorway_construction_casing',\n",
       " 'tunnel_motorway_link',\n",
       " 'tunnel_motorway_link_casing',\n",
       " 'tunnel_path_pedestrian',\n",
       " 'tunnel_primary',\n",
       " 'tunnel_primary_casing',\n",
       " 'tunnel_primary_construction',\n",
       " 'tunnel_secondary',\n",
       " 'tunnel_secondary_casing',\n",
       " 'tunnel_secondary_construction',\n",
       " 'tunnel_service_track',\n",
       " 'tunnel_service_track_casing',\n",
       " 'tunnel_service_track_construction',\n",
       " 'tunnel_street_casing',\n",
       " 'tunnel_tertiary',\n",
       " 'tunnel_tertiary_casing',\n",
       " 'tunnel_tertiary_construction',\n",
       " 'tunnel_trunk',\n",
       " 'tunnel_trunk_casing',\n",
       " 'tunnel_trunk_construction',\n",
       " 'tunnel_trunk_construction_casing',\n",
       " 'water',\n",
       " 'water_intermittent',\n",
       " 'water_name_line',\n",
       " 'water_name_point',\n",
       " 'water_way_name',\n",
       " 'waterway-bridge',\n",
       " 'waterway-bridge-case',\n",
       " 'waterway_other',\n",
       " 'waterway_other_intermittent',\n",
       " 'waterway_river',\n",
       " 'waterway_river_intermittent',\n",
       " 'waterway_tunnel']"
      ]
     },
     "execution_count": 11,
     "metadata": {},
     "output_type": "execute_result"
    }
   ],
   "source": [
    "a = [i['id'] for i in data['layers']]\n",
    "a = sorted(a)\n",
    "a"
   ]
  },
  {
   "cell_type": "code",
   "execution_count": null,
   "id": "78b69249-de35-4652-b7c1-61619b2dd8f0",
   "metadata": {},
   "outputs": [],
   "source": []
  }
 ],
 "metadata": {
  "kernelspec": {
   "display_name": "Python 3 (ipykernel)",
   "language": "python",
   "name": "python3"
  },
  "language_info": {
   "codemirror_mode": {
    "name": "ipython",
    "version": 3
   },
   "file_extension": ".py",
   "mimetype": "text/x-python",
   "name": "python",
   "nbconvert_exporter": "python",
   "pygments_lexer": "ipython3",
   "version": "3.8.9"
  }
 },
 "nbformat": 4,
 "nbformat_minor": 5
}
