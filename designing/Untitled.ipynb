{
 "cells": [
  {
   "cell_type": "code",
   "execution_count": 3,
   "id": "5f18ae37-7f5b-4b51-acdc-246413e41c07",
   "metadata": {},
   "outputs": [],
   "source": [
    "# Imports\n",
    "import json, copy, re\n",
    "from IPython.display import JSON"
   ]
  },
  {
   "cell_type": "code",
   "execution_count": 4,
   "id": "3f42f083-54a1-40f6-816c-e8c167351ba5",
   "metadata": {},
   "outputs": [],
   "source": [
    "# Read and write\n",
    "\n",
    "def read_json (f):\n",
    "    f = open(f'./{f}.json')\n",
    "    data = json.load(f)\n",
    "    f.close()\n",
    "    return data\n",
    "\n",
    "def write_json (f, data):\n",
    "    jstr = json.dumps(data, indent=4)\n",
    "    f = open(f'./{f}.json', \"w\")\n",
    "    f.write(jstr)\n",
    "    f.close()"
   ]
  },
  {
   "cell_type": "code",
   "execution_count": 5,
   "id": "2a01f410-fdb1-42aa-81ee-80bb480fc474",
   "metadata": {},
   "outputs": [],
   "source": [
    "# Edit the data\n",
    "\n",
    "def assign_line_values (_, color, width):\n",
    "    _['minzoom'] = 9\n",
    "    _['maxzoom'] = 20\n",
    "    _['paint'] = {'line-color': color, 'line-width': width, 'line-opacity': 1}\n",
    "    \n",
    "def assign_fill_values (_, color, outline):\n",
    "    _['minzoom'] = 9\n",
    "    _['maxzoom'] = 20\n",
    "    _['paint'] = {'fill-color': color, 'fill-outline-color': outline, 'fill-opacity': 1}\n",
    "    \n",
    "def set_visable ( _, vis ):\n",
    "    if 'layout' not in _:\n",
    "        _['layout'] = {}    \n",
    "    _['layout']['visibility'] = 'visible' if vis else 'invisible'\n",
    "    \n"
   ]
  },
  {
   "cell_type": "code",
   "execution_count": 6,
   "id": "d03e7f2a-4923-4e5d-a2b5-6225e2b3940d",
   "metadata": {},
   "outputs": [],
   "source": [
    "# Load data for start\n",
    "\n",
    "RAW = read_json('layers')\n",
    "RAW_USED = [row for row in RAW if row['type'] in ['fill', 'line']]\n"
   ]
  },
  {
   "cell_type": "code",
   "execution_count": 7,
   "id": "767ec9b8-1650-48e4-8492-c08a3b6155a4",
   "metadata": {},
   "outputs": [],
   "source": [
    "def nest_object (layers) :\n",
    "    \n",
    "    result = {}\n",
    "    \n",
    "    def add_id ( label, value ) :\n",
    "        parts = re.split(\"[_-]\", label)\n",
    "        _ = result\n",
    "        for p in parts:\n",
    "            if p not in _:\n",
    "                _[p] = {}\n",
    "            _ = _[p]\n",
    "        _['_'] = value\n",
    "                \n",
    "    for l in layers:\n",
    "        add_id(l['id'],l)\n",
    "    return result"
   ]
  },
  {
   "cell_type": "code",
   "execution_count": 8,
   "id": "9920231f-4072-472a-b6d7-e73b08788a7c",
   "metadata": {},
   "outputs": [
    {
     "data": {
      "application/json": {
       "aeroway": {
        "fill": {
         "_": {
          "filter": [
           "==",
           "$type",
           "Polygon"
          ],
          "id": "aeroway_fill",
          "layout": {
           "visibility": "visible"
          },
          "metadata": {},
          "minzoom": 11,
          "paint": {
           "fill-color": {
            "stops": [
             [
              6,
              "rgba(223, 223, 228, 1)"
             ],
             [
              12,
              "rgba(232, 231, 223, 1)"
             ]
            ]
           },
           "fill-opacity": 1
          },
          "source": "openmaptiles",
          "source-layer": "aeroway",
          "type": "fill"
         }
        },
        "runway": {
         "_": {
          "filter": [
           "all",
           [
            "==",
            "$type",
            "LineString"
           ],
           [
            "==",
            "class",
            "runway"
           ]
          ],
          "id": "aeroway_runway",
          "layout": {
           "visibility": "visible"
          },
          "metadata": {},
          "minzoom": 11,
          "paint": {
           "line-color": "rgba(178, 181, 209, 1)",
           "line-opacity": 1,
           "line-width": {
            "base": 1.2,
            "stops": [
             [
              11,
              3
             ],
             [
              20,
              48
             ]
            ]
           }
          },
          "source": "openmaptiles",
          "source-layer": "aeroway",
          "type": "line"
         }
        },
        "taxiway": {
         "_": {
          "filter": [
           "all",
           [
            "==",
            "$type",
            "LineString"
           ],
           [
            "==",
            "class",
            "taxiway"
           ]
          ],
          "id": "aeroway_taxiway",
          "layout": {
           "visibility": "visible"
          },
          "metadata": {},
          "minzoom": 11,
          "paint": {
           "line-color": "rgba(178, 181, 209, 1)",
           "line-opacity": 1,
           "line-width": {
            "base": 1.2,
            "stops": [
             [
              11,
              1
             ],
             [
              20,
              24
             ]
            ]
           }
          },
          "source": "openmaptiles",
          "source-layer": "aeroway",
          "type": "line"
         }
        }
       },
       "boundary": {
        "2": {
         "z0": {
          "4": {
           "_": {
            "filter": [
             "all",
             [
              "==",
              "admin_level",
              2
             ],
             [
              "==",
              "maritime",
              0
             ],
             [
              "!has",
              "claimed_by"
             ]
            ],
            "id": "boundary_2_z0-4",
            "layout": {
             "line-cap": "round",
             "line-join": "round",
             "visibility": "visible"
            },
            "maxzoom": 5,
            "metadata": {},
            "minzoom": 0,
            "paint": {
             "line-blur": {
              "stops": [
               [
                1,
                0.1
               ],
               [
                4,
                0
               ]
              ]
             },
             "line-color": "#a37da1",
             "line-opacity": {
              "stops": [
               [
                3,
                0.5
               ],
               [
                6,
                1
               ]
              ]
             },
             "line-width": {
              "base": 1,
              "stops": [
               [
                1,
                0.7
               ],
               [
                3,
                1
               ],
               [
                5,
                1.2
               ]
              ]
             }
            },
            "source": "openmaptiles",
            "source-layer": "boundary",
            "type": "line"
           }
          }
         },
         "z5": {
          "_": {
           "filter": [
            "all",
            [
             "==",
             "admin_level",
             2
            ],
            [
             "==",
             "disputed",
             0
            ],
            [
             "==",
             "maritime",
             0
            ]
           ],
           "id": "boundary_2_z5",
           "layout": {
            "line-cap": "round",
            "line-join": "round",
            "visibility": "visible"
           },
           "metadata": {},
           "minzoom": 5,
           "paint": {
            "line-color": "#a37da1",
            "line-opacity": 1,
            "line-width": {
             "base": 1,
             "stops": [
              [
               5,
               1.2
              ],
              [
               12,
               3
              ]
             ]
            }
           },
           "source": "openmaptiles",
           "source-layer": "boundary",
           "type": "line"
          },
          "disputed": {
           "_": {
            "filter": [
             "all",
             [
              "==",
              "admin_level",
              2
             ],
             [
              "==",
              "disputed",
              1
             ],
             [
              "==",
              "maritime",
              0
             ]
            ],
            "id": "boundary_2_z5_disputed",
            "layout": {
             "line-cap": "round",
             "line-join": "round",
             "visibility": "visible"
            },
            "metadata": {},
            "minzoom": 5,
            "paint": {
             "line-color": "#a37da1",
             "line-dasharray": [
              4,
              3
             ],
             "line-opacity": 1,
             "line-width": {
              "base": 1,
              "stops": [
               [
                5,
                1.2
               ],
               [
                12,
                3
               ]
              ]
             }
            },
            "source": "openmaptiles",
            "source-layer": "boundary",
            "type": "line"
           },
           "maritime": {
            "_": {
             "filter": [
              "all",
              [
               "==",
               "admin_level",
               2
              ],
              [
               "==",
               "disputed",
               1
              ],
              [
               "==",
               "maritime",
               1
              ]
             ],
             "id": "boundary_2_z5_disputed_maritime",
             "layout": {
              "line-cap": "round",
              "line-join": "round",
              "visibility": "visible"
             },
             "metadata": {},
             "minzoom": 5,
             "paint": {
              "line-color": "rgba(129, 125, 163, 1)",
              "line-dasharray": [
               4,
               3
              ],
              "line-opacity": 1,
              "line-width": {
               "base": 1,
               "stops": [
                [
                 5,
                 1.2
                ],
                [
                 12,
                 3
                ]
               ]
              }
             },
             "source": "openmaptiles",
             "source-layer": "boundary",
             "type": "line"
            }
           }
          },
          "maritime": {
           "_": {
            "filter": [
             "all",
             [
              "==",
              "admin_level",
              2
             ],
             [
              "==",
              "disputed",
              0
             ],
             [
              "==",
              "maritime",
              1
             ]
            ],
            "id": "boundary_2_z5_maritime",
            "layout": {
             "line-cap": "round",
             "line-join": "round",
             "visibility": "visible"
            },
            "metadata": {},
            "minzoom": 4,
            "paint": {
             "line-color": "#a37da1",
             "line-opacity": 1,
             "line-width": {
              "base": 1,
              "stops": [
               [
                3,
                1.2
               ],
               [
                4,
                1.5
               ],
               [
                5,
                1.8
               ],
               [
                6,
                2
               ],
               [
                7,
                3
               ]
              ]
             }
            },
            "source": "openmaptiles",
            "source-layer": "boundary",
            "type": "line"
           }
          }
         }
        },
        "3": {
         "_": {
          "filter": [
           "all",
           [
            "in",
            "admin_level",
            3,
            4
           ],
           [
            "==",
            "maritime",
            0
           ]
          ],
          "id": "boundary_3",
          "layout": {
           "line-join": "round",
           "visibility": "visible"
          },
          "metadata": {},
          "minzoom": 3,
          "paint": {
           "line-color": "#845283",
           "line-dasharray": [
            5,
            3
           ],
           "line-opacity": {
            "stops": [
             [
              3,
              0.5
             ],
             [
              10,
              1
             ]
            ]
           },
           "line-width": {
            "base": 1,
            "stops": [
             [
              4,
              0.4
             ],
             [
              5,
              0.7
             ],
             [
              12,
              1.6
             ]
            ]
           }
          },
          "source": "openmaptiles",
          "source-layer": "boundary",
          "type": "line"
         }
        }
       },
       "bridge": {
        "link": {
         "_": {
          "filter": [
           "all",
           [
            "==",
            "class",
            "link"
           ],
           [
            "==",
            "brunnel",
            "bridge"
           ]
          ],
          "id": "bridge_link",
          "layout": {
           "line-join": "round",
           "visibility": "visible"
          },
          "metadata": {},
          "paint": {
           "line-color": "#fea",
           "line-width": {
            "base": 1.2,
            "stops": [
             [
              12.5,
              0
             ],
             [
              13,
              1.5
             ],
             [
              14,
              2.5
             ],
             [
              20,
              11.5
             ]
            ]
           }
          },
          "source": "openmaptiles",
          "source-layer": "transportation",
          "type": "line"
         },
         "casing": {
          "_": {
           "filter": [
            "all",
            [
             "==",
             "class",
             "link"
            ],
            [
             "==",
             "brunnel",
             "bridge"
            ]
           ],
           "id": "bridge_link_casing",
           "layout": {
            "line-join": "round"
           },
           "metadata": {},
           "paint": {
            "line-color": "#e9ac77",
            "line-opacity": 1,
            "line-width": {
             "base": 1.2,
             "stops": [
              [
               12,
               1
              ],
              [
               13,
               3
              ],
              [
               14,
               4
              ],
              [
               20,
               15
              ]
             ]
            }
           },
           "source": "openmaptiles",
           "source-layer": "transportation",
           "type": "line"
          }
         }
        },
        "major": {
         "rail": {
          "_": {
           "filter": [
            "all",
            [
             "==",
             "brunnel",
             "bridge"
            ],
            [
             "in",
             "class",
             "rail"
            ]
           ],
           "id": "bridge_major_rail",
           "layout": {
            "visibility": "visible"
           },
           "metadata": {},
           "paint": {
            "line-color": {
             "stops": [
              [
               6,
               "rgba(147, 147, 147, 1)"
              ],
              [
               12,
               "rgba(139, 139, 139, 1)"
              ],
              [
               14,
               "rgba(129, 129, 129, 1)"
              ]
             ]
            },
            "line-width": {
             "base": 1.4,
             "stops": [
              [
               8,
               0.5
              ],
              [
               15,
               3
              ],
              [
               20,
               5.4
              ]
             ]
            }
           },
           "source": "openmaptiles",
           "source-layer": "transportation",
           "type": "line"
          },
          "hatching": {
           "_": {
            "filter": [
             "all",
             [
              "==",
              "brunnel",
              "bridge"
             ],
             [
              "==",
              "class",
              "rail"
             ]
            ],
            "id": "bridge_major_rail_hatching",
            "layout": {
             "visibility": "visible"
            },
            "metadata": {},
            "minzoom": 8,
            "paint": {
             "line-color": {
              "stops": [
               [
                8,
                "rgba(255, 255, 255, 0.44)"
               ],
               [
                10,
                "rgba(201, 201, 201, 1)"
               ]
              ]
             },
             "line-dasharray": [
              2,
              2
             ],
             "line-width": {
              "base": 1.4,
              "stops": [
               [
                9,
                0
               ],
               [
                15,
                2
               ],
               [
                20,
                4
               ]
              ]
             }
            },
            "source": "openmaptiles",
            "source-layer": "transportation",
            "type": "line"
           }
          }
         }
        },
        "minor": {
         "_": {
          "filter": [
           "all",
           [
            "==",
            "brunnel",
            "bridge"
           ],
           [
            "in",
            "class",
            "minor"
           ]
          ],
          "id": "bridge_minor",
          "layout": {
           "line-join": "round"
          },
          "metadata": {},
          "paint": {
           "line-color": "#fff",
           "line-opacity": 1,
           "line-width": {
            "base": 1.2,
            "stops": [
             [
              13.5,
              0
             ],
             [
              14,
              2.5
             ],
             [
              20,
              18
             ]
            ]
           }
          },
          "source": "openmaptiles",
          "source-layer": "transportation",
          "type": "line"
         },
         "construction": {
          "_": {
           "filter": [
            "all",
            [
             "==",
             "brunnel",
             "bridge"
            ],
            [
             "in",
             "class",
             "minor_construction"
            ]
           ],
           "id": "bridge_minor_construction",
           "layout": {
            "line-join": "round",
            "visibility": "visible"
           },
           "metadata": {},
           "paint": {
            "line-color": "#fff",
            "line-dasharray": [
             2,
             2
            ],
            "line-opacity": 1,
            "line-width": {
             "base": 1.2,
             "stops": [
              [
               13.5,
               0
              ],
              [
               14,
               2.5
              ],
              [
               20,
               18
              ]
             ]
            }
           },
           "source": "openmaptiles",
           "source-layer": "transportation",
           "type": "line"
          }
         }
        },
        "motorway": {
         "_": {
          "filter": [
           "all",
           [
            "==",
            "class",
            "motorway"
           ],
           [
            "==",
            "brunnel",
            "bridge"
           ],
           [
            "!=",
            "ramp",
            1
           ]
          ],
          "id": "bridge_motorway",
          "layout": {
           "line-join": "round"
          },
          "metadata": {},
          "paint": {
           "line-color": {
            "stops": [
             [
              6,
              "#e66e89"
             ],
             [
              10,
              "#e892a2"
             ]
            ]
           },
           "line-width": {
            "base": 1.2,
            "stops": [
             [
              5,
              0
             ],
             [
              7,
              1
             ],
             [
              18,
              25
             ]
            ]
           }
          },
          "source": "openmaptiles",
          "source-layer": "transportation",
          "type": "line"
         },
         "casing": {
          "_": {
           "filter": [
            "all",
            [
             "==",
             "class",
             "motorway"
            ],
            [
             "==",
             "brunnel",
             "bridge"
            ],
            [
             "!=",
             "ramp",
             1
            ]
           ],
           "id": "bridge_motorway_casing",
           "layout": {
            "line-join": "round",
            "visibility": "visible"
           },
           "metadata": {},
           "paint": {
            "line-color": "#000000",
            "line-width": {
             "base": 1.2,
             "stops": [
              [
               5,
               0
              ],
              [
               7,
               1.75
              ],
              [
               18,
               27
              ]
             ]
            }
           },
           "source": "openmaptiles",
           "source-layer": "transportation",
           "type": "line"
          }
         },
         "construction": {
          "_": {
           "filter": [
            "all",
            [
             "==",
             "class",
             "motorway_construction"
            ],
            [
             "==",
             "brunnel",
             "bridge"
            ],
            [
             "!=",
             "ramp",
             1
            ]
           ],
           "id": "bridge_motorway_construction",
           "layout": {
            "line-join": "round"
           },
           "metadata": {},
           "paint": {
            "line-color": {
             "stops": [
              [
               6,
               "#e892a2"
              ],
              [
               10,
               "#e66e89"
              ]
             ]
            },
            "line-dasharray": [
             2,
             2
            ],
            "line-width": {
             "base": 1.2,
             "stops": [
              [
               5,
               0
              ],
              [
               7,
               1
              ],
              [
               18,
               25
              ]
             ]
            }
           },
           "source": "openmaptiles",
           "source-layer": "transportation",
           "type": "line"
          }
         },
         "link": {
          "_": {
           "filter": [
            "all",
            [
             "==",
             "class",
             "motorway"
            ],
            [
             "==",
             "ramp",
             1
            ],
            [
             "==",
             "brunnel",
             "bridge"
            ]
           ],
           "id": "bridge_motorway_link",
           "layout": {
            "line-join": "round",
            "visibility": "visible"
           },
           "metadata": {},
           "paint": {
            "line-color": {
             "stops": [
              [
               6,
               "#e66e89"
              ],
              [
               10,
               "#e892a2"
              ]
             ]
            },
            "line-width": {
             "base": 1.2,
             "stops": [
              [
               12,
               3
              ],
              [
               14,
               6
              ],
              [
               18,
               15
              ],
              [
               19,
               16
              ]
             ]
            }
           },
           "source": "openmaptiles",
           "source-layer": "transportation",
           "type": "line"
          },
          "casing": {
           "_": {
            "filter": [
             "all",
             [
              "==",
              "class",
              "motorway"
             ],
             [
              "==",
              "ramp",
              1
             ],
             [
              "==",
              "brunnel",
              "bridge"
             ]
            ],
            "id": "bridge_motorway_link_casing",
            "layout": {
             "line-join": "round",
             "visibility": "visible"
            },
            "metadata": {},
            "paint": {
             "line-color": {
              "stops": [
               [
                11,
                "#c24e6b"
               ],
               [
                12,
                "#dc2a67"
               ]
              ]
             },
             "line-opacity": 1,
             "line-width": {
              "base": 1.2,
              "stops": [
               [
                12,
                4
               ],
               [
                14,
                7
               ],
               [
                18,
                16
               ],
               [
                19,
                17
               ]
              ]
             }
            },
            "source": "openmaptiles",
            "source-layer": "transportation",
            "type": "line"
           }
          }
         }
        },
        "path": {
         "cycleway": {
          "_": {
           "filter": [
            "all",
            [
             "==",
             "$type",
             "LineString"
            ],
            [
             "==",
             "brunnel",
             "bridge"
            ],
            [
             "in",
             "class",
             "path"
            ],
            [
             "==",
             "subclass",
             "cycleway"
            ]
           ],
           "id": "bridge_path_cycleway",
           "metadata": {},
           "minzoom": 13,
           "paint": {
            "line-color": "#0000ff",
            "line-dasharray": [
             2,
             2
            ],
            "line-width": {
             "base": 1.2,
             "stops": [
              [
               13,
               0.8
              ],
              [
               14,
               1
              ],
              [
               15,
               1.3
              ],
              [
               17,
               1.3
              ],
              [
               18,
               1.6
              ]
             ]
            }
           },
           "source": "openmaptiles",
           "source-layer": "transportation",
           "type": "line"
          },
          "casing": {
           "_": {
            "filter": [
             "all",
             [
              "==",
              "$type",
              "LineString"
             ],
             [
              "==",
              "brunnel",
              "bridge"
             ],
             [
              "in",
              "class",
              "path"
             ],
             [
              "==",
              "subclass",
              "cycleway"
             ]
            ],
            "id": "bridge_path_cycleway_casing",
            "layout": {
             "line-join": "miter",
             "visibility": "visible"
            },
            "metadata": {},
            "minzoom": 13,
            "paint": {
             "line-color": "rgba(255, 255, 255, 1)",
             "line-dasharray": [
              1,
              0
             ],
             "line-width": {
              "base": 1.2,
              "stops": [
               [
                13,
                2.7
               ],
               [
                14,
                3
               ],
               [
                15,
                3.3
               ],
               [
                17,
                3.3
               ],
               [
                18,
                3.6
               ]
              ]
             }
            },
            "source": "openmaptiles",
            "source-layer": "transportation",
            "type": "line"
           }
          }
         },
         "footway": {
          "_": {
           "filter": [
            "all",
            [
             "==",
             "$type",
             "LineString"
            ],
            [
             "==",
             "brunnel",
             "bridge"
            ],
            [
             "in",
             "class",
             "path"
            ],
            [
             "==",
             "subclass",
             "footway"
            ]
           ],
           "id": "bridge_path_footway",
           "metadata": {},
           "minzoom": 13,
           "paint": {
            "line-color": "#fa8072",
            "line-dasharray": [
             2,
             2
            ],
            "line-width": {
             "base": 1.2,
             "stops": [
              [
               13,
               0.8
              ],
              [
               14,
               1
              ],
              [
               15,
               1.3
              ],
              [
               17,
               1.3
              ],
              [
               18,
               1.6
              ]
             ]
            }
           },
           "source": "openmaptiles",
           "source-layer": "transportation",
           "type": "line"
          },
          "casing": {
           "_": {
            "filter": [
             "all",
             [
              "==",
              "$type",
              "LineString"
             ],
             [
              "==",
              "brunnel",
              "bridge"
             ],
             [
              "in",
              "class",
              "path"
             ],
             [
              "==",
              "subclass",
              "footway"
             ]
            ],
            "id": "bridge_path_footway_casing",
            "layout": {
             "line-join": "miter",
             "visibility": "visible"
            },
            "metadata": {},
            "minzoom": 13,
            "paint": {
             "line-color": "rgba(255, 255, 255, 1)",
             "line-dasharray": [
              1,
              0
             ],
             "line-width": {
              "base": 1.2,
              "stops": [
               [
                13,
                2.7
               ],
               [
                14,
                3
               ],
               [
                15,
                3.3
               ],
               [
                17,
                3.3
               ],
               [
                18,
                3.6
               ]
              ]
             }
            },
            "source": "openmaptiles",
            "source-layer": "transportation",
            "type": "line"
           }
          }
         }
        },
        "primary": {
         "_": {
          "filter": [
           "all",
           [
            "==",
            "brunnel",
            "bridge"
           ],
           [
            "in",
            "class",
            "primary"
           ]
          ],
          "id": "bridge_primary",
          "layout": {
           "line-join": "round",
           "visibility": "visible"
          },
          "metadata": {},
          "paint": {
           "line-color": "#fcd6a4",
           "line-width": {
            "base": 1.2,
            "stops": [
             [
              7,
              1.5
             ],
             [
              11,
              3.3
             ],
             [
              12,
              4
             ],
             [
              13,
              4
             ],
             [
              15,
              8.5
             ],
             [
              16,
              16
             ],
             [
              17,
              19
             ],
             [
              18,
              25
             ]
            ]
           }
          },
          "source": "openmaptiles",
          "source-layer": "transportation",
          "type": "line"
         },
         "casing": {
          "_": {
           "filter": [
            "all",
            [
             "==",
             "brunnel",
             "bridge"
            ],
            [
             "in",
             "class",
             "primary"
            ]
           ],
           "id": "bridge_primary_casing",
           "layout": {
            "line-join": "round"
           },
           "metadata": {},
           "minzoom": 12,
           "paint": {
            "line-color": "#000000",
            "line-width": {
             "base": 1.2,
             "stops": [
              [
               12,
               5
              ],
              [
               13,
               5
              ],
              [
               15,
               10
              ],
              [
               16,
               18
              ],
              [
               17,
               21
              ],
              [
               18,
               27
              ]
             ]
            }
           },
           "source": "openmaptiles",
           "source-layer": "transportation",
           "type": "line"
          }
         }
        },
        "secondary": {
         "_": {
          "filter": [
           "all",
           [
            "==",
            "brunnel",
            "bridge"
           ],
           [
            "in",
            "class",
            "secondary"
           ]
          ],
          "id": "bridge_secondary",
          "layout": {
           "line-join": "round",
           "visibility": "visible"
          },
          "metadata": {},
          "minzoom": 7,
          "paint": {
           "line-color": "#f7fabf",
           "line-width": {
            "base": 1.2,
            "stops": [
             [
              7,
              1.5
             ],
             [
              11,
              3.3
             ],
             [
              12,
              4
             ],
             [
              13,
              3.8
             ],
             [
              14,
              7.5
             ],
             [
              15,
              8.5
             ],
             [
              16,
              16
             ],
             [
              17,
              19
             ],
             [
              18,
              25
             ]
            ]
           }
          },
          "source": "openmaptiles",
          "source-layer": "transportation",
          "type": "line"
         },
         "casing": {
          "_": {
           "filter": [
            "all",
            [
             "==",
             "brunnel",
             "bridge"
            ],
            [
             "in",
             "class",
             "secondary",
             "tertiary"
            ]
           ],
           "id": "bridge_secondary_casing",
           "layout": {
            "line-join": "round"
           },
           "metadata": {},
           "minzoom": 12,
           "paint": {
            "line-color": "#000000",
            "line-opacity": 1,
            "line-width": {
             "base": 1.2,
             "stops": [
              [
               12,
               5
              ],
              [
               13,
               5
              ],
              [
               14,
               9
              ],
              [
               15,
               10
              ],
              [
               16,
               18
              ],
              [
               17,
               21
              ],
              [
               18,
               27
              ]
             ]
            }
           },
           "source": "openmaptiles",
           "source-layer": "transportation",
           "type": "line"
          }
         },
         "construction": {
          "copy": {
           "_": {
            "filter": [
             "all",
             [
              "==",
              "brunnel",
              "bridge"
             ],
             [
              "in",
              "class",
              "secondary_construction"
             ]
            ],
            "id": "bridge_secondary_construction-copy",
            "layout": {
             "line-join": "round"
            },
            "metadata": {},
            "paint": {
             "line-color": "#fff",
             "line-dasharray": [
              2,
              2
             ],
             "line-width": {
              "base": 1.2,
              "stops": [
               [
                6.5,
                0
               ],
               [
                8,
                0.5
               ],
               [
                20,
                13
               ]
              ]
             }
            },
            "source": "openmaptiles",
            "source-layer": "transportation",
            "type": "line"
           }
          }
         }
        },
        "service": {
         "track": {
          "_": {
           "filter": [
            "all",
            [
             "==",
             "brunnel",
             "bridge"
            ],
            [
             "in",
             "class",
             "service",
             "track"
            ]
           ],
           "id": "bridge_service_track",
           "layout": {
            "line-join": "round",
            "visibility": "visible"
           },
           "metadata": {},
           "paint": {
            "line-color": "#fff",
            "line-width": {
             "base": 1.2,
             "stops": [
              [
               15.5,
               0
              ],
              [
               16,
               2
              ],
              [
               20,
               7.5
              ]
             ]
            }
           },
           "source": "openmaptiles",
           "source-layer": "transportation",
           "type": "line"
          },
          "casing": {
           "_": {
            "filter": [
             "all",
             [
              "==",
              "brunnel",
              "bridge"
             ],
             [
              "in",
              "class",
              "service",
              "track"
             ]
            ],
            "id": "bridge_service_track_casing",
            "layout": {
             "line-join": "round"
            },
            "metadata": {},
            "paint": {
             "line-color": "#cfcdca",
             "line-width": {
              "base": 1.2,
              "stops": [
               [
                15,
                1
               ],
               [
                16,
                4
               ],
               [
                20,
                11
               ]
              ]
             }
            },
            "source": "openmaptiles",
            "source-layer": "transportation",
            "type": "line"
           }
          },
          "construction": {
           "_": {
            "filter": [
             "all",
             [
              "==",
              "brunnel",
              "bridge"
             ],
             [
              "in",
              "class",
              "service_construction",
              "track_construction"
             ]
            ],
            "id": "bridge_service_track_construction",
            "layout": {
             "line-join": "round",
             "visibility": "visible"
            },
            "metadata": {},
            "paint": {
             "line-color": "#fff",
             "line-dasharray": [
              2,
              2
             ],
             "line-width": {
              "base": 1.2,
              "stops": [
               [
                15.5,
                0
               ],
               [
                16,
                2
               ],
               [
                20,
                7.5
               ]
              ]
             }
            },
            "source": "openmaptiles",
            "source-layer": "transportation",
            "type": "line"
           }
          }
         }
        },
        "street": {
         "casing": {
          "_": {
           "filter": [
            "all",
            [
             "==",
             "brunnel",
             "bridge"
            ],
            [
             "in",
             "class",
             "street",
             "street_limited"
            ]
           ],
           "id": "bridge_street_casing",
           "layout": {
            "line-join": "round"
           },
           "metadata": {},
           "paint": {
            "line-color": "hsl(36, 6%, 74%)",
            "line-opacity": {
             "stops": [
              [
               12,
               0
              ],
              [
               12.5,
               1
              ]
             ]
            },
            "line-width": {
             "base": 1.2,
             "stops": [
              [
               12,
               0.5
              ],
              [
               13,
               1
              ],
              [
               14,
               4
              ],
              [
               20,
               25
              ]
             ]
            }
           },
           "source": "openmaptiles",
           "source-layer": "transportation",
           "type": "line"
          }
         }
        },
        "tertiary": {
         "_": {
          "filter": [
           "all",
           [
            "==",
            "brunnel",
            "bridge"
           ],
           [
            "in",
            "class",
            "tertiary"
           ]
          ],
          "id": "bridge_tertiary",
          "layout": {
           "line-join": "round",
           "visibility": "visible"
          },
          "metadata": {},
          "minzoom": 11,
          "paint": {
           "line-color": "#ffffff",
           "line-width": {
            "base": 1.2,
            "stops": [
             [
              11,
              2.3
             ],
             [
              12,
              3
             ],
             [
              13,
              4
             ],
             [
              14,
              7.5
             ],
             [
              15,
              8.5
             ],
             [
              16,
              16.4
             ],
             [
              17,
              19.4
             ],
             [
              18,
              25.4
             ]
            ]
           }
          },
          "source": "openmaptiles",
          "source-layer": "transportation",
          "type": "line"
         },
         "casing": {
          "_": {
           "filter": [
            "all",
            [
             "==",
             "brunnel",
             "bridge"
            ],
            [
             "in",
             "class",
             "secondary",
             "tertiary"
            ]
           ],
           "id": "bridge_tertiary_casing",
           "layout": {
            "line-join": "round"
           },
           "metadata": {},
           "paint": {
            "line-color": "rgba(195, 189, 187, 1)",
            "line-opacity": 1,
            "line-width": {
             "base": 1.2,
             "stops": [
              [
               8,
               1.5
              ],
              [
               20,
               17
              ]
             ]
            }
           },
           "source": "openmaptiles",
           "source-layer": "transportation",
           "type": "line"
          }
         },
         "construction": {
          "_": {
           "filter": [
            "all",
            [
             "==",
             "brunnel",
             "bridge"
            ],
            [
             "in",
             "class",
             "tertiary_construction"
            ]
           ],
           "id": "bridge_tertiary_construction",
           "layout": {
            "line-join": "round"
           },
           "metadata": {},
           "paint": {
            "line-color": "#fff",
            "line-dasharray": [
             2,
             2
            ],
            "line-width": {
             "base": 1.2,
             "stops": [
              [
               6.5,
               0
              ],
              [
               8,
               0.5
              ],
              [
               20,
               13
              ]
             ]
            }
           },
           "source": "openmaptiles",
           "source-layer": "transportation",
           "type": "line"
          }
         }
        },
        "trunk": {
         "_": {
          "filter": [
           "all",
           [
            "==",
            "brunnel",
            "bridge"
           ],
           [
            "in",
            "class",
            "trunk"
           ]
          ],
          "id": "bridge_trunk",
          "layout": {
           "line-join": "round",
           "visibility": "visible"
          },
          "metadata": {},
          "paint": {
           "line-color": "#f9b29c",
           "line-width": {
            "base": 1.2,
            "stops": [
             [
              7,
              1.5
             ],
             [
              11,
              4.5
             ],
             [
              12,
              5
             ],
             [
              15,
              8.5
             ],
             [
              16,
              16
             ],
             [
              17,
              19
             ],
             [
              18,
              25
             ]
            ]
           }
          },
          "source": "openmaptiles",
          "source-layer": "transportation",
          "type": "line"
         },
         "casing": {
          "_": {
           "filter": [
            "all",
            [
             "==",
             "brunnel",
             "bridge"
            ],
            [
             "in",
             "class",
             "trunk"
            ]
           ],
           "id": "bridge_trunk_casing",
           "layout": {
            "line-join": "round"
           },
           "metadata": {},
           "minzoom": 11,
           "paint": {
            "line-color": {
             "stops": [
              [
               11,
               "#cf6649"
              ],
              [
               12,
               "#c84e2f"
              ]
             ]
            },
            "line-width": {
             "base": 1.2,
             "stops": [
              [
               11,
               3.5
              ],
              [
               12,
               6
              ],
              [
               15,
               10
              ],
              [
               16,
               18
              ],
              [
               17,
               21
              ],
              [
               18,
               27
              ]
             ]
            }
           },
           "source": "openmaptiles",
           "source-layer": "transportation",
           "type": "line"
          }
         },
         "primary": {
          "construction": {
           "_": {
            "filter": [
             "all",
             [
              "==",
              "brunnel",
              "bridge"
             ],
             [
              "in",
              "class",
              "primary_construction",
              "trunk_construction"
             ]
            ],
            "id": "bridge_trunk_primary_construction",
            "layout": {
             "line-join": "round",
             "visibility": "visible"
            },
            "metadata": {},
            "paint": {
             "line-color": "#fea",
             "line-dasharray": [
              2,
              2
             ],
             "line-width": {
              "base": 1.2,
              "stops": [
               [
                5,
                0
               ],
               [
                7,
                1
               ],
               [
                20,
                18
               ]
              ]
             }
            },
            "source": "openmaptiles",
            "source-layer": "transportation",
            "type": "line"
           }
          }
         }
        }
       },
       "building": {
        "_": {
         "id": "building",
         "layout": {
          "visibility": "visible"
         },
         "maxzoom": 24,
         "metadata": {},
         "minzoom": 12,
         "paint": {
          "fill-color": {
           "stops": [
            [
             13,
             "rgba(222, 213, 207, 1)"
            ],
            [
             16,
             "#d9d0c9"
            ]
           ]
          },
          "fill-outline-color": {
           "base": 1,
           "stops": [
            [
             13,
             "#9A918A"
            ],
            [
             16,
             "rgba(166, 157, 150, 1)"
            ]
           ]
          }
         },
         "source": "openmaptiles",
         "source-layer": "building",
         "type": "fill"
        }
       },
       "cablecar": {
        "_": {
         "filter": [
          "==",
          "class",
          "aerialway"
         ],
         "id": "cablecar",
         "layout": {
          "line-cap": "round",
          "visibility": "visible"
         },
         "minzoom": 13,
         "paint": {
          "line-color": "#808080",
          "line-width": {
           "base": 1,
           "stops": [
            [
             11,
             1
            ],
            [
             19,
             2.5
            ]
           ]
          }
         },
         "source": "openmaptiles",
         "source-layer": "transportation",
         "type": "line"
        },
        "dash": {
         "_": {
          "filter": [
           "==",
           "class",
           "aerialway"
          ],
          "id": "cablecar-dash",
          "layout": {
           "line-cap": "round",
           "visibility": "visible"
          },
          "minzoom": 13,
          "paint": {
           "line-color": "rgba(67, 67, 67, 1)",
           "line-dasharray": [
            0.5,
            10
           ],
           "line-width": {
            "base": 1,
            "stops": [
             [
              11,
              1
             ],
             [
              19,
              3
             ]
            ]
           }
          },
          "source": "openmaptiles",
          "source-layer": "transportation",
          "type": "line"
         }
        }
       },
       "ferry": {
        "_": {
         "filter": [
          "all",
          [
           "in",
           "class",
           "ferry"
          ]
         ],
         "id": "ferry",
         "layout": {
          "line-join": "round",
          "visibility": "visible"
         },
         "minzoom": 10,
         "paint": {
          "line-color": "#7d7df8",
          "line-dasharray": [
           2,
           2
          ],
          "line-width": {
           "stops": [
            [
             10,
             0.5
            ],
            [
             14,
             1.1
            ]
           ]
          }
         },
         "source": "openmaptiles",
         "source-layer": "transportation",
         "type": "line"
        }
       },
       "landcover": {
        "class": {
         "outline": {
          "_": {
           "filter": [
            "all",
            [
             "in",
             "class",
             "farmland"
            ]
           ],
           "id": "landcover_class_outline",
           "layout": {
            "visibility": "visible"
           },
           "paint": {
            "line-color": "#c7c9ae",
            "line-width": 0.5
           },
           "source": "openmaptiles",
           "source-layer": "landcover",
           "type": "line"
          }
         }
        },
        "classes": {
         "_": {
          "filter": [
           "all",
           [
            "in",
            "class",
            "farmland",
            "wood",
            "rock",
            "grass",
            "wetland",
            "sand"
           ]
          ],
          "id": "landcover_classes",
          "layout": {
           "visibility": "visible"
          },
          "maxzoom": 13,
          "metadata": {},
          "paint": {
           "fill-antialias": false,
           "fill-color": [
            "match",
            [
             "get",
             "class"
            ],
            "farmland",
            "#eef0d5",
            "wood",
            "#add19e",
            "rock",
            "#eee5dc",
            "grass",
            "#cdebb0",
            "sand",
            "#f5e9c6",
            "wetland",
            "#add19e",
            "#000"
           ],
           "fill-opacity": {
            "stops": [
             [
              7,
              0.5
             ],
             [
              10,
              1
             ]
            ]
           }
          },
          "source": "openmaptiles",
          "source-layer": "landcover",
          "type": "fill"
         }
        },
        "cropland": {
         "_": {
          "filter": [
           "all",
           [
            "==",
            "class",
            "crop"
           ]
          ],
          "id": "landcover_cropland",
          "layout": {
           "visibility": "visible"
          },
          "maxzoom": 9,
          "minzoom": 4,
          "paint": {
           "fill-color": "#eef0d5",
           "fill-opacity": {
            "base": 1,
            "stops": [
             [
              4,
              0.05
             ],
             [
              5,
              0.15
             ],
             [
              9,
              0
             ]
            ]
           }
          },
          "source": "openmaptiles",
          "source-layer": "globallandcover",
          "type": "fill"
         }
        },
        "forestland": {
         "_": {
          "filter": [
           "all",
           [
            "==",
            "class",
            "forest"
           ]
          ],
          "id": "landcover_forestland",
          "layout": {
           "visibility": "visible"
          },
          "maxzoom": 9,
          "minzoom": 5,
          "paint": {
           "fill-color": "#add19e",
           "fill-opacity": {
            "base": 1,
            "stops": [
             [
              4,
              0.3
             ],
             [
              9,
              0
             ]
            ]
           }
          },
          "source": "openmaptiles",
          "source-layer": "globallandcover",
          "type": "fill"
         }
        },
        "grassland": {
         "_": {
          "filter": [
           "all",
           [
            "==",
            "class",
            "grass"
           ]
          ],
          "id": "landcover_grassland",
          "layout": {
           "visibility": "visible"
          },
          "maxzoom": 9,
          "minzoom": 5,
          "paint": {
           "fill-color": "#cdebb0",
           "fill-opacity": {
            "base": 1,
            "stops": [
             [
              4,
              0.3
             ],
             [
              9,
              0
             ]
            ]
           }
          },
          "source": "openmaptiles",
          "source-layer": "globallandcover",
          "type": "fill"
         }
        },
        "ice": {
         "_": {
          "filter": [
           "all",
           [
            "in",
            "class",
            "ice"
           ]
          ],
          "id": "landcover_ice",
          "metadata": {},
          "minzoom": 5,
          "paint": {
           "fill-antialias": false,
           "fill-color": "#ddecec"
          },
          "source": "openmaptiles",
          "source-layer": "landcover",
          "type": "fill"
         },
         "outline": {
          "_": {
           "filter": [
            "all",
            [
             "in",
             "class",
             "ice"
            ]
           ],
           "id": "landcover_ice_outline",
           "layout": {
            "visibility": "visible"
           },
           "minzoom": 5,
           "paint": {
            "line-color": "#9cf",
            "line-dasharray": {
             "stops": [
              [
               5,
               [
                1,
                0
               ]
              ],
              [
               10,
               [
                4,
                2
               ]
              ]
             ]
            },
            "line-width": {
             "stops": [
              [
               5,
               1
              ],
              [
               10,
               1.5
              ]
             ]
            }
           },
           "source": "openmaptiles",
           "source-layer": "landcover",
           "type": "line"
          }
         }
        },
        "park": {
         "_": {
          "filter": [
           "all",
           [
            "==",
            "subclass",
            "park"
           ]
          ],
          "id": "landcover_park",
          "layout": {
           "visibility": "visible"
          },
          "minzoom": 13,
          "paint": {
           "fill-antialias": true,
           "fill-color": "#c8facc"
          },
          "source": "openmaptiles",
          "source-layer": "landcover",
          "type": "fill"
         }
        },
        "scrubland": {
         "_": {
          "filter": [
           "all",
           [
            "==",
            "class",
            "scrub"
           ]
          ],
          "id": "landcover_scrubland",
          "layout": {
           "visibility": "visible"
          },
          "maxzoom": 9,
          "minzoom": 5,
          "paint": {
           "fill-color": "#c8d7ab",
           "fill-opacity": {
            "base": 1,
            "stops": [
             [
              4,
              0.3
             ],
             [
              9,
              0
             ]
            ]
           }
          },
          "source": "openmaptiles",
          "source-layer": "globallandcover",
          "type": "fill"
         }
        },
        "snowland": {
         "_": {
          "filter": [
           "all",
           [
            "==",
            "class",
            "snow"
           ]
          ],
          "id": "landcover_snowland",
          "layout": {
           "visibility": "visible"
          },
          "maxzoom": 9,
          "minzoom": 5,
          "paint": {
           "fill-color": "hsl(0, 0%, 100%)",
           "fill-opacity": {
            "base": 1,
            "stops": [
             [
              4,
              0.8
             ],
             [
              9,
              0
             ]
            ]
           }
          },
          "source": "openmaptiles",
          "source-layer": "globallandcover",
          "type": "fill"
         }
        },
        "subclass": {
         "outline": {
          "_": {
           "filter": [
            "all",
            [
             "in",
             "subclass",
             "allotments",
             "farm",
             "farmland",
             "recreation_ground"
            ]
           ],
           "id": "landcover_subclass_outline",
           "layout": {
            "visibility": "visible"
           },
           "minzoom": 15,
           "paint": {
            "line-color": [
             "match",
             [
              "get",
              "subclass"
             ],
             "allotments",
             "#B1C6A8",
             "farm",
             "#d1b48c",
             "farmland",
             "#c7c9ae",
             "recreation_ground",
             "#3c6640",
             "#000"
            ],
            "line-opacity": 1,
            "line-width": [
             "match",
             [
              "get",
              "subclass"
             ],
             "recreation_ground",
             0.3,
             0.5
            ]
           },
           "source": "openmaptiles",
           "source-layer": "landcover",
           "type": "line"
          }
         },
         "patterns": {
          "_": {
           "filter": [
            "all",
            [
             "in",
             "subclass",
             "allotments",
             "bare_rock",
             "beach",
             "bog",
             "dune",
             "scrub",
             "farm",
             "farmland",
             "forest",
             "garden",
             "grass",
             "grassland",
             "golf_course",
             "heath",
             "mangrove",
             "marsh",
             "meadow",
             "orchard",
             "park",
             "plant_nursery",
             "recreation_ground",
             "reedbed",
             "saltern",
             "saltmarsh",
             "sand",
             "scree",
             "swamp",
             "village_green",
             "vineyard",
             "wet_meadow",
             "wetland",
             "wood"
            ]
           ],
           "id": "landcover_subclass_patterns",
           "layout": {
            "visibility": "visible"
           },
           "metadata": {},
           "minzoom": 13,
           "paint": {
            "fill-opacity": [
             "match",
             [
              "get",
              "subclass"
             ],
             "beach",
             0.4,
             "forest",
             0.4,
             "bare_rock",
             0.3,
             "scrub",
             0.6,
             "garden",
             0.6,
             "scree",
             0.3,
             "wood",
             0.4,
             1
            ],
            "fill-pattern": [
             "match",
             [
              "get",
              "subclass"
             ],
             "allotments",
             "allotments",
             "bare_rock",
             "rock_overlay",
             "beach",
             "beach",
             "bog",
             "wetland_bog",
             "scrub",
             "scrub",
             "forest",
             "leaftype_unknown",
             "garden",
             "plant_nursery",
             "mangrove",
             "wetland_mangrove",
             "marsh",
             "wetland_marsh",
             "orchard",
             "orchard",
             "plant_nursery",
             "plant_nursery",
             "reedbed",
             "wetland_reed",
             "saltmarsh",
             "wetland_marsh",
             "scree",
             "scree_overlay",
             "swamp",
             "wetland_swamp",
             "vineyard",
             "vineyard",
             "wet_meadow",
             "wetland_marsh",
             "wetland",
             "wetland",
             "wood",
             "leaftype_unknown",
             ""
            ]
           },
           "source": "openmaptiles",
           "source-layer": "landcover",
           "type": "fill"
          }
         }
        },
        "subclasses": {
         "_": {
          "filter": [
           "all",
           [
            "in",
            "subclass",
            "allotments",
            "bare_rock",
            "beach",
            "dune",
            "scrub",
            "farm",
            "farmland",
            "forest",
            "garden",
            "grass",
            "grassland",
            "golf_course",
            "heath",
            "meadow",
            "orchard",
            "plant_nursery",
            "recreation_ground",
            "reedbed",
            "saltmarsh",
            "sand",
            "scree",
            "swamp",
            "tidalflat",
            "tundra",
            "village_green",
            "vineyard",
            "wet_meadow",
            "wetland",
            "wood"
           ]
          ],
          "id": "landcover_subclasses",
          "layout": {
           "visibility": "visible"
          },
          "minzoom": 13,
          "paint": {
           "fill-antialias": true,
           "fill-color": [
            "match",
            [
             "get",
             "subclass"
            ],
            "allotments",
            "#c9e1bf",
            "bare_rock",
            "#eee5dc",
            "beach",
            "#fff1ba",
            "bog",
            "#d6d99f",
            "dune",
            "#f5e9c6",
            "scrub",
            "#c8d7ab",
            "farm",
            "#f5dcba",
            "farmland",
            "#eef0d5",
            "forest",
            "#add19e",
            "grass",
            "#cdebb0",
            "grassland",
            "#cdebb0",
            "golf_course",
            "#def6c0",
            "heath",
            "#d6d99f",
            "mangrove",
            "#c8d7ab",
            "meadow",
            "#cdebb0",
            "orchard",
            "#aedfa3",
            "park",
            "#c8facc",
            "garden",
            "#cdebb0",
            "plant_nursery",
            "#aedfa3",
            "recreation_ground",
            "#d5ffd9",
            "reedbed",
            "#cdebb0",
            "saltmarsh",
            "#cdebb0",
            "sand",
            "#f5e9c6",
            "scree",
            "#eee5dc",
            "swamp",
            "#add19e",
            "tidalflat",
            "#DED6CF",
            "village_green",
            "#cdebb0",
            "vineyard",
            "#aedfa3",
            "wet_meadow",
            "#cdebb0",
            "wetland",
            "#add19e",
            "wood",
            "#add19e",
            "marsh",
            "#ff0",
            "#FFFFFF"
           ]
          },
          "source": "openmaptiles",
          "source-layer": "landcover",
          "type": "fill"
         }
        },
        "treeland": {
         "_": {
          "filter": [
           "all",
           [
            "==",
            "class",
            "tree"
           ]
          ],
          "id": "landcover_treeland",
          "layout": {
           "visibility": "visible"
          },
          "maxzoom": 9,
          "minzoom": 5,
          "paint": {
           "fill-color": "#add19e",
           "fill-opacity": {
            "base": 1,
            "stops": [
             [
              4,
              0.3
             ],
             [
              9,
              0
             ]
            ]
           }
          },
          "source": "openmaptiles",
          "source-layer": "globallandcover",
          "type": "fill"
         }
        }
       },
       "landuse": {
        "class": {
         "outline": {
          "_": {
           "filter": [
            "all",
            [
             "in",
             "class",
             "railway",
             "military",
             "residential",
             "commercial",
             "industrial",
             "retail",
             "school",
             "university",
             "kindergarten",
             "college",
             "hospital",
             "stadium",
             "pitch",
             "playground",
             "track",
             "theme_park",
             "zoo",
             "dam"
            ]
           ],
           "id": "landuse_class_outline",
           "layout": {
            "visibility": "visible"
           },
           "minzoom": 13,
           "paint": {
            "line-color": [
             "match",
             [
              "get",
              "class"
             ],
             "railway",
             "#c6b3c3",
             "military",
             "#ff5555",
             "residential",
             "#b9b9b9",
             "commercial",
             "#f2dad9",
             "industrial",
             "#c6b3c3",
             "retail",
             "#d99c95",
             "school",
             "#A6A68C",
             "university",
             "#A6A68C",
             "kindergarten",
             "#A6A68C",
             "college",
             "#A6A68C",
             "hospital",
             "#A6A68C",
             "stadium",
             "#7ca680",
             "pitch",
             "#7aaa97",
             "playground",
             "#3c6640",
             "track",
             "#7aaa96",
             "theme_park",
             "#660033",
             "zoo",
             "#660033",
             "dam",
             "#444444",
             "#000"
            ],
            "line-offset": [
             "match",
             [
              "get",
              "class"
             ],
             "military",
             1,
             0
            ],
            "line-opacity": [
             "match",
             [
              "get",
              "class"
             ],
             "military",
             0.24,
             1
            ],
            "line-width": [
             "match",
             [
              "get",
              "class"
             ],
             "railway",
             0.7,
             "military",
             2,
             "residential",
             0.5,
             "commercial",
             0.5,
             "industrial",
             0.5,
             "retail",
             0.5,
             "school",
             0.3,
             "university",
             0.3,
             "kindergarten",
             0.3,
             "college",
             0.3,
             "hospital",
             0.3,
             "stadium",
             0.3,
             "pitch",
             0.5,
             "playground",
             0.3,
             "track",
             0.5,
             "theme_park",
             1,
             "zoo",
             1,
             "dam",
             2,
             1
            ]
           },
           "source": "openmaptiles",
           "source-layer": "landuse",
           "type": "line"
          }
         },
         "pattern": {
          "_": {
           "filter": [
            "all",
            [
             "in",
             "class",
             "military",
             "cemetery"
            ]
           ],
           "id": "landuse_class_pattern",
           "layout": {
            "visibility": "visible"
           },
           "metadata": {},
           "paint": {
            "fill-color": "#000000",
            "fill-opacity": 1,
            "fill-pattern": [
             "match",
             [
              "get",
              "class"
             ],
             "military",
             "military_red_hatch",
             "cemetery",
             "grave_yard_generic",
             ""
            ]
           },
           "source": "openmaptiles",
           "source-layer": "landuse",
           "type": "fill"
          }
         },
         "themepark": {
          "_": {
           "filter": [
            "all",
            [
             "in",
             "class",
             "theme_park",
             "zoo"
            ]
           ],
           "id": "landuse_class_themepark",
           "layout": {
            "line-cap": "square",
            "line-join": "round",
            "visibility": "visible"
           },
           "minzoom": 13,
           "paint": {
            "line-color": "#660033",
            "line-offset": 2,
            "line-opacity": {
             "stops": [
              [
               9,
               0.1
              ],
              [
               12,
               0.3
              ]
             ]
            },
            "line-width": {
             "stops": [
              [
               9,
               3.5
              ],
              [
               14,
               5.5
              ]
             ]
            }
           },
           "source": "openmaptiles",
           "source-layer": "landuse",
           "type": "line"
          }
         }
        },
        "classes": {
         "_": {
          "filter": [
           "all",
           [
            "in",
            "class",
            "railway",
            "cemetery",
            "military",
            "residential",
            "commercial",
            "industrial",
            "garages",
            "retail",
            "bus_station",
            "school",
            "university",
            "kindergarten",
            "college",
            "hospital",
            "stadium",
            "pitch",
            "playground",
            "track",
            "dam"
           ],
           [
            "==",
            "$type",
            "Polygon"
           ]
          ],
          "id": "landuse_classes",
          "layout": {
           "visibility": "visible"
          },
          "metadata": {},
          "minzoom": 7,
          "paint": {
           "fill-color": [
            "match",
            [
             "get",
             "class"
            ],
            "railway",
            "#ebdbe8",
            "residential",
            "#e0dfdf",
            "cemetery",
            "#aacbaf",
            "military",
            "#fceaea",
            "commercial",
            "#f2dad9",
            "industrial",
            "#ebdbe8",
            "garages",
            "#dfddce",
            "retail",
            "#ffd6d1",
            "bus_station",
            "#e9e7e2",
            "school",
            "#ffffe5",
            "university",
            "#ffffe5",
            "kindergarten",
            "#ffffe5",
            "college",
            "#ffffe5",
            "hospital",
            "#ffffe5",
            "stadium",
            "#d5ffd9",
            "pitch",
            "#aae0cb",
            "playground",
            "#d5ffd9",
            "track",
            "#aae0cb",
            "dam",
            "#adadad",
            "#000"
           ],
           "fill-opacity": 1
          },
          "source": "openmaptiles",
          "source-layer": "landuse",
          "type": "fill"
         }
        },
        "residential": {
         "_": {
          "filter": [
           "all",
           [
            "in",
            "class",
            "residential",
            "suburbs",
            "neighbourhood"
           ]
          ],
          "id": "landuse_residential",
          "layout": {
           "visibility": "visible"
          },
          "maxzoom": 24,
          "metadata": {},
          "minzoom": 6,
          "paint": {
           "fill-color": {
            "stops": [
             [
              7,
              "#d0d0d0"
             ],
             [
              11,
              "#dddddd"
             ],
             [
              12,
              "#e0dfdf"
             ]
            ]
           }
          },
          "source": "openmaptiles",
          "source-layer": "landuse",
          "type": "fill"
         }
        }
       },
       "national": {
        "parks": {
         "_": {
          "id": "national_parks",
          "layout": {
           "visibility": "visible"
          },
          "minzoom": 8,
          "paint": {
           "line-color": "rgba(154, 199, 136, 1)",
           "line-offset": 1,
           "line-opacity": 0.8,
           "line-width": {
            "base": 1,
            "stops": [
             [
              8,
              1.2
             ],
             [
              9,
              1.5
             ],
             [
              10,
              3.6
             ],
             [
              24,
              3.6
             ]
            ]
           }
          },
          "source": "openmaptiles",
          "source-layer": "park",
          "type": "line"
         },
         "thin": {
          "_": {
           "id": "national_parks_thin",
           "layout": {
            "visibility": "none"
           },
           "minzoom": 10,
           "paint": {
            "line-color": "rgba(93, 156, 76, 1)",
            "line-width": 1.5
           },
           "source": "openmaptiles",
           "source-layer": "park",
           "type": "line"
          }
         }
        }
       },
       "rail": {
        "major": {
         "_": {
          "filter": [
           "all",
           [
            "!in",
            "brunnel",
            "bridge",
            "tunnel"
           ],
           [
            "in",
            "class",
            "rail"
           ]
          ],
          "id": "rail_major",
          "layout": {
           "visibility": "visible"
          },
          "metadata": {},
          "paint": {
           "line-color": {
            "stops": [
             [
              8,
              " #787878"
             ],
             [
              14,
              "rgba(129, 129, 129, 1)"
             ]
            ]
           },
           "line-width": {
            "base": 1.4,
            "stops": [
             [
              8,
              0.8
             ],
             [
              11,
              1.5
             ],
             [
              15,
              3
             ],
             [
              20,
              5.4
             ]
            ]
           }
          },
          "source": "openmaptiles",
          "source-layer": "transportation",
          "type": "line"
         },
         "hatching": {
          "_": {
           "filter": [
            "all",
            [
             "!in",
             "brunnel",
             "bridge",
             "tunnel"
            ],
            [
             "==",
             "class",
             "rail"
            ]
           ],
           "id": "rail_major_hatching",
           "layout": {
            "visibility": "visible"
           },
           "metadata": {},
           "minzoom": 8,
           "paint": {
            "line-color": {
             "stops": [
              [
               8,
               "rgba(255, 255, 255, 0.44)"
              ],
              [
               10,
               "rgba(242, 242, 242, 0.44)"
              ]
             ]
            },
            "line-dasharray": [
             2,
             2
            ],
            "line-width": {
             "base": 1.4,
             "stops": [
              [
               9,
               0
              ],
              [
               15,
               2
              ],
              [
               20,
               4
              ]
             ]
            }
           },
           "source": "openmaptiles",
           "source-layer": "transportation",
           "type": "line"
          }
         }
        },
        "minor": {
         "_": {
          "filter": [
           "all",
           [
            "!in",
            "brunnel",
            "bridge",
            "tunnel"
           ],
           [
            "in",
            "subclass",
            "tram",
            "light_rail"
           ]
          ],
          "id": "rail_minor",
          "layout": {
           "visibility": "visible"
          },
          "metadata": {},
          "paint": {
           "line-color": "rgba(129, 129, 129, 1)",
           "line-width": {
            "base": 1.4,
            "stops": [
             [
              12,
              0.8
             ],
             [
              15,
              1.2
             ],
             [
              20,
              4
             ]
            ]
           }
          },
          "source": "openmaptiles",
          "source-layer": "transportation",
          "type": "line"
         },
         "hatching": {
          "_": {
           "filter": [
            "all",
            [
             "!in",
             "brunnel",
             "bridge",
             "tunnel"
            ],
            [
             "in",
             "subclass",
             "tram",
             "light_rail"
            ]
           ],
           "id": "rail_minor_hatching",
           "layout": {
            "visibility": "visible"
           },
           "metadata": {},
           "paint": {
            "line-color": "#bbb",
            "line-dasharray": [
             0.2,
             4
            ],
            "line-width": {
             "base": 1.4,
             "stops": [
              [
               14.5,
               0
              ],
              [
               15,
               2
              ],
              [
               20,
               6
              ]
             ]
            }
           },
           "source": "openmaptiles",
           "source-layer": "transportation",
           "type": "line"
          }
         }
        },
        "subway": {
         "_": {
          "filter": [
           "all",
           [
            "==",
            "class",
            "transit"
           ],
           [
            "==",
            "subclass",
            "subway"
           ]
          ],
          "id": "rail_subway",
          "layout": {
           "visibility": "visible"
          },
          "metadata": {},
          "paint": {
           "line-color": "#81817f",
           "line-dasharray": [
            1,
            1.2
           ],
           "line-opacity": 1,
           "line-width": {
            "stops": [
             [
              14,
              1
             ],
             [
              18,
              3
             ]
            ]
           }
          },
          "source": "openmaptiles",
          "source-layer": "transportation",
          "type": "line"
         }
        }
       },
       "road": {
        "area": {
         "bridge": {
          "_": {
           "filter": [
            "all",
            [
             "==",
             "$type",
             "Polygon"
            ],
            [
             "==",
             "class",
             "bridge"
            ]
           ],
           "id": "road_area_bridge",
           "layout": {
            "visibility": "visible"
           },
           "metadata": {},
           "minzoom": 11,
           "paint": {
            "fill-antialias": true,
            "fill-color": "#b8b8b8"
           },
           "source": "openmaptiles",
           "source-layer": "transportation",
           "type": "fill"
          }
         },
         "pedestrian": {
          "_": {
           "filter": [
            "all",
            [
             "==",
             "$type",
             "Polygon"
            ],
            [
             "!has",
             "brunnel"
            ],
            [
             "!in",
             "class",
             "bridge",
             "pier"
            ]
           ],
           "id": "road_area_pedestrian",
           "layout": {
            "visibility": "visible"
           },
           "metadata": {},
           "paint": {
            "fill-color": "#dddde8"
           },
           "source": "openmaptiles",
           "source-layer": "transportation",
           "type": "fill"
          }
         },
         "pier": {
          "_": {
           "filter": [
            "all",
            [
             "==",
             "$type",
             "Polygon"
            ],
            [
             "==",
             "class",
             "pier"
            ]
           ],
           "id": "road_area_pier",
           "layout": {
            "visibility": "visible"
           },
           "metadata": {},
           "paint": {
            "fill-antialias": true,
            "fill-color": "rgba(246, 241, 229, 1)"
           },
           "source": "openmaptiles",
           "source-layer": "transportation",
           "type": "fill"
          }
         },
         "platform": {
          "_": {
           "filter": [
            "all",
            [
             "==",
             "$type",
             "Polygon"
            ],
            [
             "!has",
             "brunnel"
            ],
            [
             "==",
             "class",
             "path"
            ],
            [
             "==",
             "subclass",
             "platform"
            ]
           ],
           "id": "road_area_platform",
           "layout": {
            "visibility": "visible"
           },
           "metadata": {},
           "paint": {
            "fill-color": "#bababa"
           },
           "source": "openmaptiles",
           "source-layer": "transportation",
           "type": "fill"
          }
         }
        },
        "minor": {
         "_": {
          "filter": [
           "all",
           [
            "==",
            [
             "geometry-type"
            ],
            "LineString"
           ],
           [
            "all",
            [
             "match",
             [
              "get",
              "brunnel"
             ],
             [
              "bridge",
              "tunnel"
             ],
             false,
             true
            ],
            [
             "match",
             [
              "get",
              "class"
             ],
             [
              "minor"
             ],
             true,
             false
            ]
           ]
          ],
          "id": "road_minor",
          "layout": {
           "line-cap": "round",
           "line-join": "round",
           "visibility": "visible"
          },
          "metadata": {},
          "minzoom": 12,
          "paint": {
           "line-color": {
            "stops": [
             [
              12,
              "#d3d3d3"
             ],
             [
              13,
              "rgba(255, 255, 255, 1)"
             ]
            ]
           },
           "line-opacity": 1,
           "line-width": {
            "base": 1.2,
            "stops": [
             [
              12,
              1
             ],
             [
              13,
              1.9
             ],
             [
              14,
              3.8
             ],
             [
              15,
              4.8
             ],
             [
              16,
              10.4
             ],
             [
              17,
              11.4
             ],
             [
              18,
              15.4
             ]
            ]
           }
          },
          "source": "openmaptiles",
          "source-layer": "transportation",
          "type": "line"
         },
         "casing": {
          "_": {
           "filter": [
            "all",
            [
             "==",
             "$type",
             "LineString"
            ],
            [
             "!in",
             "brunnel",
             "bridge",
             "tunnel"
            ],
            [
             "in",
             "class",
             "minor"
            ],
            [
             "!=",
             "ramp",
             "1"
            ]
           ],
           "id": "road_minor_casing",
           "layout": {
            "line-cap": "round",
            "line-join": "round",
            "visibility": "visible"
           },
           "metadata": {},
           "minzoom": 13,
           "paint": {
            "line-color": "#bbbbbb",
            "line-opacity": {
             "stops": [
              [
               10,
               0
              ],
              [
               12.5,
               1
              ]
             ]
            },
            "line-width": {
             "base": 1.2,
             "stops": [
              [
               13,
               3
              ],
              [
               14,
               5
              ],
              [
               15,
               6
              ],
              [
               16,
               12
              ],
              [
               17,
               13
              ],
              [
               18,
               17
              ]
             ]
            }
           },
           "source": "openmaptiles",
           "source-layer": "transportation",
           "type": "line"
          }
         },
         "construction": {
          "_": {
           "filter": [
            "all",
            [
             "==",
             [
              "geometry-type"
             ],
             "LineString"
            ],
            [
             "all",
             [
              "match",
              [
               "get",
               "brunnel"
              ],
              [
               "bridge",
               "tunnel"
              ],
              false,
              true
             ],
             [
              "match",
              [
               "get",
               "class"
              ],
              [
               "minor_construction"
              ],
              true,
              false
             ]
            ]
           ],
           "id": "road_minor_construction",
           "layout": {
            "line-cap": "round",
            "line-join": "round",
            "visibility": "visible"
           },
           "metadata": {},
           "minzoom": 12,
           "paint": {
            "line-color": {
             "stops": [
              [
               12,
               "#d3d3d3"
              ],
              [
               13,
               "rgba(255, 255, 255, 1)"
              ]
             ]
            },
            "line-dasharray": [
             2,
             2
            ],
            "line-opacity": 1,
            "line-width": {
             "base": 1.2,
             "stops": [
              [
               12,
               1
              ],
              [
               13,
               1.9
              ],
              [
               14,
               3.8
              ],
              [
               15,
               4.8
              ],
              [
               16,
               10.4
              ],
              [
               17,
               11.4
              ],
              [
               18,
               15.4
              ]
             ]
            }
           },
           "source": "openmaptiles",
           "source-layer": "transportation",
           "type": "line"
          }
         }
        },
        "motorway": {
         "_": {
          "filter": [
           "all",
           [
            "!in",
            "brunnel",
            "bridge",
            "tunnel"
           ],
           [
            "==",
            "class",
            "motorway"
           ],
           [
            "!=",
            "ramp",
            1
           ]
          ],
          "id": "road_motorway",
          "layout": {
           "line-cap": "round",
           "line-join": "round",
           "visibility": "visible"
          },
          "metadata": {},
          "minzoom": 5,
          "paint": {
           "line-color": {
            "stops": [
             [
              6,
              "#e66e89"
             ],
             [
              10,
              "#e892a2"
             ]
            ]
           },
           "line-width": {
            "base": 1.2,
            "stops": [
             [
              5,
              0
             ],
             [
              7,
              1
             ],
             [
              18,
              25
             ]
            ]
           }
          },
          "source": "openmaptiles",
          "source-layer": "transportation",
          "type": "line"
         },
         "casing": {
          "_": {
           "filter": [
            "all",
            [
             "!in",
             "brunnel",
             "bridge",
             "tunnel"
            ],
            [
             "==",
             "class",
             "motorway"
            ],
            [
             "!=",
             "ramp",
             1
            ]
           ],
           "id": "road_motorway_casing",
           "layout": {
            "line-cap": "butt",
            "line-join": "round",
            "visibility": "visible"
           },
           "metadata": {},
           "minzoom": 5,
           "paint": {
            "line-color": {
             "stops": [
              [
               11,
               "#c24e6b"
              ],
              [
               12,
               "#dc2a67"
              ]
             ]
            },
            "line-width": {
             "base": 1.2,
             "stops": [
              [
               5,
               0
              ],
              [
               7,
               1.75
              ],
              [
               18,
               27
              ]
             ]
            }
           },
           "source": "openmaptiles",
           "source-layer": "transportation",
           "type": "line"
          }
         },
         "construction": {
          "_": {
           "filter": [
            "all",
            [
             "!in",
             "brunnel",
             "bridge",
             "tunnel"
            ],
            [
             "==",
             "class",
             "motorway_construction"
            ],
            [
             "!=",
             "ramp",
             1
            ]
           ],
           "id": "road_motorway_construction",
           "layout": {
            "line-cap": "round",
            "line-join": "round",
            "visibility": "visible"
           },
           "metadata": {},
           "minzoom": 5,
           "paint": {
            "line-color": {
             "base": 1,
             "stops": [
              [
               6,
               "#e892a2"
              ],
              [
               10,
               "#e66e89"
              ]
             ]
            },
            "line-dasharray": [
             2,
             2
            ],
            "line-width": {
             "base": 1.2,
             "stops": [
              [
               5,
               0
              ],
              [
               7,
               1
              ],
              [
               20,
               18
              ]
             ]
            }
           },
           "source": "openmaptiles",
           "source-layer": "transportation",
           "type": "line"
          }
         },
         "link": {
          "_": {
           "filter": [
            "all",
            [
             "!in",
             "brunnel",
             "bridge",
             "tunnel"
            ],
            [
             "==",
             "class",
             "motorway"
            ],
            [
             "==",
             "ramp",
             1
            ]
           ],
           "id": "road_motorway_link",
           "layout": {
            "line-cap": "round",
            "line-join": "round",
            "visibility": "visible"
           },
           "metadata": {},
           "minzoom": 8,
           "paint": {
            "line-color": {
             "stops": [
              [
               6,
               "#e66e89"
              ],
              [
               10,
               "#e892a2"
              ]
             ]
            },
            "line-width": {
             "base": 1.2,
             "stops": [
              [
               8,
               0.7
              ],
              [
               11,
               0.9
              ],
              [
               12,
               3
              ],
              [
               14,
               6.6
              ],
              [
               16,
               10.4
              ],
              [
               17,
               11.4
              ],
              [
               18,
               14.4
              ],
              [
               19,
               15.4
              ]
             ]
            }
           },
           "source": "openmaptiles",
           "source-layer": "transportation",
           "type": "line"
          },
          "casing": {
           "_": {
            "filter": [
             "all",
             [
              "!in",
              "brunnel",
              "bridge",
              "tunnel"
             ],
             [
              "==",
              "class",
              "motorway"
             ],
             [
              "==",
              "ramp",
              1
             ]
            ],
            "id": "road_motorway_link_casing",
            "layout": {
             "line-cap": "butt",
             "line-join": "round",
             "visibility": "visible"
            },
            "metadata": {},
            "minzoom": 11,
            "paint": {
             "line-color": {
              "stops": [
               [
                11,
                "#c24e6b"
               ],
               [
                12,
                "#dc2a67"
               ]
              ]
             },
             "line-opacity": 1,
             "line-width": {
              "base": 1.2,
              "stops": [
               [
                11,
                1.5
               ],
               [
                12,
                4
               ],
               [
                14,
                7.8
               ],
               [
                16,
                12
               ],
               [
                17,
                13
               ],
               [
                18,
                16
               ],
               [
                19,
                17
               ]
              ]
             }
            },
            "source": "openmaptiles",
            "source-layer": "transportation",
            "type": "line"
           }
          }
         }
        },
        "path": {
         "cycleway": {
          "_": {
           "filter": [
            "all",
            [
             "==",
             "$type",
             "LineString"
            ],
            [
             "!in",
             "brunnel",
             "bridge",
             "tunnel"
            ],
            [
             "in",
             "class",
             "path"
            ],
            [
             "==",
             "subclass",
             "cycleway"
            ]
           ],
           "id": "road_path_cycleway",
           "layout": {
            "line-join": "round",
            "visibility": "visible"
           },
           "metadata": {},
           "minzoom": 12,
           "paint": {
            "line-color": "#0000ff",
            "line-dasharray": [
             2,
             2
            ],
            "line-width": {
             "base": 1.2,
             "stops": [
              [
               12,
               0.7
              ],
              [
               14,
               0.9
              ],
              [
               17,
               1
              ],
              [
               18,
               1.3
              ]
             ]
            }
           },
           "source": "openmaptiles",
           "source-layer": "transportation",
           "type": "line"
          },
          "casing": {
           "_": {
            "filter": [
             "all",
             [
              "==",
              "$type",
              "LineString"
             ],
             [
              "!in",
              "brunnel",
              "bridge",
              "tunnel"
             ],
             [
              "in",
              "class",
              "path"
             ],
             [
              "==",
              "subclass",
              "cycleway"
             ]
            ],
            "id": "road_path_cycleway_casing",
            "layout": {
             "line-join": "round",
             "visibility": "visible"
            },
            "metadata": {},
            "minzoom": 14,
            "paint": {
             "line-color": "rgba(236, 236, 236, 1)",
             "line-opacity": 0.6,
             "line-width": {
              "base": 1.2,
              "stops": [
               [
                14,
                3
               ],
               [
                15,
                3.3
               ],
               [
                17,
                3.3
               ],
               [
                18,
                3.6
               ]
              ]
             }
            },
            "source": "openmaptiles",
            "source-layer": "transportation",
            "type": "line"
           }
          }
         },
         "footway": {
          "_": {
           "filter": [
            "all",
            [
             "==",
             "$type",
             "LineString"
            ],
            [
             "!in",
             "brunnel",
             "bridge",
             "tunnel"
            ],
            [
             "in",
             "class",
             "path"
            ],
            [
             "in",
             "subclass",
             "footway",
             "path"
            ]
           ],
           "id": "road_path_footway",
           "layout": {
            "line-join": "round",
            "visibility": "visible"
           },
           "metadata": {},
           "minzoom": 13,
           "paint": {
            "line-color": "#fa8072",
            "line-dasharray": [
             2,
             1
            ],
            "line-width": {
             "base": 1.2,
             "stops": [
              [
               13,
               0.6
              ],
              [
               14,
               1
              ],
              [
               15,
               1.3
              ],
              [
               17,
               1.3
              ],
              [
               18,
               1.6
              ]
             ]
            }
           },
           "source": "openmaptiles",
           "source-layer": "transportation",
           "type": "line"
          },
          "casing": {
           "_": {
            "filter": [
             "all",
             [
              "==",
              "$type",
              "LineString"
             ],
             [
              "!in",
              "brunnel",
              "bridge",
              "tunnel"
             ],
             [
              "in",
              "class",
              "path"
             ],
             [
              "in",
              "subclass",
              "footway",
              "path"
             ]
            ],
            "id": "road_path_footway_casing",
            "layout": {
             "line-join": "round",
             "visibility": "visible"
            },
            "metadata": {},
            "minzoom": 15,
            "paint": {
             "line-color": "rgba(255, 255, 255, 0.8)",
             "line-width": {
              "base": 1.2,
              "stops": [
               [
                14,
                2.7
               ],
               [
                15,
                3
               ],
               [
                17,
                3.3
               ],
               [
                18,
                3.6
               ]
              ]
             }
            },
            "source": "openmaptiles",
            "source-layer": "transportation",
            "type": "line"
           }
          }
         }
        },
        "pedestrian": {
         "_": {
          "filter": [
           "all",
           [
            "==",
            "$type",
            "LineString"
           ],
           [
            "==",
            "class",
            "path"
           ],
           [
            "==",
            "subclass",
            "pedestrian"
           ],
           [
            "!=",
            "brunel",
            "tunnel"
           ]
          ],
          "id": "road_pedestrian",
          "layout": {
           "visibility": "visible"
          },
          "paint": {
           "line-color": "#dddde8",
           "line-width": {
            "stops": [
             [
              13,
              1.9
             ],
             [
              14,
              3.8
             ],
             [
              15,
              4.8
             ],
             [
              16,
              10.4
             ],
             [
              17,
              11.4
             ],
             [
              18,
              15.4
             ]
            ]
           }
          },
          "source": "openmaptiles",
          "source-layer": "transportation",
          "type": "line"
         },
         "casing": {
          "_": {
           "filter": [
            "all",
            [
             "==",
             "$type",
             "LineString"
            ],
            [
             "==",
             "class",
             "path"
            ],
            [
             "==",
             "subclass",
             "pedestrian"
            ],
            [
             "!=",
             "brunel",
             "tunnel"
            ]
           ],
           "id": "road_pedestrian_casing",
           "layout": {
            "visibility": "visible"
           },
           "paint": {
            "line-color": "#999999",
            "line-width": {
             "stops": [
              [
               13,
               3
              ],
              [
               14,
               5
              ],
              [
               15,
               6
              ],
              [
               16,
               12
              ],
              [
               17,
               13
              ],
              [
               18,
               17
              ]
             ]
            }
           },
           "source": "openmaptiles",
           "source-layer": "transportation",
           "type": "line"
          }
         }
        },
        "pier": {
         "_": {
          "filter": [
           "all",
           [
            "==",
            "$type",
            "LineString"
           ],
           [
            "==",
            "class",
            "pier"
           ]
          ],
          "id": "road_pier",
          "layout": {
           "line-cap": "round",
           "line-join": "round"
          },
          "metadata": {},
          "paint": {
           "line-color": "rgba(246, 241, 229, 1)",
           "line-width": {
            "base": 1.2,
            "stops": [
             [
              15,
              1
             ],
             [
              17,
              4
             ]
            ]
           }
          },
          "source": "openmaptiles",
          "source-layer": "transportation",
          "type": "line"
         }
        },
        "primary": {
         "_": {
          "filter": [
           "all",
           [
            "!in",
            "brunnel",
            "bridge",
            "tunnel"
           ],
           [
            "!=",
            "ramp",
            1
           ],
           [
            "in",
            "class",
            "primary"
           ]
          ],
          "id": "road_primary",
          "layout": {
           "line-cap": "round",
           "line-join": "round",
           "visibility": "visible"
          },
          "metadata": {},
          "minzoom": 7,
          "paint": {
           "line-color": {
            "stops": [
             [
              7,
              "#f3c380"
             ],
             [
              11,
              "#fcd6a4"
             ]
            ]
           },
           "line-width": {
            "base": 1.2,
            "stops": [
             [
              7,
              1
             ],
             [
              8,
              1.4
             ],
             [
              9,
              1.8
             ],
             [
              10,
              1.8
             ],
             [
              11,
              2.5
             ],
             [
              12,
              4
             ],
             [
              13,
              4
             ],
             [
              15,
              8.6
             ],
             [
              16,
              16
             ],
             [
              17,
              19
             ],
             [
              18,
              25
             ]
            ]
           }
          },
          "source": "openmaptiles",
          "source-layer": "transportation",
          "type": "line"
         },
         "casing": {
          "_": {
           "filter": [
            "all",
            [
             "!in",
             "brunnel",
             "bridge",
             "tunnel"
            ],
            [
             "!=",
             "ramp",
             1
            ],
            [
             "in",
             "class",
             "primary"
            ],
            [
             "!=",
             "ramp",
             1
            ]
           ],
           "id": "road_primary_casing",
           "layout": {
            "line-cap": "butt",
            "line-join": "round",
            "visibility": "visible"
           },
           "metadata": {},
           "minzoom": 9,
           "paint": {
            "line-color": {
             "stops": [
              [
               10.9,
               "rgba(255, 250, 234, 0.47)"
              ],
              [
               11,
               "rgba(160, 116, 0, 1)"
              ]
             ]
            },
            "line-opacity": 1,
            "line-width": {
             "base": 1.2,
             "stops": [
              [
               9,
               6
              ],
              [
               11,
               3.5
              ],
              [
               12,
               5
              ],
              [
               13,
               5
              ],
              [
               15,
               10
              ],
              [
               16,
               18
              ],
              [
               17,
               21
              ],
              [
               18,
               27
              ]
             ]
            }
           },
           "source": "openmaptiles",
           "source-layer": "transportation",
           "type": "line"
          }
         },
         "construction": {
          "_": {
           "filter": [
            "all",
            [
             "!in",
             "brunnel",
             "bridge",
             "tunnel"
            ],
            [
             "!=",
             "ramp",
             1
            ],
            [
             "in",
             "class",
             "primary_construction"
            ]
           ],
           "id": "road_primary_construction",
           "layout": {
            "line-cap": "round",
            "line-join": "round",
            "visibility": "visible"
           },
           "metadata": {},
           "minzoom": 7,
           "paint": {
            "line-color": {
             "stops": [
              [
               7,
               "#f3c380"
              ],
              [
               11,
               "#fcd6a4"
              ]
             ]
            },
            "line-width": {
             "base": 1.2,
             "stops": [
              [
               7,
               1
              ],
              [
               8,
               1.4
              ],
              [
               9,
               1.8
              ],
              [
               10,
               1.8
              ],
              [
               11,
               2.5
              ],
              [
               12,
               4
              ],
              [
               13,
               4
              ],
              [
               15,
               8.6
              ],
              [
               16,
               16
              ],
              [
               17,
               19
              ],
              [
               18,
               25
              ]
             ]
            }
           },
           "source": "openmaptiles",
           "source-layer": "transportation",
           "type": "line"
          }
         },
         "link": {
          "_": {
           "filter": [
            "all",
            [
             "!in",
             "brunnel",
             "bridge",
             "tunnel"
            ],
            [
             "==",
             "ramp",
             1
            ],
            [
             "in",
             "class",
             "primary"
            ]
           ],
           "id": "road_primary_link",
           "layout": {
            "line-cap": "round",
            "line-join": "round",
            "visibility": "visible"
           },
           "metadata": {},
           "paint": {
            "line-color": "#fcd6a4",
            "line-width": {
             "base": 1.2,
             "stops": [
              [
               11,
               1.5
              ],
              [
               12,
               3
              ],
              [
               13,
               3
              ],
              [
               14,
               6.6
              ],
              [
               16,
               10.4
              ],
              [
               17,
               11.4
              ],
              [
               18,
               14.4
              ]
             ]
            }
           },
           "source": "openmaptiles",
           "source-layer": "transportation",
           "type": "line"
          },
          "casing": {
           "_": {
            "filter": [
             "all",
             [
              "!in",
              "brunnel",
              "bridge",
              "tunnel"
             ],
             [
              "==",
              "ramp",
              1
             ],
             [
              "in",
              "class",
              "primary"
             ]
            ],
            "id": "road_primary_link_casing",
            "layout": {
             "line-cap": "butt",
             "line-join": "round",
             "visibility": "visible"
            },
            "metadata": {},
            "minzoom": 11,
            "paint": {
             "line-color": {
              "stops": [
               [
                11,
                "#c38a27"
               ],
               [
                12,
                "#a06b00"
               ]
              ]
             },
             "line-width": {
              "base": 1.2,
              "stops": [
               [
                11,
                1.5
               ],
               [
                12,
                4
               ],
               [
                13,
                4
               ],
               [
                14,
                7.8
               ],
               [
                16,
                12
               ],
               [
                17,
                13
               ],
               [
                18,
                16
               ]
              ]
             }
            },
            "source": "openmaptiles",
            "source-layer": "transportation",
            "type": "line"
           }
          }
         }
        },
        "secondary": {
         "_": {
          "filter": [
           "all",
           [
            "!in",
            "brunnel",
            "bridge",
            "tunnel"
           ],
           [
            "in",
            "class",
            "secondary"
           ]
          ],
          "id": "road_secondary",
          "layout": {
           "line-cap": "round",
           "line-join": "round",
           "visibility": "visible"
          },
          "metadata": {},
          "minzoom": 8,
          "paint": {
           "line-color": {
            "stops": [
             [
              10.5,
              "#bbbbbb"
             ],
             [
              10.6,
              "#f7fabf"
             ]
            ]
           },
           "line-width": {
            "base": 1.2,
            "stops": [
             [
              8,
              1
             ],
             [
              9,
              1.1
             ],
             [
              10,
              1.1
             ],
             [
              11,
              2.9
             ],
             [
              12,
              4.3
             ],
             [
              13,
              4.3
             ],
             [
              14,
              7.6
             ],
             [
              15,
              8.6
             ],
             [
              16,
              16
             ],
             [
              17,
              19
             ],
             [
              18,
              25
             ]
            ]
           }
          },
          "source": "openmaptiles",
          "source-layer": "transportation",
          "type": "line"
         },
         "casing": {
          "_": {
           "filter": [
            "all",
            [
             "!in",
             "brunnel",
             "bridge",
             "tunnel"
            ],
            [
             "in",
             "class",
             "secondary"
            ],
            [
             "!=",
             "ramp",
             1
            ]
           ],
           "id": "road_secondary_casing",
           "layout": {
            "line-cap": "round",
            "line-join": "round",
            "visibility": "visible"
           },
           "metadata": {},
           "minzoom": 11,
           "paint": {
            "line-color": {
             "stops": [
              [
               11,
               "#9eae23"
              ],
              [
               12,
               "#707d05"
              ]
             ]
            },
            "line-opacity": 1,
            "line-width": {
             "base": 1.2,
             "stops": [
              [
               11,
               3.5
              ],
              [
               12,
               5
              ],
              [
               13,
               5
              ],
              [
               14,
               9
              ],
              [
               15,
               10
              ],
              [
               16,
               18
              ],
              [
               17,
               21
              ],
              [
               18,
               27
              ]
             ]
            }
           },
           "source": "openmaptiles",
           "source-layer": "transportation",
           "type": "line"
          }
         },
         "construction": {
          "_": {
           "filter": [
            "all",
            [
             "!in",
             "brunnel",
             "bridge",
             "tunnel"
            ],
            [
             "in",
             "class",
             "secondary_construction"
            ]
           ],
           "id": "road_secondary_construction",
           "layout": {
            "line-cap": "round",
            "line-join": "round",
            "visibility": "visible"
           },
           "metadata": {},
           "minzoom": 8,
           "paint": {
            "line-color": {
             "stops": [
              [
               10.5,
               "#bbbbbb"
              ],
              [
               10.6,
               "#f7fabf"
              ]
             ]
            },
            "line-dasharray": [
             2,
             2
            ],
            "line-width": {
             "base": 1.2,
             "stops": [
              [
               8,
               1
              ],
              [
               9,
               1.1
              ],
              [
               10,
               1.1
              ],
              [
               11,
               2.9
              ],
              [
               12,
               4.3
              ],
              [
               13,
               4.3
              ],
              [
               14,
               7.6
              ],
              [
               15,
               8.6
              ],
              [
               16,
               16
              ],
              [
               17,
               19
              ],
              [
               18,
               25
              ]
             ]
            }
           },
           "source": "openmaptiles",
           "source-layer": "transportation",
           "type": "line"
          }
         },
         "link": {
          "casing": {
           "_": {
            "filter": [
             "all",
             [
              "!in",
              "brunnel",
              "bridge",
              "tunnel"
             ],
             [
              "in",
              "class",
              "secondary"
             ],
             [
              "==",
              "ramp",
              1
             ]
            ],
            "id": "road_secondary_link_casing",
            "layout": {
             "line-cap": "round",
             "line-join": "round",
             "visibility": "visible"
            },
            "metadata": {},
            "minzoom": 11,
            "paint": {
             "line-color": {
              "stops": [
               [
                11,
                "#9eae23"
               ],
               [
                12,
                "#707d05"
               ]
              ]
             },
             "line-opacity": 1,
             "line-width": {
              "base": 1.2,
              "stops": [
               [
                11,
                3.5
               ],
               [
                12,
                5
               ],
               [
                13,
                5
               ],
               [
                14,
                9
               ],
               [
                15,
                10
               ],
               [
                16,
                18
               ],
               [
                17,
                21
               ],
               [
                18,
                27
               ]
              ]
             }
            },
            "source": "openmaptiles",
            "source-layer": "transportation",
            "type": "line"
           }
          }
         }
        },
        "service": {
         "track": {
          "_": {
           "filter": [
            "all",
            [
             "!in",
             "brunnel",
             "bridge",
             "tunnel"
            ],
            [
             "in",
             "class",
             "service",
             "track"
            ]
           ],
           "id": "road_service_track",
           "layout": {
            "line-cap": "round",
            "line-join": "round",
            "visibility": "visible"
           },
           "metadata": {},
           "minzoom": 12,
           "paint": {
            "line-color": "#fff",
            "line-width": {
             "base": 1.2,
             "stops": [
              [
               13,
               0.9
              ],
              [
               15,
               2.3
              ],
              [
               15,
               0.5
              ],
              [
               16,
               5.4
              ],
              [
               17,
               6.9
              ],
              [
               18,
               9.4
              ],
              [
               19,
               10.4
              ]
             ]
            }
           },
           "source": "openmaptiles",
           "source-layer": "transportation",
           "type": "line"
          },
          "casing": {
           "_": {
            "filter": [
             "all",
             [
              "!in",
              "brunnel",
              "bridge",
              "tunnel"
             ],
             [
              "in",
              "class",
              "service",
              "track"
             ]
            ],
            "id": "road_service_track_casing",
            "layout": {
             "line-cap": "round",
             "line-join": "round"
            },
            "metadata": {},
            "minzoom": 13,
            "paint": {
             "line-color": "#bbbbbb",
             "line-width": {
              "base": 1.2,
              "stops": [
               [
                13,
                2
               ],
               [
                15,
                3.5
               ],
               [
                16,
                7
               ],
               [
                17,
                8.5
               ],
               [
                18,
                11
               ],
               [
                19,
                12
               ]
              ]
             }
            },
            "source": "openmaptiles",
            "source-layer": "transportation",
            "type": "line"
           }
          },
          "construction": {
           "_": {
            "filter": [
             "all",
             [
              "!in",
              "brunnel",
              "bridge",
              "tunnel"
             ],
             [
              "in",
              "class",
              "service_construction",
              "track_construction"
             ]
            ],
            "id": "road_service_track_construction",
            "layout": {
             "line-cap": "round",
             "line-join": "round",
             "visibility": "visible"
            },
            "metadata": {},
            "minzoom": 12,
            "paint": {
             "line-color": "#fff",
             "line-dasharray": [
              2,
              2
             ],
             "line-width": {
              "base": 1.2,
              "stops": [
               [
                13,
                0.9
               ],
               [
                15,
                2.3
               ],
               [
                15,
                0.5
               ],
               [
                16,
                5.4
               ],
               [
                17,
                6.9
               ],
               [
                18,
                9.4
               ],
               [
                19,
                10.4
               ]
              ]
             }
            },
            "source": "openmaptiles",
            "source-layer": "transportation",
            "type": "line"
           }
          }
         }
        },
        "tertiary": {
         "_": {
          "filter": [
           "all",
           [
            "!in",
            "brunnel",
            "bridge",
            "tunnel"
           ],
           [
            "in",
            "class",
            "tertiary"
           ]
          ],
          "id": "road_tertiary",
          "layout": {
           "line-cap": "round",
           "line-join": "round",
           "visibility": "visible"
          },
          "metadata": {},
          "minzoom": 9,
          "paint": {
           "line-color": {
            "stops": [
             [
              10.5,
              "#bbbbbb"
             ],
             [
              10.6,
              "#FFFFFF"
             ]
            ]
           },
           "line-width": {
            "base": 1.2,
            "stops": [
             [
              9,
              0.7
             ],
             [
              10,
              0.7
             ],
             [
              11,
              1.9
             ],
             [
              12,
              3
             ],
             [
              13,
              3.9
             ],
             [
              14,
              7.8
             ],
             [
              15,
              8.8
             ],
             [
              16,
              16.4
             ],
             [
              17,
              19.4
             ],
             [
              18,
              25.4
             ]
            ]
           }
          },
          "source": "openmaptiles",
          "source-layer": "transportation",
          "type": "line"
         },
         "casing": {
          "_": {
           "filter": [
            "all",
            [
             "!in",
             "brunnel",
             "bridge",
             "tunnel"
            ],
            [
             "in",
             "class",
             "tertiary"
            ],
            [
             "!=",
             "ramp",
             1
            ]
           ],
           "id": "road_tertiary_casing",
           "layout": {
            "line-cap": "round",
            "line-join": "round",
            "visibility": "visible"
           },
           "metadata": {},
           "minzoom": 11,
           "paint": {
            "line-color": "#8f8f8f",
            "line-opacity": 1,
            "line-width": {
             "base": 1.2,
             "stops": [
              [
               11,
               2.5
              ],
              [
               12,
               4
              ],
              [
               13,
               5
              ],
              [
               14,
               9
              ],
              [
               15,
               10
              ],
              [
               16,
               18
              ],
              [
               17,
               21
              ],
              [
               18,
               27
              ]
             ]
            }
           },
           "source": "openmaptiles",
           "source-layer": "transportation",
           "type": "line"
          }
         },
         "construction": {
          "_": {
           "filter": [
            "all",
            [
             "!in",
             "brunnel",
             "bridge",
             "tunnel"
            ],
            [
             "in",
             "class",
             "tertiary_construction"
            ]
           ],
           "id": "road_tertiary_construction",
           "layout": {
            "line-cap": "round",
            "line-join": "round",
            "visibility": "visible"
           },
           "metadata": {},
           "minzoom": 9,
           "paint": {
            "line-color": {
             "stops": [
              [
               10.5,
               "#bbbbbb"
              ],
              [
               10.6,
               "#fff"
              ]
             ]
            },
            "line-dasharray": [
             2,
             2
            ],
            "line-width": {
             "base": 1.2,
             "stops": [
              [
               9,
               0.7
              ],
              [
               11,
               1.9
              ],
              [
               12,
               3
              ],
              [
               13,
               3.9
              ],
              [
               14,
               7.8
              ],
              [
               15,
               8.8
              ],
              [
               16,
               16.4
              ],
              [
               17,
               19.4
              ],
              [
               18,
               25.4
              ]
             ]
            }
           },
           "source": "openmaptiles",
           "source-layer": "transportation",
           "type": "line"
          }
         }
        },
        "trunk": {
         "_": {
          "filter": [
           "all",
           [
            "!in",
            "brunnel",
            "bridge",
            "tunnel"
           ],
           [
            "!=",
            "ramp",
            1
           ],
           [
            "in",
            "class",
            "trunk"
           ]
          ],
          "id": "road_trunk",
          "layout": {
           "line-cap": "round",
           "line-join": "round",
           "visibility": "visible"
          },
          "metadata": {},
          "minzoom": 7,
          "paint": {
           "line-color": {
            "stops": [
             [
              5,
              "#fdb59e"
             ],
             [
              11,
              "#f9b29c"
             ]
            ]
           },
           "line-width": {
            "base": 1.2,
            "stops": [
             [
              7,
              1
             ],
             [
              8,
              1.4
             ],
             [
              9,
              1.8
             ],
             [
              10,
              1.8
             ],
             [
              11,
              2.5
             ],
             [
              12,
              4
             ],
             [
              13,
              4
             ],
             [
              15,
              8.6
             ],
             [
              16,
              16
             ],
             [
              17,
              19
             ],
             [
              18,
              25
             ]
            ]
           }
          },
          "source": "openmaptiles",
          "source-layer": "transportation",
          "type": "line"
         },
         "casing": {
          "_": {
           "filter": [
            "all",
            [
             "!in",
             "brunnel",
             "bridge",
             "tunnel"
            ],
            [
             "!=",
             "ramp",
             1
            ],
            [
             "in",
             "class",
             "trunk"
            ],
            [
             "!=",
             "ramp",
             1
            ]
           ],
           "id": "road_trunk_casing",
           "layout": {
            "line-cap": "butt",
            "line-join": "round",
            "visibility": "visible"
           },
           "metadata": {},
           "minzoom": 11,
           "paint": {
            "line-color": {
             "stops": [
              [
               11,
               "rgba(160, 116, 0, 1)"
              ],
              [
               12,
               "#c84e2f"
              ]
             ]
            },
            "line-opacity": 1,
            "line-width": {
             "base": 1.2,
             "stops": [
              [
               9,
               6
              ],
              [
               11,
               3.5
              ],
              [
               12,
               5
              ],
              [
               13,
               5
              ],
              [
               15,
               10
              ],
              [
               16,
               18
              ],
              [
               17,
               21
              ],
              [
               18,
               27
              ]
             ]
            }
           },
           "source": "openmaptiles",
           "source-layer": "transportation",
           "type": "line"
          }
         },
         "construction": {
          "_": {
           "filter": [
            "all",
            [
             "!in",
             "brunnel",
             "bridge",
             "tunnel"
            ],
            [
             "!=",
             "ramp",
             1
            ],
            [
             "in",
             "class",
             "trunk_construction"
            ]
           ],
           "id": "road_trunk_construction",
           "layout": {
            "line-cap": "round",
            "line-join": "round",
            "visibility": "visible"
           },
           "metadata": {},
           "minzoom": 7,
           "paint": {
            "line-color": {
             "stops": [
              [
               6,
               "#fdb59e"
              ],
              [
               11,
               "#f9b29c"
              ]
             ]
            },
            "line-dasharray": [
             2,
             2
            ],
            "line-width": {
             "base": 1.2,
             "stops": [
              [
               7,
               1
              ],
              [
               8,
               1.4
              ],
              [
               9,
               1.8
              ],
              [
               10,
               1.8
              ],
              [
               11,
               2.5
              ],
              [
               12,
               4
              ],
              [
               13,
               4
              ],
              [
               15,
               8.6
              ],
              [
               16,
               16
              ],
              [
               17,
               19
              ],
              [
               18,
               25
              ]
             ]
            }
           },
           "source": "openmaptiles",
           "source-layer": "transportation",
           "type": "line"
          }
         },
         "link": {
          "_": {
           "filter": [
            "all",
            [
             "!in",
             "brunnel",
             "bridge",
             "tunnel"
            ],
            [
             "==",
             "ramp",
             1
            ],
            [
             "in",
             "class",
             "trunk"
            ]
           ],
           "id": "road_trunk_link",
           "layout": {
            "line-cap": "round",
            "line-join": "round",
            "visibility": "visible"
           },
           "metadata": {},
           "minzoom": 11,
           "paint": {
            "line-color": {
             "stops": [
              [
               6,
               "#fdb59e"
              ],
              [
               11,
               "#f9b29c"
              ]
             ]
            },
            "line-width": {
             "base": 1.2,
             "stops": [
              [
               11,
               0.9
              ],
              [
               12,
               3
              ],
              [
               14,
               6.6
              ],
              [
               16,
               10.4
              ],
              [
               17,
               11.4
              ],
              [
               18,
               14.4
              ]
             ]
            }
           },
           "source": "openmaptiles",
           "source-layer": "transportation",
           "type": "line"
          },
          "casing": {
           "_": {
            "filter": [
             "all",
             [
              "!in",
              "brunnel",
              "bridge",
              "tunnel"
             ],
             [
              "==",
              "ramp",
              1
             ],
             [
              "in",
              "class",
              "trunk"
             ]
            ],
            "id": "road_trunk_link_casing",
            "layout": {
             "line-cap": "butt",
             "line-join": "round",
             "visibility": "visible"
            },
            "metadata": {},
            "minzoom": 11,
            "paint": {
             "line-color": {
              "stops": [
               [
                11,
                "#cf6649"
               ],
               [
                12,
                "#c84e2f"
               ]
              ]
             },
             "line-width": {
              "base": 1.2,
              "stops": [
               [
                11,
                1.5
               ],
               [
                12,
                4
               ],
               [
                14,
                7.8
               ],
               [
                16,
                12
               ],
               [
                17,
                13
               ],
               [
                18,
                16
               ]
              ]
             }
            },
            "source": "openmaptiles",
            "source-layer": "transportation",
            "type": "line"
           }
          }
         }
        }
       },
       "tunnel": {
        "link": {
         "_": {
          "filter": [
           "all",
           [
            "==",
            "ramp",
            "1"
           ],
           [
            "==",
            "brunnel",
            "tunnel"
           ],
           [
            ">",
            "layer",
            0
           ]
          ],
          "id": "tunnel_link",
          "layout": {
           "line-join": "round",
           "visibility": "visible"
          },
          "metadata": {},
          "paint": {
           "line-color": "#fff4c6",
           "line-width": {
            "base": 1.2,
            "stops": [
             [
              12.5,
              0
             ],
             [
              13,
              1.5
             ],
             [
              14,
              2.5
             ],
             [
              20,
              11.5
             ]
            ]
           }
          },
          "source": "openmaptiles",
          "source-layer": "transportation",
          "type": "line"
         },
         "casing": {
          "_": {
           "filter": [
            "all",
            [
             "==",
             "ramp",
             "1"
            ],
            [
             "==",
             "brunnel",
             "tunnel"
            ],
            [
             ">",
             "layer",
             0
            ]
           ],
           "id": "tunnel_link_casing",
           "layout": {
            "line-join": "round",
            "visibility": "visible"
           },
           "metadata": {},
           "paint": {
            "line-color": "#e9ac77",
            "line-opacity": 1,
            "line-width": {
             "base": 1.2,
             "stops": [
              [
               12,
               1
              ],
              [
               13,
               3
              ],
              [
               14,
               4
              ],
              [
               20,
               15
              ]
             ]
            }
           },
           "source": "openmaptiles",
           "source-layer": "transportation",
           "type": "line"
          }
         }
        },
        "major": {
         "rail": {
          "_": {
           "filter": [
            "all",
            [
             "==",
             "brunnel",
             "tunnel"
            ],
            [
             "in",
             "class",
             "rail"
            ]
           ],
           "id": "tunnel_major_rail",
           "layout": {
            "visibility": "visible"
           },
           "metadata": {},
           "paint": {
            "line-color": "rgba(166, 166, 166, 1)",
            "line-width": {
             "base": 1.4,
             "stops": [
              [
               8,
               0.8
              ],
              [
               15,
               3
              ],
              [
               20,
               5.4
              ]
             ]
            }
           },
           "source": "openmaptiles",
           "source-layer": "transportation",
           "type": "line"
          },
          "hatching": {
           "_": {
            "filter": [
             "all",
             [
              "in",
              "brunnel",
              "bridge",
              "tunnel"
             ],
             [
              "==",
              "class",
              "rail"
             ]
            ],
            "id": "tunnel_major_rail_hatching",
            "layout": {
             "visibility": "visible"
            },
            "metadata": {},
            "minzoom": 9,
            "paint": {
             "line-color": {
              "stops": [
               [
                8,
                "rgba(114, 114, 114, 0.44)"
               ],
               [
                10,
                "rgba(199, 199, 199, 1)"
               ]
              ]
             },
             "line-dasharray": [
              2,
              2
             ],
             "line-width": {
              "base": 1.4,
              "stops": [
               [
                8,
                0
               ],
               [
                15,
                2
               ],
               [
                20,
                4
               ]
              ]
             }
            },
            "source": "openmaptiles",
            "source-layer": "transportation",
            "type": "line"
           }
          }
         }
        },
        "minor": {
         "_": {
          "filter": [
           "all",
           [
            "==",
            "brunnel",
            "tunnel"
           ],
           [
            "in",
            "class",
            "minor"
           ]
          ],
          "id": "tunnel_minor",
          "layout": {
           "line-join": "round",
           "visibility": "visible"
          },
          "metadata": {},
          "paint": {
           "line-color": "#fff",
           "line-opacity": 1,
           "line-width": {
            "base": 1.2,
            "stops": [
             [
              13.5,
              0
             ],
             [
              14,
              2.5
             ],
             [
              20,
              11.5
             ]
            ]
           }
          },
          "source": "openmaptiles",
          "source-layer": "transportation",
          "type": "line"
         },
         "construction": {
          "_": {
           "filter": [
            "all",
            [
             "==",
             "brunnel",
             "tunnel"
            ],
            [
             "in",
             "class",
             "minor_construction"
            ]
           ],
           "id": "tunnel_minor_construction",
           "layout": {
            "line-join": "round",
            "visibility": "visible"
           },
           "metadata": {},
           "paint": {
            "line-color": "#fff",
            "line-dasharray": [
             2,
             2
            ],
            "line-opacity": 1,
            "line-width": {
             "base": 1.2,
             "stops": [
              [
               13.5,
               0
              ],
              [
               14,
               2.5
              ],
              [
               20,
               11.5
              ]
             ]
            }
           },
           "source": "openmaptiles",
           "source-layer": "transportation",
           "type": "line"
          }
         }
        },
        "motorway": {
         "_": {
          "filter": [
           "all",
           [
            "==",
            "class",
            "motorway"
           ],
           [
            "==",
            "brunnel",
            "tunnel"
           ]
          ],
          "id": "tunnel_motorway",
          "layout": {
           "line-join": "round",
           "visibility": "visible"
          },
          "metadata": {},
          "paint": {
           "line-color": {
            "stops": [
             [
              5,
              "#e66e89"
             ],
             [
              11,
              "#f1bcc6"
             ]
            ]
           },
           "line-width": {
            "base": 1.2,
            "stops": [
             [
              5,
              0
             ],
             [
              7,
              1
             ],
             [
              18,
              25
             ]
            ]
           }
          },
          "source": "openmaptiles",
          "source-layer": "transportation",
          "type": "line"
         },
         "casing": {
          "_": {
           "filter": [
            "all",
            [
             "==",
             "class",
             "motorway"
            ],
            [
             "==",
             "brunnel",
             "tunnel"
            ]
           ],
           "id": "tunnel_motorway_casing",
           "layout": {
            "line-join": "round",
            "visibility": "visible"
           },
           "metadata": {},
           "paint": {
            "line-color": {
             "stops": [
              [
               6,
               "#dc2a67"
              ],
              [
               10,
               "#c24e6b"
              ]
             ]
            },
            "line-dasharray": [
             0.5,
             0.25
            ],
            "line-width": {
             "base": 1.2,
             "stops": [
              [
               5,
               0
              ],
              [
               7,
               1.75
              ],
              [
               18,
               27
              ]
             ]
            }
           },
           "source": "openmaptiles",
           "source-layer": "transportation",
           "type": "line"
          }
         },
         "construction": {
          "_": {
           "filter": [
            "all",
            [
             "==",
             "class",
             "motorway_construction"
            ],
            [
             "==",
             "brunnel",
             "tunnel"
            ]
           ],
           "id": "tunnel_motorway_construction",
           "layout": {
            "line-join": "round",
            "visibility": "visible"
           },
           "metadata": {},
           "paint": {
            "line-color": {
             "stops": [
              [
               5,
               "#e66e89"
              ],
              [
               11,
               "#f1bcc6"
              ]
             ]
            },
            "line-dasharray": [
             2,
             2
            ],
            "line-width": {
             "base": 1.2,
             "stops": [
              [
               5,
               0
              ],
              [
               7,
               1
              ],
              [
               18,
               25
              ]
             ]
            }
           },
           "source": "openmaptiles",
           "source-layer": "transportation",
           "type": "line"
          },
          "casing": {
           "_": {
            "filter": [
             "all",
             [
              "==",
              "class",
              "motorway_construction"
             ],
             [
              "==",
              "brunnel",
              "tunnel"
             ]
            ],
            "id": "tunnel_motorway_construction_casing",
            "layout": {
             "line-join": "round",
             "visibility": "visible"
            },
            "metadata": {},
            "paint": {
             "line-color": {
              "stops": [
               [
                6,
                "#dc2a67"
               ],
               [
                10,
                "#c24e6b"
               ]
              ]
             },
             "line-dasharray": [
              0.5,
              0.25
             ],
             "line-width": {
              "base": 1.2,
              "stops": [
               [
                5,
                0
               ],
               [
                7,
                1.75
               ],
               [
                18,
                27
               ]
              ]
             }
            },
            "source": "openmaptiles",
            "source-layer": "transportation",
            "type": "line"
           }
          }
         },
         "link": {
          "_": {
           "filter": [
            "all",
            [
             "==",
             "class",
             "motorway"
            ],
            [
             "==",
             "ramp",
             1
            ],
            [
             "==",
             "brunnel",
             "tunnel"
            ]
           ],
           "id": "tunnel_motorway_link",
           "layout": {
            "line-join": "round",
            "visibility": "visible"
           },
           "metadata": {},
           "minzoom": 8,
           "paint": {
            "line-color": "#f1bcc6",
            "line-dasharray": [
             0.5,
             0.25
            ],
            "line-opacity": 1,
            "line-width": {
             "base": 1.2,
             "stops": [
              [
               8,
               0.7
              ],
              [
               11,
               0.9
              ],
              [
               12,
               3
              ],
              [
               14,
               6.6
              ],
              [
               16,
               10.4
              ],
              [
               17,
               11.4
              ],
              [
               18,
               14.4
              ],
              [
               19,
               15.4
              ]
             ]
            }
           },
           "source": "openmaptiles",
           "source-layer": "transportation",
           "type": "line"
          },
          "casing": {
           "_": {
            "filter": [
             "all",
             [
              "==",
              "class",
              "motorway_link"
             ],
             [
              "==",
              "ramp",
              1
             ],
             [
              "==",
              "brunnel",
              "tunnel"
             ]
            ],
            "id": "tunnel_motorway_link_casing",
            "layout": {
             "line-join": "round",
             "visibility": "visible"
            },
            "metadata": {},
            "minzoom": 11,
            "paint": {
             "line-color": {
              "stops": [
               [
                11,
                "#c24e6b"
               ],
               [
                12,
                "#dc2a67"
               ]
              ]
             },
             "line-width": {
              "base": 1.2,
              "stops": [
               [
                11,
                1.5
               ],
               [
                12,
                4
               ],
               [
                14,
                7.8
               ],
               [
                16,
                12
               ],
               [
                17,
                13
               ],
               [
                18,
                16
               ],
               [
                19,
                17
               ]
              ]
             }
            },
            "source": "openmaptiles",
            "source-layer": "transportation",
            "type": "line"
           }
          }
         }
        },
        "path": {
         "pedestrian": {
          "_": {
           "filter": [
            "all",
            [
             "==",
             "$type",
             "LineString"
            ],
            [
             "==",
             "brunnel",
             "tunnel"
            ],
            [
             "in",
             "class",
             "path",
             "pedestrian"
            ]
           ],
           "id": "tunnel_path_pedestrian",
           "layout": {
            "visibility": "visible"
           },
           "metadata": {},
           "paint": {
            "line-color": "rgba(204, 196, 176, 0.45)",
            "line-dasharray": [
             1,
             0.75
            ],
            "line-width": {
             "base": 1.2,
             "stops": [
              [
               14,
               0.5
              ],
              [
               20,
               6
              ]
             ]
            }
           },
           "source": "openmaptiles",
           "source-layer": "transportation",
           "type": "line"
          }
         }
        },
        "primary": {
         "_": {
          "filter": [
           "all",
           [
            "==",
            "brunnel",
            "tunnel"
           ],
           [
            "in",
            "class",
            "primary"
           ]
          ],
          "id": "tunnel_primary",
          "layout": {
           "line-join": "round",
           "visibility": "visible"
          },
          "metadata": {},
          "minzoom": 11,
          "paint": {
           "line-color": "#feecd5",
           "line-opacity": 1,
           "line-width": {
            "base": 1.2,
            "stops": [
             [
              5,
              0.4
             ],
             [
              6,
              0.6
             ],
             [
              7,
              1
             ],
             [
              8,
              1.4
             ],
             [
              9,
              1.9
             ],
             [
              10,
              1.9
             ],
             [
              11,
              4.5
             ],
             [
              12,
              5
             ],
             [
              15,
              8.6
             ],
             [
              16,
              16
             ],
             [
              17,
              19
             ],
             [
              18,
              25
             ]
            ]
           }
          },
          "source": "openmaptiles",
          "source-layer": "transportation",
          "type": "line"
         },
         "casing": {
          "_": {
           "filter": [
            "all",
            [
             "==",
             "brunnel",
             "tunnel"
            ],
            [
             "in",
             "class",
             "primary"
            ]
           ],
           "id": "tunnel_primary_casing",
           "layout": {
            "line-join": "round",
            "visibility": "visible"
           },
           "metadata": {},
           "minzoom": 11,
           "paint": {
            "line-color": {
             "stops": [
              [
               6,
               "#a06b00"
              ],
              [
               10,
               "rgba(160, 116, 0, 1)"
              ]
             ]
            },
            "line-dasharray": [
             0.5,
             0.25
            ],
            "line-width": {
             "base": 1.2,
             "stops": [
              [
               11,
               3.5
              ],
              [
               12,
               6
              ],
              [
               15,
               10
              ],
              [
               16,
               18
              ],
              [
               17,
               21
              ],
              [
               18,
               27
              ]
             ]
            }
           },
           "source": "openmaptiles",
           "source-layer": "transportation",
           "type": "line"
          }
         },
         "construction": {
          "_": {
           "filter": [
            "all",
            [
             "==",
             "brunnel",
             "tunnel"
            ],
            [
             "in",
             "class",
             "primary_construction"
            ]
           ],
           "id": "tunnel_primary_construction",
           "layout": {
            "line-join": "round",
            "visibility": "visible"
           },
           "metadata": {},
           "minzoom": 11,
           "paint": {
            "line-color": "#feecd5",
            "line-dasharray": [
             2,
             2
            ],
            "line-opacity": 1,
            "line-width": {
             "base": 1.2,
             "stops": [
              [
               5,
               0.4
              ],
              [
               6,
               0.6
              ],
              [
               7,
               1
              ],
              [
               8,
               1.4
              ],
              [
               9,
               1.9
              ],
              [
               10,
               1.9
              ],
              [
               11,
               4.5
              ],
              [
               12,
               5
              ],
              [
               15,
               8.6
              ],
              [
               16,
               16
              ],
              [
               17,
               19
              ],
              [
               18,
               25
              ]
             ]
            }
           },
           "source": "openmaptiles",
           "source-layer": "transportation",
           "type": "line"
          }
         }
        },
        "secondary": {
         "_": {
          "filter": [
           "all",
           [
            "==",
            "brunnel",
            "tunnel"
           ],
           [
            "in",
            "class",
            "secondary"
           ]
          ],
          "id": "tunnel_secondary",
          "layout": {
           "line-join": "round",
           "visibility": "visible"
          },
          "metadata": {},
          "minzoom": 8,
          "paint": {
           "line-color": "#fafcd7",
           "line-width": {
            "base": 1.2,
            "stops": [
             [
              8,
              1
             ],
             [
              9,
              1.1
             ],
             [
              10,
              1.1
             ],
             [
              11,
              2.9
             ],
             [
              12,
              4.3
             ],
             [
              12,
              4.3
             ],
             [
              14,
              7.6
             ],
             [
              15,
              8.6
             ],
             [
              16,
              16
             ],
             [
              17,
              19
             ],
             [
              18,
              25
             ]
            ]
           }
          },
          "source": "openmaptiles",
          "source-layer": "transportation",
          "type": "line"
         },
         "casing": {
          "_": {
           "filter": [
            "all",
            [
             "==",
             "brunnel",
             "tunnel"
            ],
            [
             "in",
             "class",
             "secondary"
            ]
           ],
           "id": "tunnel_secondary_casing",
           "layout": {
            "line-join": "round",
            "visibility": "visible"
           },
           "metadata": {},
           "minzoom": 11,
           "paint": {
            "line-color": "#707d05",
            "line-dasharray": [
             0.5,
             0.25
            ],
            "line-opacity": 1,
            "line-width": {
             "base": 1.2,
             "stops": [
              [
               11,
               3.5
              ],
              [
               12,
               5
              ],
              [
               13,
               5
              ],
              [
               14,
               9
              ],
              [
               15,
               10
              ],
              [
               16,
               18
              ],
              [
               17,
               21
              ],
              [
               18,
               27
              ]
             ]
            }
           },
           "source": "openmaptiles",
           "source-layer": "transportation",
           "type": "line"
          }
         },
         "construction": {
          "_": {
           "filter": [
            "all",
            [
             "==",
             "brunnel",
             "tunnel"
            ],
            [
             "in",
             "class",
             "secondary_construction"
            ]
           ],
           "id": "tunnel_secondary_construction",
           "layout": {
            "line-join": "round",
            "visibility": "visible"
           },
           "metadata": {},
           "minzoom": 8,
           "paint": {
            "line-color": "#fafcd7",
            "line-dasharray": [
             2,
             2
            ],
            "line-width": {
             "base": 1.2,
             "stops": [
              [
               8,
               1
              ],
              [
               9,
               1.1
              ],
              [
               10,
               1.1
              ],
              [
               11,
               2.9
              ],
              [
               12,
               4.3
              ],
              [
               12,
               4.3
              ],
              [
               14,
               7.6
              ],
              [
               15,
               8.6
              ],
              [
               16,
               16
              ],
              [
               17,
               19
              ],
              [
               18,
               25
              ]
             ]
            }
           },
           "source": "openmaptiles",
           "source-layer": "transportation",
           "type": "line"
          }
         }
        },
        "service": {
         "track": {
          "_": {
           "filter": [
            "all",
            [
             "==",
             "brunnel",
             "tunnel"
            ],
            [
             "in",
             "class",
             "service",
             "track"
            ]
           ],
           "id": "tunnel_service_track",
           "layout": {
            "line-join": "round",
            "visibility": "visible"
           },
           "metadata": {},
           "minzoom": 15,
           "paint": {
            "line-color": "#f2f2f2",
            "line-width": {
             "base": 1.2,
             "stops": [
              [
               15,
               0.8
              ],
              [
               16,
               1.9
              ],
              [
               17,
               3.1
              ],
              [
               18,
               3.9
              ],
              [
               19,
               6.9
              ]
             ]
            }
           },
           "source": "openmaptiles",
           "source-layer": "transportation",
           "type": "line"
          },
          "casing": {
           "_": {
            "filter": [
             "all",
             [
              "==",
              "brunnel",
              "tunnel"
             ],
             [
              "in",
              "class",
              "service",
              "track"
             ]
            ],
            "id": "tunnel_service_track_casing",
            "layout": {
             "line-join": "round",
             "visibility": "visible"
            },
            "metadata": {},
            "paint": {
             "line-color": "#cfcdca",
             "line-dasharray": [
              0.5,
              0.25
             ],
             "line-width": {
              "base": 1.2,
              "stops": [
               [
                15,
                1
               ],
               [
                16,
                4
               ],
               [
                20,
                11
               ]
              ]
             }
            },
            "source": "openmaptiles",
            "source-layer": "transportation",
            "type": "line"
           }
          },
          "construction": {
           "_": {
            "filter": [
             "all",
             [
              "==",
              "brunnel",
              "tunnel"
             ],
             [
              "in",
              "class",
              "service_construction",
              "track_construction"
             ]
            ],
            "id": "tunnel_service_track_construction",
            "layout": {
             "line-join": "round",
             "visibility": "visible"
            },
            "metadata": {},
            "minzoom": 15,
            "paint": {
             "line-color": "#fff",
             "line-dasharray": [
              2,
              2
             ],
             "line-width": {
              "base": 1.2,
              "stops": [
               [
                15,
                0.8
               ],
               [
                16,
                1.9
               ],
               [
                17,
                3.1
               ],
               [
                18,
                3.9
               ],
               [
                19,
                6.9
               ]
              ]
             }
            },
            "source": "openmaptiles",
            "source-layer": "transportation",
            "type": "line"
           }
          }
         }
        },
        "street": {
         "casing": {
          "_": {
           "filter": [
            "all",
            [
             "==",
             "brunnel",
             "tunnel"
            ],
            [
             "in",
             "class",
             "street",
             "street_limited"
            ]
           ],
           "id": "tunnel_street_casing",
           "layout": {
            "line-join": "round",
            "visibility": "visible"
           },
           "metadata": {},
           "paint": {
            "line-color": "#cfcdca",
            "line-opacity": {
             "stops": [
              [
               12,
               0
              ],
              [
               12.5,
               1
              ]
             ]
            },
            "line-width": {
             "base": 1.2,
             "stops": [
              [
               12,
               0.5
              ],
              [
               13,
               1
              ],
              [
               14,
               4
              ],
              [
               20,
               15
              ]
             ]
            }
           },
           "source": "openmaptiles",
           "source-layer": "transportation",
           "type": "line"
          }
         }
        },
        "tertiary": {
         "_": {
          "filter": [
           "all",
           [
            "==",
            "brunnel",
            "tunnel"
           ],
           [
            "in",
            "class",
            "tertiary"
           ]
          ],
          "id": "tunnel_tertiary",
          "layout": {
           "line-join": "round",
           "visibility": "visible"
          },
          "metadata": {},
          "paint": {
           "line-color": "#ffffff",
           "line-width": {
            "base": 1.2,
            "stops": [
             [
              11,
              1.9
             ],
             [
              12,
              3
             ],
             [
              13,
              3.9
             ],
             [
              14,
              7.8
             ],
             [
              15,
              8.8
             ],
             [
              16,
              16.4
             ],
             [
              17,
              19.4
             ],
             [
              18,
              25.4
             ]
            ]
           }
          },
          "source": "openmaptiles",
          "source-layer": "transportation",
          "type": "line"
         },
         "casing": {
          "_": {
           "filter": [
            "all",
            [
             "==",
             "brunnel",
             "tunnel"
            ],
            [
             "in",
             "class",
             "tertiary"
            ]
           ],
           "id": "tunnel_tertiary_casing",
           "layout": {
            "line-join": "round",
            "visibility": "visible"
           },
           "metadata": {},
           "minzoom": 11,
           "paint": {
            "line-color": "#8f8f8f",
            "line-dasharray": [
             0.5,
             0.25
            ],
            "line-opacity": 1,
            "line-width": {
             "base": 1.2,
             "stops": [
              [
               11,
               2.5
              ],
              [
               12,
               5
              ],
              [
               13,
               5
              ],
              [
               14,
               9
              ],
              [
               15,
               10
              ],
              [
               16,
               18
              ],
              [
               17,
               21
              ],
              [
               18,
               27
              ]
             ]
            }
           },
           "source": "openmaptiles",
           "source-layer": "transportation",
           "type": "line"
          }
         },
         "construction": {
          "_": {
           "filter": [
            "all",
            [
             "==",
             "brunnel",
             "tunnel"
            ],
            [
             "in",
             "class",
             "tertiary_construction"
            ]
           ],
           "id": "tunnel_tertiary_construction",
           "layout": {
            "line-join": "round",
            "visibility": "visible"
           },
           "metadata": {},
           "paint": {
            "line-color": "#ffffff",
            "line-dasharray": [
             2,
             2
            ],
            "line-width": {
             "base": 1.2,
             "stops": [
              [
               11,
               1.9
              ],
              [
               12,
               3
              ],
              [
               13,
               3.9
              ],
              [
               14,
               7.8
              ],
              [
               15,
               8.8
              ],
              [
               16,
               16.4
              ],
              [
               17,
               19.4
              ],
              [
               18,
               25.4
              ]
             ]
            }
           },
           "source": "openmaptiles",
           "source-layer": "transportation",
           "type": "line"
          }
         }
        },
        "trunk": {
         "_": {
          "filter": [
           "all",
           [
            "==",
            "brunnel",
            "tunnel"
           ],
           [
            "in",
            "class",
            "trunk"
           ]
          ],
          "id": "tunnel_trunk",
          "layout": {
           "line-join": "round",
           "visibility": "visible"
          },
          "metadata": {},
          "paint": {
           "line-color": {
            "stops": [
             [
              5,
              "#f5977a"
             ],
             [
              11,
              "#fcd7cc"
             ]
            ]
           },
           "line-opacity": 1,
           "line-width": {
            "base": 1.2,
            "stops": [
             [
              5,
              0.4
             ],
             [
              6,
              0.6
             ],
             [
              7,
              1
             ],
             [
              8,
              1.4
             ],
             [
              9,
              1.9
             ],
             [
              10,
              1.9
             ],
             [
              11,
              4.5
             ],
             [
              12,
              5
             ],
             [
              15,
              8.6
             ],
             [
              16,
              16
             ],
             [
              17,
              19
             ],
             [
              18,
              25
             ]
            ]
           }
          },
          "source": "openmaptiles",
          "source-layer": "transportation",
          "type": "line"
         },
         "casing": {
          "_": {
           "filter": [
            "all",
            [
             "==",
             "brunnel",
             "tunnel"
            ],
            [
             "in",
             "class",
             "trunk"
            ]
           ],
           "id": "tunnel_trunk_casing",
           "layout": {
            "line-join": "round",
            "visibility": "visible"
           },
           "metadata": {},
           "minzoom": 11,
           "paint": {
            "line-color": {
             "stops": [
              [
               11,
               "#cf6649"
              ],
              [
               12,
               "#c84e2f"
              ]
             ]
            },
            "line-dasharray": [
             0.5,
             0.25
            ],
            "line-width": {
             "base": 1.2,
             "stops": [
              [
               11,
               3.5
              ],
              [
               12,
               6
              ],
              [
               15,
               10
              ],
              [
               16,
               18
              ],
              [
               17,
               21
              ],
              [
               18,
               27
              ]
             ]
            }
           },
           "source": "openmaptiles",
           "source-layer": "transportation",
           "type": "line"
          }
         },
         "construction": {
          "_": {
           "filter": [
            "all",
            [
             "==",
             "brunnel",
             "tunnel"
            ],
            [
             "in",
             "class",
             "trunk_construction"
            ]
           ],
           "id": "tunnel_trunk_construction",
           "layout": {
            "line-join": "round",
            "visibility": "visible"
           },
           "metadata": {},
           "paint": {
            "line-color": "#f9b29c",
            "line-dasharray": [
             2,
             2
            ],
            "line-opacity": 1,
            "line-width": {
             "base": 1.2,
             "stops": [
              [
               5,
               0.4
              ],
              [
               6,
               0.6
              ],
              [
               7,
               1
              ],
              [
               8,
               1.4
              ],
              [
               9,
               1.9
              ],
              [
               10,
               1.9
              ],
              [
               11,
               4.5
              ],
              [
               12,
               5
              ],
              [
               15,
               8.6
              ],
              [
               16,
               16
              ],
              [
               17,
               19
              ],
              [
               18,
               25
              ]
             ]
            }
           },
           "source": "openmaptiles",
           "source-layer": "transportation",
           "type": "line"
          },
          "casing": {
           "_": {
            "filter": [
             "all",
             [
              "==",
              "brunnel",
              "tunnel"
             ],
             [
              "in",
              "class",
              "trunk_construction"
             ]
            ],
            "id": "tunnel_trunk_construction_casing",
            "layout": {
             "line-join": "round",
             "visibility": "visible"
            },
            "metadata": {},
            "minzoom": 11,
            "paint": {
             "line-color": "rgba(255, 255, 255, 1)",
             "line-dasharray": [
              1,
              0
             ],
             "line-width": {
              "base": 1.2,
              "stops": [
               [
                11,
                3.5
               ],
               [
                12,
                6
               ],
               [
                15,
                10
               ],
               [
                16,
                18
               ],
               [
                17,
                21
               ],
               [
                18,
                25
               ]
              ]
             }
            },
            "source": "openmaptiles",
            "source-layer": "transportation",
            "type": "line"
           }
          }
         }
        }
       },
       "water": {
        "_": {
         "filter": [
          "all",
          [
           "!=",
           "intermittent",
           1
          ],
          [
           "!=",
           "brunnel",
           "tunnel"
          ]
         ],
         "id": "water",
         "layout": {
          "visibility": "visible"
         },
         "metadata": {},
         "paint": {
          "fill-color": "#850c36"
         },
         "source": "openmaptiles",
         "source-layer": "water",
         "type": "fill"
        },
        "intermittent": {
         "_": {
          "filter": [
           "all",
           [
            "==",
            "intermittent",
            1
           ]
          ],
          "id": "water_intermittent",
          "layout": {
           "visibility": "visible"
          },
          "metadata": {},
          "paint": {
           "fill-color": "rgba(172, 218, 251, 1)",
           "fill-opacity": 0.85
          },
          "source": "openmaptiles",
          "source-layer": "water",
          "type": "fill"
         }
        }
       },
       "waterway": {
        "bridge": {
         "_": {
          "filter": [
           "all",
           [
            "==",
            "$type",
            "LineString"
           ],
           [
            "==",
            "brunnel",
            "bridge"
           ]
          ],
          "id": "waterway-bridge",
          "layout": {
           "line-cap": "round",
           "line-join": "round"
          },
          "paint": {
           "line-color": "rgba(134, 204, 250, 1)",
           "line-width": {
            "base": 1.3,
            "stops": [
             [
              13,
              0.5
             ],
             [
              20,
              6
             ]
            ]
           }
          },
          "source": "openmaptiles",
          "source-layer": "waterway",
          "type": "line"
         },
         "case": {
          "_": {
           "filter": [
            "all",
            [
             "==",
             "$type",
             "LineString"
            ],
            [
             "==",
             "brunnel",
             "bridge"
            ]
           ],
           "id": "waterway-bridge-case",
           "layout": {
            "line-cap": "butt",
            "line-join": "miter"
           },
           "paint": {
            "line-color": "#bbbbbb",
            "line-gap-width": {
             "base": 1.3,
             "stops": [
              [
               13,
               0.5
              ],
              [
               20,
               6
              ]
             ]
            },
            "line-width": {
             "base": 1.6,
             "stops": [
              [
               12,
               0.5
              ],
              [
               20,
               5
              ]
             ]
            }
           },
           "source": "openmaptiles",
           "source-layer": "waterway",
           "type": "line"
          }
         }
        },
        "other": {
         "_": {
          "filter": [
           "all",
           [
            "!=",
            "class",
            "river"
           ],
           [
            "!=",
            "brunnel",
            "tunnel"
           ],
           [
            "!=",
            "intermittent",
            1
           ]
          ],
          "id": "waterway_other",
          "layout": {
           "line-cap": "round",
           "visibility": "visible"
          },
          "metadata": {},
          "paint": {
           "line-color": "#a0c8f0",
           "line-width": {
            "base": 1.3,
            "stops": [
             [
              13,
              0.5
             ],
             [
              20,
              6
             ]
            ]
           }
          },
          "source": "openmaptiles",
          "source-layer": "waterway",
          "type": "line"
         },
         "intermittent": {
          "_": {
           "filter": [
            "all",
            [
             "!=",
             "class",
             "river"
            ],
            [
             "!=",
             "brunnel",
             "tunnel"
            ],
            [
             "==",
             "intermittent",
             1
            ]
           ],
           "id": "waterway_other_intermittent",
           "layout": {
            "line-cap": "round",
            "visibility": "visible"
           },
           "metadata": {},
           "paint": {
            "line-color": "#a0c8f0",
            "line-dasharray": [
             4,
             3
            ],
            "line-width": {
             "base": 1.3,
             "stops": [
              [
               13,
               0.5
              ],
              [
               20,
               6
              ]
             ]
            }
           },
           "source": "openmaptiles",
           "source-layer": "waterway",
           "type": "line"
          }
         }
        },
        "river": {
         "_": {
          "filter": [
           "all",
           [
            "==",
            "class",
            "river"
           ],
           [
            "!=",
            "brunnel",
            "tunnel"
           ],
           [
            "!=",
            "intermittent",
            1
           ]
          ],
          "id": "waterway_river",
          "layout": {
           "line-cap": "round",
           "visibility": "visible"
          },
          "metadata": {},
          "paint": {
           "line-color": "#a0c8f0",
           "line-width": {
            "base": 1.2,
            "stops": [
             [
              11,
              0.5
             ],
             [
              20,
              6
             ]
            ]
           }
          },
          "source": "openmaptiles",
          "source-layer": "waterway",
          "type": "line"
         },
         "intermittent": {
          "_": {
           "filter": [
            "all",
            [
             "==",
             "class",
             "river"
            ],
            [
             "!=",
             "brunnel",
             "tunnel"
            ],
            [
             "==",
             "intermittent",
             1
            ]
           ],
           "id": "waterway_river_intermittent",
           "layout": {
            "line-cap": "round"
           },
           "metadata": {},
           "paint": {
            "line-color": "#a0c8f0",
            "line-dasharray": [
             3,
             2
            ],
            "line-width": {
             "base": 1.2,
             "stops": [
              [
               11,
               0.5
              ],
              [
               20,
               6
              ]
             ]
            }
           },
           "source": "openmaptiles",
           "source-layer": "waterway",
           "type": "line"
          }
         }
        },
        "tunnel": {
         "_": {
          "filter": [
           "all",
           [
            "==",
            "brunnel",
            "tunnel"
           ]
          ],
          "id": "waterway_tunnel",
          "layout": {
           "line-cap": "round",
           "visibility": "visible"
          },
          "minzoom": 14,
          "paint": {
           "line-color": "#a0c8f0",
           "line-dasharray": [
            2,
            4
           ],
           "line-width": {
            "base": 1.3,
            "stops": [
             [
              13,
              0.5
             ],
             [
              20,
              6
             ]
            ]
           }
          },
          "source": "openmaptiles",
          "source-layer": "waterway",
          "type": "line"
         }
        }
       }
      },
      "text/plain": [
       "<IPython.core.display.JSON object>"
      ]
     },
     "execution_count": 8,
     "metadata": {
      "application/json": {
       "expanded": false,
       "root": "root"
      }
     },
     "output_type": "execute_result"
    }
   ],
   "source": [
    "NESTED = nest_object(RAW_USED)\n",
    "JSON(NESTED)"
   ]
  },
  {
   "cell_type": "code",
   "execution_count": 9,
   "id": "2580972e-bb0d-4687-8c63-8735d02632a4",
   "metadata": {},
   "outputs": [],
   "source": [
    "def run_for_each (like, fnc):\n",
    "    target = NESTED\n",
    "    \n",
    "    if len(like) > 0:\n",
    "        parts = like.split('.')\n",
    "        for p in parts:\n",
    "            if p in target:\n",
    "                target = target[p]\n",
    "            else:\n",
    "                print('err')\n",
    "                return\n",
    "        \n",
    "    def find_values (obj, apply):\n",
    "        for i in obj:\n",
    "            if i == '_':\n",
    "                apply(obj[i])\n",
    "            else:\n",
    "                find_values(obj[i], apply)\n",
    "                \n",
    "    find_values(target, fnc)\n",
    "    "
   ]
  },
  {
   "cell_type": "code",
   "execution_count": 10,
   "id": "7f7dddb6-28ff-48d2-9c34-9ad0dc1901d6",
   "metadata": {},
   "outputs": [],
   "source": [
    "def apply_alteration(like, color, width, outline, show):\n",
    "    \n",
    "    def apply (row):\n",
    "        if row['type'] == 'fill':\n",
    "            assign_fill_values(row, color, outline)\n",
    "        if row['type'] == 'line':\n",
    "            assign_line_values(row, color, width)\n",
    "        set_visable(row, show)\n",
    "        \n",
    "    run_for_each(like, apply)\n",
    "            "
   ]
  },
  {
   "cell_type": "code",
   "execution_count": 11,
   "id": "11dd33b9-bfdb-43dc-a119-2f4f05f2bd97",
   "metadata": {},
   "outputs": [],
   "source": [
    "def add_background ( color ):\n",
    "    NESTED['_'] = {\n",
    "            \"id\": \"background\",\n",
    "            \"type\": \"background\",\n",
    "            \"layout\": { \"visibility\": \"visible\" },\n",
    "            \"paint\": { \"background-color\": color}\n",
    "    }"
   ]
  },
  {
   "cell_type": "code",
   "execution_count": 12,
   "id": "60f85ad4-56b7-46a2-a222-869a097a2e02",
   "metadata": {},
   "outputs": [],
   "source": [
    "def export ( output ):\n",
    "    \n",
    "    _all = []\n",
    "    \n",
    "    def save (row):\n",
    "        _all.append(row)\n",
    "        \n",
    "    run_for_each('', save)\n",
    "    \n",
    "    \n",
    "    original = read_json(output)\n",
    "    original['layers'] = _all\n",
    "    \n",
    "    write_json(output, original)\n",
    "    "
   ]
  },
  {
   "cell_type": "code",
   "execution_count": 13,
   "id": "7b51e88f-6d00-4700-a093-5340d83558d5",
   "metadata": {},
   "outputs": [
    {
     "data": {
      "application/json": {
       "aeroway": {
        "fill": {
         "_": {
          "filter": [
           "==",
           "$type",
           "Polygon"
          ],
          "id": "aeroway_fill",
          "layout": {
           "visibility": "visible"
          },
          "metadata": {},
          "minzoom": 11,
          "paint": {
           "fill-color": {
            "stops": [
             [
              6,
              "rgba(223, 223, 228, 1)"
             ],
             [
              12,
              "rgba(232, 231, 223, 1)"
             ]
            ]
           },
           "fill-opacity": 1
          },
          "source": "openmaptiles",
          "source-layer": "aeroway",
          "type": "fill"
         }
        },
        "runway": {
         "_": {
          "filter": [
           "all",
           [
            "==",
            "$type",
            "LineString"
           ],
           [
            "==",
            "class",
            "runway"
           ]
          ],
          "id": "aeroway_runway",
          "layout": {
           "visibility": "visible"
          },
          "metadata": {},
          "minzoom": 11,
          "paint": {
           "line-color": "rgba(178, 181, 209, 1)",
           "line-opacity": 1,
           "line-width": {
            "base": 1.2,
            "stops": [
             [
              11,
              3
             ],
             [
              20,
              48
             ]
            ]
           }
          },
          "source": "openmaptiles",
          "source-layer": "aeroway",
          "type": "line"
         }
        },
        "taxiway": {
         "_": {
          "filter": [
           "all",
           [
            "==",
            "$type",
            "LineString"
           ],
           [
            "==",
            "class",
            "taxiway"
           ]
          ],
          "id": "aeroway_taxiway",
          "layout": {
           "visibility": "visible"
          },
          "metadata": {},
          "minzoom": 11,
          "paint": {
           "line-color": "rgba(178, 181, 209, 1)",
           "line-opacity": 1,
           "line-width": {
            "base": 1.2,
            "stops": [
             [
              11,
              1
             ],
             [
              20,
              24
             ]
            ]
           }
          },
          "source": "openmaptiles",
          "source-layer": "aeroway",
          "type": "line"
         }
        }
       },
       "boundary": {
        "2": {
         "z0": {
          "4": {
           "_": {
            "filter": [
             "all",
             [
              "==",
              "admin_level",
              2
             ],
             [
              "==",
              "maritime",
              0
             ],
             [
              "!has",
              "claimed_by"
             ]
            ],
            "id": "boundary_2_z0-4",
            "layout": {
             "line-cap": "round",
             "line-join": "round",
             "visibility": "visible"
            },
            "maxzoom": 5,
            "metadata": {},
            "minzoom": 0,
            "paint": {
             "line-blur": {
              "stops": [
               [
                1,
                0.1
               ],
               [
                4,
                0
               ]
              ]
             },
             "line-color": "#a37da1",
             "line-opacity": {
              "stops": [
               [
                3,
                0.5
               ],
               [
                6,
                1
               ]
              ]
             },
             "line-width": {
              "base": 1,
              "stops": [
               [
                1,
                0.7
               ],
               [
                3,
                1
               ],
               [
                5,
                1.2
               ]
              ]
             }
            },
            "source": "openmaptiles",
            "source-layer": "boundary",
            "type": "line"
           }
          }
         },
         "z5": {
          "_": {
           "filter": [
            "all",
            [
             "==",
             "admin_level",
             2
            ],
            [
             "==",
             "disputed",
             0
            ],
            [
             "==",
             "maritime",
             0
            ]
           ],
           "id": "boundary_2_z5",
           "layout": {
            "line-cap": "round",
            "line-join": "round",
            "visibility": "visible"
           },
           "metadata": {},
           "minzoom": 5,
           "paint": {
            "line-color": "#a37da1",
            "line-opacity": 1,
            "line-width": {
             "base": 1,
             "stops": [
              [
               5,
               1.2
              ],
              [
               12,
               3
              ]
             ]
            }
           },
           "source": "openmaptiles",
           "source-layer": "boundary",
           "type": "line"
          },
          "disputed": {
           "_": {
            "filter": [
             "all",
             [
              "==",
              "admin_level",
              2
             ],
             [
              "==",
              "disputed",
              1
             ],
             [
              "==",
              "maritime",
              0
             ]
            ],
            "id": "boundary_2_z5_disputed",
            "layout": {
             "line-cap": "round",
             "line-join": "round",
             "visibility": "visible"
            },
            "metadata": {},
            "minzoom": 5,
            "paint": {
             "line-color": "#a37da1",
             "line-dasharray": [
              4,
              3
             ],
             "line-opacity": 1,
             "line-width": {
              "base": 1,
              "stops": [
               [
                5,
                1.2
               ],
               [
                12,
                3
               ]
              ]
             }
            },
            "source": "openmaptiles",
            "source-layer": "boundary",
            "type": "line"
           },
           "maritime": {
            "_": {
             "filter": [
              "all",
              [
               "==",
               "admin_level",
               2
              ],
              [
               "==",
               "disputed",
               1
              ],
              [
               "==",
               "maritime",
               1
              ]
             ],
             "id": "boundary_2_z5_disputed_maritime",
             "layout": {
              "line-cap": "round",
              "line-join": "round",
              "visibility": "visible"
             },
             "metadata": {},
             "minzoom": 5,
             "paint": {
              "line-color": "rgba(129, 125, 163, 1)",
              "line-dasharray": [
               4,
               3
              ],
              "line-opacity": 1,
              "line-width": {
               "base": 1,
               "stops": [
                [
                 5,
                 1.2
                ],
                [
                 12,
                 3
                ]
               ]
              }
             },
             "source": "openmaptiles",
             "source-layer": "boundary",
             "type": "line"
            }
           }
          },
          "maritime": {
           "_": {
            "filter": [
             "all",
             [
              "==",
              "admin_level",
              2
             ],
             [
              "==",
              "disputed",
              0
             ],
             [
              "==",
              "maritime",
              1
             ]
            ],
            "id": "boundary_2_z5_maritime",
            "layout": {
             "line-cap": "round",
             "line-join": "round",
             "visibility": "visible"
            },
            "metadata": {},
            "minzoom": 4,
            "paint": {
             "line-color": "#a37da1",
             "line-opacity": 1,
             "line-width": {
              "base": 1,
              "stops": [
               [
                3,
                1.2
               ],
               [
                4,
                1.5
               ],
               [
                5,
                1.8
               ],
               [
                6,
                2
               ],
               [
                7,
                3
               ]
              ]
             }
            },
            "source": "openmaptiles",
            "source-layer": "boundary",
            "type": "line"
           }
          }
         }
        },
        "3": {
         "_": {
          "filter": [
           "all",
           [
            "in",
            "admin_level",
            3,
            4
           ],
           [
            "==",
            "maritime",
            0
           ]
          ],
          "id": "boundary_3",
          "layout": {
           "line-join": "round",
           "visibility": "visible"
          },
          "metadata": {},
          "minzoom": 3,
          "paint": {
           "line-color": "#845283",
           "line-dasharray": [
            5,
            3
           ],
           "line-opacity": {
            "stops": [
             [
              3,
              0.5
             ],
             [
              10,
              1
             ]
            ]
           },
           "line-width": {
            "base": 1,
            "stops": [
             [
              4,
              0.4
             ],
             [
              5,
              0.7
             ],
             [
              12,
              1.6
             ]
            ]
           }
          },
          "source": "openmaptiles",
          "source-layer": "boundary",
          "type": "line"
         }
        }
       },
       "bridge": {
        "link": {
         "_": {
          "filter": [
           "all",
           [
            "==",
            "class",
            "link"
           ],
           [
            "==",
            "brunnel",
            "bridge"
           ]
          ],
          "id": "bridge_link",
          "layout": {
           "line-join": "round",
           "visibility": "visible"
          },
          "metadata": {},
          "paint": {
           "line-color": "#fea",
           "line-width": {
            "base": 1.2,
            "stops": [
             [
              12.5,
              0
             ],
             [
              13,
              1.5
             ],
             [
              14,
              2.5
             ],
             [
              20,
              11.5
             ]
            ]
           }
          },
          "source": "openmaptiles",
          "source-layer": "transportation",
          "type": "line"
         },
         "casing": {
          "_": {
           "filter": [
            "all",
            [
             "==",
             "class",
             "link"
            ],
            [
             "==",
             "brunnel",
             "bridge"
            ]
           ],
           "id": "bridge_link_casing",
           "layout": {
            "line-join": "round"
           },
           "metadata": {},
           "paint": {
            "line-color": "#e9ac77",
            "line-opacity": 1,
            "line-width": {
             "base": 1.2,
             "stops": [
              [
               12,
               1
              ],
              [
               13,
               3
              ],
              [
               14,
               4
              ],
              [
               20,
               15
              ]
             ]
            }
           },
           "source": "openmaptiles",
           "source-layer": "transportation",
           "type": "line"
          }
         }
        },
        "major": {
         "rail": {
          "_": {
           "filter": [
            "all",
            [
             "==",
             "brunnel",
             "bridge"
            ],
            [
             "in",
             "class",
             "rail"
            ]
           ],
           "id": "bridge_major_rail",
           "layout": {
            "visibility": "visible"
           },
           "metadata": {},
           "paint": {
            "line-color": {
             "stops": [
              [
               6,
               "rgba(147, 147, 147, 1)"
              ],
              [
               12,
               "rgba(139, 139, 139, 1)"
              ],
              [
               14,
               "rgba(129, 129, 129, 1)"
              ]
             ]
            },
            "line-width": {
             "base": 1.4,
             "stops": [
              [
               8,
               0.5
              ],
              [
               15,
               3
              ],
              [
               20,
               5.4
              ]
             ]
            }
           },
           "source": "openmaptiles",
           "source-layer": "transportation",
           "type": "line"
          },
          "hatching": {
           "_": {
            "filter": [
             "all",
             [
              "==",
              "brunnel",
              "bridge"
             ],
             [
              "==",
              "class",
              "rail"
             ]
            ],
            "id": "bridge_major_rail_hatching",
            "layout": {
             "visibility": "visible"
            },
            "metadata": {},
            "minzoom": 8,
            "paint": {
             "line-color": {
              "stops": [
               [
                8,
                "rgba(255, 255, 255, 0.44)"
               ],
               [
                10,
                "rgba(201, 201, 201, 1)"
               ]
              ]
             },
             "line-dasharray": [
              2,
              2
             ],
             "line-width": {
              "base": 1.4,
              "stops": [
               [
                9,
                0
               ],
               [
                15,
                2
               ],
               [
                20,
                4
               ]
              ]
             }
            },
            "source": "openmaptiles",
            "source-layer": "transportation",
            "type": "line"
           }
          }
         }
        },
        "minor": {
         "_": {
          "filter": [
           "all",
           [
            "==",
            "brunnel",
            "bridge"
           ],
           [
            "in",
            "class",
            "minor"
           ]
          ],
          "id": "bridge_minor",
          "layout": {
           "line-join": "round"
          },
          "metadata": {},
          "paint": {
           "line-color": "#fff",
           "line-opacity": 1,
           "line-width": {
            "base": 1.2,
            "stops": [
             [
              13.5,
              0
             ],
             [
              14,
              2.5
             ],
             [
              20,
              18
             ]
            ]
           }
          },
          "source": "openmaptiles",
          "source-layer": "transportation",
          "type": "line"
         },
         "construction": {
          "_": {
           "filter": [
            "all",
            [
             "==",
             "brunnel",
             "bridge"
            ],
            [
             "in",
             "class",
             "minor_construction"
            ]
           ],
           "id": "bridge_minor_construction",
           "layout": {
            "line-join": "round",
            "visibility": "visible"
           },
           "metadata": {},
           "paint": {
            "line-color": "#fff",
            "line-dasharray": [
             2,
             2
            ],
            "line-opacity": 1,
            "line-width": {
             "base": 1.2,
             "stops": [
              [
               13.5,
               0
              ],
              [
               14,
               2.5
              ],
              [
               20,
               18
              ]
             ]
            }
           },
           "source": "openmaptiles",
           "source-layer": "transportation",
           "type": "line"
          }
         }
        },
        "motorway": {
         "_": {
          "filter": [
           "all",
           [
            "==",
            "class",
            "motorway"
           ],
           [
            "==",
            "brunnel",
            "bridge"
           ],
           [
            "!=",
            "ramp",
            1
           ]
          ],
          "id": "bridge_motorway",
          "layout": {
           "line-join": "round"
          },
          "metadata": {},
          "paint": {
           "line-color": {
            "stops": [
             [
              6,
              "#e66e89"
             ],
             [
              10,
              "#e892a2"
             ]
            ]
           },
           "line-width": {
            "base": 1.2,
            "stops": [
             [
              5,
              0
             ],
             [
              7,
              1
             ],
             [
              18,
              25
             ]
            ]
           }
          },
          "source": "openmaptiles",
          "source-layer": "transportation",
          "type": "line"
         },
         "casing": {
          "_": {
           "filter": [
            "all",
            [
             "==",
             "class",
             "motorway"
            ],
            [
             "==",
             "brunnel",
             "bridge"
            ],
            [
             "!=",
             "ramp",
             1
            ]
           ],
           "id": "bridge_motorway_casing",
           "layout": {
            "line-join": "round",
            "visibility": "visible"
           },
           "metadata": {},
           "paint": {
            "line-color": "#000000",
            "line-width": {
             "base": 1.2,
             "stops": [
              [
               5,
               0
              ],
              [
               7,
               1.75
              ],
              [
               18,
               27
              ]
             ]
            }
           },
           "source": "openmaptiles",
           "source-layer": "transportation",
           "type": "line"
          }
         },
         "construction": {
          "_": {
           "filter": [
            "all",
            [
             "==",
             "class",
             "motorway_construction"
            ],
            [
             "==",
             "brunnel",
             "bridge"
            ],
            [
             "!=",
             "ramp",
             1
            ]
           ],
           "id": "bridge_motorway_construction",
           "layout": {
            "line-join": "round"
           },
           "metadata": {},
           "paint": {
            "line-color": {
             "stops": [
              [
               6,
               "#e892a2"
              ],
              [
               10,
               "#e66e89"
              ]
             ]
            },
            "line-dasharray": [
             2,
             2
            ],
            "line-width": {
             "base": 1.2,
             "stops": [
              [
               5,
               0
              ],
              [
               7,
               1
              ],
              [
               18,
               25
              ]
             ]
            }
           },
           "source": "openmaptiles",
           "source-layer": "transportation",
           "type": "line"
          }
         },
         "link": {
          "_": {
           "filter": [
            "all",
            [
             "==",
             "class",
             "motorway"
            ],
            [
             "==",
             "ramp",
             1
            ],
            [
             "==",
             "brunnel",
             "bridge"
            ]
           ],
           "id": "bridge_motorway_link",
           "layout": {
            "line-join": "round",
            "visibility": "visible"
           },
           "metadata": {},
           "paint": {
            "line-color": {
             "stops": [
              [
               6,
               "#e66e89"
              ],
              [
               10,
               "#e892a2"
              ]
             ]
            },
            "line-width": {
             "base": 1.2,
             "stops": [
              [
               12,
               3
              ],
              [
               14,
               6
              ],
              [
               18,
               15
              ],
              [
               19,
               16
              ]
             ]
            }
           },
           "source": "openmaptiles",
           "source-layer": "transportation",
           "type": "line"
          },
          "casing": {
           "_": {
            "filter": [
             "all",
             [
              "==",
              "class",
              "motorway"
             ],
             [
              "==",
              "ramp",
              1
             ],
             [
              "==",
              "brunnel",
              "bridge"
             ]
            ],
            "id": "bridge_motorway_link_casing",
            "layout": {
             "line-join": "round",
             "visibility": "visible"
            },
            "metadata": {},
            "paint": {
             "line-color": {
              "stops": [
               [
                11,
                "#c24e6b"
               ],
               [
                12,
                "#dc2a67"
               ]
              ]
             },
             "line-opacity": 1,
             "line-width": {
              "base": 1.2,
              "stops": [
               [
                12,
                4
               ],
               [
                14,
                7
               ],
               [
                18,
                16
               ],
               [
                19,
                17
               ]
              ]
             }
            },
            "source": "openmaptiles",
            "source-layer": "transportation",
            "type": "line"
           }
          }
         }
        },
        "path": {
         "cycleway": {
          "_": {
           "filter": [
            "all",
            [
             "==",
             "$type",
             "LineString"
            ],
            [
             "==",
             "brunnel",
             "bridge"
            ],
            [
             "in",
             "class",
             "path"
            ],
            [
             "==",
             "subclass",
             "cycleway"
            ]
           ],
           "id": "bridge_path_cycleway",
           "metadata": {},
           "minzoom": 13,
           "paint": {
            "line-color": "#0000ff",
            "line-dasharray": [
             2,
             2
            ],
            "line-width": {
             "base": 1.2,
             "stops": [
              [
               13,
               0.8
              ],
              [
               14,
               1
              ],
              [
               15,
               1.3
              ],
              [
               17,
               1.3
              ],
              [
               18,
               1.6
              ]
             ]
            }
           },
           "source": "openmaptiles",
           "source-layer": "transportation",
           "type": "line"
          },
          "casing": {
           "_": {
            "filter": [
             "all",
             [
              "==",
              "$type",
              "LineString"
             ],
             [
              "==",
              "brunnel",
              "bridge"
             ],
             [
              "in",
              "class",
              "path"
             ],
             [
              "==",
              "subclass",
              "cycleway"
             ]
            ],
            "id": "bridge_path_cycleway_casing",
            "layout": {
             "line-join": "miter",
             "visibility": "visible"
            },
            "metadata": {},
            "minzoom": 13,
            "paint": {
             "line-color": "rgba(255, 255, 255, 1)",
             "line-dasharray": [
              1,
              0
             ],
             "line-width": {
              "base": 1.2,
              "stops": [
               [
                13,
                2.7
               ],
               [
                14,
                3
               ],
               [
                15,
                3.3
               ],
               [
                17,
                3.3
               ],
               [
                18,
                3.6
               ]
              ]
             }
            },
            "source": "openmaptiles",
            "source-layer": "transportation",
            "type": "line"
           }
          }
         },
         "footway": {
          "_": {
           "filter": [
            "all",
            [
             "==",
             "$type",
             "LineString"
            ],
            [
             "==",
             "brunnel",
             "bridge"
            ],
            [
             "in",
             "class",
             "path"
            ],
            [
             "==",
             "subclass",
             "footway"
            ]
           ],
           "id": "bridge_path_footway",
           "metadata": {},
           "minzoom": 13,
           "paint": {
            "line-color": "#fa8072",
            "line-dasharray": [
             2,
             2
            ],
            "line-width": {
             "base": 1.2,
             "stops": [
              [
               13,
               0.8
              ],
              [
               14,
               1
              ],
              [
               15,
               1.3
              ],
              [
               17,
               1.3
              ],
              [
               18,
               1.6
              ]
             ]
            }
           },
           "source": "openmaptiles",
           "source-layer": "transportation",
           "type": "line"
          },
          "casing": {
           "_": {
            "filter": [
             "all",
             [
              "==",
              "$type",
              "LineString"
             ],
             [
              "==",
              "brunnel",
              "bridge"
             ],
             [
              "in",
              "class",
              "path"
             ],
             [
              "==",
              "subclass",
              "footway"
             ]
            ],
            "id": "bridge_path_footway_casing",
            "layout": {
             "line-join": "miter",
             "visibility": "visible"
            },
            "metadata": {},
            "minzoom": 13,
            "paint": {
             "line-color": "rgba(255, 255, 255, 1)",
             "line-dasharray": [
              1,
              0
             ],
             "line-width": {
              "base": 1.2,
              "stops": [
               [
                13,
                2.7
               ],
               [
                14,
                3
               ],
               [
                15,
                3.3
               ],
               [
                17,
                3.3
               ],
               [
                18,
                3.6
               ]
              ]
             }
            },
            "source": "openmaptiles",
            "source-layer": "transportation",
            "type": "line"
           }
          }
         }
        },
        "primary": {
         "_": {
          "filter": [
           "all",
           [
            "==",
            "brunnel",
            "bridge"
           ],
           [
            "in",
            "class",
            "primary"
           ]
          ],
          "id": "bridge_primary",
          "layout": {
           "line-join": "round",
           "visibility": "visible"
          },
          "metadata": {},
          "paint": {
           "line-color": "#fcd6a4",
           "line-width": {
            "base": 1.2,
            "stops": [
             [
              7,
              1.5
             ],
             [
              11,
              3.3
             ],
             [
              12,
              4
             ],
             [
              13,
              4
             ],
             [
              15,
              8.5
             ],
             [
              16,
              16
             ],
             [
              17,
              19
             ],
             [
              18,
              25
             ]
            ]
           }
          },
          "source": "openmaptiles",
          "source-layer": "transportation",
          "type": "line"
         },
         "casing": {
          "_": {
           "filter": [
            "all",
            [
             "==",
             "brunnel",
             "bridge"
            ],
            [
             "in",
             "class",
             "primary"
            ]
           ],
           "id": "bridge_primary_casing",
           "layout": {
            "line-join": "round"
           },
           "metadata": {},
           "minzoom": 12,
           "paint": {
            "line-color": "#000000",
            "line-width": {
             "base": 1.2,
             "stops": [
              [
               12,
               5
              ],
              [
               13,
               5
              ],
              [
               15,
               10
              ],
              [
               16,
               18
              ],
              [
               17,
               21
              ],
              [
               18,
               27
              ]
             ]
            }
           },
           "source": "openmaptiles",
           "source-layer": "transportation",
           "type": "line"
          }
         }
        },
        "secondary": {
         "_": {
          "filter": [
           "all",
           [
            "==",
            "brunnel",
            "bridge"
           ],
           [
            "in",
            "class",
            "secondary"
           ]
          ],
          "id": "bridge_secondary",
          "layout": {
           "line-join": "round",
           "visibility": "visible"
          },
          "metadata": {},
          "minzoom": 7,
          "paint": {
           "line-color": "#f7fabf",
           "line-width": {
            "base": 1.2,
            "stops": [
             [
              7,
              1.5
             ],
             [
              11,
              3.3
             ],
             [
              12,
              4
             ],
             [
              13,
              3.8
             ],
             [
              14,
              7.5
             ],
             [
              15,
              8.5
             ],
             [
              16,
              16
             ],
             [
              17,
              19
             ],
             [
              18,
              25
             ]
            ]
           }
          },
          "source": "openmaptiles",
          "source-layer": "transportation",
          "type": "line"
         },
         "casing": {
          "_": {
           "filter": [
            "all",
            [
             "==",
             "brunnel",
             "bridge"
            ],
            [
             "in",
             "class",
             "secondary",
             "tertiary"
            ]
           ],
           "id": "bridge_secondary_casing",
           "layout": {
            "line-join": "round"
           },
           "metadata": {},
           "minzoom": 12,
           "paint": {
            "line-color": "#000000",
            "line-opacity": 1,
            "line-width": {
             "base": 1.2,
             "stops": [
              [
               12,
               5
              ],
              [
               13,
               5
              ],
              [
               14,
               9
              ],
              [
               15,
               10
              ],
              [
               16,
               18
              ],
              [
               17,
               21
              ],
              [
               18,
               27
              ]
             ]
            }
           },
           "source": "openmaptiles",
           "source-layer": "transportation",
           "type": "line"
          }
         },
         "construction": {
          "copy": {
           "_": {
            "filter": [
             "all",
             [
              "==",
              "brunnel",
              "bridge"
             ],
             [
              "in",
              "class",
              "secondary_construction"
             ]
            ],
            "id": "bridge_secondary_construction-copy",
            "layout": {
             "line-join": "round"
            },
            "metadata": {},
            "paint": {
             "line-color": "#fff",
             "line-dasharray": [
              2,
              2
             ],
             "line-width": {
              "base": 1.2,
              "stops": [
               [
                6.5,
                0
               ],
               [
                8,
                0.5
               ],
               [
                20,
                13
               ]
              ]
             }
            },
            "source": "openmaptiles",
            "source-layer": "transportation",
            "type": "line"
           }
          }
         }
        },
        "service": {
         "track": {
          "_": {
           "filter": [
            "all",
            [
             "==",
             "brunnel",
             "bridge"
            ],
            [
             "in",
             "class",
             "service",
             "track"
            ]
           ],
           "id": "bridge_service_track",
           "layout": {
            "line-join": "round",
            "visibility": "visible"
           },
           "metadata": {},
           "paint": {
            "line-color": "#fff",
            "line-width": {
             "base": 1.2,
             "stops": [
              [
               15.5,
               0
              ],
              [
               16,
               2
              ],
              [
               20,
               7.5
              ]
             ]
            }
           },
           "source": "openmaptiles",
           "source-layer": "transportation",
           "type": "line"
          },
          "casing": {
           "_": {
            "filter": [
             "all",
             [
              "==",
              "brunnel",
              "bridge"
             ],
             [
              "in",
              "class",
              "service",
              "track"
             ]
            ],
            "id": "bridge_service_track_casing",
            "layout": {
             "line-join": "round"
            },
            "metadata": {},
            "paint": {
             "line-color": "#cfcdca",
             "line-width": {
              "base": 1.2,
              "stops": [
               [
                15,
                1
               ],
               [
                16,
                4
               ],
               [
                20,
                11
               ]
              ]
             }
            },
            "source": "openmaptiles",
            "source-layer": "transportation",
            "type": "line"
           }
          },
          "construction": {
           "_": {
            "filter": [
             "all",
             [
              "==",
              "brunnel",
              "bridge"
             ],
             [
              "in",
              "class",
              "service_construction",
              "track_construction"
             ]
            ],
            "id": "bridge_service_track_construction",
            "layout": {
             "line-join": "round",
             "visibility": "visible"
            },
            "metadata": {},
            "paint": {
             "line-color": "#fff",
             "line-dasharray": [
              2,
              2
             ],
             "line-width": {
              "base": 1.2,
              "stops": [
               [
                15.5,
                0
               ],
               [
                16,
                2
               ],
               [
                20,
                7.5
               ]
              ]
             }
            },
            "source": "openmaptiles",
            "source-layer": "transportation",
            "type": "line"
           }
          }
         }
        },
        "street": {
         "casing": {
          "_": {
           "filter": [
            "all",
            [
             "==",
             "brunnel",
             "bridge"
            ],
            [
             "in",
             "class",
             "street",
             "street_limited"
            ]
           ],
           "id": "bridge_street_casing",
           "layout": {
            "line-join": "round"
           },
           "metadata": {},
           "paint": {
            "line-color": "hsl(36, 6%, 74%)",
            "line-opacity": {
             "stops": [
              [
               12,
               0
              ],
              [
               12.5,
               1
              ]
             ]
            },
            "line-width": {
             "base": 1.2,
             "stops": [
              [
               12,
               0.5
              ],
              [
               13,
               1
              ],
              [
               14,
               4
              ],
              [
               20,
               25
              ]
             ]
            }
           },
           "source": "openmaptiles",
           "source-layer": "transportation",
           "type": "line"
          }
         }
        },
        "tertiary": {
         "_": {
          "filter": [
           "all",
           [
            "==",
            "brunnel",
            "bridge"
           ],
           [
            "in",
            "class",
            "tertiary"
           ]
          ],
          "id": "bridge_tertiary",
          "layout": {
           "line-join": "round",
           "visibility": "visible"
          },
          "metadata": {},
          "minzoom": 11,
          "paint": {
           "line-color": "#ffffff",
           "line-width": {
            "base": 1.2,
            "stops": [
             [
              11,
              2.3
             ],
             [
              12,
              3
             ],
             [
              13,
              4
             ],
             [
              14,
              7.5
             ],
             [
              15,
              8.5
             ],
             [
              16,
              16.4
             ],
             [
              17,
              19.4
             ],
             [
              18,
              25.4
             ]
            ]
           }
          },
          "source": "openmaptiles",
          "source-layer": "transportation",
          "type": "line"
         },
         "casing": {
          "_": {
           "filter": [
            "all",
            [
             "==",
             "brunnel",
             "bridge"
            ],
            [
             "in",
             "class",
             "secondary",
             "tertiary"
            ]
           ],
           "id": "bridge_tertiary_casing",
           "layout": {
            "line-join": "round"
           },
           "metadata": {},
           "paint": {
            "line-color": "rgba(195, 189, 187, 1)",
            "line-opacity": 1,
            "line-width": {
             "base": 1.2,
             "stops": [
              [
               8,
               1.5
              ],
              [
               20,
               17
              ]
             ]
            }
           },
           "source": "openmaptiles",
           "source-layer": "transportation",
           "type": "line"
          }
         },
         "construction": {
          "_": {
           "filter": [
            "all",
            [
             "==",
             "brunnel",
             "bridge"
            ],
            [
             "in",
             "class",
             "tertiary_construction"
            ]
           ],
           "id": "bridge_tertiary_construction",
           "layout": {
            "line-join": "round"
           },
           "metadata": {},
           "paint": {
            "line-color": "#fff",
            "line-dasharray": [
             2,
             2
            ],
            "line-width": {
             "base": 1.2,
             "stops": [
              [
               6.5,
               0
              ],
              [
               8,
               0.5
              ],
              [
               20,
               13
              ]
             ]
            }
           },
           "source": "openmaptiles",
           "source-layer": "transportation",
           "type": "line"
          }
         }
        },
        "trunk": {
         "_": {
          "filter": [
           "all",
           [
            "==",
            "brunnel",
            "bridge"
           ],
           [
            "in",
            "class",
            "trunk"
           ]
          ],
          "id": "bridge_trunk",
          "layout": {
           "line-join": "round",
           "visibility": "visible"
          },
          "metadata": {},
          "paint": {
           "line-color": "#f9b29c",
           "line-width": {
            "base": 1.2,
            "stops": [
             [
              7,
              1.5
             ],
             [
              11,
              4.5
             ],
             [
              12,
              5
             ],
             [
              15,
              8.5
             ],
             [
              16,
              16
             ],
             [
              17,
              19
             ],
             [
              18,
              25
             ]
            ]
           }
          },
          "source": "openmaptiles",
          "source-layer": "transportation",
          "type": "line"
         },
         "casing": {
          "_": {
           "filter": [
            "all",
            [
             "==",
             "brunnel",
             "bridge"
            ],
            [
             "in",
             "class",
             "trunk"
            ]
           ],
           "id": "bridge_trunk_casing",
           "layout": {
            "line-join": "round"
           },
           "metadata": {},
           "minzoom": 11,
           "paint": {
            "line-color": {
             "stops": [
              [
               11,
               "#cf6649"
              ],
              [
               12,
               "#c84e2f"
              ]
             ]
            },
            "line-width": {
             "base": 1.2,
             "stops": [
              [
               11,
               3.5
              ],
              [
               12,
               6
              ],
              [
               15,
               10
              ],
              [
               16,
               18
              ],
              [
               17,
               21
              ],
              [
               18,
               27
              ]
             ]
            }
           },
           "source": "openmaptiles",
           "source-layer": "transportation",
           "type": "line"
          }
         },
         "primary": {
          "construction": {
           "_": {
            "filter": [
             "all",
             [
              "==",
              "brunnel",
              "bridge"
             ],
             [
              "in",
              "class",
              "primary_construction",
              "trunk_construction"
             ]
            ],
            "id": "bridge_trunk_primary_construction",
            "layout": {
             "line-join": "round",
             "visibility": "visible"
            },
            "metadata": {},
            "paint": {
             "line-color": "#fea",
             "line-dasharray": [
              2,
              2
             ],
             "line-width": {
              "base": 1.2,
              "stops": [
               [
                5,
                0
               ],
               [
                7,
                1
               ],
               [
                20,
                18
               ]
              ]
             }
            },
            "source": "openmaptiles",
            "source-layer": "transportation",
            "type": "line"
           }
          }
         }
        }
       },
       "building": {
        "_": {
         "id": "building",
         "layout": {
          "visibility": "visible"
         },
         "maxzoom": 24,
         "metadata": {},
         "minzoom": 12,
         "paint": {
          "fill-color": {
           "stops": [
            [
             13,
             "rgba(222, 213, 207, 1)"
            ],
            [
             16,
             "#d9d0c9"
            ]
           ]
          },
          "fill-outline-color": {
           "base": 1,
           "stops": [
            [
             13,
             "#9A918A"
            ],
            [
             16,
             "rgba(166, 157, 150, 1)"
            ]
           ]
          }
         },
         "source": "openmaptiles",
         "source-layer": "building",
         "type": "fill"
        }
       },
       "cablecar": {
        "_": {
         "filter": [
          "==",
          "class",
          "aerialway"
         ],
         "id": "cablecar",
         "layout": {
          "line-cap": "round",
          "visibility": "visible"
         },
         "minzoom": 13,
         "paint": {
          "line-color": "#808080",
          "line-width": {
           "base": 1,
           "stops": [
            [
             11,
             1
            ],
            [
             19,
             2.5
            ]
           ]
          }
         },
         "source": "openmaptiles",
         "source-layer": "transportation",
         "type": "line"
        },
        "dash": {
         "_": {
          "filter": [
           "==",
           "class",
           "aerialway"
          ],
          "id": "cablecar-dash",
          "layout": {
           "line-cap": "round",
           "visibility": "visible"
          },
          "minzoom": 13,
          "paint": {
           "line-color": "rgba(67, 67, 67, 1)",
           "line-dasharray": [
            0.5,
            10
           ],
           "line-width": {
            "base": 1,
            "stops": [
             [
              11,
              1
             ],
             [
              19,
              3
             ]
            ]
           }
          },
          "source": "openmaptiles",
          "source-layer": "transportation",
          "type": "line"
         }
        }
       },
       "ferry": {
        "_": {
         "filter": [
          "all",
          [
           "in",
           "class",
           "ferry"
          ]
         ],
         "id": "ferry",
         "layout": {
          "line-join": "round",
          "visibility": "visible"
         },
         "minzoom": 10,
         "paint": {
          "line-color": "#7d7df8",
          "line-dasharray": [
           2,
           2
          ],
          "line-width": {
           "stops": [
            [
             10,
             0.5
            ],
            [
             14,
             1.1
            ]
           ]
          }
         },
         "source": "openmaptiles",
         "source-layer": "transportation",
         "type": "line"
        }
       },
       "landcover": {
        "class": {
         "outline": {
          "_": {
           "filter": [
            "all",
            [
             "in",
             "class",
             "farmland"
            ]
           ],
           "id": "landcover_class_outline",
           "layout": {
            "visibility": "visible"
           },
           "paint": {
            "line-color": "#c7c9ae",
            "line-width": 0.5
           },
           "source": "openmaptiles",
           "source-layer": "landcover",
           "type": "line"
          }
         }
        },
        "classes": {
         "_": {
          "filter": [
           "all",
           [
            "in",
            "class",
            "farmland",
            "wood",
            "rock",
            "grass",
            "wetland",
            "sand"
           ]
          ],
          "id": "landcover_classes",
          "layout": {
           "visibility": "visible"
          },
          "maxzoom": 13,
          "metadata": {},
          "paint": {
           "fill-antialias": false,
           "fill-color": [
            "match",
            [
             "get",
             "class"
            ],
            "farmland",
            "#eef0d5",
            "wood",
            "#add19e",
            "rock",
            "#eee5dc",
            "grass",
            "#cdebb0",
            "sand",
            "#f5e9c6",
            "wetland",
            "#add19e",
            "#000"
           ],
           "fill-opacity": {
            "stops": [
             [
              7,
              0.5
             ],
             [
              10,
              1
             ]
            ]
           }
          },
          "source": "openmaptiles",
          "source-layer": "landcover",
          "type": "fill"
         }
        },
        "cropland": {
         "_": {
          "filter": [
           "all",
           [
            "==",
            "class",
            "crop"
           ]
          ],
          "id": "landcover_cropland",
          "layout": {
           "visibility": "visible"
          },
          "maxzoom": 9,
          "minzoom": 4,
          "paint": {
           "fill-color": "#eef0d5",
           "fill-opacity": {
            "base": 1,
            "stops": [
             [
              4,
              0.05
             ],
             [
              5,
              0.15
             ],
             [
              9,
              0
             ]
            ]
           }
          },
          "source": "openmaptiles",
          "source-layer": "globallandcover",
          "type": "fill"
         }
        },
        "forestland": {
         "_": {
          "filter": [
           "all",
           [
            "==",
            "class",
            "forest"
           ]
          ],
          "id": "landcover_forestland",
          "layout": {
           "visibility": "visible"
          },
          "maxzoom": 9,
          "minzoom": 5,
          "paint": {
           "fill-color": "#add19e",
           "fill-opacity": {
            "base": 1,
            "stops": [
             [
              4,
              0.3
             ],
             [
              9,
              0
             ]
            ]
           }
          },
          "source": "openmaptiles",
          "source-layer": "globallandcover",
          "type": "fill"
         }
        },
        "grassland": {
         "_": {
          "filter": [
           "all",
           [
            "==",
            "class",
            "grass"
           ]
          ],
          "id": "landcover_grassland",
          "layout": {
           "visibility": "visible"
          },
          "maxzoom": 9,
          "minzoom": 5,
          "paint": {
           "fill-color": "#cdebb0",
           "fill-opacity": {
            "base": 1,
            "stops": [
             [
              4,
              0.3
             ],
             [
              9,
              0
             ]
            ]
           }
          },
          "source": "openmaptiles",
          "source-layer": "globallandcover",
          "type": "fill"
         }
        },
        "ice": {
         "_": {
          "filter": [
           "all",
           [
            "in",
            "class",
            "ice"
           ]
          ],
          "id": "landcover_ice",
          "metadata": {},
          "minzoom": 5,
          "paint": {
           "fill-antialias": false,
           "fill-color": "#ddecec"
          },
          "source": "openmaptiles",
          "source-layer": "landcover",
          "type": "fill"
         },
         "outline": {
          "_": {
           "filter": [
            "all",
            [
             "in",
             "class",
             "ice"
            ]
           ],
           "id": "landcover_ice_outline",
           "layout": {
            "visibility": "visible"
           },
           "minzoom": 5,
           "paint": {
            "line-color": "#9cf",
            "line-dasharray": {
             "stops": [
              [
               5,
               [
                1,
                0
               ]
              ],
              [
               10,
               [
                4,
                2
               ]
              ]
             ]
            },
            "line-width": {
             "stops": [
              [
               5,
               1
              ],
              [
               10,
               1.5
              ]
             ]
            }
           },
           "source": "openmaptiles",
           "source-layer": "landcover",
           "type": "line"
          }
         }
        },
        "park": {
         "_": {
          "filter": [
           "all",
           [
            "==",
            "subclass",
            "park"
           ]
          ],
          "id": "landcover_park",
          "layout": {
           "visibility": "visible"
          },
          "minzoom": 13,
          "paint": {
           "fill-antialias": true,
           "fill-color": "#c8facc"
          },
          "source": "openmaptiles",
          "source-layer": "landcover",
          "type": "fill"
         }
        },
        "scrubland": {
         "_": {
          "filter": [
           "all",
           [
            "==",
            "class",
            "scrub"
           ]
          ],
          "id": "landcover_scrubland",
          "layout": {
           "visibility": "visible"
          },
          "maxzoom": 9,
          "minzoom": 5,
          "paint": {
           "fill-color": "#c8d7ab",
           "fill-opacity": {
            "base": 1,
            "stops": [
             [
              4,
              0.3
             ],
             [
              9,
              0
             ]
            ]
           }
          },
          "source": "openmaptiles",
          "source-layer": "globallandcover",
          "type": "fill"
         }
        },
        "snowland": {
         "_": {
          "filter": [
           "all",
           [
            "==",
            "class",
            "snow"
           ]
          ],
          "id": "landcover_snowland",
          "layout": {
           "visibility": "visible"
          },
          "maxzoom": 9,
          "minzoom": 5,
          "paint": {
           "fill-color": "hsl(0, 0%, 100%)",
           "fill-opacity": {
            "base": 1,
            "stops": [
             [
              4,
              0.8
             ],
             [
              9,
              0
             ]
            ]
           }
          },
          "source": "openmaptiles",
          "source-layer": "globallandcover",
          "type": "fill"
         }
        },
        "subclass": {
         "outline": {
          "_": {
           "filter": [
            "all",
            [
             "in",
             "subclass",
             "allotments",
             "farm",
             "farmland",
             "recreation_ground"
            ]
           ],
           "id": "landcover_subclass_outline",
           "layout": {
            "visibility": "visible"
           },
           "minzoom": 15,
           "paint": {
            "line-color": [
             "match",
             [
              "get",
              "subclass"
             ],
             "allotments",
             "#B1C6A8",
             "farm",
             "#d1b48c",
             "farmland",
             "#c7c9ae",
             "recreation_ground",
             "#3c6640",
             "#000"
            ],
            "line-opacity": 1,
            "line-width": [
             "match",
             [
              "get",
              "subclass"
             ],
             "recreation_ground",
             0.3,
             0.5
            ]
           },
           "source": "openmaptiles",
           "source-layer": "landcover",
           "type": "line"
          }
         },
         "patterns": {
          "_": {
           "filter": [
            "all",
            [
             "in",
             "subclass",
             "allotments",
             "bare_rock",
             "beach",
             "bog",
             "dune",
             "scrub",
             "farm",
             "farmland",
             "forest",
             "garden",
             "grass",
             "grassland",
             "golf_course",
             "heath",
             "mangrove",
             "marsh",
             "meadow",
             "orchard",
             "park",
             "plant_nursery",
             "recreation_ground",
             "reedbed",
             "saltern",
             "saltmarsh",
             "sand",
             "scree",
             "swamp",
             "village_green",
             "vineyard",
             "wet_meadow",
             "wetland",
             "wood"
            ]
           ],
           "id": "landcover_subclass_patterns",
           "layout": {
            "visibility": "visible"
           },
           "metadata": {},
           "minzoom": 13,
           "paint": {
            "fill-opacity": [
             "match",
             [
              "get",
              "subclass"
             ],
             "beach",
             0.4,
             "forest",
             0.4,
             "bare_rock",
             0.3,
             "scrub",
             0.6,
             "garden",
             0.6,
             "scree",
             0.3,
             "wood",
             0.4,
             1
            ],
            "fill-pattern": [
             "match",
             [
              "get",
              "subclass"
             ],
             "allotments",
             "allotments",
             "bare_rock",
             "rock_overlay",
             "beach",
             "beach",
             "bog",
             "wetland_bog",
             "scrub",
             "scrub",
             "forest",
             "leaftype_unknown",
             "garden",
             "plant_nursery",
             "mangrove",
             "wetland_mangrove",
             "marsh",
             "wetland_marsh",
             "orchard",
             "orchard",
             "plant_nursery",
             "plant_nursery",
             "reedbed",
             "wetland_reed",
             "saltmarsh",
             "wetland_marsh",
             "scree",
             "scree_overlay",
             "swamp",
             "wetland_swamp",
             "vineyard",
             "vineyard",
             "wet_meadow",
             "wetland_marsh",
             "wetland",
             "wetland",
             "wood",
             "leaftype_unknown",
             ""
            ]
           },
           "source": "openmaptiles",
           "source-layer": "landcover",
           "type": "fill"
          }
         }
        },
        "subclasses": {
         "_": {
          "filter": [
           "all",
           [
            "in",
            "subclass",
            "allotments",
            "bare_rock",
            "beach",
            "dune",
            "scrub",
            "farm",
            "farmland",
            "forest",
            "garden",
            "grass",
            "grassland",
            "golf_course",
            "heath",
            "meadow",
            "orchard",
            "plant_nursery",
            "recreation_ground",
            "reedbed",
            "saltmarsh",
            "sand",
            "scree",
            "swamp",
            "tidalflat",
            "tundra",
            "village_green",
            "vineyard",
            "wet_meadow",
            "wetland",
            "wood"
           ]
          ],
          "id": "landcover_subclasses",
          "layout": {
           "visibility": "visible"
          },
          "minzoom": 13,
          "paint": {
           "fill-antialias": true,
           "fill-color": [
            "match",
            [
             "get",
             "subclass"
            ],
            "allotments",
            "#c9e1bf",
            "bare_rock",
            "#eee5dc",
            "beach",
            "#fff1ba",
            "bog",
            "#d6d99f",
            "dune",
            "#f5e9c6",
            "scrub",
            "#c8d7ab",
            "farm",
            "#f5dcba",
            "farmland",
            "#eef0d5",
            "forest",
            "#add19e",
            "grass",
            "#cdebb0",
            "grassland",
            "#cdebb0",
            "golf_course",
            "#def6c0",
            "heath",
            "#d6d99f",
            "mangrove",
            "#c8d7ab",
            "meadow",
            "#cdebb0",
            "orchard",
            "#aedfa3",
            "park",
            "#c8facc",
            "garden",
            "#cdebb0",
            "plant_nursery",
            "#aedfa3",
            "recreation_ground",
            "#d5ffd9",
            "reedbed",
            "#cdebb0",
            "saltmarsh",
            "#cdebb0",
            "sand",
            "#f5e9c6",
            "scree",
            "#eee5dc",
            "swamp",
            "#add19e",
            "tidalflat",
            "#DED6CF",
            "village_green",
            "#cdebb0",
            "vineyard",
            "#aedfa3",
            "wet_meadow",
            "#cdebb0",
            "wetland",
            "#add19e",
            "wood",
            "#add19e",
            "marsh",
            "#ff0",
            "#FFFFFF"
           ]
          },
          "source": "openmaptiles",
          "source-layer": "landcover",
          "type": "fill"
         }
        },
        "treeland": {
         "_": {
          "filter": [
           "all",
           [
            "==",
            "class",
            "tree"
           ]
          ],
          "id": "landcover_treeland",
          "layout": {
           "visibility": "visible"
          },
          "maxzoom": 9,
          "minzoom": 5,
          "paint": {
           "fill-color": "#add19e",
           "fill-opacity": {
            "base": 1,
            "stops": [
             [
              4,
              0.3
             ],
             [
              9,
              0
             ]
            ]
           }
          },
          "source": "openmaptiles",
          "source-layer": "globallandcover",
          "type": "fill"
         }
        }
       },
       "landuse": {
        "class": {
         "outline": {
          "_": {
           "filter": [
            "all",
            [
             "in",
             "class",
             "railway",
             "military",
             "residential",
             "commercial",
             "industrial",
             "retail",
             "school",
             "university",
             "kindergarten",
             "college",
             "hospital",
             "stadium",
             "pitch",
             "playground",
             "track",
             "theme_park",
             "zoo",
             "dam"
            ]
           ],
           "id": "landuse_class_outline",
           "layout": {
            "visibility": "visible"
           },
           "minzoom": 13,
           "paint": {
            "line-color": [
             "match",
             [
              "get",
              "class"
             ],
             "railway",
             "#c6b3c3",
             "military",
             "#ff5555",
             "residential",
             "#b9b9b9",
             "commercial",
             "#f2dad9",
             "industrial",
             "#c6b3c3",
             "retail",
             "#d99c95",
             "school",
             "#A6A68C",
             "university",
             "#A6A68C",
             "kindergarten",
             "#A6A68C",
             "college",
             "#A6A68C",
             "hospital",
             "#A6A68C",
             "stadium",
             "#7ca680",
             "pitch",
             "#7aaa97",
             "playground",
             "#3c6640",
             "track",
             "#7aaa96",
             "theme_park",
             "#660033",
             "zoo",
             "#660033",
             "dam",
             "#444444",
             "#000"
            ],
            "line-offset": [
             "match",
             [
              "get",
              "class"
             ],
             "military",
             1,
             0
            ],
            "line-opacity": [
             "match",
             [
              "get",
              "class"
             ],
             "military",
             0.24,
             1
            ],
            "line-width": [
             "match",
             [
              "get",
              "class"
             ],
             "railway",
             0.7,
             "military",
             2,
             "residential",
             0.5,
             "commercial",
             0.5,
             "industrial",
             0.5,
             "retail",
             0.5,
             "school",
             0.3,
             "university",
             0.3,
             "kindergarten",
             0.3,
             "college",
             0.3,
             "hospital",
             0.3,
             "stadium",
             0.3,
             "pitch",
             0.5,
             "playground",
             0.3,
             "track",
             0.5,
             "theme_park",
             1,
             "zoo",
             1,
             "dam",
             2,
             1
            ]
           },
           "source": "openmaptiles",
           "source-layer": "landuse",
           "type": "line"
          }
         },
         "pattern": {
          "_": {
           "filter": [
            "all",
            [
             "in",
             "class",
             "military",
             "cemetery"
            ]
           ],
           "id": "landuse_class_pattern",
           "layout": {
            "visibility": "visible"
           },
           "metadata": {},
           "paint": {
            "fill-color": "#000000",
            "fill-opacity": 1,
            "fill-pattern": [
             "match",
             [
              "get",
              "class"
             ],
             "military",
             "military_red_hatch",
             "cemetery",
             "grave_yard_generic",
             ""
            ]
           },
           "source": "openmaptiles",
           "source-layer": "landuse",
           "type": "fill"
          }
         },
         "themepark": {
          "_": {
           "filter": [
            "all",
            [
             "in",
             "class",
             "theme_park",
             "zoo"
            ]
           ],
           "id": "landuse_class_themepark",
           "layout": {
            "line-cap": "square",
            "line-join": "round",
            "visibility": "visible"
           },
           "minzoom": 13,
           "paint": {
            "line-color": "#660033",
            "line-offset": 2,
            "line-opacity": {
             "stops": [
              [
               9,
               0.1
              ],
              [
               12,
               0.3
              ]
             ]
            },
            "line-width": {
             "stops": [
              [
               9,
               3.5
              ],
              [
               14,
               5.5
              ]
             ]
            }
           },
           "source": "openmaptiles",
           "source-layer": "landuse",
           "type": "line"
          }
         }
        },
        "classes": {
         "_": {
          "filter": [
           "all",
           [
            "in",
            "class",
            "railway",
            "cemetery",
            "military",
            "residential",
            "commercial",
            "industrial",
            "garages",
            "retail",
            "bus_station",
            "school",
            "university",
            "kindergarten",
            "college",
            "hospital",
            "stadium",
            "pitch",
            "playground",
            "track",
            "dam"
           ],
           [
            "==",
            "$type",
            "Polygon"
           ]
          ],
          "id": "landuse_classes",
          "layout": {
           "visibility": "visible"
          },
          "metadata": {},
          "minzoom": 7,
          "paint": {
           "fill-color": [
            "match",
            [
             "get",
             "class"
            ],
            "railway",
            "#ebdbe8",
            "residential",
            "#e0dfdf",
            "cemetery",
            "#aacbaf",
            "military",
            "#fceaea",
            "commercial",
            "#f2dad9",
            "industrial",
            "#ebdbe8",
            "garages",
            "#dfddce",
            "retail",
            "#ffd6d1",
            "bus_station",
            "#e9e7e2",
            "school",
            "#ffffe5",
            "university",
            "#ffffe5",
            "kindergarten",
            "#ffffe5",
            "college",
            "#ffffe5",
            "hospital",
            "#ffffe5",
            "stadium",
            "#d5ffd9",
            "pitch",
            "#aae0cb",
            "playground",
            "#d5ffd9",
            "track",
            "#aae0cb",
            "dam",
            "#adadad",
            "#000"
           ],
           "fill-opacity": 1
          },
          "source": "openmaptiles",
          "source-layer": "landuse",
          "type": "fill"
         }
        },
        "residential": {
         "_": {
          "filter": [
           "all",
           [
            "in",
            "class",
            "residential",
            "suburbs",
            "neighbourhood"
           ]
          ],
          "id": "landuse_residential",
          "layout": {
           "visibility": "visible"
          },
          "maxzoom": 24,
          "metadata": {},
          "minzoom": 6,
          "paint": {
           "fill-color": {
            "stops": [
             [
              7,
              "#d0d0d0"
             ],
             [
              11,
              "#dddddd"
             ],
             [
              12,
              "#e0dfdf"
             ]
            ]
           }
          },
          "source": "openmaptiles",
          "source-layer": "landuse",
          "type": "fill"
         }
        }
       },
       "national": {
        "parks": {
         "_": {
          "id": "national_parks",
          "layout": {
           "visibility": "visible"
          },
          "minzoom": 8,
          "paint": {
           "line-color": "rgba(154, 199, 136, 1)",
           "line-offset": 1,
           "line-opacity": 0.8,
           "line-width": {
            "base": 1,
            "stops": [
             [
              8,
              1.2
             ],
             [
              9,
              1.5
             ],
             [
              10,
              3.6
             ],
             [
              24,
              3.6
             ]
            ]
           }
          },
          "source": "openmaptiles",
          "source-layer": "park",
          "type": "line"
         },
         "thin": {
          "_": {
           "id": "national_parks_thin",
           "layout": {
            "visibility": "none"
           },
           "minzoom": 10,
           "paint": {
            "line-color": "rgba(93, 156, 76, 1)",
            "line-width": 1.5
           },
           "source": "openmaptiles",
           "source-layer": "park",
           "type": "line"
          }
         }
        }
       },
       "rail": {
        "major": {
         "_": {
          "filter": [
           "all",
           [
            "!in",
            "brunnel",
            "bridge",
            "tunnel"
           ],
           [
            "in",
            "class",
            "rail"
           ]
          ],
          "id": "rail_major",
          "layout": {
           "visibility": "visible"
          },
          "metadata": {},
          "paint": {
           "line-color": {
            "stops": [
             [
              8,
              " #787878"
             ],
             [
              14,
              "rgba(129, 129, 129, 1)"
             ]
            ]
           },
           "line-width": {
            "base": 1.4,
            "stops": [
             [
              8,
              0.8
             ],
             [
              11,
              1.5
             ],
             [
              15,
              3
             ],
             [
              20,
              5.4
             ]
            ]
           }
          },
          "source": "openmaptiles",
          "source-layer": "transportation",
          "type": "line"
         },
         "hatching": {
          "_": {
           "filter": [
            "all",
            [
             "!in",
             "brunnel",
             "bridge",
             "tunnel"
            ],
            [
             "==",
             "class",
             "rail"
            ]
           ],
           "id": "rail_major_hatching",
           "layout": {
            "visibility": "visible"
           },
           "metadata": {},
           "minzoom": 8,
           "paint": {
            "line-color": {
             "stops": [
              [
               8,
               "rgba(255, 255, 255, 0.44)"
              ],
              [
               10,
               "rgba(242, 242, 242, 0.44)"
              ]
             ]
            },
            "line-dasharray": [
             2,
             2
            ],
            "line-width": {
             "base": 1.4,
             "stops": [
              [
               9,
               0
              ],
              [
               15,
               2
              ],
              [
               20,
               4
              ]
             ]
            }
           },
           "source": "openmaptiles",
           "source-layer": "transportation",
           "type": "line"
          }
         }
        },
        "minor": {
         "_": {
          "filter": [
           "all",
           [
            "!in",
            "brunnel",
            "bridge",
            "tunnel"
           ],
           [
            "in",
            "subclass",
            "tram",
            "light_rail"
           ]
          ],
          "id": "rail_minor",
          "layout": {
           "visibility": "visible"
          },
          "metadata": {},
          "paint": {
           "line-color": "rgba(129, 129, 129, 1)",
           "line-width": {
            "base": 1.4,
            "stops": [
             [
              12,
              0.8
             ],
             [
              15,
              1.2
             ],
             [
              20,
              4
             ]
            ]
           }
          },
          "source": "openmaptiles",
          "source-layer": "transportation",
          "type": "line"
         },
         "hatching": {
          "_": {
           "filter": [
            "all",
            [
             "!in",
             "brunnel",
             "bridge",
             "tunnel"
            ],
            [
             "in",
             "subclass",
             "tram",
             "light_rail"
            ]
           ],
           "id": "rail_minor_hatching",
           "layout": {
            "visibility": "visible"
           },
           "metadata": {},
           "paint": {
            "line-color": "#bbb",
            "line-dasharray": [
             0.2,
             4
            ],
            "line-width": {
             "base": 1.4,
             "stops": [
              [
               14.5,
               0
              ],
              [
               15,
               2
              ],
              [
               20,
               6
              ]
             ]
            }
           },
           "source": "openmaptiles",
           "source-layer": "transportation",
           "type": "line"
          }
         }
        },
        "subway": {
         "_": {
          "filter": [
           "all",
           [
            "==",
            "class",
            "transit"
           ],
           [
            "==",
            "subclass",
            "subway"
           ]
          ],
          "id": "rail_subway",
          "layout": {
           "visibility": "visible"
          },
          "metadata": {},
          "paint": {
           "line-color": "#81817f",
           "line-dasharray": [
            1,
            1.2
           ],
           "line-opacity": 1,
           "line-width": {
            "stops": [
             [
              14,
              1
             ],
             [
              18,
              3
             ]
            ]
           }
          },
          "source": "openmaptiles",
          "source-layer": "transportation",
          "type": "line"
         }
        }
       },
       "road": {
        "area": {
         "bridge": {
          "_": {
           "filter": [
            "all",
            [
             "==",
             "$type",
             "Polygon"
            ],
            [
             "==",
             "class",
             "bridge"
            ]
           ],
           "id": "road_area_bridge",
           "layout": {
            "visibility": "visible"
           },
           "metadata": {},
           "minzoom": 11,
           "paint": {
            "fill-antialias": true,
            "fill-color": "#b8b8b8"
           },
           "source": "openmaptiles",
           "source-layer": "transportation",
           "type": "fill"
          }
         },
         "pedestrian": {
          "_": {
           "filter": [
            "all",
            [
             "==",
             "$type",
             "Polygon"
            ],
            [
             "!has",
             "brunnel"
            ],
            [
             "!in",
             "class",
             "bridge",
             "pier"
            ]
           ],
           "id": "road_area_pedestrian",
           "layout": {
            "visibility": "visible"
           },
           "metadata": {},
           "paint": {
            "fill-color": "#dddde8"
           },
           "source": "openmaptiles",
           "source-layer": "transportation",
           "type": "fill"
          }
         },
         "pier": {
          "_": {
           "filter": [
            "all",
            [
             "==",
             "$type",
             "Polygon"
            ],
            [
             "==",
             "class",
             "pier"
            ]
           ],
           "id": "road_area_pier",
           "layout": {
            "visibility": "visible"
           },
           "metadata": {},
           "paint": {
            "fill-antialias": true,
            "fill-color": "rgba(246, 241, 229, 1)"
           },
           "source": "openmaptiles",
           "source-layer": "transportation",
           "type": "fill"
          }
         },
         "platform": {
          "_": {
           "filter": [
            "all",
            [
             "==",
             "$type",
             "Polygon"
            ],
            [
             "!has",
             "brunnel"
            ],
            [
             "==",
             "class",
             "path"
            ],
            [
             "==",
             "subclass",
             "platform"
            ]
           ],
           "id": "road_area_platform",
           "layout": {
            "visibility": "visible"
           },
           "metadata": {},
           "paint": {
            "fill-color": "#bababa"
           },
           "source": "openmaptiles",
           "source-layer": "transportation",
           "type": "fill"
          }
         }
        },
        "minor": {
         "_": {
          "filter": [
           "all",
           [
            "==",
            [
             "geometry-type"
            ],
            "LineString"
           ],
           [
            "all",
            [
             "match",
             [
              "get",
              "brunnel"
             ],
             [
              "bridge",
              "tunnel"
             ],
             false,
             true
            ],
            [
             "match",
             [
              "get",
              "class"
             ],
             [
              "minor"
             ],
             true,
             false
            ]
           ]
          ],
          "id": "road_minor",
          "layout": {
           "line-cap": "round",
           "line-join": "round",
           "visibility": "visible"
          },
          "metadata": {},
          "minzoom": 12,
          "paint": {
           "line-color": {
            "stops": [
             [
              12,
              "#d3d3d3"
             ],
             [
              13,
              "rgba(255, 255, 255, 1)"
             ]
            ]
           },
           "line-opacity": 1,
           "line-width": {
            "base": 1.2,
            "stops": [
             [
              12,
              1
             ],
             [
              13,
              1.9
             ],
             [
              14,
              3.8
             ],
             [
              15,
              4.8
             ],
             [
              16,
              10.4
             ],
             [
              17,
              11.4
             ],
             [
              18,
              15.4
             ]
            ]
           }
          },
          "source": "openmaptiles",
          "source-layer": "transportation",
          "type": "line"
         },
         "casing": {
          "_": {
           "filter": [
            "all",
            [
             "==",
             "$type",
             "LineString"
            ],
            [
             "!in",
             "brunnel",
             "bridge",
             "tunnel"
            ],
            [
             "in",
             "class",
             "minor"
            ],
            [
             "!=",
             "ramp",
             "1"
            ]
           ],
           "id": "road_minor_casing",
           "layout": {
            "line-cap": "round",
            "line-join": "round",
            "visibility": "visible"
           },
           "metadata": {},
           "minzoom": 13,
           "paint": {
            "line-color": "#bbbbbb",
            "line-opacity": {
             "stops": [
              [
               10,
               0
              ],
              [
               12.5,
               1
              ]
             ]
            },
            "line-width": {
             "base": 1.2,
             "stops": [
              [
               13,
               3
              ],
              [
               14,
               5
              ],
              [
               15,
               6
              ],
              [
               16,
               12
              ],
              [
               17,
               13
              ],
              [
               18,
               17
              ]
             ]
            }
           },
           "source": "openmaptiles",
           "source-layer": "transportation",
           "type": "line"
          }
         },
         "construction": {
          "_": {
           "filter": [
            "all",
            [
             "==",
             [
              "geometry-type"
             ],
             "LineString"
            ],
            [
             "all",
             [
              "match",
              [
               "get",
               "brunnel"
              ],
              [
               "bridge",
               "tunnel"
              ],
              false,
              true
             ],
             [
              "match",
              [
               "get",
               "class"
              ],
              [
               "minor_construction"
              ],
              true,
              false
             ]
            ]
           ],
           "id": "road_minor_construction",
           "layout": {
            "line-cap": "round",
            "line-join": "round",
            "visibility": "visible"
           },
           "metadata": {},
           "minzoom": 12,
           "paint": {
            "line-color": {
             "stops": [
              [
               12,
               "#d3d3d3"
              ],
              [
               13,
               "rgba(255, 255, 255, 1)"
              ]
             ]
            },
            "line-dasharray": [
             2,
             2
            ],
            "line-opacity": 1,
            "line-width": {
             "base": 1.2,
             "stops": [
              [
               12,
               1
              ],
              [
               13,
               1.9
              ],
              [
               14,
               3.8
              ],
              [
               15,
               4.8
              ],
              [
               16,
               10.4
              ],
              [
               17,
               11.4
              ],
              [
               18,
               15.4
              ]
             ]
            }
           },
           "source": "openmaptiles",
           "source-layer": "transportation",
           "type": "line"
          }
         }
        },
        "motorway": {
         "_": {
          "filter": [
           "all",
           [
            "!in",
            "brunnel",
            "bridge",
            "tunnel"
           ],
           [
            "==",
            "class",
            "motorway"
           ],
           [
            "!=",
            "ramp",
            1
           ]
          ],
          "id": "road_motorway",
          "layout": {
           "line-cap": "round",
           "line-join": "round",
           "visibility": "visible"
          },
          "metadata": {},
          "minzoom": 5,
          "paint": {
           "line-color": {
            "stops": [
             [
              6,
              "#e66e89"
             ],
             [
              10,
              "#e892a2"
             ]
            ]
           },
           "line-width": {
            "base": 1.2,
            "stops": [
             [
              5,
              0
             ],
             [
              7,
              1
             ],
             [
              18,
              25
             ]
            ]
           }
          },
          "source": "openmaptiles",
          "source-layer": "transportation",
          "type": "line"
         },
         "casing": {
          "_": {
           "filter": [
            "all",
            [
             "!in",
             "brunnel",
             "bridge",
             "tunnel"
            ],
            [
             "==",
             "class",
             "motorway"
            ],
            [
             "!=",
             "ramp",
             1
            ]
           ],
           "id": "road_motorway_casing",
           "layout": {
            "line-cap": "butt",
            "line-join": "round",
            "visibility": "visible"
           },
           "metadata": {},
           "minzoom": 5,
           "paint": {
            "line-color": {
             "stops": [
              [
               11,
               "#c24e6b"
              ],
              [
               12,
               "#dc2a67"
              ]
             ]
            },
            "line-width": {
             "base": 1.2,
             "stops": [
              [
               5,
               0
              ],
              [
               7,
               1.75
              ],
              [
               18,
               27
              ]
             ]
            }
           },
           "source": "openmaptiles",
           "source-layer": "transportation",
           "type": "line"
          }
         },
         "construction": {
          "_": {
           "filter": [
            "all",
            [
             "!in",
             "brunnel",
             "bridge",
             "tunnel"
            ],
            [
             "==",
             "class",
             "motorway_construction"
            ],
            [
             "!=",
             "ramp",
             1
            ]
           ],
           "id": "road_motorway_construction",
           "layout": {
            "line-cap": "round",
            "line-join": "round",
            "visibility": "visible"
           },
           "metadata": {},
           "minzoom": 5,
           "paint": {
            "line-color": {
             "base": 1,
             "stops": [
              [
               6,
               "#e892a2"
              ],
              [
               10,
               "#e66e89"
              ]
             ]
            },
            "line-dasharray": [
             2,
             2
            ],
            "line-width": {
             "base": 1.2,
             "stops": [
              [
               5,
               0
              ],
              [
               7,
               1
              ],
              [
               20,
               18
              ]
             ]
            }
           },
           "source": "openmaptiles",
           "source-layer": "transportation",
           "type": "line"
          }
         },
         "link": {
          "_": {
           "filter": [
            "all",
            [
             "!in",
             "brunnel",
             "bridge",
             "tunnel"
            ],
            [
             "==",
             "class",
             "motorway"
            ],
            [
             "==",
             "ramp",
             1
            ]
           ],
           "id": "road_motorway_link",
           "layout": {
            "line-cap": "round",
            "line-join": "round",
            "visibility": "visible"
           },
           "metadata": {},
           "minzoom": 8,
           "paint": {
            "line-color": {
             "stops": [
              [
               6,
               "#e66e89"
              ],
              [
               10,
               "#e892a2"
              ]
             ]
            },
            "line-width": {
             "base": 1.2,
             "stops": [
              [
               8,
               0.7
              ],
              [
               11,
               0.9
              ],
              [
               12,
               3
              ],
              [
               14,
               6.6
              ],
              [
               16,
               10.4
              ],
              [
               17,
               11.4
              ],
              [
               18,
               14.4
              ],
              [
               19,
               15.4
              ]
             ]
            }
           },
           "source": "openmaptiles",
           "source-layer": "transportation",
           "type": "line"
          },
          "casing": {
           "_": {
            "filter": [
             "all",
             [
              "!in",
              "brunnel",
              "bridge",
              "tunnel"
             ],
             [
              "==",
              "class",
              "motorway"
             ],
             [
              "==",
              "ramp",
              1
             ]
            ],
            "id": "road_motorway_link_casing",
            "layout": {
             "line-cap": "butt",
             "line-join": "round",
             "visibility": "visible"
            },
            "metadata": {},
            "minzoom": 11,
            "paint": {
             "line-color": {
              "stops": [
               [
                11,
                "#c24e6b"
               ],
               [
                12,
                "#dc2a67"
               ]
              ]
             },
             "line-opacity": 1,
             "line-width": {
              "base": 1.2,
              "stops": [
               [
                11,
                1.5
               ],
               [
                12,
                4
               ],
               [
                14,
                7.8
               ],
               [
                16,
                12
               ],
               [
                17,
                13
               ],
               [
                18,
                16
               ],
               [
                19,
                17
               ]
              ]
             }
            },
            "source": "openmaptiles",
            "source-layer": "transportation",
            "type": "line"
           }
          }
         }
        },
        "path": {
         "cycleway": {
          "_": {
           "filter": [
            "all",
            [
             "==",
             "$type",
             "LineString"
            ],
            [
             "!in",
             "brunnel",
             "bridge",
             "tunnel"
            ],
            [
             "in",
             "class",
             "path"
            ],
            [
             "==",
             "subclass",
             "cycleway"
            ]
           ],
           "id": "road_path_cycleway",
           "layout": {
            "line-join": "round",
            "visibility": "visible"
           },
           "metadata": {},
           "minzoom": 12,
           "paint": {
            "line-color": "#0000ff",
            "line-dasharray": [
             2,
             2
            ],
            "line-width": {
             "base": 1.2,
             "stops": [
              [
               12,
               0.7
              ],
              [
               14,
               0.9
              ],
              [
               17,
               1
              ],
              [
               18,
               1.3
              ]
             ]
            }
           },
           "source": "openmaptiles",
           "source-layer": "transportation",
           "type": "line"
          },
          "casing": {
           "_": {
            "filter": [
             "all",
             [
              "==",
              "$type",
              "LineString"
             ],
             [
              "!in",
              "brunnel",
              "bridge",
              "tunnel"
             ],
             [
              "in",
              "class",
              "path"
             ],
             [
              "==",
              "subclass",
              "cycleway"
             ]
            ],
            "id": "road_path_cycleway_casing",
            "layout": {
             "line-join": "round",
             "visibility": "visible"
            },
            "metadata": {},
            "minzoom": 14,
            "paint": {
             "line-color": "rgba(236, 236, 236, 1)",
             "line-opacity": 0.6,
             "line-width": {
              "base": 1.2,
              "stops": [
               [
                14,
                3
               ],
               [
                15,
                3.3
               ],
               [
                17,
                3.3
               ],
               [
                18,
                3.6
               ]
              ]
             }
            },
            "source": "openmaptiles",
            "source-layer": "transportation",
            "type": "line"
           }
          }
         },
         "footway": {
          "_": {
           "filter": [
            "all",
            [
             "==",
             "$type",
             "LineString"
            ],
            [
             "!in",
             "brunnel",
             "bridge",
             "tunnel"
            ],
            [
             "in",
             "class",
             "path"
            ],
            [
             "in",
             "subclass",
             "footway",
             "path"
            ]
           ],
           "id": "road_path_footway",
           "layout": {
            "line-join": "round",
            "visibility": "visible"
           },
           "metadata": {},
           "minzoom": 13,
           "paint": {
            "line-color": "#fa8072",
            "line-dasharray": [
             2,
             1
            ],
            "line-width": {
             "base": 1.2,
             "stops": [
              [
               13,
               0.6
              ],
              [
               14,
               1
              ],
              [
               15,
               1.3
              ],
              [
               17,
               1.3
              ],
              [
               18,
               1.6
              ]
             ]
            }
           },
           "source": "openmaptiles",
           "source-layer": "transportation",
           "type": "line"
          },
          "casing": {
           "_": {
            "filter": [
             "all",
             [
              "==",
              "$type",
              "LineString"
             ],
             [
              "!in",
              "brunnel",
              "bridge",
              "tunnel"
             ],
             [
              "in",
              "class",
              "path"
             ],
             [
              "in",
              "subclass",
              "footway",
              "path"
             ]
            ],
            "id": "road_path_footway_casing",
            "layout": {
             "line-join": "round",
             "visibility": "visible"
            },
            "metadata": {},
            "minzoom": 15,
            "paint": {
             "line-color": "rgba(255, 255, 255, 0.8)",
             "line-width": {
              "base": 1.2,
              "stops": [
               [
                14,
                2.7
               ],
               [
                15,
                3
               ],
               [
                17,
                3.3
               ],
               [
                18,
                3.6
               ]
              ]
             }
            },
            "source": "openmaptiles",
            "source-layer": "transportation",
            "type": "line"
           }
          }
         }
        },
        "pedestrian": {
         "_": {
          "filter": [
           "all",
           [
            "==",
            "$type",
            "LineString"
           ],
           [
            "==",
            "class",
            "path"
           ],
           [
            "==",
            "subclass",
            "pedestrian"
           ],
           [
            "!=",
            "brunel",
            "tunnel"
           ]
          ],
          "id": "road_pedestrian",
          "layout": {
           "visibility": "visible"
          },
          "paint": {
           "line-color": "#dddde8",
           "line-width": {
            "stops": [
             [
              13,
              1.9
             ],
             [
              14,
              3.8
             ],
             [
              15,
              4.8
             ],
             [
              16,
              10.4
             ],
             [
              17,
              11.4
             ],
             [
              18,
              15.4
             ]
            ]
           }
          },
          "source": "openmaptiles",
          "source-layer": "transportation",
          "type": "line"
         },
         "casing": {
          "_": {
           "filter": [
            "all",
            [
             "==",
             "$type",
             "LineString"
            ],
            [
             "==",
             "class",
             "path"
            ],
            [
             "==",
             "subclass",
             "pedestrian"
            ],
            [
             "!=",
             "brunel",
             "tunnel"
            ]
           ],
           "id": "road_pedestrian_casing",
           "layout": {
            "visibility": "visible"
           },
           "paint": {
            "line-color": "#999999",
            "line-width": {
             "stops": [
              [
               13,
               3
              ],
              [
               14,
               5
              ],
              [
               15,
               6
              ],
              [
               16,
               12
              ],
              [
               17,
               13
              ],
              [
               18,
               17
              ]
             ]
            }
           },
           "source": "openmaptiles",
           "source-layer": "transportation",
           "type": "line"
          }
         }
        },
        "pier": {
         "_": {
          "filter": [
           "all",
           [
            "==",
            "$type",
            "LineString"
           ],
           [
            "==",
            "class",
            "pier"
           ]
          ],
          "id": "road_pier",
          "layout": {
           "line-cap": "round",
           "line-join": "round"
          },
          "metadata": {},
          "paint": {
           "line-color": "rgba(246, 241, 229, 1)",
           "line-width": {
            "base": 1.2,
            "stops": [
             [
              15,
              1
             ],
             [
              17,
              4
             ]
            ]
           }
          },
          "source": "openmaptiles",
          "source-layer": "transportation",
          "type": "line"
         }
        },
        "primary": {
         "_": {
          "filter": [
           "all",
           [
            "!in",
            "brunnel",
            "bridge",
            "tunnel"
           ],
           [
            "!=",
            "ramp",
            1
           ],
           [
            "in",
            "class",
            "primary"
           ]
          ],
          "id": "road_primary",
          "layout": {
           "line-cap": "round",
           "line-join": "round",
           "visibility": "visible"
          },
          "metadata": {},
          "minzoom": 7,
          "paint": {
           "line-color": {
            "stops": [
             [
              7,
              "#f3c380"
             ],
             [
              11,
              "#fcd6a4"
             ]
            ]
           },
           "line-width": {
            "base": 1.2,
            "stops": [
             [
              7,
              1
             ],
             [
              8,
              1.4
             ],
             [
              9,
              1.8
             ],
             [
              10,
              1.8
             ],
             [
              11,
              2.5
             ],
             [
              12,
              4
             ],
             [
              13,
              4
             ],
             [
              15,
              8.6
             ],
             [
              16,
              16
             ],
             [
              17,
              19
             ],
             [
              18,
              25
             ]
            ]
           }
          },
          "source": "openmaptiles",
          "source-layer": "transportation",
          "type": "line"
         },
         "casing": {
          "_": {
           "filter": [
            "all",
            [
             "!in",
             "brunnel",
             "bridge",
             "tunnel"
            ],
            [
             "!=",
             "ramp",
             1
            ],
            [
             "in",
             "class",
             "primary"
            ],
            [
             "!=",
             "ramp",
             1
            ]
           ],
           "id": "road_primary_casing",
           "layout": {
            "line-cap": "butt",
            "line-join": "round",
            "visibility": "visible"
           },
           "metadata": {},
           "minzoom": 9,
           "paint": {
            "line-color": {
             "stops": [
              [
               10.9,
               "rgba(255, 250, 234, 0.47)"
              ],
              [
               11,
               "rgba(160, 116, 0, 1)"
              ]
             ]
            },
            "line-opacity": 1,
            "line-width": {
             "base": 1.2,
             "stops": [
              [
               9,
               6
              ],
              [
               11,
               3.5
              ],
              [
               12,
               5
              ],
              [
               13,
               5
              ],
              [
               15,
               10
              ],
              [
               16,
               18
              ],
              [
               17,
               21
              ],
              [
               18,
               27
              ]
             ]
            }
           },
           "source": "openmaptiles",
           "source-layer": "transportation",
           "type": "line"
          }
         },
         "construction": {
          "_": {
           "filter": [
            "all",
            [
             "!in",
             "brunnel",
             "bridge",
             "tunnel"
            ],
            [
             "!=",
             "ramp",
             1
            ],
            [
             "in",
             "class",
             "primary_construction"
            ]
           ],
           "id": "road_primary_construction",
           "layout": {
            "line-cap": "round",
            "line-join": "round",
            "visibility": "visible"
           },
           "metadata": {},
           "minzoom": 7,
           "paint": {
            "line-color": {
             "stops": [
              [
               7,
               "#f3c380"
              ],
              [
               11,
               "#fcd6a4"
              ]
             ]
            },
            "line-width": {
             "base": 1.2,
             "stops": [
              [
               7,
               1
              ],
              [
               8,
               1.4
              ],
              [
               9,
               1.8
              ],
              [
               10,
               1.8
              ],
              [
               11,
               2.5
              ],
              [
               12,
               4
              ],
              [
               13,
               4
              ],
              [
               15,
               8.6
              ],
              [
               16,
               16
              ],
              [
               17,
               19
              ],
              [
               18,
               25
              ]
             ]
            }
           },
           "source": "openmaptiles",
           "source-layer": "transportation",
           "type": "line"
          }
         },
         "link": {
          "_": {
           "filter": [
            "all",
            [
             "!in",
             "brunnel",
             "bridge",
             "tunnel"
            ],
            [
             "==",
             "ramp",
             1
            ],
            [
             "in",
             "class",
             "primary"
            ]
           ],
           "id": "road_primary_link",
           "layout": {
            "line-cap": "round",
            "line-join": "round",
            "visibility": "visible"
           },
           "metadata": {},
           "paint": {
            "line-color": "#fcd6a4",
            "line-width": {
             "base": 1.2,
             "stops": [
              [
               11,
               1.5
              ],
              [
               12,
               3
              ],
              [
               13,
               3
              ],
              [
               14,
               6.6
              ],
              [
               16,
               10.4
              ],
              [
               17,
               11.4
              ],
              [
               18,
               14.4
              ]
             ]
            }
           },
           "source": "openmaptiles",
           "source-layer": "transportation",
           "type": "line"
          },
          "casing": {
           "_": {
            "filter": [
             "all",
             [
              "!in",
              "brunnel",
              "bridge",
              "tunnel"
             ],
             [
              "==",
              "ramp",
              1
             ],
             [
              "in",
              "class",
              "primary"
             ]
            ],
            "id": "road_primary_link_casing",
            "layout": {
             "line-cap": "butt",
             "line-join": "round",
             "visibility": "visible"
            },
            "metadata": {},
            "minzoom": 11,
            "paint": {
             "line-color": {
              "stops": [
               [
                11,
                "#c38a27"
               ],
               [
                12,
                "#a06b00"
               ]
              ]
             },
             "line-width": {
              "base": 1.2,
              "stops": [
               [
                11,
                1.5
               ],
               [
                12,
                4
               ],
               [
                13,
                4
               ],
               [
                14,
                7.8
               ],
               [
                16,
                12
               ],
               [
                17,
                13
               ],
               [
                18,
                16
               ]
              ]
             }
            },
            "source": "openmaptiles",
            "source-layer": "transportation",
            "type": "line"
           }
          }
         }
        },
        "secondary": {
         "_": {
          "filter": [
           "all",
           [
            "!in",
            "brunnel",
            "bridge",
            "tunnel"
           ],
           [
            "in",
            "class",
            "secondary"
           ]
          ],
          "id": "road_secondary",
          "layout": {
           "line-cap": "round",
           "line-join": "round",
           "visibility": "visible"
          },
          "metadata": {},
          "minzoom": 8,
          "paint": {
           "line-color": {
            "stops": [
             [
              10.5,
              "#bbbbbb"
             ],
             [
              10.6,
              "#f7fabf"
             ]
            ]
           },
           "line-width": {
            "base": 1.2,
            "stops": [
             [
              8,
              1
             ],
             [
              9,
              1.1
             ],
             [
              10,
              1.1
             ],
             [
              11,
              2.9
             ],
             [
              12,
              4.3
             ],
             [
              13,
              4.3
             ],
             [
              14,
              7.6
             ],
             [
              15,
              8.6
             ],
             [
              16,
              16
             ],
             [
              17,
              19
             ],
             [
              18,
              25
             ]
            ]
           }
          },
          "source": "openmaptiles",
          "source-layer": "transportation",
          "type": "line"
         },
         "casing": {
          "_": {
           "filter": [
            "all",
            [
             "!in",
             "brunnel",
             "bridge",
             "tunnel"
            ],
            [
             "in",
             "class",
             "secondary"
            ],
            [
             "!=",
             "ramp",
             1
            ]
           ],
           "id": "road_secondary_casing",
           "layout": {
            "line-cap": "round",
            "line-join": "round",
            "visibility": "visible"
           },
           "metadata": {},
           "minzoom": 11,
           "paint": {
            "line-color": {
             "stops": [
              [
               11,
               "#9eae23"
              ],
              [
               12,
               "#707d05"
              ]
             ]
            },
            "line-opacity": 1,
            "line-width": {
             "base": 1.2,
             "stops": [
              [
               11,
               3.5
              ],
              [
               12,
               5
              ],
              [
               13,
               5
              ],
              [
               14,
               9
              ],
              [
               15,
               10
              ],
              [
               16,
               18
              ],
              [
               17,
               21
              ],
              [
               18,
               27
              ]
             ]
            }
           },
           "source": "openmaptiles",
           "source-layer": "transportation",
           "type": "line"
          }
         },
         "construction": {
          "_": {
           "filter": [
            "all",
            [
             "!in",
             "brunnel",
             "bridge",
             "tunnel"
            ],
            [
             "in",
             "class",
             "secondary_construction"
            ]
           ],
           "id": "road_secondary_construction",
           "layout": {
            "line-cap": "round",
            "line-join": "round",
            "visibility": "visible"
           },
           "metadata": {},
           "minzoom": 8,
           "paint": {
            "line-color": {
             "stops": [
              [
               10.5,
               "#bbbbbb"
              ],
              [
               10.6,
               "#f7fabf"
              ]
             ]
            },
            "line-dasharray": [
             2,
             2
            ],
            "line-width": {
             "base": 1.2,
             "stops": [
              [
               8,
               1
              ],
              [
               9,
               1.1
              ],
              [
               10,
               1.1
              ],
              [
               11,
               2.9
              ],
              [
               12,
               4.3
              ],
              [
               13,
               4.3
              ],
              [
               14,
               7.6
              ],
              [
               15,
               8.6
              ],
              [
               16,
               16
              ],
              [
               17,
               19
              ],
              [
               18,
               25
              ]
             ]
            }
           },
           "source": "openmaptiles",
           "source-layer": "transportation",
           "type": "line"
          }
         },
         "link": {
          "casing": {
           "_": {
            "filter": [
             "all",
             [
              "!in",
              "brunnel",
              "bridge",
              "tunnel"
             ],
             [
              "in",
              "class",
              "secondary"
             ],
             [
              "==",
              "ramp",
              1
             ]
            ],
            "id": "road_secondary_link_casing",
            "layout": {
             "line-cap": "round",
             "line-join": "round",
             "visibility": "visible"
            },
            "metadata": {},
            "minzoom": 11,
            "paint": {
             "line-color": {
              "stops": [
               [
                11,
                "#9eae23"
               ],
               [
                12,
                "#707d05"
               ]
              ]
             },
             "line-opacity": 1,
             "line-width": {
              "base": 1.2,
              "stops": [
               [
                11,
                3.5
               ],
               [
                12,
                5
               ],
               [
                13,
                5
               ],
               [
                14,
                9
               ],
               [
                15,
                10
               ],
               [
                16,
                18
               ],
               [
                17,
                21
               ],
               [
                18,
                27
               ]
              ]
             }
            },
            "source": "openmaptiles",
            "source-layer": "transportation",
            "type": "line"
           }
          }
         }
        },
        "service": {
         "track": {
          "_": {
           "filter": [
            "all",
            [
             "!in",
             "brunnel",
             "bridge",
             "tunnel"
            ],
            [
             "in",
             "class",
             "service",
             "track"
            ]
           ],
           "id": "road_service_track",
           "layout": {
            "line-cap": "round",
            "line-join": "round",
            "visibility": "visible"
           },
           "metadata": {},
           "minzoom": 12,
           "paint": {
            "line-color": "#fff",
            "line-width": {
             "base": 1.2,
             "stops": [
              [
               13,
               0.9
              ],
              [
               15,
               2.3
              ],
              [
               15,
               0.5
              ],
              [
               16,
               5.4
              ],
              [
               17,
               6.9
              ],
              [
               18,
               9.4
              ],
              [
               19,
               10.4
              ]
             ]
            }
           },
           "source": "openmaptiles",
           "source-layer": "transportation",
           "type": "line"
          },
          "casing": {
           "_": {
            "filter": [
             "all",
             [
              "!in",
              "brunnel",
              "bridge",
              "tunnel"
             ],
             [
              "in",
              "class",
              "service",
              "track"
             ]
            ],
            "id": "road_service_track_casing",
            "layout": {
             "line-cap": "round",
             "line-join": "round"
            },
            "metadata": {},
            "minzoom": 13,
            "paint": {
             "line-color": "#bbbbbb",
             "line-width": {
              "base": 1.2,
              "stops": [
               [
                13,
                2
               ],
               [
                15,
                3.5
               ],
               [
                16,
                7
               ],
               [
                17,
                8.5
               ],
               [
                18,
                11
               ],
               [
                19,
                12
               ]
              ]
             }
            },
            "source": "openmaptiles",
            "source-layer": "transportation",
            "type": "line"
           }
          },
          "construction": {
           "_": {
            "filter": [
             "all",
             [
              "!in",
              "brunnel",
              "bridge",
              "tunnel"
             ],
             [
              "in",
              "class",
              "service_construction",
              "track_construction"
             ]
            ],
            "id": "road_service_track_construction",
            "layout": {
             "line-cap": "round",
             "line-join": "round",
             "visibility": "visible"
            },
            "metadata": {},
            "minzoom": 12,
            "paint": {
             "line-color": "#fff",
             "line-dasharray": [
              2,
              2
             ],
             "line-width": {
              "base": 1.2,
              "stops": [
               [
                13,
                0.9
               ],
               [
                15,
                2.3
               ],
               [
                15,
                0.5
               ],
               [
                16,
                5.4
               ],
               [
                17,
                6.9
               ],
               [
                18,
                9.4
               ],
               [
                19,
                10.4
               ]
              ]
             }
            },
            "source": "openmaptiles",
            "source-layer": "transportation",
            "type": "line"
           }
          }
         }
        },
        "tertiary": {
         "_": {
          "filter": [
           "all",
           [
            "!in",
            "brunnel",
            "bridge",
            "tunnel"
           ],
           [
            "in",
            "class",
            "tertiary"
           ]
          ],
          "id": "road_tertiary",
          "layout": {
           "line-cap": "round",
           "line-join": "round",
           "visibility": "visible"
          },
          "metadata": {},
          "minzoom": 9,
          "paint": {
           "line-color": {
            "stops": [
             [
              10.5,
              "#bbbbbb"
             ],
             [
              10.6,
              "#FFFFFF"
             ]
            ]
           },
           "line-width": {
            "base": 1.2,
            "stops": [
             [
              9,
              0.7
             ],
             [
              10,
              0.7
             ],
             [
              11,
              1.9
             ],
             [
              12,
              3
             ],
             [
              13,
              3.9
             ],
             [
              14,
              7.8
             ],
             [
              15,
              8.8
             ],
             [
              16,
              16.4
             ],
             [
              17,
              19.4
             ],
             [
              18,
              25.4
             ]
            ]
           }
          },
          "source": "openmaptiles",
          "source-layer": "transportation",
          "type": "line"
         },
         "casing": {
          "_": {
           "filter": [
            "all",
            [
             "!in",
             "brunnel",
             "bridge",
             "tunnel"
            ],
            [
             "in",
             "class",
             "tertiary"
            ],
            [
             "!=",
             "ramp",
             1
            ]
           ],
           "id": "road_tertiary_casing",
           "layout": {
            "line-cap": "round",
            "line-join": "round",
            "visibility": "visible"
           },
           "metadata": {},
           "minzoom": 11,
           "paint": {
            "line-color": "#8f8f8f",
            "line-opacity": 1,
            "line-width": {
             "base": 1.2,
             "stops": [
              [
               11,
               2.5
              ],
              [
               12,
               4
              ],
              [
               13,
               5
              ],
              [
               14,
               9
              ],
              [
               15,
               10
              ],
              [
               16,
               18
              ],
              [
               17,
               21
              ],
              [
               18,
               27
              ]
             ]
            }
           },
           "source": "openmaptiles",
           "source-layer": "transportation",
           "type": "line"
          }
         },
         "construction": {
          "_": {
           "filter": [
            "all",
            [
             "!in",
             "brunnel",
             "bridge",
             "tunnel"
            ],
            [
             "in",
             "class",
             "tertiary_construction"
            ]
           ],
           "id": "road_tertiary_construction",
           "layout": {
            "line-cap": "round",
            "line-join": "round",
            "visibility": "visible"
           },
           "metadata": {},
           "minzoom": 9,
           "paint": {
            "line-color": {
             "stops": [
              [
               10.5,
               "#bbbbbb"
              ],
              [
               10.6,
               "#fff"
              ]
             ]
            },
            "line-dasharray": [
             2,
             2
            ],
            "line-width": {
             "base": 1.2,
             "stops": [
              [
               9,
               0.7
              ],
              [
               11,
               1.9
              ],
              [
               12,
               3
              ],
              [
               13,
               3.9
              ],
              [
               14,
               7.8
              ],
              [
               15,
               8.8
              ],
              [
               16,
               16.4
              ],
              [
               17,
               19.4
              ],
              [
               18,
               25.4
              ]
             ]
            }
           },
           "source": "openmaptiles",
           "source-layer": "transportation",
           "type": "line"
          }
         }
        },
        "trunk": {
         "_": {
          "filter": [
           "all",
           [
            "!in",
            "brunnel",
            "bridge",
            "tunnel"
           ],
           [
            "!=",
            "ramp",
            1
           ],
           [
            "in",
            "class",
            "trunk"
           ]
          ],
          "id": "road_trunk",
          "layout": {
           "line-cap": "round",
           "line-join": "round",
           "visibility": "visible"
          },
          "metadata": {},
          "minzoom": 7,
          "paint": {
           "line-color": {
            "stops": [
             [
              5,
              "#fdb59e"
             ],
             [
              11,
              "#f9b29c"
             ]
            ]
           },
           "line-width": {
            "base": 1.2,
            "stops": [
             [
              7,
              1
             ],
             [
              8,
              1.4
             ],
             [
              9,
              1.8
             ],
             [
              10,
              1.8
             ],
             [
              11,
              2.5
             ],
             [
              12,
              4
             ],
             [
              13,
              4
             ],
             [
              15,
              8.6
             ],
             [
              16,
              16
             ],
             [
              17,
              19
             ],
             [
              18,
              25
             ]
            ]
           }
          },
          "source": "openmaptiles",
          "source-layer": "transportation",
          "type": "line"
         },
         "casing": {
          "_": {
           "filter": [
            "all",
            [
             "!in",
             "brunnel",
             "bridge",
             "tunnel"
            ],
            [
             "!=",
             "ramp",
             1
            ],
            [
             "in",
             "class",
             "trunk"
            ],
            [
             "!=",
             "ramp",
             1
            ]
           ],
           "id": "road_trunk_casing",
           "layout": {
            "line-cap": "butt",
            "line-join": "round",
            "visibility": "visible"
           },
           "metadata": {},
           "minzoom": 11,
           "paint": {
            "line-color": {
             "stops": [
              [
               11,
               "rgba(160, 116, 0, 1)"
              ],
              [
               12,
               "#c84e2f"
              ]
             ]
            },
            "line-opacity": 1,
            "line-width": {
             "base": 1.2,
             "stops": [
              [
               9,
               6
              ],
              [
               11,
               3.5
              ],
              [
               12,
               5
              ],
              [
               13,
               5
              ],
              [
               15,
               10
              ],
              [
               16,
               18
              ],
              [
               17,
               21
              ],
              [
               18,
               27
              ]
             ]
            }
           },
           "source": "openmaptiles",
           "source-layer": "transportation",
           "type": "line"
          }
         },
         "construction": {
          "_": {
           "filter": [
            "all",
            [
             "!in",
             "brunnel",
             "bridge",
             "tunnel"
            ],
            [
             "!=",
             "ramp",
             1
            ],
            [
             "in",
             "class",
             "trunk_construction"
            ]
           ],
           "id": "road_trunk_construction",
           "layout": {
            "line-cap": "round",
            "line-join": "round",
            "visibility": "visible"
           },
           "metadata": {},
           "minzoom": 7,
           "paint": {
            "line-color": {
             "stops": [
              [
               6,
               "#fdb59e"
              ],
              [
               11,
               "#f9b29c"
              ]
             ]
            },
            "line-dasharray": [
             2,
             2
            ],
            "line-width": {
             "base": 1.2,
             "stops": [
              [
               7,
               1
              ],
              [
               8,
               1.4
              ],
              [
               9,
               1.8
              ],
              [
               10,
               1.8
              ],
              [
               11,
               2.5
              ],
              [
               12,
               4
              ],
              [
               13,
               4
              ],
              [
               15,
               8.6
              ],
              [
               16,
               16
              ],
              [
               17,
               19
              ],
              [
               18,
               25
              ]
             ]
            }
           },
           "source": "openmaptiles",
           "source-layer": "transportation",
           "type": "line"
          }
         },
         "link": {
          "_": {
           "filter": [
            "all",
            [
             "!in",
             "brunnel",
             "bridge",
             "tunnel"
            ],
            [
             "==",
             "ramp",
             1
            ],
            [
             "in",
             "class",
             "trunk"
            ]
           ],
           "id": "road_trunk_link",
           "layout": {
            "line-cap": "round",
            "line-join": "round",
            "visibility": "visible"
           },
           "metadata": {},
           "minzoom": 11,
           "paint": {
            "line-color": {
             "stops": [
              [
               6,
               "#fdb59e"
              ],
              [
               11,
               "#f9b29c"
              ]
             ]
            },
            "line-width": {
             "base": 1.2,
             "stops": [
              [
               11,
               0.9
              ],
              [
               12,
               3
              ],
              [
               14,
               6.6
              ],
              [
               16,
               10.4
              ],
              [
               17,
               11.4
              ],
              [
               18,
               14.4
              ]
             ]
            }
           },
           "source": "openmaptiles",
           "source-layer": "transportation",
           "type": "line"
          },
          "casing": {
           "_": {
            "filter": [
             "all",
             [
              "!in",
              "brunnel",
              "bridge",
              "tunnel"
             ],
             [
              "==",
              "ramp",
              1
             ],
             [
              "in",
              "class",
              "trunk"
             ]
            ],
            "id": "road_trunk_link_casing",
            "layout": {
             "line-cap": "butt",
             "line-join": "round",
             "visibility": "visible"
            },
            "metadata": {},
            "minzoom": 11,
            "paint": {
             "line-color": {
              "stops": [
               [
                11,
                "#cf6649"
               ],
               [
                12,
                "#c84e2f"
               ]
              ]
             },
             "line-width": {
              "base": 1.2,
              "stops": [
               [
                11,
                1.5
               ],
               [
                12,
                4
               ],
               [
                14,
                7.8
               ],
               [
                16,
                12
               ],
               [
                17,
                13
               ],
               [
                18,
                16
               ]
              ]
             }
            },
            "source": "openmaptiles",
            "source-layer": "transportation",
            "type": "line"
           }
          }
         }
        }
       },
       "tunnel": {
        "link": {
         "_": {
          "filter": [
           "all",
           [
            "==",
            "ramp",
            "1"
           ],
           [
            "==",
            "brunnel",
            "tunnel"
           ],
           [
            ">",
            "layer",
            0
           ]
          ],
          "id": "tunnel_link",
          "layout": {
           "line-join": "round",
           "visibility": "visible"
          },
          "metadata": {},
          "paint": {
           "line-color": "#fff4c6",
           "line-width": {
            "base": 1.2,
            "stops": [
             [
              12.5,
              0
             ],
             [
              13,
              1.5
             ],
             [
              14,
              2.5
             ],
             [
              20,
              11.5
             ]
            ]
           }
          },
          "source": "openmaptiles",
          "source-layer": "transportation",
          "type": "line"
         },
         "casing": {
          "_": {
           "filter": [
            "all",
            [
             "==",
             "ramp",
             "1"
            ],
            [
             "==",
             "brunnel",
             "tunnel"
            ],
            [
             ">",
             "layer",
             0
            ]
           ],
           "id": "tunnel_link_casing",
           "layout": {
            "line-join": "round",
            "visibility": "visible"
           },
           "metadata": {},
           "paint": {
            "line-color": "#e9ac77",
            "line-opacity": 1,
            "line-width": {
             "base": 1.2,
             "stops": [
              [
               12,
               1
              ],
              [
               13,
               3
              ],
              [
               14,
               4
              ],
              [
               20,
               15
              ]
             ]
            }
           },
           "source": "openmaptiles",
           "source-layer": "transportation",
           "type": "line"
          }
         }
        },
        "major": {
         "rail": {
          "_": {
           "filter": [
            "all",
            [
             "==",
             "brunnel",
             "tunnel"
            ],
            [
             "in",
             "class",
             "rail"
            ]
           ],
           "id": "tunnel_major_rail",
           "layout": {
            "visibility": "visible"
           },
           "metadata": {},
           "paint": {
            "line-color": "rgba(166, 166, 166, 1)",
            "line-width": {
             "base": 1.4,
             "stops": [
              [
               8,
               0.8
              ],
              [
               15,
               3
              ],
              [
               20,
               5.4
              ]
             ]
            }
           },
           "source": "openmaptiles",
           "source-layer": "transportation",
           "type": "line"
          },
          "hatching": {
           "_": {
            "filter": [
             "all",
             [
              "in",
              "brunnel",
              "bridge",
              "tunnel"
             ],
             [
              "==",
              "class",
              "rail"
             ]
            ],
            "id": "tunnel_major_rail_hatching",
            "layout": {
             "visibility": "visible"
            },
            "metadata": {},
            "minzoom": 9,
            "paint": {
             "line-color": {
              "stops": [
               [
                8,
                "rgba(114, 114, 114, 0.44)"
               ],
               [
                10,
                "rgba(199, 199, 199, 1)"
               ]
              ]
             },
             "line-dasharray": [
              2,
              2
             ],
             "line-width": {
              "base": 1.4,
              "stops": [
               [
                8,
                0
               ],
               [
                15,
                2
               ],
               [
                20,
                4
               ]
              ]
             }
            },
            "source": "openmaptiles",
            "source-layer": "transportation",
            "type": "line"
           }
          }
         }
        },
        "minor": {
         "_": {
          "filter": [
           "all",
           [
            "==",
            "brunnel",
            "tunnel"
           ],
           [
            "in",
            "class",
            "minor"
           ]
          ],
          "id": "tunnel_minor",
          "layout": {
           "line-join": "round",
           "visibility": "visible"
          },
          "metadata": {},
          "paint": {
           "line-color": "#fff",
           "line-opacity": 1,
           "line-width": {
            "base": 1.2,
            "stops": [
             [
              13.5,
              0
             ],
             [
              14,
              2.5
             ],
             [
              20,
              11.5
             ]
            ]
           }
          },
          "source": "openmaptiles",
          "source-layer": "transportation",
          "type": "line"
         },
         "construction": {
          "_": {
           "filter": [
            "all",
            [
             "==",
             "brunnel",
             "tunnel"
            ],
            [
             "in",
             "class",
             "minor_construction"
            ]
           ],
           "id": "tunnel_minor_construction",
           "layout": {
            "line-join": "round",
            "visibility": "visible"
           },
           "metadata": {},
           "paint": {
            "line-color": "#fff",
            "line-dasharray": [
             2,
             2
            ],
            "line-opacity": 1,
            "line-width": {
             "base": 1.2,
             "stops": [
              [
               13.5,
               0
              ],
              [
               14,
               2.5
              ],
              [
               20,
               11.5
              ]
             ]
            }
           },
           "source": "openmaptiles",
           "source-layer": "transportation",
           "type": "line"
          }
         }
        },
        "motorway": {
         "_": {
          "filter": [
           "all",
           [
            "==",
            "class",
            "motorway"
           ],
           [
            "==",
            "brunnel",
            "tunnel"
           ]
          ],
          "id": "tunnel_motorway",
          "layout": {
           "line-join": "round",
           "visibility": "visible"
          },
          "metadata": {},
          "paint": {
           "line-color": {
            "stops": [
             [
              5,
              "#e66e89"
             ],
             [
              11,
              "#f1bcc6"
             ]
            ]
           },
           "line-width": {
            "base": 1.2,
            "stops": [
             [
              5,
              0
             ],
             [
              7,
              1
             ],
             [
              18,
              25
             ]
            ]
           }
          },
          "source": "openmaptiles",
          "source-layer": "transportation",
          "type": "line"
         },
         "casing": {
          "_": {
           "filter": [
            "all",
            [
             "==",
             "class",
             "motorway"
            ],
            [
             "==",
             "brunnel",
             "tunnel"
            ]
           ],
           "id": "tunnel_motorway_casing",
           "layout": {
            "line-join": "round",
            "visibility": "visible"
           },
           "metadata": {},
           "paint": {
            "line-color": {
             "stops": [
              [
               6,
               "#dc2a67"
              ],
              [
               10,
               "#c24e6b"
              ]
             ]
            },
            "line-dasharray": [
             0.5,
             0.25
            ],
            "line-width": {
             "base": 1.2,
             "stops": [
              [
               5,
               0
              ],
              [
               7,
               1.75
              ],
              [
               18,
               27
              ]
             ]
            }
           },
           "source": "openmaptiles",
           "source-layer": "transportation",
           "type": "line"
          }
         },
         "construction": {
          "_": {
           "filter": [
            "all",
            [
             "==",
             "class",
             "motorway_construction"
            ],
            [
             "==",
             "brunnel",
             "tunnel"
            ]
           ],
           "id": "tunnel_motorway_construction",
           "layout": {
            "line-join": "round",
            "visibility": "visible"
           },
           "metadata": {},
           "paint": {
            "line-color": {
             "stops": [
              [
               5,
               "#e66e89"
              ],
              [
               11,
               "#f1bcc6"
              ]
             ]
            },
            "line-dasharray": [
             2,
             2
            ],
            "line-width": {
             "base": 1.2,
             "stops": [
              [
               5,
               0
              ],
              [
               7,
               1
              ],
              [
               18,
               25
              ]
             ]
            }
           },
           "source": "openmaptiles",
           "source-layer": "transportation",
           "type": "line"
          },
          "casing": {
           "_": {
            "filter": [
             "all",
             [
              "==",
              "class",
              "motorway_construction"
             ],
             [
              "==",
              "brunnel",
              "tunnel"
             ]
            ],
            "id": "tunnel_motorway_construction_casing",
            "layout": {
             "line-join": "round",
             "visibility": "visible"
            },
            "metadata": {},
            "paint": {
             "line-color": {
              "stops": [
               [
                6,
                "#dc2a67"
               ],
               [
                10,
                "#c24e6b"
               ]
              ]
             },
             "line-dasharray": [
              0.5,
              0.25
             ],
             "line-width": {
              "base": 1.2,
              "stops": [
               [
                5,
                0
               ],
               [
                7,
                1.75
               ],
               [
                18,
                27
               ]
              ]
             }
            },
            "source": "openmaptiles",
            "source-layer": "transportation",
            "type": "line"
           }
          }
         },
         "link": {
          "_": {
           "filter": [
            "all",
            [
             "==",
             "class",
             "motorway"
            ],
            [
             "==",
             "ramp",
             1
            ],
            [
             "==",
             "brunnel",
             "tunnel"
            ]
           ],
           "id": "tunnel_motorway_link",
           "layout": {
            "line-join": "round",
            "visibility": "visible"
           },
           "metadata": {},
           "minzoom": 8,
           "paint": {
            "line-color": "#f1bcc6",
            "line-dasharray": [
             0.5,
             0.25
            ],
            "line-opacity": 1,
            "line-width": {
             "base": 1.2,
             "stops": [
              [
               8,
               0.7
              ],
              [
               11,
               0.9
              ],
              [
               12,
               3
              ],
              [
               14,
               6.6
              ],
              [
               16,
               10.4
              ],
              [
               17,
               11.4
              ],
              [
               18,
               14.4
              ],
              [
               19,
               15.4
              ]
             ]
            }
           },
           "source": "openmaptiles",
           "source-layer": "transportation",
           "type": "line"
          },
          "casing": {
           "_": {
            "filter": [
             "all",
             [
              "==",
              "class",
              "motorway_link"
             ],
             [
              "==",
              "ramp",
              1
             ],
             [
              "==",
              "brunnel",
              "tunnel"
             ]
            ],
            "id": "tunnel_motorway_link_casing",
            "layout": {
             "line-join": "round",
             "visibility": "visible"
            },
            "metadata": {},
            "minzoom": 11,
            "paint": {
             "line-color": {
              "stops": [
               [
                11,
                "#c24e6b"
               ],
               [
                12,
                "#dc2a67"
               ]
              ]
             },
             "line-width": {
              "base": 1.2,
              "stops": [
               [
                11,
                1.5
               ],
               [
                12,
                4
               ],
               [
                14,
                7.8
               ],
               [
                16,
                12
               ],
               [
                17,
                13
               ],
               [
                18,
                16
               ],
               [
                19,
                17
               ]
              ]
             }
            },
            "source": "openmaptiles",
            "source-layer": "transportation",
            "type": "line"
           }
          }
         }
        },
        "path": {
         "pedestrian": {
          "_": {
           "filter": [
            "all",
            [
             "==",
             "$type",
             "LineString"
            ],
            [
             "==",
             "brunnel",
             "tunnel"
            ],
            [
             "in",
             "class",
             "path",
             "pedestrian"
            ]
           ],
           "id": "tunnel_path_pedestrian",
           "layout": {
            "visibility": "visible"
           },
           "metadata": {},
           "paint": {
            "line-color": "rgba(204, 196, 176, 0.45)",
            "line-dasharray": [
             1,
             0.75
            ],
            "line-width": {
             "base": 1.2,
             "stops": [
              [
               14,
               0.5
              ],
              [
               20,
               6
              ]
             ]
            }
           },
           "source": "openmaptiles",
           "source-layer": "transportation",
           "type": "line"
          }
         }
        },
        "primary": {
         "_": {
          "filter": [
           "all",
           [
            "==",
            "brunnel",
            "tunnel"
           ],
           [
            "in",
            "class",
            "primary"
           ]
          ],
          "id": "tunnel_primary",
          "layout": {
           "line-join": "round",
           "visibility": "visible"
          },
          "metadata": {},
          "minzoom": 11,
          "paint": {
           "line-color": "#feecd5",
           "line-opacity": 1,
           "line-width": {
            "base": 1.2,
            "stops": [
             [
              5,
              0.4
             ],
             [
              6,
              0.6
             ],
             [
              7,
              1
             ],
             [
              8,
              1.4
             ],
             [
              9,
              1.9
             ],
             [
              10,
              1.9
             ],
             [
              11,
              4.5
             ],
             [
              12,
              5
             ],
             [
              15,
              8.6
             ],
             [
              16,
              16
             ],
             [
              17,
              19
             ],
             [
              18,
              25
             ]
            ]
           }
          },
          "source": "openmaptiles",
          "source-layer": "transportation",
          "type": "line"
         },
         "casing": {
          "_": {
           "filter": [
            "all",
            [
             "==",
             "brunnel",
             "tunnel"
            ],
            [
             "in",
             "class",
             "primary"
            ]
           ],
           "id": "tunnel_primary_casing",
           "layout": {
            "line-join": "round",
            "visibility": "visible"
           },
           "metadata": {},
           "minzoom": 11,
           "paint": {
            "line-color": {
             "stops": [
              [
               6,
               "#a06b00"
              ],
              [
               10,
               "rgba(160, 116, 0, 1)"
              ]
             ]
            },
            "line-dasharray": [
             0.5,
             0.25
            ],
            "line-width": {
             "base": 1.2,
             "stops": [
              [
               11,
               3.5
              ],
              [
               12,
               6
              ],
              [
               15,
               10
              ],
              [
               16,
               18
              ],
              [
               17,
               21
              ],
              [
               18,
               27
              ]
             ]
            }
           },
           "source": "openmaptiles",
           "source-layer": "transportation",
           "type": "line"
          }
         },
         "construction": {
          "_": {
           "filter": [
            "all",
            [
             "==",
             "brunnel",
             "tunnel"
            ],
            [
             "in",
             "class",
             "primary_construction"
            ]
           ],
           "id": "tunnel_primary_construction",
           "layout": {
            "line-join": "round",
            "visibility": "visible"
           },
           "metadata": {},
           "minzoom": 11,
           "paint": {
            "line-color": "#feecd5",
            "line-dasharray": [
             2,
             2
            ],
            "line-opacity": 1,
            "line-width": {
             "base": 1.2,
             "stops": [
              [
               5,
               0.4
              ],
              [
               6,
               0.6
              ],
              [
               7,
               1
              ],
              [
               8,
               1.4
              ],
              [
               9,
               1.9
              ],
              [
               10,
               1.9
              ],
              [
               11,
               4.5
              ],
              [
               12,
               5
              ],
              [
               15,
               8.6
              ],
              [
               16,
               16
              ],
              [
               17,
               19
              ],
              [
               18,
               25
              ]
             ]
            }
           },
           "source": "openmaptiles",
           "source-layer": "transportation",
           "type": "line"
          }
         }
        },
        "secondary": {
         "_": {
          "filter": [
           "all",
           [
            "==",
            "brunnel",
            "tunnel"
           ],
           [
            "in",
            "class",
            "secondary"
           ]
          ],
          "id": "tunnel_secondary",
          "layout": {
           "line-join": "round",
           "visibility": "visible"
          },
          "metadata": {},
          "minzoom": 8,
          "paint": {
           "line-color": "#fafcd7",
           "line-width": {
            "base": 1.2,
            "stops": [
             [
              8,
              1
             ],
             [
              9,
              1.1
             ],
             [
              10,
              1.1
             ],
             [
              11,
              2.9
             ],
             [
              12,
              4.3
             ],
             [
              12,
              4.3
             ],
             [
              14,
              7.6
             ],
             [
              15,
              8.6
             ],
             [
              16,
              16
             ],
             [
              17,
              19
             ],
             [
              18,
              25
             ]
            ]
           }
          },
          "source": "openmaptiles",
          "source-layer": "transportation",
          "type": "line"
         },
         "casing": {
          "_": {
           "filter": [
            "all",
            [
             "==",
             "brunnel",
             "tunnel"
            ],
            [
             "in",
             "class",
             "secondary"
            ]
           ],
           "id": "tunnel_secondary_casing",
           "layout": {
            "line-join": "round",
            "visibility": "visible"
           },
           "metadata": {},
           "minzoom": 11,
           "paint": {
            "line-color": "#707d05",
            "line-dasharray": [
             0.5,
             0.25
            ],
            "line-opacity": 1,
            "line-width": {
             "base": 1.2,
             "stops": [
              [
               11,
               3.5
              ],
              [
               12,
               5
              ],
              [
               13,
               5
              ],
              [
               14,
               9
              ],
              [
               15,
               10
              ],
              [
               16,
               18
              ],
              [
               17,
               21
              ],
              [
               18,
               27
              ]
             ]
            }
           },
           "source": "openmaptiles",
           "source-layer": "transportation",
           "type": "line"
          }
         },
         "construction": {
          "_": {
           "filter": [
            "all",
            [
             "==",
             "brunnel",
             "tunnel"
            ],
            [
             "in",
             "class",
             "secondary_construction"
            ]
           ],
           "id": "tunnel_secondary_construction",
           "layout": {
            "line-join": "round",
            "visibility": "visible"
           },
           "metadata": {},
           "minzoom": 8,
           "paint": {
            "line-color": "#fafcd7",
            "line-dasharray": [
             2,
             2
            ],
            "line-width": {
             "base": 1.2,
             "stops": [
              [
               8,
               1
              ],
              [
               9,
               1.1
              ],
              [
               10,
               1.1
              ],
              [
               11,
               2.9
              ],
              [
               12,
               4.3
              ],
              [
               12,
               4.3
              ],
              [
               14,
               7.6
              ],
              [
               15,
               8.6
              ],
              [
               16,
               16
              ],
              [
               17,
               19
              ],
              [
               18,
               25
              ]
             ]
            }
           },
           "source": "openmaptiles",
           "source-layer": "transportation",
           "type": "line"
          }
         }
        },
        "service": {
         "track": {
          "_": {
           "filter": [
            "all",
            [
             "==",
             "brunnel",
             "tunnel"
            ],
            [
             "in",
             "class",
             "service",
             "track"
            ]
           ],
           "id": "tunnel_service_track",
           "layout": {
            "line-join": "round",
            "visibility": "visible"
           },
           "metadata": {},
           "minzoom": 15,
           "paint": {
            "line-color": "#f2f2f2",
            "line-width": {
             "base": 1.2,
             "stops": [
              [
               15,
               0.8
              ],
              [
               16,
               1.9
              ],
              [
               17,
               3.1
              ],
              [
               18,
               3.9
              ],
              [
               19,
               6.9
              ]
             ]
            }
           },
           "source": "openmaptiles",
           "source-layer": "transportation",
           "type": "line"
          },
          "casing": {
           "_": {
            "filter": [
             "all",
             [
              "==",
              "brunnel",
              "tunnel"
             ],
             [
              "in",
              "class",
              "service",
              "track"
             ]
            ],
            "id": "tunnel_service_track_casing",
            "layout": {
             "line-join": "round",
             "visibility": "visible"
            },
            "metadata": {},
            "paint": {
             "line-color": "#cfcdca",
             "line-dasharray": [
              0.5,
              0.25
             ],
             "line-width": {
              "base": 1.2,
              "stops": [
               [
                15,
                1
               ],
               [
                16,
                4
               ],
               [
                20,
                11
               ]
              ]
             }
            },
            "source": "openmaptiles",
            "source-layer": "transportation",
            "type": "line"
           }
          },
          "construction": {
           "_": {
            "filter": [
             "all",
             [
              "==",
              "brunnel",
              "tunnel"
             ],
             [
              "in",
              "class",
              "service_construction",
              "track_construction"
             ]
            ],
            "id": "tunnel_service_track_construction",
            "layout": {
             "line-join": "round",
             "visibility": "visible"
            },
            "metadata": {},
            "minzoom": 15,
            "paint": {
             "line-color": "#fff",
             "line-dasharray": [
              2,
              2
             ],
             "line-width": {
              "base": 1.2,
              "stops": [
               [
                15,
                0.8
               ],
               [
                16,
                1.9
               ],
               [
                17,
                3.1
               ],
               [
                18,
                3.9
               ],
               [
                19,
                6.9
               ]
              ]
             }
            },
            "source": "openmaptiles",
            "source-layer": "transportation",
            "type": "line"
           }
          }
         }
        },
        "street": {
         "casing": {
          "_": {
           "filter": [
            "all",
            [
             "==",
             "brunnel",
             "tunnel"
            ],
            [
             "in",
             "class",
             "street",
             "street_limited"
            ]
           ],
           "id": "tunnel_street_casing",
           "layout": {
            "line-join": "round",
            "visibility": "visible"
           },
           "metadata": {},
           "paint": {
            "line-color": "#cfcdca",
            "line-opacity": {
             "stops": [
              [
               12,
               0
              ],
              [
               12.5,
               1
              ]
             ]
            },
            "line-width": {
             "base": 1.2,
             "stops": [
              [
               12,
               0.5
              ],
              [
               13,
               1
              ],
              [
               14,
               4
              ],
              [
               20,
               15
              ]
             ]
            }
           },
           "source": "openmaptiles",
           "source-layer": "transportation",
           "type": "line"
          }
         }
        },
        "tertiary": {
         "_": {
          "filter": [
           "all",
           [
            "==",
            "brunnel",
            "tunnel"
           ],
           [
            "in",
            "class",
            "tertiary"
           ]
          ],
          "id": "tunnel_tertiary",
          "layout": {
           "line-join": "round",
           "visibility": "visible"
          },
          "metadata": {},
          "paint": {
           "line-color": "#ffffff",
           "line-width": {
            "base": 1.2,
            "stops": [
             [
              11,
              1.9
             ],
             [
              12,
              3
             ],
             [
              13,
              3.9
             ],
             [
              14,
              7.8
             ],
             [
              15,
              8.8
             ],
             [
              16,
              16.4
             ],
             [
              17,
              19.4
             ],
             [
              18,
              25.4
             ]
            ]
           }
          },
          "source": "openmaptiles",
          "source-layer": "transportation",
          "type": "line"
         },
         "casing": {
          "_": {
           "filter": [
            "all",
            [
             "==",
             "brunnel",
             "tunnel"
            ],
            [
             "in",
             "class",
             "tertiary"
            ]
           ],
           "id": "tunnel_tertiary_casing",
           "layout": {
            "line-join": "round",
            "visibility": "visible"
           },
           "metadata": {},
           "minzoom": 11,
           "paint": {
            "line-color": "#8f8f8f",
            "line-dasharray": [
             0.5,
             0.25
            ],
            "line-opacity": 1,
            "line-width": {
             "base": 1.2,
             "stops": [
              [
               11,
               2.5
              ],
              [
               12,
               5
              ],
              [
               13,
               5
              ],
              [
               14,
               9
              ],
              [
               15,
               10
              ],
              [
               16,
               18
              ],
              [
               17,
               21
              ],
              [
               18,
               27
              ]
             ]
            }
           },
           "source": "openmaptiles",
           "source-layer": "transportation",
           "type": "line"
          }
         },
         "construction": {
          "_": {
           "filter": [
            "all",
            [
             "==",
             "brunnel",
             "tunnel"
            ],
            [
             "in",
             "class",
             "tertiary_construction"
            ]
           ],
           "id": "tunnel_tertiary_construction",
           "layout": {
            "line-join": "round",
            "visibility": "visible"
           },
           "metadata": {},
           "paint": {
            "line-color": "#ffffff",
            "line-dasharray": [
             2,
             2
            ],
            "line-width": {
             "base": 1.2,
             "stops": [
              [
               11,
               1.9
              ],
              [
               12,
               3
              ],
              [
               13,
               3.9
              ],
              [
               14,
               7.8
              ],
              [
               15,
               8.8
              ],
              [
               16,
               16.4
              ],
              [
               17,
               19.4
              ],
              [
               18,
               25.4
              ]
             ]
            }
           },
           "source": "openmaptiles",
           "source-layer": "transportation",
           "type": "line"
          }
         }
        },
        "trunk": {
         "_": {
          "filter": [
           "all",
           [
            "==",
            "brunnel",
            "tunnel"
           ],
           [
            "in",
            "class",
            "trunk"
           ]
          ],
          "id": "tunnel_trunk",
          "layout": {
           "line-join": "round",
           "visibility": "visible"
          },
          "metadata": {},
          "paint": {
           "line-color": {
            "stops": [
             [
              5,
              "#f5977a"
             ],
             [
              11,
              "#fcd7cc"
             ]
            ]
           },
           "line-opacity": 1,
           "line-width": {
            "base": 1.2,
            "stops": [
             [
              5,
              0.4
             ],
             [
              6,
              0.6
             ],
             [
              7,
              1
             ],
             [
              8,
              1.4
             ],
             [
              9,
              1.9
             ],
             [
              10,
              1.9
             ],
             [
              11,
              4.5
             ],
             [
              12,
              5
             ],
             [
              15,
              8.6
             ],
             [
              16,
              16
             ],
             [
              17,
              19
             ],
             [
              18,
              25
             ]
            ]
           }
          },
          "source": "openmaptiles",
          "source-layer": "transportation",
          "type": "line"
         },
         "casing": {
          "_": {
           "filter": [
            "all",
            [
             "==",
             "brunnel",
             "tunnel"
            ],
            [
             "in",
             "class",
             "trunk"
            ]
           ],
           "id": "tunnel_trunk_casing",
           "layout": {
            "line-join": "round",
            "visibility": "visible"
           },
           "metadata": {},
           "minzoom": 11,
           "paint": {
            "line-color": {
             "stops": [
              [
               11,
               "#cf6649"
              ],
              [
               12,
               "#c84e2f"
              ]
             ]
            },
            "line-dasharray": [
             0.5,
             0.25
            ],
            "line-width": {
             "base": 1.2,
             "stops": [
              [
               11,
               3.5
              ],
              [
               12,
               6
              ],
              [
               15,
               10
              ],
              [
               16,
               18
              ],
              [
               17,
               21
              ],
              [
               18,
               27
              ]
             ]
            }
           },
           "source": "openmaptiles",
           "source-layer": "transportation",
           "type": "line"
          }
         },
         "construction": {
          "_": {
           "filter": [
            "all",
            [
             "==",
             "brunnel",
             "tunnel"
            ],
            [
             "in",
             "class",
             "trunk_construction"
            ]
           ],
           "id": "tunnel_trunk_construction",
           "layout": {
            "line-join": "round",
            "visibility": "visible"
           },
           "metadata": {},
           "paint": {
            "line-color": "#f9b29c",
            "line-dasharray": [
             2,
             2
            ],
            "line-opacity": 1,
            "line-width": {
             "base": 1.2,
             "stops": [
              [
               5,
               0.4
              ],
              [
               6,
               0.6
              ],
              [
               7,
               1
              ],
              [
               8,
               1.4
              ],
              [
               9,
               1.9
              ],
              [
               10,
               1.9
              ],
              [
               11,
               4.5
              ],
              [
               12,
               5
              ],
              [
               15,
               8.6
              ],
              [
               16,
               16
              ],
              [
               17,
               19
              ],
              [
               18,
               25
              ]
             ]
            }
           },
           "source": "openmaptiles",
           "source-layer": "transportation",
           "type": "line"
          },
          "casing": {
           "_": {
            "filter": [
             "all",
             [
              "==",
              "brunnel",
              "tunnel"
             ],
             [
              "in",
              "class",
              "trunk_construction"
             ]
            ],
            "id": "tunnel_trunk_construction_casing",
            "layout": {
             "line-join": "round",
             "visibility": "visible"
            },
            "metadata": {},
            "minzoom": 11,
            "paint": {
             "line-color": "rgba(255, 255, 255, 1)",
             "line-dasharray": [
              1,
              0
             ],
             "line-width": {
              "base": 1.2,
              "stops": [
               [
                11,
                3.5
               ],
               [
                12,
                6
               ],
               [
                15,
                10
               ],
               [
                16,
                18
               ],
               [
                17,
                21
               ],
               [
                18,
                25
               ]
              ]
             }
            },
            "source": "openmaptiles",
            "source-layer": "transportation",
            "type": "line"
           }
          }
         }
        }
       },
       "water": {
        "_": {
         "filter": [
          "all",
          [
           "!=",
           "intermittent",
           1
          ],
          [
           "!=",
           "brunnel",
           "tunnel"
          ]
         ],
         "id": "water",
         "layout": {
          "visibility": "visible"
         },
         "metadata": {},
         "paint": {
          "fill-color": "#850c36"
         },
         "source": "openmaptiles",
         "source-layer": "water",
         "type": "fill"
        },
        "intermittent": {
         "_": {
          "filter": [
           "all",
           [
            "==",
            "intermittent",
            1
           ]
          ],
          "id": "water_intermittent",
          "layout": {
           "visibility": "visible"
          },
          "metadata": {},
          "paint": {
           "fill-color": "rgba(172, 218, 251, 1)",
           "fill-opacity": 0.85
          },
          "source": "openmaptiles",
          "source-layer": "water",
          "type": "fill"
         }
        }
       },
       "waterway": {
        "bridge": {
         "_": {
          "filter": [
           "all",
           [
            "==",
            "$type",
            "LineString"
           ],
           [
            "==",
            "brunnel",
            "bridge"
           ]
          ],
          "id": "waterway-bridge",
          "layout": {
           "line-cap": "round",
           "line-join": "round"
          },
          "paint": {
           "line-color": "rgba(134, 204, 250, 1)",
           "line-width": {
            "base": 1.3,
            "stops": [
             [
              13,
              0.5
             ],
             [
              20,
              6
             ]
            ]
           }
          },
          "source": "openmaptiles",
          "source-layer": "waterway",
          "type": "line"
         },
         "case": {
          "_": {
           "filter": [
            "all",
            [
             "==",
             "$type",
             "LineString"
            ],
            [
             "==",
             "brunnel",
             "bridge"
            ]
           ],
           "id": "waterway-bridge-case",
           "layout": {
            "line-cap": "butt",
            "line-join": "miter"
           },
           "paint": {
            "line-color": "#bbbbbb",
            "line-gap-width": {
             "base": 1.3,
             "stops": [
              [
               13,
               0.5
              ],
              [
               20,
               6
              ]
             ]
            },
            "line-width": {
             "base": 1.6,
             "stops": [
              [
               12,
               0.5
              ],
              [
               20,
               5
              ]
             ]
            }
           },
           "source": "openmaptiles",
           "source-layer": "waterway",
           "type": "line"
          }
         }
        },
        "other": {
         "_": {
          "filter": [
           "all",
           [
            "!=",
            "class",
            "river"
           ],
           [
            "!=",
            "brunnel",
            "tunnel"
           ],
           [
            "!=",
            "intermittent",
            1
           ]
          ],
          "id": "waterway_other",
          "layout": {
           "line-cap": "round",
           "visibility": "visible"
          },
          "metadata": {},
          "paint": {
           "line-color": "#a0c8f0",
           "line-width": {
            "base": 1.3,
            "stops": [
             [
              13,
              0.5
             ],
             [
              20,
              6
             ]
            ]
           }
          },
          "source": "openmaptiles",
          "source-layer": "waterway",
          "type": "line"
         },
         "intermittent": {
          "_": {
           "filter": [
            "all",
            [
             "!=",
             "class",
             "river"
            ],
            [
             "!=",
             "brunnel",
             "tunnel"
            ],
            [
             "==",
             "intermittent",
             1
            ]
           ],
           "id": "waterway_other_intermittent",
           "layout": {
            "line-cap": "round",
            "visibility": "visible"
           },
           "metadata": {},
           "paint": {
            "line-color": "#a0c8f0",
            "line-dasharray": [
             4,
             3
            ],
            "line-width": {
             "base": 1.3,
             "stops": [
              [
               13,
               0.5
              ],
              [
               20,
               6
              ]
             ]
            }
           },
           "source": "openmaptiles",
           "source-layer": "waterway",
           "type": "line"
          }
         }
        },
        "river": {
         "_": {
          "filter": [
           "all",
           [
            "==",
            "class",
            "river"
           ],
           [
            "!=",
            "brunnel",
            "tunnel"
           ],
           [
            "!=",
            "intermittent",
            1
           ]
          ],
          "id": "waterway_river",
          "layout": {
           "line-cap": "round",
           "visibility": "visible"
          },
          "metadata": {},
          "paint": {
           "line-color": "#a0c8f0",
           "line-width": {
            "base": 1.2,
            "stops": [
             [
              11,
              0.5
             ],
             [
              20,
              6
             ]
            ]
           }
          },
          "source": "openmaptiles",
          "source-layer": "waterway",
          "type": "line"
         },
         "intermittent": {
          "_": {
           "filter": [
            "all",
            [
             "==",
             "class",
             "river"
            ],
            [
             "!=",
             "brunnel",
             "tunnel"
            ],
            [
             "==",
             "intermittent",
             1
            ]
           ],
           "id": "waterway_river_intermittent",
           "layout": {
            "line-cap": "round"
           },
           "metadata": {},
           "paint": {
            "line-color": "#a0c8f0",
            "line-dasharray": [
             3,
             2
            ],
            "line-width": {
             "base": 1.2,
             "stops": [
              [
               11,
               0.5
              ],
              [
               20,
               6
              ]
             ]
            }
           },
           "source": "openmaptiles",
           "source-layer": "waterway",
           "type": "line"
          }
         }
        },
        "tunnel": {
         "_": {
          "filter": [
           "all",
           [
            "==",
            "brunnel",
            "tunnel"
           ]
          ],
          "id": "waterway_tunnel",
          "layout": {
           "line-cap": "round",
           "visibility": "visible"
          },
          "minzoom": 14,
          "paint": {
           "line-color": "#a0c8f0",
           "line-dasharray": [
            2,
            4
           ],
           "line-width": {
            "base": 1.3,
            "stops": [
             [
              13,
              0.5
             ],
             [
              20,
              6
             ]
            ]
           }
          },
          "source": "openmaptiles",
          "source-layer": "waterway",
          "type": "line"
         }
        }
       }
      },
      "text/plain": [
       "<IPython.core.display.JSON object>"
      ]
     },
     "execution_count": 13,
     "metadata": {
      "application/json": {
       "expanded": false,
       "root": "root"
      }
     },
     "output_type": "execute_result"
    }
   ],
   "source": [
    "JSON(NESTED)"
   ]
  },
  {
   "cell_type": "code",
   "execution_count": 28,
   "id": "ebebb6b8-85a8-4e6f-98b5-8d4d3d677473",
   "metadata": {},
   "outputs": [],
   "source": [
    "apply_alteration('', '', 0, 0, False)\n",
    "add_background('#870058')\n",
    "apply_alteration('road.area', 'white', 5, 1, False)\n",
    "apply_alteration('road.area', 'white', 5, 1, False)\n",
    "apply_alteration('rail', '#ffccfd', 5,1,True)\n",
    "#apply_alteration('ferry', 'white', 3,1,True)\n",
    "apply_alteration('water', '#FFECCC',3,1,True)\n",
    "#apply_alteration('landuse', 'white',3,1,True)\n",
    "#apply_alteration('aeroway', 'white',3,1,True)\n",
    "#apply_alteration('national', 'white',3,1,True)\n",
    "#apply_alteration('landuse', '#101010',3,1,True)\n",
    "apply_alteration('building', '#FFECCC',0,'#D9BBF9',True)"
   ]
  },
  {
   "cell_type": "code",
   "execution_count": 29,
   "id": "269a99de-8d85-42f2-bb94-b9b3a2bb1665",
   "metadata": {},
   "outputs": [],
   "source": [
    "export('../captures/client/test-style')"
   ]
  },
  {
   "cell_type": "code",
   "execution_count": null,
   "id": "5d9cd019-5a53-4b73-a5e1-8f23b556c5d5",
   "metadata": {},
   "outputs": [],
   "source": []
  }
 ],
 "metadata": {
  "kernelspec": {
   "display_name": "Python 3 (ipykernel)",
   "language": "python",
   "name": "python3"
  },
  "language_info": {
   "codemirror_mode": {
    "name": "ipython",
    "version": 3
   },
   "file_extension": ".py",
   "mimetype": "text/x-python",
   "name": "python",
   "nbconvert_exporter": "python",
   "pygments_lexer": "ipython3",
   "version": "3.9.10"
  }
 },
 "nbformat": 4,
 "nbformat_minor": 5
}
